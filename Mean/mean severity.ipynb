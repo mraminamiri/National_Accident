{
 "cells": [
  {
   "cell_type": "code",
   "execution_count": 1,
   "id": "a126b719",
   "metadata": {},
   "outputs": [],
   "source": [
    "import pandas as pd\n",
    "import numpy as np \n",
    "import matplotlib.pyplot as plt\n",
    "import seaborn as sns\n",
    "import seaborn as sns\n",
    "import matplotlib.pyplot as plt\n",
    "from sklearn.cluster import KMeans\n",
    "from sklearn.preprocessing import StandardScaler, LabelEncoder\n",
    "from sklearn.cluster import KMeans\n",
    "from sklearn.model_selection import train_test_split\n",
    "from sklearn.ensemble import RandomForestClassifier\n",
    "from sklearn.metrics import accuracy_score, classification_report\n",
    "from sklearn.metrics import confusion_matrix\n",
    "from sklearn.linear_model import LogisticRegression\n",
    "from sklearn.model_selection import train_test_split\n",
    "from sklearn.tree import DecisionTreeClassifier\n",
    "from sklearn.metrics import accuracy_score, classification_report, confusion_matrix\n",
    "import matplotlib.pyplot as plt\n",
    "import seaborn as sns\n",
    "from sklearn.linear_model import LinearRegression\n",
    "from sklearn.model_selection import train_test_split\n",
    "from sklearn.metrics import mean_squared_error, r2_score\n",
    "import numpy as np"
   ]
  },
  {
   "cell_type": "code",
   "execution_count": 2,
   "id": "06730695",
   "metadata": {},
   "outputs": [
    {
     "data": {
      "text/html": [
       "<div>\n",
       "<style scoped>\n",
       "    .dataframe tbody tr th:only-of-type {\n",
       "        vertical-align: middle;\n",
       "    }\n",
       "\n",
       "    .dataframe tbody tr th {\n",
       "        vertical-align: top;\n",
       "    }\n",
       "\n",
       "    .dataframe thead th {\n",
       "        text-align: right;\n",
       "    }\n",
       "</style>\n",
       "<table border=\"1\" class=\"dataframe\">\n",
       "  <thead>\n",
       "    <tr style=\"text-align: right;\">\n",
       "      <th></th>\n",
       "      <th>CountCases</th>\n",
       "      <th>BedDys</th>\n",
       "      <th>BeddystoCC</th>\n",
       "      <th>Severity</th>\n",
       "      <th>DiedCases</th>\n",
       "      <th>DiedBdDys</th>\n",
       "      <th>Hsptlsns</th>\n",
       "      <th>April</th>\n",
       "      <th>August</th>\n",
       "      <th>December</th>\n",
       "      <th>...</th>\n",
       "      <th>Y2013</th>\n",
       "      <th>Y2014</th>\n",
       "      <th>Y2015</th>\n",
       "      <th>Y2016</th>\n",
       "      <th>Y2017</th>\n",
       "      <th>Y2018</th>\n",
       "      <th>Y2019</th>\n",
       "      <th>Y2020</th>\n",
       "      <th>Y2021</th>\n",
       "      <th>CovidPrd</th>\n",
       "    </tr>\n",
       "  </thead>\n",
       "  <tbody>\n",
       "    <tr>\n",
       "      <th>0</th>\n",
       "      <td>17</td>\n",
       "      <td>133</td>\n",
       "      <td>7.823529</td>\n",
       "      <td>75</td>\n",
       "      <td>4</td>\n",
       "      <td>9</td>\n",
       "      <td>13</td>\n",
       "      <td>0</td>\n",
       "      <td>0</td>\n",
       "      <td>0</td>\n",
       "      <td>...</td>\n",
       "      <td>1</td>\n",
       "      <td>0</td>\n",
       "      <td>0</td>\n",
       "      <td>0</td>\n",
       "      <td>0</td>\n",
       "      <td>0</td>\n",
       "      <td>0</td>\n",
       "      <td>0</td>\n",
       "      <td>0</td>\n",
       "      <td>0</td>\n",
       "    </tr>\n",
       "    <tr>\n",
       "      <th>1</th>\n",
       "      <td>13</td>\n",
       "      <td>372</td>\n",
       "      <td>28.615385</td>\n",
       "      <td>63</td>\n",
       "      <td>4</td>\n",
       "      <td>34</td>\n",
       "      <td>9</td>\n",
       "      <td>0</td>\n",
       "      <td>0</td>\n",
       "      <td>0</td>\n",
       "      <td>...</td>\n",
       "      <td>0</td>\n",
       "      <td>0</td>\n",
       "      <td>0</td>\n",
       "      <td>0</td>\n",
       "      <td>0</td>\n",
       "      <td>0</td>\n",
       "      <td>0</td>\n",
       "      <td>0</td>\n",
       "      <td>0</td>\n",
       "      <td>0</td>\n",
       "    </tr>\n",
       "    <tr>\n",
       "      <th>2</th>\n",
       "      <td>8</td>\n",
       "      <td>106</td>\n",
       "      <td>13.250000</td>\n",
       "      <td>48</td>\n",
       "      <td>4</td>\n",
       "      <td>13</td>\n",
       "      <td>4</td>\n",
       "      <td>0</td>\n",
       "      <td>0</td>\n",
       "      <td>0</td>\n",
       "      <td>...</td>\n",
       "      <td>0</td>\n",
       "      <td>0</td>\n",
       "      <td>0</td>\n",
       "      <td>0</td>\n",
       "      <td>0</td>\n",
       "      <td>1</td>\n",
       "      <td>0</td>\n",
       "      <td>0</td>\n",
       "      <td>0</td>\n",
       "      <td>0</td>\n",
       "    </tr>\n",
       "    <tr>\n",
       "      <th>3</th>\n",
       "      <td>45</td>\n",
       "      <td>218</td>\n",
       "      <td>4.844444</td>\n",
       "      <td>153</td>\n",
       "      <td>3</td>\n",
       "      <td>24</td>\n",
       "      <td>42</td>\n",
       "      <td>0</td>\n",
       "      <td>0</td>\n",
       "      <td>0</td>\n",
       "      <td>...</td>\n",
       "      <td>0</td>\n",
       "      <td>0</td>\n",
       "      <td>0</td>\n",
       "      <td>1</td>\n",
       "      <td>0</td>\n",
       "      <td>0</td>\n",
       "      <td>0</td>\n",
       "      <td>0</td>\n",
       "      <td>0</td>\n",
       "      <td>0</td>\n",
       "    </tr>\n",
       "    <tr>\n",
       "      <th>4</th>\n",
       "      <td>24</td>\n",
       "      <td>238</td>\n",
       "      <td>9.916667</td>\n",
       "      <td>90</td>\n",
       "      <td>3</td>\n",
       "      <td>8</td>\n",
       "      <td>21</td>\n",
       "      <td>0</td>\n",
       "      <td>1</td>\n",
       "      <td>0</td>\n",
       "      <td>...</td>\n",
       "      <td>1</td>\n",
       "      <td>0</td>\n",
       "      <td>0</td>\n",
       "      <td>0</td>\n",
       "      <td>0</td>\n",
       "      <td>0</td>\n",
       "      <td>0</td>\n",
       "      <td>0</td>\n",
       "      <td>0</td>\n",
       "      <td>0</td>\n",
       "    </tr>\n",
       "  </tbody>\n",
       "</table>\n",
       "<p>5 rows × 58 columns</p>\n",
       "</div>"
      ],
      "text/plain": [
       "   CountCases  BedDys  BeddystoCC  Severity  DiedCases  DiedBdDys  Hsptlsns  \\\n",
       "0          17     133    7.823529        75          4          9        13   \n",
       "1          13     372   28.615385        63          4         34         9   \n",
       "2           8     106   13.250000        48          4         13         4   \n",
       "3          45     218    4.844444       153          3         24        42   \n",
       "4          24     238    9.916667        90          3          8        21   \n",
       "\n",
       "   April  August  December  ...  Y2013  Y2014  Y2015  Y2016  Y2017  Y2018  \\\n",
       "0      0       0         0  ...      1      0      0      0      0      0   \n",
       "1      0       0         0  ...      0      0      0      0      0      0   \n",
       "2      0       0         0  ...      0      0      0      0      0      1   \n",
       "3      0       0         0  ...      0      0      0      1      0      0   \n",
       "4      0       1         0  ...      1      0      0      0      0      0   \n",
       "\n",
       "   Y2019  Y2020  Y2021  CovidPrd  \n",
       "0      0      0      0         0  \n",
       "1      0      0      0         0  \n",
       "2      0      0      0         0  \n",
       "3      0      0      0         0  \n",
       "4      0      0      0         0  \n",
       "\n",
       "[5 rows x 58 columns]"
      ]
     },
     "execution_count": 2,
     "metadata": {},
     "output_type": "execute_result"
    }
   ],
   "source": [
    "data = pd.read_csv('final_with_covid_AS.csv')\n",
    "data.head()"
   ]
  },
  {
   "cell_type": "markdown",
   "id": "29eab592",
   "metadata": {},
   "source": [
    "# CarDriver"
   ]
  },
  {
   "cell_type": "code",
   "execution_count": 3,
   "id": "7cbc07d0",
   "metadata": {},
   "outputs": [
    {
     "data": {
      "text/plain": [
       "(12582, 58)"
      ]
     },
     "execution_count": 3,
     "metadata": {},
     "output_type": "execute_result"
    }
   ],
   "source": [
    "filtered_data1 = data[data['CarDriver'] == 1]\n",
    "filtered_data1.shape"
   ]
  },
  {
   "cell_type": "code",
   "execution_count": 4,
   "id": "b8a1e528",
   "metadata": {},
   "outputs": [
    {
     "name": "stdout",
     "output_type": "stream",
     "text": [
      " Severity : 31.275393419170243\n"
     ]
    }
   ],
   "source": [
    "total_count = filtered_data1['Severity'].sum()\n",
    "\n",
    "result = total_count / 12582\n",
    "\n",
    "print(\" Severity :\", result)\n"
   ]
  },
  {
   "cell_type": "markdown",
   "id": "07f8a182",
   "metadata": {},
   "source": [
    "# delet outlayers"
   ]
  },
  {
   "cell_type": "code",
   "execution_count": 5,
   "id": "482a434d",
   "metadata": {},
   "outputs": [
    {
     "data": {
      "text/plain": [
       "(12184,)"
      ]
     },
     "execution_count": 5,
     "metadata": {},
     "output_type": "execute_result"
    }
   ],
   "source": [
    "mean_y = np.mean(filtered_data1['Severity'])\n",
    "std_y = np.std(filtered_data1['Severity'])\n",
    "outlier_threshold_high = mean_y + 3 * std_y\n",
    "outlier_threshold_low = mean_y - 3 * std_y\n",
    "mask = (filtered_data1['Severity'] > outlier_threshold_low) & (filtered_data1['Severity'] < outlier_threshold_high)\n",
    "\n",
    "x = filtered_data1['Severity'][mask]\n",
    "x.shape"
   ]
  },
  {
   "cell_type": "code",
   "execution_count": 6,
   "id": "a4d5d22a",
   "metadata": {},
   "outputs": [
    {
     "name": "stdout",
     "output_type": "stream",
     "text": [
      " Severity : 25.067137229152987\n"
     ]
    }
   ],
   "source": [
    "total_count =x.sum()\n",
    "\n",
    "result = total_count / 12184\n",
    "\n",
    "print(\" Severity :\", result)\n"
   ]
  },
  {
   "cell_type": "markdown",
   "id": "0fb1095e",
   "metadata": {},
   "source": [
    "# CarPngr"
   ]
  },
  {
   "cell_type": "code",
   "execution_count": 7,
   "id": "ff9178e3",
   "metadata": {},
   "outputs": [
    {
     "data": {
      "text/plain": [
       "(11789, 58)"
      ]
     },
     "execution_count": 7,
     "metadata": {},
     "output_type": "execute_result"
    }
   ],
   "source": [
    "filtered_data2= data[data['CarPngr'] == 1]\n",
    "filtered_data2.shape"
   ]
  },
  {
   "cell_type": "code",
   "execution_count": 8,
   "id": "0bfbd5f1",
   "metadata": {},
   "outputs": [
    {
     "name": "stdout",
     "output_type": "stream",
     "text": [
      " Severity : 12.552973110526763\n"
     ]
    }
   ],
   "source": [
    "total_count = filtered_data2['Severity'].sum()\n",
    "\n",
    "result = total_count / 11789\n",
    "\n",
    "print(\" Severity :\", result)\n"
   ]
  },
  {
   "cell_type": "markdown",
   "id": "e62e027b",
   "metadata": {},
   "source": [
    "# out"
   ]
  },
  {
   "cell_type": "code",
   "execution_count": 9,
   "id": "3ba24cb0",
   "metadata": {},
   "outputs": [
    {
     "data": {
      "text/plain": [
       "(11492,)"
      ]
     },
     "execution_count": 9,
     "metadata": {},
     "output_type": "execute_result"
    }
   ],
   "source": [
    "mean_y = np.mean(filtered_data2['Severity'])\n",
    "std_y = np.std(filtered_data2['Severity'])\n",
    "outlier_threshold_high = mean_y + 3 * std_y\n",
    "outlier_threshold_low = mean_y - 3 * std_y\n",
    "mask = (filtered_data2['Severity'] > outlier_threshold_low) & (filtered_data2['Severity'] < outlier_threshold_high)\n",
    "\n",
    "x = filtered_data2['Severity'][mask]\n",
    "x.shape"
   ]
  },
  {
   "cell_type": "code",
   "execution_count": 10,
   "id": "4de46699",
   "metadata": {},
   "outputs": [
    {
     "name": "stdout",
     "output_type": "stream",
     "text": [
      " Severity : 12.877392969021928\n"
     ]
    }
   ],
   "source": [
    "total_count = filtered_data2['Severity'].sum()\n",
    "\n",
    "result = total_count / 11492\n",
    "\n",
    "print(\" Severity :\", result)\n"
   ]
  },
  {
   "cell_type": "markdown",
   "id": "d6a69e9c",
   "metadata": {},
   "source": [
    "# Mtrcyclist"
   ]
  },
  {
   "cell_type": "code",
   "execution_count": 11,
   "id": "0caa5628",
   "metadata": {},
   "outputs": [
    {
     "data": {
      "text/plain": [
       "(11227, 58)"
      ]
     },
     "execution_count": 11,
     "metadata": {},
     "output_type": "execute_result"
    }
   ],
   "source": [
    "filtered_data3 = data[data['Mtrcyclist'] == 1]\n",
    "filtered_data3.shape"
   ]
  },
  {
   "cell_type": "code",
   "execution_count": 12,
   "id": "563bba44",
   "metadata": {},
   "outputs": [
    {
     "name": "stdout",
     "output_type": "stream",
     "text": [
      " Severity : 23.65476084439298\n"
     ]
    }
   ],
   "source": [
    "total_count = filtered_data3['Severity'].sum()\n",
    "\n",
    "result = total_count / 11227\n",
    "\n",
    "print(\" Severity :\", result)\n"
   ]
  },
  {
   "cell_type": "markdown",
   "id": "01c947c6",
   "metadata": {},
   "source": [
    "# out"
   ]
  },
  {
   "cell_type": "code",
   "execution_count": 13,
   "id": "dd66f94e",
   "metadata": {},
   "outputs": [
    {
     "data": {
      "text/plain": [
       "(10874,)"
      ]
     },
     "execution_count": 13,
     "metadata": {},
     "output_type": "execute_result"
    }
   ],
   "source": [
    "mean_y = np.mean(filtered_data3['Severity'])\n",
    "std_y = np.std(filtered_data3['Severity'])\n",
    "outlier_threshold_high = mean_y + 3 * std_y\n",
    "outlier_threshold_low = mean_y - 3 * std_y\n",
    "mask = (filtered_data3['Severity'] > outlier_threshold_low) & (filtered_data3['Severity'] < outlier_threshold_high)\n",
    "\n",
    "x = filtered_data3['Severity'][mask]\n",
    "x.shape"
   ]
  },
  {
   "cell_type": "code",
   "execution_count": 14,
   "id": "bf223ef5",
   "metadata": {},
   "outputs": [
    {
     "name": "stdout",
     "output_type": "stream",
     "text": [
      " Severity : 24.4226595549016\n"
     ]
    }
   ],
   "source": [
    "total_count = filtered_data3['Severity'].sum()\n",
    "\n",
    "result = total_count / 10874\n",
    "\n",
    "print(\" Severity :\", result)\n"
   ]
  },
  {
   "cell_type": "markdown",
   "id": "4198256b",
   "metadata": {},
   "source": [
    "# PdlCyclist"
   ]
  },
  {
   "cell_type": "code",
   "execution_count": 15,
   "id": "35a835cb",
   "metadata": {},
   "outputs": [
    {
     "data": {
      "text/plain": [
       "(12354, 58)"
      ]
     },
     "execution_count": 15,
     "metadata": {},
     "output_type": "execute_result"
    }
   ],
   "source": [
    "filtered_data4 = data[data['PdlCyclist'] == 1]\n",
    "filtered_data4.shape"
   ]
  },
  {
   "cell_type": "code",
   "execution_count": 16,
   "id": "3ab50326",
   "metadata": {},
   "outputs": [
    {
     "name": "stdout",
     "output_type": "stream",
     "text": [
      " Severity : 17.75862068965517\n"
     ]
    }
   ],
   "source": [
    "total_count = filtered_data4['Severity'].sum()\n",
    "\n",
    "result = total_count / 12354\n",
    "\n",
    "print(\" Severity :\", result)\n"
   ]
  },
  {
   "cell_type": "markdown",
   "id": "71ee2589",
   "metadata": {},
   "source": [
    "# out"
   ]
  },
  {
   "cell_type": "code",
   "execution_count": 17,
   "id": "bf873d29",
   "metadata": {},
   "outputs": [
    {
     "data": {
      "text/plain": [
       "(12039,)"
      ]
     },
     "execution_count": 17,
     "metadata": {},
     "output_type": "execute_result"
    }
   ],
   "source": [
    "mean_y = np.mean(filtered_data4['Severity'])\n",
    "std_y = np.std(filtered_data4['Severity'])\n",
    "outlier_threshold_high = mean_y + 3 * std_y\n",
    "outlier_threshold_low = mean_y - 3 * std_y\n",
    "mask = (filtered_data4['Severity'] > outlier_threshold_low) & (filtered_data4['Severity'] < outlier_threshold_high)\n",
    "\n",
    "x = filtered_data4['Severity'][mask]\n",
    "x.shape"
   ]
  },
  {
   "cell_type": "code",
   "execution_count": 18,
   "id": "4189cf04",
   "metadata": {},
   "outputs": [
    {
     "name": "stdout",
     "output_type": "stream",
     "text": [
      " Severity : 18.22327435833541\n"
     ]
    }
   ],
   "source": [
    "total_count = filtered_data4['Severity'].sum()\n",
    "\n",
    "result = total_count / 12039\n",
    "\n",
    "print(\" Severity :\", result)\n"
   ]
  },
  {
   "cell_type": "markdown",
   "id": "005b798a",
   "metadata": {},
   "source": [
    "# Pedestrian"
   ]
  },
  {
   "cell_type": "code",
   "execution_count": 19,
   "id": "d90ef449",
   "metadata": {},
   "outputs": [
    {
     "data": {
      "text/plain": [
       "(6086, 58)"
      ]
     },
     "execution_count": 19,
     "metadata": {},
     "output_type": "execute_result"
    }
   ],
   "source": [
    "filtered_data5 = data[data['Pedestrian'] == 1]\n",
    "filtered_data5.shape"
   ]
  },
  {
   "cell_type": "code",
   "execution_count": 20,
   "id": "7369b3b1",
   "metadata": {},
   "outputs": [
    {
     "name": "stdout",
     "output_type": "stream",
     "text": [
      " Severity : 13.941669405192245\n"
     ]
    }
   ],
   "source": [
    "total_count = filtered_data5['Severity'].sum()\n",
    "\n",
    "result = total_count / 6086\n",
    "\n",
    "print(\" Severity :\", result)\n"
   ]
  },
  {
   "cell_type": "code",
   "execution_count": 21,
   "id": "f0eacfd8",
   "metadata": {},
   "outputs": [
    {
     "data": {
      "text/plain": [
       "(5974,)"
      ]
     },
     "execution_count": 21,
     "metadata": {},
     "output_type": "execute_result"
    }
   ],
   "source": [
    "mean_y = np.mean(filtered_data5['Severity'])\n",
    "std_y = np.std(filtered_data5['Severity'])\n",
    "outlier_threshold_high = mean_y + 3 * std_y\n",
    "outlier_threshold_low = mean_y - 3 * std_y\n",
    "mask = (filtered_data5['Severity'] > outlier_threshold_low) & (filtered_data5['Severity'] < outlier_threshold_high)\n",
    "\n",
    "x = filtered_data5['Severity'][mask]\n",
    "x.shape"
   ]
  },
  {
   "cell_type": "code",
   "execution_count": 22,
   "id": "0e4ebc2b",
   "metadata": {},
   "outputs": [
    {
     "name": "stdout",
     "output_type": "stream",
     "text": [
      " Severity : 14.203046534984935\n"
     ]
    }
   ],
   "source": [
    "total_count = filtered_data5['Severity'].sum()\n",
    "\n",
    "result = total_count / 5974\n",
    "\n",
    "print(\" Severity :\", result)\n"
   ]
  },
  {
   "cell_type": "code",
   "execution_count": null,
   "id": "0bd9500c",
   "metadata": {},
   "outputs": [],
   "source": []
  }
 ],
 "metadata": {
  "kernelspec": {
   "display_name": "Python 3 (ipykernel)",
   "language": "python",
   "name": "python3"
  },
  "language_info": {
   "codemirror_mode": {
    "name": "ipython",
    "version": 3
   },
   "file_extension": ".py",
   "mimetype": "text/x-python",
   "name": "python",
   "nbconvert_exporter": "python",
   "pygments_lexer": "ipython3",
   "version": "3.9.13"
  }
 },
 "nbformat": 4,
 "nbformat_minor": 5
}
