{
 "cells": [
  {
   "cell_type": "code",
   "execution_count": 1,
   "id": "ace47057",
   "metadata": {},
   "outputs": [],
   "source": [
    "import pandas as pd\n",
    "import numpy as np \n",
    "import matplotlib.pyplot as plt\n",
    "import seaborn as sns\n",
    "import seaborn as sns\n",
    "import matplotlib.pyplot as plt\n",
    "from sklearn.cluster import KMeans\n",
    "from sklearn.preprocessing import StandardScaler, LabelEncoder\n",
    "from sklearn.cluster import KMeans\n",
    "from sklearn.model_selection import train_test_split\n",
    "from sklearn.ensemble import RandomForestClassifier\n",
    "from sklearn.metrics import accuracy_score, classification_report\n",
    "from sklearn.metrics import confusion_matrix\n",
    "from sklearn.linear_model import LogisticRegression\n",
    "from sklearn.model_selection import train_test_split\n",
    "from sklearn.tree import DecisionTreeClassifier\n",
    "from sklearn.metrics import accuracy_score, classification_report, confusion_matrix\n",
    "import matplotlib.pyplot as plt\n",
    "import seaborn as sns\n",
    "from sklearn.linear_model import LinearRegression\n",
    "from sklearn.model_selection import train_test_split\n",
    "from sklearn.metrics import mean_squared_error, r2_score\n",
    "import numpy as np"
   ]
  },
  {
   "cell_type": "code",
   "execution_count": 2,
   "id": "4031927b",
   "metadata": {},
   "outputs": [
    {
     "data": {
      "text/html": [
       "<div>\n",
       "<style scoped>\n",
       "    .dataframe tbody tr th:only-of-type {\n",
       "        vertical-align: middle;\n",
       "    }\n",
       "\n",
       "    .dataframe tbody tr th {\n",
       "        vertical-align: top;\n",
       "    }\n",
       "\n",
       "    .dataframe thead th {\n",
       "        text-align: right;\n",
       "    }\n",
       "</style>\n",
       "<table border=\"1\" class=\"dataframe\">\n",
       "  <thead>\n",
       "    <tr style=\"text-align: right;\">\n",
       "      <th></th>\n",
       "      <th>CountCases</th>\n",
       "      <th>BedDys</th>\n",
       "      <th>BeddystoCC</th>\n",
       "      <th>Severity</th>\n",
       "      <th>DiedCases</th>\n",
       "      <th>DiedBdDys</th>\n",
       "      <th>Hsptlsns</th>\n",
       "      <th>April</th>\n",
       "      <th>August</th>\n",
       "      <th>December</th>\n",
       "      <th>...</th>\n",
       "      <th>Y2013</th>\n",
       "      <th>Y2014</th>\n",
       "      <th>Y2015</th>\n",
       "      <th>Y2016</th>\n",
       "      <th>Y2017</th>\n",
       "      <th>Y2018</th>\n",
       "      <th>Y2019</th>\n",
       "      <th>Y2020</th>\n",
       "      <th>Y2021</th>\n",
       "      <th>CovidPrd</th>\n",
       "    </tr>\n",
       "  </thead>\n",
       "  <tbody>\n",
       "    <tr>\n",
       "      <th>0</th>\n",
       "      <td>17</td>\n",
       "      <td>133</td>\n",
       "      <td>7.823529</td>\n",
       "      <td>75</td>\n",
       "      <td>4</td>\n",
       "      <td>9</td>\n",
       "      <td>13</td>\n",
       "      <td>0</td>\n",
       "      <td>0</td>\n",
       "      <td>0</td>\n",
       "      <td>...</td>\n",
       "      <td>1</td>\n",
       "      <td>0</td>\n",
       "      <td>0</td>\n",
       "      <td>0</td>\n",
       "      <td>0</td>\n",
       "      <td>0</td>\n",
       "      <td>0</td>\n",
       "      <td>0</td>\n",
       "      <td>0</td>\n",
       "      <td>0</td>\n",
       "    </tr>\n",
       "    <tr>\n",
       "      <th>1</th>\n",
       "      <td>13</td>\n",
       "      <td>372</td>\n",
       "      <td>28.615385</td>\n",
       "      <td>63</td>\n",
       "      <td>4</td>\n",
       "      <td>34</td>\n",
       "      <td>9</td>\n",
       "      <td>0</td>\n",
       "      <td>0</td>\n",
       "      <td>0</td>\n",
       "      <td>...</td>\n",
       "      <td>0</td>\n",
       "      <td>0</td>\n",
       "      <td>0</td>\n",
       "      <td>0</td>\n",
       "      <td>0</td>\n",
       "      <td>0</td>\n",
       "      <td>0</td>\n",
       "      <td>0</td>\n",
       "      <td>0</td>\n",
       "      <td>0</td>\n",
       "    </tr>\n",
       "    <tr>\n",
       "      <th>2</th>\n",
       "      <td>8</td>\n",
       "      <td>106</td>\n",
       "      <td>13.250000</td>\n",
       "      <td>48</td>\n",
       "      <td>4</td>\n",
       "      <td>13</td>\n",
       "      <td>4</td>\n",
       "      <td>0</td>\n",
       "      <td>0</td>\n",
       "      <td>0</td>\n",
       "      <td>...</td>\n",
       "      <td>0</td>\n",
       "      <td>0</td>\n",
       "      <td>0</td>\n",
       "      <td>0</td>\n",
       "      <td>0</td>\n",
       "      <td>1</td>\n",
       "      <td>0</td>\n",
       "      <td>0</td>\n",
       "      <td>0</td>\n",
       "      <td>0</td>\n",
       "    </tr>\n",
       "    <tr>\n",
       "      <th>3</th>\n",
       "      <td>45</td>\n",
       "      <td>218</td>\n",
       "      <td>4.844444</td>\n",
       "      <td>153</td>\n",
       "      <td>3</td>\n",
       "      <td>24</td>\n",
       "      <td>42</td>\n",
       "      <td>0</td>\n",
       "      <td>0</td>\n",
       "      <td>0</td>\n",
       "      <td>...</td>\n",
       "      <td>0</td>\n",
       "      <td>0</td>\n",
       "      <td>0</td>\n",
       "      <td>1</td>\n",
       "      <td>0</td>\n",
       "      <td>0</td>\n",
       "      <td>0</td>\n",
       "      <td>0</td>\n",
       "      <td>0</td>\n",
       "      <td>0</td>\n",
       "    </tr>\n",
       "    <tr>\n",
       "      <th>4</th>\n",
       "      <td>24</td>\n",
       "      <td>238</td>\n",
       "      <td>9.916667</td>\n",
       "      <td>90</td>\n",
       "      <td>3</td>\n",
       "      <td>8</td>\n",
       "      <td>21</td>\n",
       "      <td>0</td>\n",
       "      <td>1</td>\n",
       "      <td>0</td>\n",
       "      <td>...</td>\n",
       "      <td>1</td>\n",
       "      <td>0</td>\n",
       "      <td>0</td>\n",
       "      <td>0</td>\n",
       "      <td>0</td>\n",
       "      <td>0</td>\n",
       "      <td>0</td>\n",
       "      <td>0</td>\n",
       "      <td>0</td>\n",
       "      <td>0</td>\n",
       "    </tr>\n",
       "  </tbody>\n",
       "</table>\n",
       "<p>5 rows × 58 columns</p>\n",
       "</div>"
      ],
      "text/plain": [
       "   CountCases  BedDys  BeddystoCC  Severity  DiedCases  DiedBdDys  Hsptlsns  \\\n",
       "0          17     133    7.823529        75          4          9        13   \n",
       "1          13     372   28.615385        63          4         34         9   \n",
       "2           8     106   13.250000        48          4         13         4   \n",
       "3          45     218    4.844444       153          3         24        42   \n",
       "4          24     238    9.916667        90          3          8        21   \n",
       "\n",
       "   April  August  December  ...  Y2013  Y2014  Y2015  Y2016  Y2017  Y2018  \\\n",
       "0      0       0         0  ...      1      0      0      0      0      0   \n",
       "1      0       0         0  ...      0      0      0      0      0      0   \n",
       "2      0       0         0  ...      0      0      0      0      0      1   \n",
       "3      0       0         0  ...      0      0      0      1      0      0   \n",
       "4      0       1         0  ...      1      0      0      0      0      0   \n",
       "\n",
       "   Y2019  Y2020  Y2021  CovidPrd  \n",
       "0      0      0      0         0  \n",
       "1      0      0      0         0  \n",
       "2      0      0      0         0  \n",
       "3      0      0      0         0  \n",
       "4      0      0      0         0  \n",
       "\n",
       "[5 rows x 58 columns]"
      ]
     },
     "execution_count": 2,
     "metadata": {},
     "output_type": "execute_result"
    }
   ],
   "source": [
    "data = pd.read_csv('final_with_covid_AS.csv')\n",
    "data.head()"
   ]
  },
  {
   "cell_type": "markdown",
   "id": "c31e46f0",
   "metadata": {},
   "source": [
    "\n",
    "# CarDriver"
   ]
  },
  {
   "cell_type": "code",
   "execution_count": 7,
   "id": "1a6f25d1",
   "metadata": {},
   "outputs": [
    {
     "data": {
      "text/plain": [
       "(12582, 58)"
      ]
     },
     "execution_count": 7,
     "metadata": {},
     "output_type": "execute_result"
    }
   ],
   "source": [
    "filtered_data1 = data[data['CarDriver'] == 1]\n",
    "filtered_data1.shape"
   ]
  },
  {
   "cell_type": "code",
   "execution_count": 8,
   "id": "2fc5a106",
   "metadata": {},
   "outputs": [
    {
     "name": "stdout",
     "output_type": "stream",
     "text": [
      " Hsptlsns: 10.274201239866477\n"
     ]
    }
   ],
   "source": [
    "total_count = filtered_data1['Hsptlsns'].sum()\n",
    "\n",
    "result = total_count / 12582\n",
    "\n",
    "print(\" Hsptlsns:\", result)\n"
   ]
  },
  {
   "cell_type": "markdown",
   "id": "295c7e71",
   "metadata": {},
   "source": [
    "# delet outlayers"
   ]
  },
  {
   "cell_type": "code",
   "execution_count": 9,
   "id": "612949e0",
   "metadata": {},
   "outputs": [
    {
     "data": {
      "text/plain": [
       "(12187,)"
      ]
     },
     "execution_count": 9,
     "metadata": {},
     "output_type": "execute_result"
    }
   ],
   "source": [
    "mean_y = np.mean(filtered_data1['Hsptlsns'])\n",
    "std_y = np.std(filtered_data1['Hsptlsns'])\n",
    "outlier_threshold_high = mean_y + 3 * std_y\n",
    "outlier_threshold_low = mean_y - 3 * std_y\n",
    "mask = (filtered_data1['Hsptlsns'] > outlier_threshold_low) & (filtered_data1['Hsptlsns'] < outlier_threshold_high)\n",
    "\n",
    "x = filtered_data1['Hsptlsns'][mask]\n",
    "x.shape"
   ]
  },
  {
   "cell_type": "code",
   "execution_count": 10,
   "id": "5378fda6",
   "metadata": {},
   "outputs": [
    {
     "name": "stdout",
     "output_type": "stream",
     "text": [
      " Hsptlsns : 8.218101255436121\n"
     ]
    }
   ],
   "source": [
    "total_count =x.sum()\n",
    "\n",
    "result = total_count / 12187\n",
    "\n",
    "print(\" Hsptlsns :\", result)\n"
   ]
  },
  {
   "cell_type": "markdown",
   "id": "73fd80fb",
   "metadata": {},
   "source": [
    "# CarPngr"
   ]
  },
  {
   "cell_type": "code",
   "execution_count": 11,
   "id": "6d04c09e",
   "metadata": {},
   "outputs": [
    {
     "data": {
      "text/plain": [
       "(11789, 58)"
      ]
     },
     "execution_count": 11,
     "metadata": {},
     "output_type": "execute_result"
    }
   ],
   "source": [
    "filtered_data2= data[data['CarPngr'] == 1]\n",
    "filtered_data2.shape"
   ]
  },
  {
   "cell_type": "code",
   "execution_count": 12,
   "id": "0fd3f2e6",
   "metadata": {},
   "outputs": [
    {
     "name": "stdout",
     "output_type": "stream",
     "text": [
      " Hsptlsns : 4.108236491644754\n"
     ]
    }
   ],
   "source": [
    "total_count = filtered_data2['Hsptlsns'].sum()\n",
    "\n",
    "result = total_count / 11789\n",
    "\n",
    "print(\" Hsptlsns :\", result)\n"
   ]
  },
  {
   "cell_type": "markdown",
   "id": "d7a44781",
   "metadata": {},
   "source": [
    "# delet outlayers¶"
   ]
  },
  {
   "cell_type": "code",
   "execution_count": 13,
   "id": "e46a910b",
   "metadata": {},
   "outputs": [
    {
     "data": {
      "text/plain": [
       "(11505,)"
      ]
     },
     "execution_count": 13,
     "metadata": {},
     "output_type": "execute_result"
    }
   ],
   "source": [
    "mean_y = np.mean(filtered_data2['Hsptlsns'])\n",
    "std_y = np.std(filtered_data2['Hsptlsns'])\n",
    "outlier_threshold_high = mean_y + 3 * std_y\n",
    "outlier_threshold_low = mean_y - 3 * std_y\n",
    "mask = (filtered_data2['Hsptlsns'] > outlier_threshold_low) & (filtered_data2['Hsptlsns'] < outlier_threshold_high)\n",
    "\n",
    "x = filtered_data2['Hsptlsns'][mask]\n",
    "x.shape"
   ]
  },
  {
   "cell_type": "code",
   "execution_count": 14,
   "id": "3ca4517c",
   "metadata": {},
   "outputs": [
    {
     "name": "stdout",
     "output_type": "stream",
     "text": [
      " Hsptlsns : 3.6028683181225554\n"
     ]
    }
   ],
   "source": [
    "total_count = x.sum()\n",
    "\n",
    "result = total_count / 11505\n",
    "\n",
    "print(\" Hsptlsns :\", result)\n"
   ]
  },
  {
   "cell_type": "markdown",
   "id": "c134cb0c",
   "metadata": {},
   "source": [
    "# Mtrcyclist"
   ]
  },
  {
   "cell_type": "code",
   "execution_count": 15,
   "id": "820417b6",
   "metadata": {},
   "outputs": [
    {
     "data": {
      "text/plain": [
       "(11227, 58)"
      ]
     },
     "execution_count": 15,
     "metadata": {},
     "output_type": "execute_result"
    }
   ],
   "source": [
    "filtered_data3 = data[data['Mtrcyclist'] == 1]\n",
    "filtered_data3.shape"
   ]
  },
  {
   "cell_type": "code",
   "execution_count": 18,
   "id": "6e6a9b17",
   "metadata": {},
   "outputs": [
    {
     "name": "stdout",
     "output_type": "stream",
     "text": [
      " Hsptlsns : 7.804756390843503\n"
     ]
    }
   ],
   "source": [
    "total_count = filtered_data3['Hsptlsns'].sum()\n",
    "\n",
    "result = total_count / 11227\n",
    "\n",
    "print(\" Hsptlsns :\", result)\n"
   ]
  },
  {
   "cell_type": "markdown",
   "id": "557eedaa",
   "metadata": {},
   "source": [
    "# out"
   ]
  },
  {
   "cell_type": "code",
   "execution_count": 19,
   "id": "d63ca407",
   "metadata": {},
   "outputs": [
    {
     "data": {
      "text/plain": [
       "(10865,)"
      ]
     },
     "execution_count": 19,
     "metadata": {},
     "output_type": "execute_result"
    }
   ],
   "source": [
    "mean_y = np.mean(filtered_data3['Hsptlsns'])\n",
    "std_y = np.std(filtered_data3['Hsptlsns'])\n",
    "outlier_threshold_high = mean_y + 3 * std_y\n",
    "outlier_threshold_low = mean_y - 3 * std_y\n",
    "mask = (filtered_data3['Hsptlsns'] > outlier_threshold_low) & (filtered_data3['Hsptlsns'] < outlier_threshold_high)\n",
    "\n",
    "x = filtered_data3['Hsptlsns'][mask]\n",
    "x.shape"
   ]
  },
  {
   "cell_type": "code",
   "execution_count": 20,
   "id": "5b8dc58d",
   "metadata": {},
   "outputs": [
    {
     "name": "stdout",
     "output_type": "stream",
     "text": [
      " Hsptlsns : 6.264795213989876\n"
     ]
    }
   ],
   "source": [
    "total_count = x.sum()\n",
    "\n",
    "result = total_count / 10865\n",
    "\n",
    "print(\" Hsptlsns :\", result)\n"
   ]
  },
  {
   "cell_type": "markdown",
   "id": "2372f5e6",
   "metadata": {},
   "source": [
    "# PdlCyclist"
   ]
  },
  {
   "cell_type": "code",
   "execution_count": 21,
   "id": "dafa23df",
   "metadata": {},
   "outputs": [
    {
     "data": {
      "text/plain": [
       "(12354, 58)"
      ]
     },
     "execution_count": 21,
     "metadata": {},
     "output_type": "execute_result"
    }
   ],
   "source": [
    "filtered_data4 = data[data['PdlCyclist'] == 1]\n",
    "filtered_data4.shape"
   ]
  },
  {
   "cell_type": "code",
   "execution_count": 22,
   "id": "fdce388a",
   "metadata": {},
   "outputs": [
    {
     "name": "stdout",
     "output_type": "stream",
     "text": [
      " Hsptlsns : 5.890642706815607\n"
     ]
    }
   ],
   "source": [
    "total_count = filtered_data4['Hsptlsns'].sum()\n",
    "\n",
    "result = total_count / 12354\n",
    "\n",
    "print(\" Hsptlsns :\", result)\n"
   ]
  },
  {
   "cell_type": "markdown",
   "id": "264c1c46",
   "metadata": {},
   "source": [
    "# out"
   ]
  },
  {
   "cell_type": "code",
   "execution_count": 23,
   "id": "1224b748",
   "metadata": {},
   "outputs": [
    {
     "data": {
      "text/plain": [
       "(12039,)"
      ]
     },
     "execution_count": 23,
     "metadata": {},
     "output_type": "execute_result"
    }
   ],
   "source": [
    "mean_y = np.mean(filtered_data4['Hsptlsns'])\n",
    "std_y = np.std(filtered_data4['Hsptlsns'])\n",
    "outlier_threshold_high = mean_y + 3 * std_y\n",
    "outlier_threshold_low = mean_y - 3 * std_y\n",
    "mask = (filtered_data4['Hsptlsns'] > outlier_threshold_low) & (filtered_data4['Hsptlsns'] < outlier_threshold_high)\n",
    "\n",
    "x = filtered_data4['Hsptlsns'][mask]\n",
    "x.shape"
   ]
  },
  {
   "cell_type": "code",
   "execution_count": 26,
   "id": "748779a0",
   "metadata": {},
   "outputs": [
    {
     "name": "stdout",
     "output_type": "stream",
     "text": [
      " Hsptlsns : 4.757953318381926\n"
     ]
    }
   ],
   "source": [
    "total_count = x.sum()\n",
    "\n",
    "result = total_count / 12039\n",
    "\n",
    "print(\" Hsptlsns :\", result)\n"
   ]
  },
  {
   "cell_type": "markdown",
   "id": "2522ccf2",
   "metadata": {},
   "source": [
    "# Pedestrian"
   ]
  },
  {
   "cell_type": "code",
   "execution_count": 27,
   "id": "5e86d169",
   "metadata": {},
   "outputs": [
    {
     "data": {
      "text/plain": [
       "(6086, 58)"
      ]
     },
     "execution_count": 27,
     "metadata": {},
     "output_type": "execute_result"
    }
   ],
   "source": [
    "filtered_data5 = data[data['Pedestrian'] == 1]\n",
    "filtered_data5.shape"
   ]
  },
  {
   "cell_type": "code",
   "execution_count": 28,
   "id": "7a5d2ff5",
   "metadata": {},
   "outputs": [
    {
     "name": "stdout",
     "output_type": "stream",
     "text": [
      " Hsptlsns : 4.393854748603352\n"
     ]
    }
   ],
   "source": [
    "total_count = filtered_data5['Hsptlsns'].sum()\n",
    "\n",
    "result = total_count / 6086\n",
    "\n",
    "print(\" Hsptlsns :\", result)\n"
   ]
  },
  {
   "cell_type": "code",
   "execution_count": 29,
   "id": "1d3e9f72",
   "metadata": {},
   "outputs": [
    {
     "data": {
      "text/plain": [
       "(5973,)"
      ]
     },
     "execution_count": 29,
     "metadata": {},
     "output_type": "execute_result"
    }
   ],
   "source": [
    "mean_y = np.mean(filtered_data5['Hsptlsns'])\n",
    "std_y = np.std(filtered_data5['Hsptlsns'])\n",
    "outlier_threshold_high = mean_y + 3 * std_y\n",
    "outlier_threshold_low = mean_y - 3 * std_y\n",
    "mask = (filtered_data5['Hsptlsns'] > outlier_threshold_low) & (filtered_data5['Hsptlsns'] < outlier_threshold_high)\n",
    "\n",
    "x = filtered_data5['Hsptlsns'][mask]\n",
    "x.shape"
   ]
  },
  {
   "cell_type": "code",
   "execution_count": 30,
   "id": "65654402",
   "metadata": {},
   "outputs": [
    {
     "name": "stdout",
     "output_type": "stream",
     "text": [
      " Hsptlsns : 4.01423070483844\n"
     ]
    }
   ],
   "source": [
    "total_count = x.sum()\n",
    "\n",
    "result = total_count / 5973\n",
    "\n",
    "print(\" Hsptlsns :\", result)\n"
   ]
  },
  {
   "cell_type": "code",
   "execution_count": null,
   "id": "cfe45b2b",
   "metadata": {},
   "outputs": [],
   "source": []
  }
 ],
 "metadata": {
  "kernelspec": {
   "display_name": "Python 3 (ipykernel)",
   "language": "python",
   "name": "python3"
  },
  "language_info": {
   "codemirror_mode": {
    "name": "ipython",
    "version": 3
   },
   "file_extension": ".py",
   "mimetype": "text/x-python",
   "name": "python",
   "nbconvert_exporter": "python",
   "pygments_lexer": "ipython3",
   "version": "3.9.13"
  }
 },
 "nbformat": 4,
 "nbformat_minor": 5
}
