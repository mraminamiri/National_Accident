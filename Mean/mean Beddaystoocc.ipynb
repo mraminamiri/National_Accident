{
 "cells": [
  {
   "cell_type": "code",
   "execution_count": 1,
   "id": "3ab4b8bf",
   "metadata": {},
   "outputs": [],
   "source": [
    "import pandas as pd\n",
    "import numpy as np \n",
    "import matplotlib.pyplot as plt\n",
    "import seaborn as sns\n",
    "import seaborn as sns\n",
    "import matplotlib.pyplot as plt\n",
    "from sklearn.cluster import KMeans\n",
    "from sklearn.preprocessing import StandardScaler, LabelEncoder\n",
    "from sklearn.cluster import KMeans\n",
    "from sklearn.model_selection import train_test_split\n",
    "from sklearn.ensemble import RandomForestClassifier\n",
    "from sklearn.metrics import accuracy_score, classification_report\n",
    "from sklearn.metrics import confusion_matrix\n",
    "from sklearn.linear_model import LogisticRegression\n",
    "from sklearn.model_selection import train_test_split\n",
    "from sklearn.tree import DecisionTreeClassifier\n",
    "from sklearn.metrics import accuracy_score, classification_report, confusion_matrix\n",
    "import matplotlib.pyplot as plt\n",
    "import seaborn as sns\n",
    "from sklearn.linear_model import LinearRegression\n",
    "from sklearn.model_selection import train_test_split\n",
    "from sklearn.metrics import mean_squared_error, r2_score\n",
    "import numpy as np"
   ]
  },
  {
   "cell_type": "code",
   "execution_count": 2,
   "id": "a63833f0",
   "metadata": {},
   "outputs": [
    {
     "data": {
      "text/html": [
       "<div>\n",
       "<style scoped>\n",
       "    .dataframe tbody tr th:only-of-type {\n",
       "        vertical-align: middle;\n",
       "    }\n",
       "\n",
       "    .dataframe tbody tr th {\n",
       "        vertical-align: top;\n",
       "    }\n",
       "\n",
       "    .dataframe thead th {\n",
       "        text-align: right;\n",
       "    }\n",
       "</style>\n",
       "<table border=\"1\" class=\"dataframe\">\n",
       "  <thead>\n",
       "    <tr style=\"text-align: right;\">\n",
       "      <th></th>\n",
       "      <th>CountCases</th>\n",
       "      <th>BedDys</th>\n",
       "      <th>BeddystoCC</th>\n",
       "      <th>Severity</th>\n",
       "      <th>DiedCases</th>\n",
       "      <th>DiedBdDys</th>\n",
       "      <th>Hsptlsns</th>\n",
       "      <th>April</th>\n",
       "      <th>August</th>\n",
       "      <th>December</th>\n",
       "      <th>...</th>\n",
       "      <th>Y2013</th>\n",
       "      <th>Y2014</th>\n",
       "      <th>Y2015</th>\n",
       "      <th>Y2016</th>\n",
       "      <th>Y2017</th>\n",
       "      <th>Y2018</th>\n",
       "      <th>Y2019</th>\n",
       "      <th>Y2020</th>\n",
       "      <th>Y2021</th>\n",
       "      <th>CovidPrd</th>\n",
       "    </tr>\n",
       "  </thead>\n",
       "  <tbody>\n",
       "    <tr>\n",
       "      <th>0</th>\n",
       "      <td>17</td>\n",
       "      <td>133</td>\n",
       "      <td>7.823529</td>\n",
       "      <td>75</td>\n",
       "      <td>4</td>\n",
       "      <td>9</td>\n",
       "      <td>13</td>\n",
       "      <td>0</td>\n",
       "      <td>0</td>\n",
       "      <td>0</td>\n",
       "      <td>...</td>\n",
       "      <td>1</td>\n",
       "      <td>0</td>\n",
       "      <td>0</td>\n",
       "      <td>0</td>\n",
       "      <td>0</td>\n",
       "      <td>0</td>\n",
       "      <td>0</td>\n",
       "      <td>0</td>\n",
       "      <td>0</td>\n",
       "      <td>0</td>\n",
       "    </tr>\n",
       "    <tr>\n",
       "      <th>1</th>\n",
       "      <td>13</td>\n",
       "      <td>372</td>\n",
       "      <td>28.615385</td>\n",
       "      <td>63</td>\n",
       "      <td>4</td>\n",
       "      <td>34</td>\n",
       "      <td>9</td>\n",
       "      <td>0</td>\n",
       "      <td>0</td>\n",
       "      <td>0</td>\n",
       "      <td>...</td>\n",
       "      <td>0</td>\n",
       "      <td>0</td>\n",
       "      <td>0</td>\n",
       "      <td>0</td>\n",
       "      <td>0</td>\n",
       "      <td>0</td>\n",
       "      <td>0</td>\n",
       "      <td>0</td>\n",
       "      <td>0</td>\n",
       "      <td>0</td>\n",
       "    </tr>\n",
       "    <tr>\n",
       "      <th>2</th>\n",
       "      <td>8</td>\n",
       "      <td>106</td>\n",
       "      <td>13.250000</td>\n",
       "      <td>48</td>\n",
       "      <td>4</td>\n",
       "      <td>13</td>\n",
       "      <td>4</td>\n",
       "      <td>0</td>\n",
       "      <td>0</td>\n",
       "      <td>0</td>\n",
       "      <td>...</td>\n",
       "      <td>0</td>\n",
       "      <td>0</td>\n",
       "      <td>0</td>\n",
       "      <td>0</td>\n",
       "      <td>0</td>\n",
       "      <td>1</td>\n",
       "      <td>0</td>\n",
       "      <td>0</td>\n",
       "      <td>0</td>\n",
       "      <td>0</td>\n",
       "    </tr>\n",
       "    <tr>\n",
       "      <th>3</th>\n",
       "      <td>45</td>\n",
       "      <td>218</td>\n",
       "      <td>4.844444</td>\n",
       "      <td>153</td>\n",
       "      <td>3</td>\n",
       "      <td>24</td>\n",
       "      <td>42</td>\n",
       "      <td>0</td>\n",
       "      <td>0</td>\n",
       "      <td>0</td>\n",
       "      <td>...</td>\n",
       "      <td>0</td>\n",
       "      <td>0</td>\n",
       "      <td>0</td>\n",
       "      <td>1</td>\n",
       "      <td>0</td>\n",
       "      <td>0</td>\n",
       "      <td>0</td>\n",
       "      <td>0</td>\n",
       "      <td>0</td>\n",
       "      <td>0</td>\n",
       "    </tr>\n",
       "    <tr>\n",
       "      <th>4</th>\n",
       "      <td>24</td>\n",
       "      <td>238</td>\n",
       "      <td>9.916667</td>\n",
       "      <td>90</td>\n",
       "      <td>3</td>\n",
       "      <td>8</td>\n",
       "      <td>21</td>\n",
       "      <td>0</td>\n",
       "      <td>1</td>\n",
       "      <td>0</td>\n",
       "      <td>...</td>\n",
       "      <td>1</td>\n",
       "      <td>0</td>\n",
       "      <td>0</td>\n",
       "      <td>0</td>\n",
       "      <td>0</td>\n",
       "      <td>0</td>\n",
       "      <td>0</td>\n",
       "      <td>0</td>\n",
       "      <td>0</td>\n",
       "      <td>0</td>\n",
       "    </tr>\n",
       "  </tbody>\n",
       "</table>\n",
       "<p>5 rows × 58 columns</p>\n",
       "</div>"
      ],
      "text/plain": [
       "   CountCases  BedDys  BeddystoCC  Severity  DiedCases  DiedBdDys  Hsptlsns  \\\n",
       "0          17     133    7.823529        75          4          9        13   \n",
       "1          13     372   28.615385        63          4         34         9   \n",
       "2           8     106   13.250000        48          4         13         4   \n",
       "3          45     218    4.844444       153          3         24        42   \n",
       "4          24     238    9.916667        90          3          8        21   \n",
       "\n",
       "   April  August  December  ...  Y2013  Y2014  Y2015  Y2016  Y2017  Y2018  \\\n",
       "0      0       0         0  ...      1      0      0      0      0      0   \n",
       "1      0       0         0  ...      0      0      0      0      0      0   \n",
       "2      0       0         0  ...      0      0      0      0      0      1   \n",
       "3      0       0         0  ...      0      0      0      1      0      0   \n",
       "4      0       1         0  ...      1      0      0      0      0      0   \n",
       "\n",
       "   Y2019  Y2020  Y2021  CovidPrd  \n",
       "0      0      0      0         0  \n",
       "1      0      0      0         0  \n",
       "2      0      0      0         0  \n",
       "3      0      0      0         0  \n",
       "4      0      0      0         0  \n",
       "\n",
       "[5 rows x 58 columns]"
      ]
     },
     "execution_count": 2,
     "metadata": {},
     "output_type": "execute_result"
    }
   ],
   "source": [
    "data = pd.read_csv('final_with_covid_AS.csv')\n",
    "data.head()"
   ]
  },
  {
   "cell_type": "markdown",
   "id": "19ddad31",
   "metadata": {},
   "source": [
    "# CarDriver"
   ]
  },
  {
   "cell_type": "code",
   "execution_count": 3,
   "id": "09529da4",
   "metadata": {},
   "outputs": [
    {
     "data": {
      "text/plain": [
       "(12582, 58)"
      ]
     },
     "execution_count": 3,
     "metadata": {},
     "output_type": "execute_result"
    }
   ],
   "source": [
    "filtered_data1 = data[data['CarDriver'] == 1]\n",
    "filtered_data1.shape"
   ]
  },
  {
   "cell_type": "code",
   "execution_count": 4,
   "id": "c43bd442",
   "metadata": {},
   "outputs": [
    {
     "name": "stdout",
     "output_type": "stream",
     "text": [
      " BeddystoCC : 5.716755724659435\n"
     ]
    }
   ],
   "source": [
    "total_count = filtered_data1['BeddystoCC'].sum()\n",
    "\n",
    "result = total_count / 12582\n",
    "\n",
    "print(\" BeddystoCC :\", result)\n"
   ]
  },
  {
   "cell_type": "code",
   "execution_count": 5,
   "id": "513a3ebc",
   "metadata": {},
   "outputs": [
    {
     "data": {
      "text/plain": [
       "(12381,)"
      ]
     },
     "execution_count": 5,
     "metadata": {},
     "output_type": "execute_result"
    }
   ],
   "source": [
    "mean_y = np.mean(filtered_data1['BeddystoCC'])\n",
    "std_y = np.std(filtered_data1['BeddystoCC'])\n",
    "outlier_threshold_high = mean_y + 3 * std_y\n",
    "outlier_threshold_low = mean_y - 3 * std_y\n",
    "mask = (filtered_data1['BeddystoCC'] > outlier_threshold_low) & (filtered_data1['BeddystoCC'] < outlier_threshold_high)\n",
    "\n",
    "x = filtered_data1['BeddystoCC'][mask]\n",
    "x.shape"
   ]
  },
  {
   "cell_type": "code",
   "execution_count": 6,
   "id": "395162e6",
   "metadata": {},
   "outputs": [
    {
     "name": "stdout",
     "output_type": "stream",
     "text": [
      " BeddystoCC : 4.867677595930458\n"
     ]
    }
   ],
   "source": [
    "total_count =x.sum()\n",
    "\n",
    "result = total_count / 12381\n",
    "\n",
    "print(\" BeddystoCC :\", result)\n"
   ]
  },
  {
   "cell_type": "markdown",
   "id": "a6afd0bf",
   "metadata": {},
   "source": [
    "# CarPngr"
   ]
  },
  {
   "cell_type": "code",
   "execution_count": 7,
   "id": "1e9c0df0",
   "metadata": {},
   "outputs": [
    {
     "data": {
      "text/plain": [
       "(11789, 58)"
      ]
     },
     "execution_count": 7,
     "metadata": {},
     "output_type": "execute_result"
    }
   ],
   "source": [
    "filtered_data2= data[data['CarPngr'] == 1]\n",
    "filtered_data2.shape"
   ]
  },
  {
   "cell_type": "code",
   "execution_count": 8,
   "id": "bdd932d7",
   "metadata": {},
   "outputs": [
    {
     "name": "stdout",
     "output_type": "stream",
     "text": [
      " BeddystoCC : 5.34192710530291\n"
     ]
    }
   ],
   "source": [
    "total_count = filtered_data2['BeddystoCC'].sum()\n",
    "\n",
    "result = total_count / 11789\n",
    "\n",
    "print(\" BeddystoCC :\", result)\n"
   ]
  },
  {
   "cell_type": "code",
   "execution_count": 9,
   "id": "e3ad600a",
   "metadata": {},
   "outputs": [
    {
     "data": {
      "text/plain": [
       "(11603,)"
      ]
     },
     "execution_count": 9,
     "metadata": {},
     "output_type": "execute_result"
    }
   ],
   "source": [
    "mean_y = np.mean(filtered_data2['BeddystoCC'])\n",
    "std_y = np.std(filtered_data2['BeddystoCC'])\n",
    "outlier_threshold_high = mean_y + 3 * std_y\n",
    "outlier_threshold_low = mean_y - 3 * std_y\n",
    "mask = (filtered_data2['BeddystoCC'] > outlier_threshold_low) & (filtered_data2['BeddystoCC'] < outlier_threshold_high)\n",
    "\n",
    "x = filtered_data2['BeddystoCC'][mask]\n",
    "x.shape"
   ]
  },
  {
   "cell_type": "code",
   "execution_count": 10,
   "id": "6d4c53d2",
   "metadata": {},
   "outputs": [
    {
     "name": "stdout",
     "output_type": "stream",
     "text": [
      " BeddystoCC : 5.427559996933207\n"
     ]
    }
   ],
   "source": [
    "total_count = filtered_data2['BeddystoCC'].sum()\n",
    "\n",
    "result = total_count / 11603\n",
    "\n",
    "print(\" BeddystoCC :\", result)\n"
   ]
  },
  {
   "cell_type": "markdown",
   "id": "5ca30ac2",
   "metadata": {},
   "source": [
    "# Mtrcyclist"
   ]
  },
  {
   "cell_type": "code",
   "execution_count": 11,
   "id": "a96ca453",
   "metadata": {},
   "outputs": [
    {
     "data": {
      "text/plain": [
       "(11227, 58)"
      ]
     },
     "execution_count": 11,
     "metadata": {},
     "output_type": "execute_result"
    }
   ],
   "source": [
    "filtered_data3 = data[data['Mtrcyclist'] == 1]\n",
    "filtered_data3.shape"
   ]
  },
  {
   "cell_type": "code",
   "execution_count": 12,
   "id": "8c4daef8",
   "metadata": {},
   "outputs": [
    {
     "name": "stdout",
     "output_type": "stream",
     "text": [
      " BeddystoCC : 6.223135616556605\n"
     ]
    }
   ],
   "source": [
    "total_count = filtered_data3['BeddystoCC'].sum()\n",
    "\n",
    "result = total_count / 11227\n",
    "\n",
    "print(\" BeddystoCC :\", result)\n"
   ]
  },
  {
   "cell_type": "code",
   "execution_count": 13,
   "id": "746dcbbf",
   "metadata": {},
   "outputs": [
    {
     "data": {
      "text/plain": [
       "(11069,)"
      ]
     },
     "execution_count": 13,
     "metadata": {},
     "output_type": "execute_result"
    }
   ],
   "source": [
    "mean_y = np.mean(filtered_data3['BeddystoCC'])\n",
    "std_y = np.std(filtered_data3['BeddystoCC'])\n",
    "outlier_threshold_high = mean_y + 3 * std_y\n",
    "outlier_threshold_low = mean_y - 3 * std_y\n",
    "mask = (filtered_data3['BeddystoCC'] > outlier_threshold_low) & (filtered_data3['BeddystoCC'] < outlier_threshold_high)\n",
    "\n",
    "x = filtered_data3['11069'][mask]\n",
    "x.shape"
   ]
  },
  {
   "cell_type": "code",
   "execution_count": 14,
   "id": "281d7d81",
   "metadata": {},
   "outputs": [
    {
     "name": "stdout",
     "output_type": "stream",
     "text": [
      " BeddystoCC : 6.311965269408348\n"
     ]
    }
   ],
   "source": [
    "total_count = filtered_data3['BeddystoCC'].sum()\n",
    "\n",
    "result = total_count / 11069\n",
    "\n",
    "print(\" BeddystoCC :\", result)\n"
   ]
  },
  {
   "cell_type": "markdown",
   "id": "04db7673",
   "metadata": {},
   "source": [
    "# PdlCyclist"
   ]
  },
  {
   "cell_type": "code",
   "execution_count": 15,
   "id": "5fd447e5",
   "metadata": {},
   "outputs": [
    {
     "data": {
      "text/plain": [
       "(12354, 58)"
      ]
     },
     "execution_count": 15,
     "metadata": {},
     "output_type": "execute_result"
    }
   ],
   "source": [
    "filtered_data4 = data[data['PdlCyclist'] == 1]\n",
    "filtered_data4.shape"
   ]
  },
  {
   "cell_type": "code",
   "execution_count": 16,
   "id": "17c3b11c",
   "metadata": {},
   "outputs": [
    {
     "name": "stdout",
     "output_type": "stream",
     "text": [
      " BeddystoCC : 3.394447027721467\n"
     ]
    }
   ],
   "source": [
    "total_count = filtered_data4['BeddystoCC'].sum()\n",
    "\n",
    "result = total_count / 12354\n",
    "\n",
    "print(\" BeddystoCC :\", result)\n"
   ]
  },
  {
   "cell_type": "code",
   "execution_count": 17,
   "id": "579096d2",
   "metadata": {},
   "outputs": [
    {
     "data": {
      "text/plain": [
       "(12129,)"
      ]
     },
     "execution_count": 17,
     "metadata": {},
     "output_type": "execute_result"
    }
   ],
   "source": [
    "mean_y = np.mean(filtered_data4['BeddystoCC'])\n",
    "std_y = np.std(filtered_data4['BeddystoCC'])\n",
    "outlier_threshold_high = mean_y + 3 * std_y\n",
    "outlier_threshold_low = mean_y - 3 * std_y\n",
    "mask = (filtered_data4['BeddystoCC'] > outlier_threshold_low) & (filtered_data4['BeddystoCC'] < outlier_threshold_high)\n",
    "\n",
    "x = filtered_data4['BeddystoCC'][mask]\n",
    "x.shape"
   ]
  },
  {
   "cell_type": "code",
   "execution_count": 19,
   "id": "b23c3a5e",
   "metadata": {},
   "outputs": [
    {
     "name": "stdout",
     "output_type": "stream",
     "text": [
      " BeddystoCC : 3.4574159931132824\n"
     ]
    }
   ],
   "source": [
    "total_count = filtered_data4['BeddystoCC'].sum()\n",
    "\n",
    "result = total_count / 12129\n",
    "\n",
    "print(\" BeddystoCC :\", result)\n"
   ]
  },
  {
   "cell_type": "markdown",
   "id": "5faab2ea",
   "metadata": {},
   "source": [
    "# Pedestrian"
   ]
  },
  {
   "cell_type": "code",
   "execution_count": 20,
   "id": "a9021a8d",
   "metadata": {},
   "outputs": [
    {
     "data": {
      "text/plain": [
       "(6086, 58)"
      ]
     },
     "execution_count": 20,
     "metadata": {},
     "output_type": "execute_result"
    }
   ],
   "source": [
    "filtered_data5 = data[data['Pedestrian'] == 1]\n",
    "filtered_data5.shape"
   ]
  },
  {
   "cell_type": "code",
   "execution_count": 21,
   "id": "5a068028",
   "metadata": {},
   "outputs": [
    {
     "name": "stdout",
     "output_type": "stream",
     "text": [
      " BeddystoCC : 8.824790370800526\n"
     ]
    }
   ],
   "source": [
    "total_count = filtered_data5['BeddystoCC'].sum()\n",
    "\n",
    "result = total_count / 6086\n",
    "\n",
    "print(\" BeddystoCC :\", result)\n"
   ]
  },
  {
   "cell_type": "code",
   "execution_count": 22,
   "id": "1e414de6",
   "metadata": {},
   "outputs": [
    {
     "data": {
      "text/plain": [
       "(6007,)"
      ]
     },
     "execution_count": 22,
     "metadata": {},
     "output_type": "execute_result"
    }
   ],
   "source": [
    "mean_y = np.mean(filtered_data5['BeddystoCC'])\n",
    "std_y = np.std(filtered_data5['BeddystoCC'])\n",
    "outlier_threshold_high = mean_y + 3 * std_y\n",
    "outlier_threshold_low = mean_y - 3 * std_y\n",
    "mask = (filtered_data5['BeddystoCC'] > outlier_threshold_low) & (filtered_data5['BeddystoCC'] < outlier_threshold_high)\n",
    "\n",
    "x = filtered_data5['BeddystoCC'][mask]\n",
    "x.shape"
   ]
  },
  {
   "cell_type": "code",
   "execution_count": 23,
   "id": "b2063351",
   "metadata": {},
   "outputs": [
    {
     "name": "stdout",
     "output_type": "stream",
     "text": [
      " BeddystoCC : 8.940848043398036\n"
     ]
    }
   ],
   "source": [
    "total_count = filtered_data5['BeddystoCC'].sum()\n",
    "\n",
    "result = total_count / 6007\n",
    "\n",
    "print(\" BeddystoCC :\", result)\n"
   ]
  },
  {
   "cell_type": "code",
   "execution_count": null,
   "id": "b7293499",
   "metadata": {},
   "outputs": [],
   "source": []
  }
 ],
 "metadata": {
  "kernelspec": {
   "display_name": "Python 3 (ipykernel)",
   "language": "python",
   "name": "python3"
  },
  "language_info": {
   "codemirror_mode": {
    "name": "ipython",
    "version": 3
   },
   "file_extension": ".py",
   "mimetype": "text/x-python",
   "name": "python",
   "nbconvert_exporter": "python",
   "pygments_lexer": "ipython3",
   "version": "3.9.13"
  }
 },
 "nbformat": 4,
 "nbformat_minor": 5
}
