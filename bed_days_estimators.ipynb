{
 "cells": [
  {
   "cell_type": "code",
   "execution_count": 1,
   "id": "0d1caaaf",
   "metadata": {},
   "outputs": [
    {
     "name": "stderr",
     "output_type": "stream",
     "text": [
      "/Users/amin/opt/anaconda3/lib/python3.9/site-packages/scipy/__init__.py:155: UserWarning: A NumPy version >=1.18.5 and <1.25.0 is required for this version of SciPy (detected version 1.26.3\n",
      "  warnings.warn(f\"A NumPy version >={np_minversion} and <{np_maxversion}\"\n"
     ]
    }
   ],
   "source": [
    "import numpy as np\n",
    "import pandas as pd\n",
    "\n",
    "import xgboost as xgb\n",
    "\n",
    "from sklearn.model_selection import train_test_split\n",
    "\n",
    "from matplotlib import pyplot as plt"
   ]
  },
  {
   "cell_type": "code",
   "execution_count": 2,
   "id": "1da93073",
   "metadata": {},
   "outputs": [],
   "source": [
    "df = pd.read_excel(\"./National_Accidents_Australia.xlsx\")"
   ]
  },
  {
   "cell_type": "code",
   "execution_count": 3,
   "id": "0dd8f2be",
   "metadata": {},
   "outputs": [
    {
     "data": {
      "text/plain": [
       "(117919, 13)"
      ]
     },
     "execution_count": 3,
     "metadata": {},
     "output_type": "execute_result"
    }
   ],
   "source": [
    "df.shape"
   ]
  },
  {
   "cell_type": "code",
   "execution_count": 4,
   "id": "d8c89c84",
   "metadata": {},
   "outputs": [
    {
     "data": {
      "text/html": [
       "<div>\n",
       "<style scoped>\n",
       "    .dataframe tbody tr th:only-of-type {\n",
       "        vertical-align: middle;\n",
       "    }\n",
       "\n",
       "    .dataframe tbody tr th {\n",
       "        vertical-align: top;\n",
       "    }\n",
       "\n",
       "    .dataframe thead th {\n",
       "        text-align: right;\n",
       "    }\n",
       "</style>\n",
       "<table border=\"1\" class=\"dataframe\">\n",
       "  <thead>\n",
       "    <tr style=\"text-align: right;\">\n",
       "      <th></th>\n",
       "      <th>Calendar year</th>\n",
       "      <th>Month</th>\n",
       "      <th>ABS remoteness area</th>\n",
       "      <th>Cause of injury</th>\n",
       "      <th>Age group</th>\n",
       "      <th>Sex</th>\n",
       "      <th>Road user</th>\n",
       "      <th>Counterparty</th>\n",
       "      <th>Count of cases</th>\n",
       "      <th>Bed days</th>\n",
       "      <th>Died_cases</th>\n",
       "      <th>Died_bed_days</th>\n",
       "      <th>Hospitalisations</th>\n",
       "    </tr>\n",
       "  </thead>\n",
       "  <tbody>\n",
       "    <tr>\n",
       "      <th>0</th>\n",
       "      <td>2011</td>\n",
       "      <td>April</td>\n",
       "      <td>Major Cities</td>\n",
       "      <td>All other trauma events</td>\n",
       "      <td>0-7</td>\n",
       "      <td>Female</td>\n",
       "      <td>Not applicable</td>\n",
       "      <td>Not applicable</td>\n",
       "      <td>765.0</td>\n",
       "      <td>1007</td>\n",
       "      <td>NaN</td>\n",
       "      <td>NaN</td>\n",
       "      <td>765</td>\n",
       "    </tr>\n",
       "    <tr>\n",
       "      <th>1</th>\n",
       "      <td>2011</td>\n",
       "      <td>April</td>\n",
       "      <td>Major Cities</td>\n",
       "      <td>All other trauma events</td>\n",
       "      <td>0-7</td>\n",
       "      <td>Male</td>\n",
       "      <td>Not applicable</td>\n",
       "      <td>Not applicable</td>\n",
       "      <td>1010.0</td>\n",
       "      <td>1694</td>\n",
       "      <td>NaN</td>\n",
       "      <td>NaN</td>\n",
       "      <td>1010</td>\n",
       "    </tr>\n",
       "    <tr>\n",
       "      <th>2</th>\n",
       "      <td>2011</td>\n",
       "      <td>April</td>\n",
       "      <td>Major Cities</td>\n",
       "      <td>All other trauma events</td>\n",
       "      <td>17-25</td>\n",
       "      <td>Female</td>\n",
       "      <td>Not applicable</td>\n",
       "      <td>Not applicable</td>\n",
       "      <td>859.0</td>\n",
       "      <td>1597</td>\n",
       "      <td>NaN</td>\n",
       "      <td>NaN</td>\n",
       "      <td>859</td>\n",
       "    </tr>\n",
       "    <tr>\n",
       "      <th>3</th>\n",
       "      <td>2011</td>\n",
       "      <td>April</td>\n",
       "      <td>Major Cities</td>\n",
       "      <td>All other trauma events</td>\n",
       "      <td>17-25</td>\n",
       "      <td>Male</td>\n",
       "      <td>Not applicable</td>\n",
       "      <td>Not applicable</td>\n",
       "      <td>2231.0</td>\n",
       "      <td>3878</td>\n",
       "      <td>2.0</td>\n",
       "      <td>3.0</td>\n",
       "      <td>2229</td>\n",
       "    </tr>\n",
       "    <tr>\n",
       "      <th>4</th>\n",
       "      <td>2011</td>\n",
       "      <td>April</td>\n",
       "      <td>Major Cities</td>\n",
       "      <td>All other trauma events</td>\n",
       "      <td>26-39</td>\n",
       "      <td>Female</td>\n",
       "      <td>Not applicable</td>\n",
       "      <td>Not applicable</td>\n",
       "      <td>1098.0</td>\n",
       "      <td>2347</td>\n",
       "      <td>1.0</td>\n",
       "      <td>14.0</td>\n",
       "      <td>1097</td>\n",
       "    </tr>\n",
       "  </tbody>\n",
       "</table>\n",
       "</div>"
      ],
      "text/plain": [
       "   Calendar year  Month ABS remoteness area          Cause of injury  \\\n",
       "0           2011  April        Major Cities  All other trauma events   \n",
       "1           2011  April        Major Cities  All other trauma events   \n",
       "2           2011  April        Major Cities  All other trauma events   \n",
       "3           2011  April        Major Cities  All other trauma events   \n",
       "4           2011  April        Major Cities  All other trauma events   \n",
       "\n",
       "  Age group     Sex       Road user    Counterparty  Count of cases  Bed days  \\\n",
       "0       0-7  Female  Not applicable  Not applicable           765.0      1007   \n",
       "1       0-7    Male  Not applicable  Not applicable          1010.0      1694   \n",
       "2     17-25  Female  Not applicable  Not applicable           859.0      1597   \n",
       "3     17-25    Male  Not applicable  Not applicable          2231.0      3878   \n",
       "4     26-39  Female  Not applicable  Not applicable          1098.0      2347   \n",
       "\n",
       "   Died_cases  Died_bed_days  Hospitalisations  \n",
       "0         NaN            NaN               765  \n",
       "1         NaN            NaN              1010  \n",
       "2         NaN            NaN               859  \n",
       "3         2.0            3.0              2229  \n",
       "4         1.0           14.0              1097  "
      ]
     },
     "execution_count": 4,
     "metadata": {},
     "output_type": "execute_result"
    }
   ],
   "source": [
    "df.head()"
   ]
  },
  {
   "cell_type": "code",
   "execution_count": 5,
   "id": "9cb5935c",
   "metadata": {},
   "outputs": [],
   "source": [
    "df.drop(['Calendar year'], axis=1, inplace=True)"
   ]
  },
  {
   "cell_type": "code",
   "execution_count": 6,
   "id": "14fc1336",
   "metadata": {},
   "outputs": [
    {
     "data": {
      "text/html": [
       "<div>\n",
       "<style scoped>\n",
       "    .dataframe tbody tr th:only-of-type {\n",
       "        vertical-align: middle;\n",
       "    }\n",
       "\n",
       "    .dataframe tbody tr th {\n",
       "        vertical-align: top;\n",
       "    }\n",
       "\n",
       "    .dataframe thead th {\n",
       "        text-align: right;\n",
       "    }\n",
       "</style>\n",
       "<table border=\"1\" class=\"dataframe\">\n",
       "  <thead>\n",
       "    <tr style=\"text-align: right;\">\n",
       "      <th></th>\n",
       "      <th>Month</th>\n",
       "      <th>ABS remoteness area</th>\n",
       "      <th>Cause of injury</th>\n",
       "      <th>Age group</th>\n",
       "      <th>Sex</th>\n",
       "      <th>Road user</th>\n",
       "      <th>Counterparty</th>\n",
       "      <th>Count of cases</th>\n",
       "      <th>Bed days</th>\n",
       "      <th>Died_cases</th>\n",
       "      <th>Died_bed_days</th>\n",
       "      <th>Hospitalisations</th>\n",
       "    </tr>\n",
       "  </thead>\n",
       "  <tbody>\n",
       "    <tr>\n",
       "      <th>0</th>\n",
       "      <td>April</td>\n",
       "      <td>Major Cities</td>\n",
       "      <td>All other trauma events</td>\n",
       "      <td>0-7</td>\n",
       "      <td>Female</td>\n",
       "      <td>Not applicable</td>\n",
       "      <td>Not applicable</td>\n",
       "      <td>765.0</td>\n",
       "      <td>1007</td>\n",
       "      <td>NaN</td>\n",
       "      <td>NaN</td>\n",
       "      <td>765</td>\n",
       "    </tr>\n",
       "    <tr>\n",
       "      <th>1</th>\n",
       "      <td>April</td>\n",
       "      <td>Major Cities</td>\n",
       "      <td>All other trauma events</td>\n",
       "      <td>0-7</td>\n",
       "      <td>Male</td>\n",
       "      <td>Not applicable</td>\n",
       "      <td>Not applicable</td>\n",
       "      <td>1010.0</td>\n",
       "      <td>1694</td>\n",
       "      <td>NaN</td>\n",
       "      <td>NaN</td>\n",
       "      <td>1010</td>\n",
       "    </tr>\n",
       "    <tr>\n",
       "      <th>2</th>\n",
       "      <td>April</td>\n",
       "      <td>Major Cities</td>\n",
       "      <td>All other trauma events</td>\n",
       "      <td>17-25</td>\n",
       "      <td>Female</td>\n",
       "      <td>Not applicable</td>\n",
       "      <td>Not applicable</td>\n",
       "      <td>859.0</td>\n",
       "      <td>1597</td>\n",
       "      <td>NaN</td>\n",
       "      <td>NaN</td>\n",
       "      <td>859</td>\n",
       "    </tr>\n",
       "    <tr>\n",
       "      <th>3</th>\n",
       "      <td>April</td>\n",
       "      <td>Major Cities</td>\n",
       "      <td>All other trauma events</td>\n",
       "      <td>17-25</td>\n",
       "      <td>Male</td>\n",
       "      <td>Not applicable</td>\n",
       "      <td>Not applicable</td>\n",
       "      <td>2231.0</td>\n",
       "      <td>3878</td>\n",
       "      <td>2.0</td>\n",
       "      <td>3.0</td>\n",
       "      <td>2229</td>\n",
       "    </tr>\n",
       "    <tr>\n",
       "      <th>4</th>\n",
       "      <td>April</td>\n",
       "      <td>Major Cities</td>\n",
       "      <td>All other trauma events</td>\n",
       "      <td>26-39</td>\n",
       "      <td>Female</td>\n",
       "      <td>Not applicable</td>\n",
       "      <td>Not applicable</td>\n",
       "      <td>1098.0</td>\n",
       "      <td>2347</td>\n",
       "      <td>1.0</td>\n",
       "      <td>14.0</td>\n",
       "      <td>1097</td>\n",
       "    </tr>\n",
       "  </tbody>\n",
       "</table>\n",
       "</div>"
      ],
      "text/plain": [
       "   Month ABS remoteness area          Cause of injury Age group     Sex  \\\n",
       "0  April        Major Cities  All other trauma events       0-7  Female   \n",
       "1  April        Major Cities  All other trauma events       0-7    Male   \n",
       "2  April        Major Cities  All other trauma events     17-25  Female   \n",
       "3  April        Major Cities  All other trauma events     17-25    Male   \n",
       "4  April        Major Cities  All other trauma events     26-39  Female   \n",
       "\n",
       "        Road user    Counterparty  Count of cases  Bed days  Died_cases  \\\n",
       "0  Not applicable  Not applicable           765.0      1007         NaN   \n",
       "1  Not applicable  Not applicable          1010.0      1694         NaN   \n",
       "2  Not applicable  Not applicable           859.0      1597         NaN   \n",
       "3  Not applicable  Not applicable          2231.0      3878         2.0   \n",
       "4  Not applicable  Not applicable          1098.0      2347         1.0   \n",
       "\n",
       "   Died_bed_days  Hospitalisations  \n",
       "0            NaN               765  \n",
       "1            NaN              1010  \n",
       "2            NaN               859  \n",
       "3            3.0              2229  \n",
       "4           14.0              1097  "
      ]
     },
     "execution_count": 6,
     "metadata": {},
     "output_type": "execute_result"
    }
   ],
   "source": [
    "df.head()"
   ]
  },
  {
   "cell_type": "code",
   "execution_count": 7,
   "id": "2361920b",
   "metadata": {},
   "outputs": [],
   "source": [
    "df['Month'] = pd.factorize(df['Month'])[0]\n",
    "\n",
    "df['Counterparty'] = pd.factorize(df['Counterparty'])[0]\n",
    "\n",
    "df['ABS remoteness area'] = pd.factorize(df['ABS remoteness area'])[0]\n",
    "\n",
    "df['Cause of injury'] = pd.factorize(df['Cause of injury'])[0]\n",
    "\n",
    "df['Age group'] = pd.factorize(df['Age group'])[0]\n",
    "\n",
    "df['Sex'] = pd.factorize(df['Sex'])[0]\n",
    "\n",
    "df['Road user'] = pd.factorize(df['Road user'])[0]"
   ]
  },
  {
   "cell_type": "code",
   "execution_count": 8,
   "id": "0814dbe7",
   "metadata": {},
   "outputs": [
    {
     "data": {
      "text/html": [
       "<div>\n",
       "<style scoped>\n",
       "    .dataframe tbody tr th:only-of-type {\n",
       "        vertical-align: middle;\n",
       "    }\n",
       "\n",
       "    .dataframe tbody tr th {\n",
       "        vertical-align: top;\n",
       "    }\n",
       "\n",
       "    .dataframe thead th {\n",
       "        text-align: right;\n",
       "    }\n",
       "</style>\n",
       "<table border=\"1\" class=\"dataframe\">\n",
       "  <thead>\n",
       "    <tr style=\"text-align: right;\">\n",
       "      <th></th>\n",
       "      <th>Month</th>\n",
       "      <th>ABS remoteness area</th>\n",
       "      <th>Cause of injury</th>\n",
       "      <th>Age group</th>\n",
       "      <th>Sex</th>\n",
       "      <th>Road user</th>\n",
       "      <th>Counterparty</th>\n",
       "      <th>Count of cases</th>\n",
       "      <th>Bed days</th>\n",
       "      <th>Died_cases</th>\n",
       "      <th>Died_bed_days</th>\n",
       "      <th>Hospitalisations</th>\n",
       "    </tr>\n",
       "  </thead>\n",
       "  <tbody>\n",
       "    <tr>\n",
       "      <th>0</th>\n",
       "      <td>0</td>\n",
       "      <td>0</td>\n",
       "      <td>0</td>\n",
       "      <td>0</td>\n",
       "      <td>0</td>\n",
       "      <td>0</td>\n",
       "      <td>0</td>\n",
       "      <td>765.0</td>\n",
       "      <td>1007</td>\n",
       "      <td>NaN</td>\n",
       "      <td>NaN</td>\n",
       "      <td>765</td>\n",
       "    </tr>\n",
       "    <tr>\n",
       "      <th>1</th>\n",
       "      <td>0</td>\n",
       "      <td>0</td>\n",
       "      <td>0</td>\n",
       "      <td>0</td>\n",
       "      <td>1</td>\n",
       "      <td>0</td>\n",
       "      <td>0</td>\n",
       "      <td>1010.0</td>\n",
       "      <td>1694</td>\n",
       "      <td>NaN</td>\n",
       "      <td>NaN</td>\n",
       "      <td>1010</td>\n",
       "    </tr>\n",
       "    <tr>\n",
       "      <th>2</th>\n",
       "      <td>0</td>\n",
       "      <td>0</td>\n",
       "      <td>0</td>\n",
       "      <td>1</td>\n",
       "      <td>0</td>\n",
       "      <td>0</td>\n",
       "      <td>0</td>\n",
       "      <td>859.0</td>\n",
       "      <td>1597</td>\n",
       "      <td>NaN</td>\n",
       "      <td>NaN</td>\n",
       "      <td>859</td>\n",
       "    </tr>\n",
       "    <tr>\n",
       "      <th>3</th>\n",
       "      <td>0</td>\n",
       "      <td>0</td>\n",
       "      <td>0</td>\n",
       "      <td>1</td>\n",
       "      <td>1</td>\n",
       "      <td>0</td>\n",
       "      <td>0</td>\n",
       "      <td>2231.0</td>\n",
       "      <td>3878</td>\n",
       "      <td>2.0</td>\n",
       "      <td>3.0</td>\n",
       "      <td>2229</td>\n",
       "    </tr>\n",
       "    <tr>\n",
       "      <th>4</th>\n",
       "      <td>0</td>\n",
       "      <td>0</td>\n",
       "      <td>0</td>\n",
       "      <td>2</td>\n",
       "      <td>0</td>\n",
       "      <td>0</td>\n",
       "      <td>0</td>\n",
       "      <td>1098.0</td>\n",
       "      <td>2347</td>\n",
       "      <td>1.0</td>\n",
       "      <td>14.0</td>\n",
       "      <td>1097</td>\n",
       "    </tr>\n",
       "  </tbody>\n",
       "</table>\n",
       "</div>"
      ],
      "text/plain": [
       "   Month  ABS remoteness area  Cause of injury  Age group  Sex  Road user  \\\n",
       "0      0                    0                0          0    0          0   \n",
       "1      0                    0                0          0    1          0   \n",
       "2      0                    0                0          1    0          0   \n",
       "3      0                    0                0          1    1          0   \n",
       "4      0                    0                0          2    0          0   \n",
       "\n",
       "   Counterparty  Count of cases  Bed days  Died_cases  Died_bed_days  \\\n",
       "0             0           765.0      1007         NaN            NaN   \n",
       "1             0          1010.0      1694         NaN            NaN   \n",
       "2             0           859.0      1597         NaN            NaN   \n",
       "3             0          2231.0      3878         2.0            3.0   \n",
       "4             0          1098.0      2347         1.0           14.0   \n",
       "\n",
       "   Hospitalisations  \n",
       "0               765  \n",
       "1              1010  \n",
       "2               859  \n",
       "3              2229  \n",
       "4              1097  "
      ]
     },
     "execution_count": 8,
     "metadata": {},
     "output_type": "execute_result"
    }
   ],
   "source": [
    "df.head()"
   ]
  },
  {
   "cell_type": "code",
   "execution_count": 9,
   "id": "1ad948b7",
   "metadata": {},
   "outputs": [],
   "source": [
    "df['Died_cases'].fillna(0, inplace=True)\n",
    "\n",
    "df['Died_bed_days'].fillna(0, inplace=True)"
   ]
  },
  {
   "cell_type": "code",
   "execution_count": 10,
   "id": "bc129726",
   "metadata": {},
   "outputs": [],
   "source": [
    "df.dropna(inplace=True)"
   ]
  },
  {
   "cell_type": "code",
   "execution_count": 11,
   "id": "2348cdab",
   "metadata": {},
   "outputs": [
    {
     "data": {
      "text/plain": [
       "Month                  0\n",
       "ABS remoteness area    0\n",
       "Cause of injury        0\n",
       "Age group              0\n",
       "Sex                    0\n",
       "Road user              0\n",
       "Counterparty           0\n",
       "Count of cases         0\n",
       "Bed days               0\n",
       "Died_cases             0\n",
       "Died_bed_days          0\n",
       "Hospitalisations       0\n",
       "dtype: int64"
      ]
     },
     "execution_count": 11,
     "metadata": {},
     "output_type": "execute_result"
    }
   ],
   "source": [
    "df.isnull().sum()"
   ]
  },
  {
   "cell_type": "code",
   "execution_count": 12,
   "id": "eeb3376e",
   "metadata": {},
   "outputs": [
    {
     "name": "stdout",
     "output_type": "stream",
     "text": [
      "<class 'pandas.core.frame.DataFrame'>\n",
      "Int64Index: 112982 entries, 0 to 117918\n",
      "Data columns (total 12 columns):\n",
      " #   Column               Non-Null Count   Dtype  \n",
      "---  ------               --------------   -----  \n",
      " 0   Month                112982 non-null  int64  \n",
      " 1   ABS remoteness area  112982 non-null  int64  \n",
      " 2   Cause of injury      112982 non-null  int64  \n",
      " 3   Age group            112982 non-null  int64  \n",
      " 4   Sex                  112982 non-null  int64  \n",
      " 5   Road user            112982 non-null  int64  \n",
      " 6   Counterparty         112982 non-null  int64  \n",
      " 7   Count of cases       112982 non-null  float64\n",
      " 8   Bed days             112982 non-null  int64  \n",
      " 9   Died_cases           112982 non-null  float64\n",
      " 10  Died_bed_days        112982 non-null  float64\n",
      " 11  Hospitalisations     112982 non-null  int64  \n",
      "dtypes: float64(3), int64(9)\n",
      "memory usage: 11.2 MB\n"
     ]
    }
   ],
   "source": [
    "df.info()"
   ]
  },
  {
   "cell_type": "code",
   "execution_count": 13,
   "id": "f4cb45cb",
   "metadata": {},
   "outputs": [],
   "source": [
    "df['target'] = df['Bed days'] / df['Count of cases']"
   ]
  },
  {
   "cell_type": "code",
   "execution_count": 14,
   "id": "49a37cf1",
   "metadata": {},
   "outputs": [],
   "source": [
    "df.drop(['Bed days'], axis=1, inplace=True)"
   ]
  },
  {
   "cell_type": "code",
   "execution_count": 15,
   "id": "351e085d",
   "metadata": {},
   "outputs": [
    {
     "data": {
      "text/html": [
       "<div>\n",
       "<style scoped>\n",
       "    .dataframe tbody tr th:only-of-type {\n",
       "        vertical-align: middle;\n",
       "    }\n",
       "\n",
       "    .dataframe tbody tr th {\n",
       "        vertical-align: top;\n",
       "    }\n",
       "\n",
       "    .dataframe thead th {\n",
       "        text-align: right;\n",
       "    }\n",
       "</style>\n",
       "<table border=\"1\" class=\"dataframe\">\n",
       "  <thead>\n",
       "    <tr style=\"text-align: right;\">\n",
       "      <th></th>\n",
       "      <th>Month</th>\n",
       "      <th>ABS remoteness area</th>\n",
       "      <th>Cause of injury</th>\n",
       "      <th>Age group</th>\n",
       "      <th>Sex</th>\n",
       "      <th>Road user</th>\n",
       "      <th>Counterparty</th>\n",
       "      <th>Count of cases</th>\n",
       "      <th>Died_cases</th>\n",
       "      <th>Died_bed_days</th>\n",
       "      <th>Hospitalisations</th>\n",
       "      <th>target</th>\n",
       "    </tr>\n",
       "  </thead>\n",
       "  <tbody>\n",
       "    <tr>\n",
       "      <th>0</th>\n",
       "      <td>0</td>\n",
       "      <td>0</td>\n",
       "      <td>0</td>\n",
       "      <td>0</td>\n",
       "      <td>0</td>\n",
       "      <td>0</td>\n",
       "      <td>0</td>\n",
       "      <td>765.0</td>\n",
       "      <td>0.0</td>\n",
       "      <td>0.0</td>\n",
       "      <td>765</td>\n",
       "      <td>1.316340</td>\n",
       "    </tr>\n",
       "    <tr>\n",
       "      <th>1</th>\n",
       "      <td>0</td>\n",
       "      <td>0</td>\n",
       "      <td>0</td>\n",
       "      <td>0</td>\n",
       "      <td>1</td>\n",
       "      <td>0</td>\n",
       "      <td>0</td>\n",
       "      <td>1010.0</td>\n",
       "      <td>0.0</td>\n",
       "      <td>0.0</td>\n",
       "      <td>1010</td>\n",
       "      <td>1.677228</td>\n",
       "    </tr>\n",
       "    <tr>\n",
       "      <th>2</th>\n",
       "      <td>0</td>\n",
       "      <td>0</td>\n",
       "      <td>0</td>\n",
       "      <td>1</td>\n",
       "      <td>0</td>\n",
       "      <td>0</td>\n",
       "      <td>0</td>\n",
       "      <td>859.0</td>\n",
       "      <td>0.0</td>\n",
       "      <td>0.0</td>\n",
       "      <td>859</td>\n",
       "      <td>1.859139</td>\n",
       "    </tr>\n",
       "    <tr>\n",
       "      <th>3</th>\n",
       "      <td>0</td>\n",
       "      <td>0</td>\n",
       "      <td>0</td>\n",
       "      <td>1</td>\n",
       "      <td>1</td>\n",
       "      <td>0</td>\n",
       "      <td>0</td>\n",
       "      <td>2231.0</td>\n",
       "      <td>2.0</td>\n",
       "      <td>3.0</td>\n",
       "      <td>2229</td>\n",
       "      <td>1.738234</td>\n",
       "    </tr>\n",
       "    <tr>\n",
       "      <th>4</th>\n",
       "      <td>0</td>\n",
       "      <td>0</td>\n",
       "      <td>0</td>\n",
       "      <td>2</td>\n",
       "      <td>0</td>\n",
       "      <td>0</td>\n",
       "      <td>0</td>\n",
       "      <td>1098.0</td>\n",
       "      <td>1.0</td>\n",
       "      <td>14.0</td>\n",
       "      <td>1097</td>\n",
       "      <td>2.137523</td>\n",
       "    </tr>\n",
       "  </tbody>\n",
       "</table>\n",
       "</div>"
      ],
      "text/plain": [
       "   Month  ABS remoteness area  Cause of injury  Age group  Sex  Road user  \\\n",
       "0      0                    0                0          0    0          0   \n",
       "1      0                    0                0          0    1          0   \n",
       "2      0                    0                0          1    0          0   \n",
       "3      0                    0                0          1    1          0   \n",
       "4      0                    0                0          2    0          0   \n",
       "\n",
       "   Counterparty  Count of cases  Died_cases  Died_bed_days  Hospitalisations  \\\n",
       "0             0           765.0         0.0            0.0               765   \n",
       "1             0          1010.0         0.0            0.0              1010   \n",
       "2             0           859.0         0.0            0.0               859   \n",
       "3             0          2231.0         2.0            3.0              2229   \n",
       "4             0          1098.0         1.0           14.0              1097   \n",
       "\n",
       "     target  \n",
       "0  1.316340  \n",
       "1  1.677228  \n",
       "2  1.859139  \n",
       "3  1.738234  \n",
       "4  2.137523  "
      ]
     },
     "execution_count": 15,
     "metadata": {},
     "output_type": "execute_result"
    }
   ],
   "source": [
    "df.head()"
   ]
  },
  {
   "cell_type": "code",
   "execution_count": 16,
   "id": "1d5bbd24",
   "metadata": {},
   "outputs": [],
   "source": [
    "# X, y = df.drop(['target'], axis=1), df['target']\n",
    "\n",
    "X, y = df.drop(['target', 'Month', 'ABS remoteness area', 'Counterparty'], axis=1), df['target']"
   ]
  },
  {
   "cell_type": "code",
   "execution_count": 17,
   "id": "5ea5e9e1",
   "metadata": {},
   "outputs": [],
   "source": [
    "x_train, x_test, y_train, y_test = train_test_split(X, y, test_size=0.2)"
   ]
  },
  {
   "cell_type": "code",
   "execution_count": 18,
   "id": "d5b76b9d",
   "metadata": {},
   "outputs": [],
   "source": [
    "xgb_model = xgb.XGBRegressor(\n",
    "    n_estimators=1000,\n",
    "    subsample=0.6,\n",
    "    learning_rate=0.7,\n",
    ")"
   ]
  },
  {
   "cell_type": "code",
   "execution_count": 19,
   "id": "225d5bdb",
   "metadata": {},
   "outputs": [
    {
     "data": {
      "text/plain": [
       "XGBRegressor(base_score=None, booster=None, callbacks=None,\n",
       "             colsample_bylevel=None, colsample_bynode=None,\n",
       "             colsample_bytree=None, device=None, early_stopping_rounds=None,\n",
       "             enable_categorical=False, eval_metric=None, feature_types=None,\n",
       "             gamma=None, grow_policy=None, importance_type=None,\n",
       "             interaction_constraints=None, learning_rate=0.7, max_bin=None,\n",
       "             max_cat_threshold=None, max_cat_to_onehot=None,\n",
       "             max_delta_step=None, max_depth=None, max_leaves=None,\n",
       "             min_child_weight=None, missing=nan, monotone_constraints=None,\n",
       "             multi_strategy=None, n_estimators=1000, n_jobs=None,\n",
       "             num_parallel_tree=None, random_state=None, ...)"
      ]
     },
     "execution_count": 19,
     "metadata": {},
     "output_type": "execute_result"
    }
   ],
   "source": [
    "xgb_model.fit(x_train, y_train)"
   ]
  },
  {
   "cell_type": "code",
   "execution_count": 20,
   "id": "11f3addc",
   "metadata": {},
   "outputs": [],
   "source": [
    "pred = xgb_model.predict(x_test)"
   ]
  },
  {
   "cell_type": "code",
   "execution_count": 21,
   "id": "41448a23",
   "metadata": {},
   "outputs": [
    {
     "data": {
      "image/png": "[encoded data removed]",
      "text/plain": [
       "<Figure size 500x500 with 1 Axes>"
      ]
     },
     "metadata": {},
     "output_type": "display_data"
    }
   ],
   "source": [
    "fig, ax = plt.subplots(figsize=(5, 5))\n",
    "\n",
    "_ = ax.scatter(y_test, pred)"
   ]
  },
  {
   "cell_type": "code",
   "execution_count": 22,
   "id": "6e757a88",
   "metadata": {},
   "outputs": [
    {
     "data": {
      "image/png": "[encoded data removed]",
      "text/plain": [
       "<Figure size 1400x500 with 1 Axes>"
      ]
     },
     "metadata": {},
     "output_type": "display_data"
    }
   ],
   "source": [
    "fig, ax = plt.subplots(figsize=(14, 5))\n",
    "\n",
    "_ = ax.plot(range(len(y_test)), y_test)\n",
    "\n",
    "_ = ax.plot(range(len(y_test)), pred)"
   ]
  },
  {
   "cell_type": "code",
   "execution_count": 23,
   "id": "eafd45dd",
   "metadata": {},
   "outputs": [
    {
     "data": {
      "text/plain": [
       "[<matplotlib.lines.Line2D at 0x7fb15b99c280>]"
      ]
     },
     "execution_count": 23,
     "metadata": {},
     "output_type": "execute_result"
    },
    {
     "data": {
      "image/png": "[encoded data removed]",
      "text/plain": [
       "<Figure size 640x480 with 1 Axes>"
      ]
     },
     "metadata": {},
     "output_type": "display_data"
    }
   ],
   "source": [
    "plt.plot(df['target'])"
   ]
  },
  {
   "cell_type": "code",
   "execution_count": 24,
   "id": "dbb01855",
   "metadata": {},
   "outputs": [],
   "source": [
    "df2 = df[df['Road user'] == 1].query(\"target > 14\")\n",
    "\n",
    "X, y = df2.drop(['target', 'Month', 'ABS remoteness area', 'Counterparty'], axis=1), df2['target']"
   ]
  },
  {
   "cell_type": "code",
   "execution_count": 25,
   "id": "fb9d90b4",
   "metadata": {},
   "outputs": [],
   "source": [
    "x_train, x_test, y_train, y_test = train_test_split(X, y, test_size=0.2)"
   ]
  },
  {
   "cell_type": "code",
   "execution_count": 26,
   "id": "069d9097",
   "metadata": {},
   "outputs": [],
   "source": [
    "xgb_model = xgb.XGBRegressor(\n",
    "    n_estimators=500,\n",
    "    subsample=0.3,\n",
    "    learning_rate=1.01,\n",
    ")"
   ]
  },
  {
   "cell_type": "code",
   "execution_count": 27,
   "id": "70ee5a30",
   "metadata": {},
   "outputs": [
    {
     "data": {
      "text/plain": [
       "XGBRegressor(base_score=None, booster=None, callbacks=None,\n",
       "             colsample_bylevel=None, colsample_bynode=None,\n",
       "             colsample_bytree=None, device=None, early_stopping_rounds=None,\n",
       "             enable_categorical=False, eval_metric=None, feature_types=None,\n",
       "             gamma=None, grow_policy=None, importance_type=None,\n",
       "             interaction_constraints=None, learning_rate=1.01, max_bin=None,\n",
       "             max_cat_threshold=None, max_cat_to_onehot=None,\n",
       "             max_delta_step=None, max_depth=None, max_leaves=None,\n",
       "             min_child_weight=None, missing=nan, monotone_constraints=None,\n",
       "             multi_strategy=None, n_estimators=500, n_jobs=None,\n",
       "             num_parallel_tree=None, random_state=None, ...)"
      ]
     },
     "execution_count": 27,
     "metadata": {},
     "output_type": "execute_result"
    }
   ],
   "source": [
    "xgb_model.fit(x_train, y_train)"
   ]
  },
  {
   "cell_type": "code",
   "execution_count": 28,
   "id": "2d94fc47",
   "metadata": {},
   "outputs": [],
   "source": [
    "pred = xgb_model.predict(x_test)"
   ]
  },
  {
   "cell_type": "code",
   "execution_count": 29,
   "id": "87b953aa",
   "metadata": {},
   "outputs": [
    {
     "data": {
      "image/png": "[encoded data removed]",
      "text/plain": [
       "<Figure size 1400x500 with 1 Axes>"
      ]
     },
     "metadata": {},
     "output_type": "display_data"
    }
   ],
   "source": [
    "fig, ax = plt.subplots(figsize=(14, 5))\n",
    "\n",
    "_ = ax.plot(range(len(y_test)), y_test)\n",
    "\n",
    "_ = ax.plot(range(len(y_test)), pred)"
   ]
  },
  {
   "cell_type": "code",
   "execution_count": null,
   "id": "9f81ef34",
   "metadata": {},
   "outputs": [],
   "source": []
  }
 ],
 "metadata": {
  "kernelspec": {
   "display_name": "Python 3 (ipykernel)",
   "language": "python",
   "name": "python3"
  },
  "language_info": {
   "codemirror_mode": {
    "name": "ipython",
    "version": 3
   },
   "file_extension": ".py",
   "mimetype": "text/x-python",
   "name": "python",
   "nbconvert_exporter": "python",
   "pygments_lexer": "ipython3",
   "version": "3.9.13"
  }
 },
 "nbformat": 4,
 "nbformat_minor": 5
}
