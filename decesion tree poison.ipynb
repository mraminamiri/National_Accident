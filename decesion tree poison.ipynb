{
 "cells": [
  {
   "cell_type": "code",
   "execution_count": 1,
   "id": "3d898b0c",
   "metadata": {},
   "outputs": [],
   "source": [
    "import pandas as pd\n",
    "import numpy as np \n",
    "import matplotlib.pyplot as plt\n",
    "import seaborn as sns\n",
    "import seaborn as sns\n",
    "import matplotlib.pyplot as plt\n",
    "from sklearn.cluster import KMeans\n",
    "from sklearn.preprocessing import StandardScaler, LabelEncoder\n",
    "from sklearn.cluster import KMeans\n",
    "from sklearn.model_selection import train_test_split\n",
    "from sklearn.ensemble import RandomForestClassifier\n",
    "from sklearn.metrics import accuracy_score, classification_report\n",
    "from sklearn.metrics import confusion_matrix\n",
    "from sklearn.linear_model import LogisticRegression\n",
    "from sklearn.model_selection import train_test_split\n",
    "from sklearn.tree import DecisionTreeClassifier\n",
    "from sklearn.metrics import accuracy_score, classification_report, confusion_matrix\n",
    "import matplotlib.pyplot as plt\n",
    "import seaborn as sns\n",
    "from sklearn.linear_model import LinearRegression\n",
    "from sklearn.model_selection import train_test_split\n",
    "from sklearn.metrics import mean_squared_error, r2_score\n",
    "import numpy as np"
   ]
  },
  {
   "cell_type": "code",
   "execution_count": 2,
   "id": "6872174b",
   "metadata": {},
   "outputs": [
    {
     "data": {
      "text/html": [
       "<div>\n",
       "<style scoped>\n",
       "    .dataframe tbody tr th:only-of-type {\n",
       "        vertical-align: middle;\n",
       "    }\n",
       "\n",
       "    .dataframe tbody tr th {\n",
       "        vertical-align: top;\n",
       "    }\n",
       "\n",
       "    .dataframe thead th {\n",
       "        text-align: right;\n",
       "    }\n",
       "</style>\n",
       "<table border=\"1\" class=\"dataframe\">\n",
       "  <thead>\n",
       "    <tr style=\"text-align: right;\">\n",
       "      <th></th>\n",
       "      <th>CountCases</th>\n",
       "      <th>BedDys</th>\n",
       "      <th>BeddystoCC</th>\n",
       "      <th>Severity</th>\n",
       "      <th>DiedCases</th>\n",
       "      <th>DiedBdDys</th>\n",
       "      <th>Hsptlsns</th>\n",
       "      <th>April</th>\n",
       "      <th>August</th>\n",
       "      <th>December</th>\n",
       "      <th>...</th>\n",
       "      <th>Y2013</th>\n",
       "      <th>Y2014</th>\n",
       "      <th>Y2015</th>\n",
       "      <th>Y2016</th>\n",
       "      <th>Y2017</th>\n",
       "      <th>Y2018</th>\n",
       "      <th>Y2019</th>\n",
       "      <th>Y2020</th>\n",
       "      <th>Y2021</th>\n",
       "      <th>CovidPrd</th>\n",
       "    </tr>\n",
       "  </thead>\n",
       "  <tbody>\n",
       "    <tr>\n",
       "      <th>count</th>\n",
       "      <td>54038.000000</td>\n",
       "      <td>54038.000000</td>\n",
       "      <td>54038.000000</td>\n",
       "      <td>54038.000000</td>\n",
       "      <td>54038.000000</td>\n",
       "      <td>54038.00000</td>\n",
       "      <td>54038.000000</td>\n",
       "      <td>54038.000000</td>\n",
       "      <td>54038.000000</td>\n",
       "      <td>54038.000000</td>\n",
       "      <td>...</td>\n",
       "      <td>54038.000000</td>\n",
       "      <td>54038.000000</td>\n",
       "      <td>54038.000000</td>\n",
       "      <td>54038.000000</td>\n",
       "      <td>54038.000000</td>\n",
       "      <td>54038.000000</td>\n",
       "      <td>54038.000000</td>\n",
       "      <td>54038.000000</td>\n",
       "      <td>54038.000000</td>\n",
       "      <td>54038.000000</td>\n",
       "    </tr>\n",
       "    <tr>\n",
       "      <th>mean</th>\n",
       "      <td>6.786058</td>\n",
       "      <td>31.725730</td>\n",
       "      <td>5.559310</td>\n",
       "      <td>20.565250</td>\n",
       "      <td>0.034513</td>\n",
       "      <td>0.18313</td>\n",
       "      <td>6.751545</td>\n",
       "      <td>0.084385</td>\n",
       "      <td>0.081258</td>\n",
       "      <td>0.084570</td>\n",
       "      <td>...</td>\n",
       "      <td>0.089530</td>\n",
       "      <td>0.090362</td>\n",
       "      <td>0.090418</td>\n",
       "      <td>0.091713</td>\n",
       "      <td>0.092879</td>\n",
       "      <td>0.092805</td>\n",
       "      <td>0.093508</td>\n",
       "      <td>0.090658</td>\n",
       "      <td>0.092824</td>\n",
       "      <td>0.106240</td>\n",
       "    </tr>\n",
       "    <tr>\n",
       "      <th>std</th>\n",
       "      <td>10.762527</td>\n",
       "      <td>56.145442</td>\n",
       "      <td>10.839189</td>\n",
       "      <td>32.442537</td>\n",
       "      <td>0.196789</td>\n",
       "      <td>1.52133</td>\n",
       "      <td>10.742018</td>\n",
       "      <td>0.277967</td>\n",
       "      <td>0.273233</td>\n",
       "      <td>0.278243</td>\n",
       "      <td>...</td>\n",
       "      <td>0.285509</td>\n",
       "      <td>0.286703</td>\n",
       "      <td>0.286782</td>\n",
       "      <td>0.288623</td>\n",
       "      <td>0.290266</td>\n",
       "      <td>0.290162</td>\n",
       "      <td>0.291146</td>\n",
       "      <td>0.287125</td>\n",
       "      <td>0.290188</td>\n",
       "      <td>0.308147</td>\n",
       "    </tr>\n",
       "    <tr>\n",
       "      <th>min</th>\n",
       "      <td>1.000000</td>\n",
       "      <td>1.000000</td>\n",
       "      <td>1.000000</td>\n",
       "      <td>3.000000</td>\n",
       "      <td>0.000000</td>\n",
       "      <td>0.00000</td>\n",
       "      <td>0.000000</td>\n",
       "      <td>0.000000</td>\n",
       "      <td>0.000000</td>\n",
       "      <td>0.000000</td>\n",
       "      <td>...</td>\n",
       "      <td>0.000000</td>\n",
       "      <td>0.000000</td>\n",
       "      <td>0.000000</td>\n",
       "      <td>0.000000</td>\n",
       "      <td>0.000000</td>\n",
       "      <td>0.000000</td>\n",
       "      <td>0.000000</td>\n",
       "      <td>0.000000</td>\n",
       "      <td>0.000000</td>\n",
       "      <td>0.000000</td>\n",
       "    </tr>\n",
       "    <tr>\n",
       "      <th>25%</th>\n",
       "      <td>1.000000</td>\n",
       "      <td>2.000000</td>\n",
       "      <td>1.000000</td>\n",
       "      <td>3.000000</td>\n",
       "      <td>0.000000</td>\n",
       "      <td>0.00000</td>\n",
       "      <td>1.000000</td>\n",
       "      <td>0.000000</td>\n",
       "      <td>0.000000</td>\n",
       "      <td>0.000000</td>\n",
       "      <td>...</td>\n",
       "      <td>0.000000</td>\n",
       "      <td>0.000000</td>\n",
       "      <td>0.000000</td>\n",
       "      <td>0.000000</td>\n",
       "      <td>0.000000</td>\n",
       "      <td>0.000000</td>\n",
       "      <td>0.000000</td>\n",
       "      <td>0.000000</td>\n",
       "      <td>0.000000</td>\n",
       "      <td>0.000000</td>\n",
       "    </tr>\n",
       "    <tr>\n",
       "      <th>50%</th>\n",
       "      <td>3.000000</td>\n",
       "      <td>10.000000</td>\n",
       "      <td>2.500000</td>\n",
       "      <td>9.000000</td>\n",
       "      <td>0.000000</td>\n",
       "      <td>0.00000</td>\n",
       "      <td>3.000000</td>\n",
       "      <td>0.000000</td>\n",
       "      <td>0.000000</td>\n",
       "      <td>0.000000</td>\n",
       "      <td>...</td>\n",
       "      <td>0.000000</td>\n",
       "      <td>0.000000</td>\n",
       "      <td>0.000000</td>\n",
       "      <td>0.000000</td>\n",
       "      <td>0.000000</td>\n",
       "      <td>0.000000</td>\n",
       "      <td>0.000000</td>\n",
       "      <td>0.000000</td>\n",
       "      <td>0.000000</td>\n",
       "      <td>0.000000</td>\n",
       "    </tr>\n",
       "    <tr>\n",
       "      <th>75%</th>\n",
       "      <td>7.000000</td>\n",
       "      <td>35.000000</td>\n",
       "      <td>5.875000</td>\n",
       "      <td>24.000000</td>\n",
       "      <td>0.000000</td>\n",
       "      <td>0.00000</td>\n",
       "      <td>7.000000</td>\n",
       "      <td>0.000000</td>\n",
       "      <td>0.000000</td>\n",
       "      <td>0.000000</td>\n",
       "      <td>...</td>\n",
       "      <td>0.000000</td>\n",
       "      <td>0.000000</td>\n",
       "      <td>0.000000</td>\n",
       "      <td>0.000000</td>\n",
       "      <td>0.000000</td>\n",
       "      <td>0.000000</td>\n",
       "      <td>0.000000</td>\n",
       "      <td>0.000000</td>\n",
       "      <td>0.000000</td>\n",
       "      <td>0.000000</td>\n",
       "    </tr>\n",
       "    <tr>\n",
       "      <th>max</th>\n",
       "      <td>121.000000</td>\n",
       "      <td>1095.000000</td>\n",
       "      <td>608.000000</td>\n",
       "      <td>363.000000</td>\n",
       "      <td>4.000000</td>\n",
       "      <td>56.00000</td>\n",
       "      <td>121.000000</td>\n",
       "      <td>1.000000</td>\n",
       "      <td>1.000000</td>\n",
       "      <td>1.000000</td>\n",
       "      <td>...</td>\n",
       "      <td>1.000000</td>\n",
       "      <td>1.000000</td>\n",
       "      <td>1.000000</td>\n",
       "      <td>1.000000</td>\n",
       "      <td>1.000000</td>\n",
       "      <td>1.000000</td>\n",
       "      <td>1.000000</td>\n",
       "      <td>1.000000</td>\n",
       "      <td>1.000000</td>\n",
       "      <td>1.000000</td>\n",
       "    </tr>\n",
       "  </tbody>\n",
       "</table>\n",
       "<p>8 rows × 58 columns</p>\n",
       "</div>"
      ],
      "text/plain": [
       "         CountCases        BedDys    BeddystoCC      Severity     DiedCases  \\\n",
       "count  54038.000000  54038.000000  54038.000000  54038.000000  54038.000000   \n",
       "mean       6.786058     31.725730      5.559310     20.565250      0.034513   \n",
       "std       10.762527     56.145442     10.839189     32.442537      0.196789   \n",
       "min        1.000000      1.000000      1.000000      3.000000      0.000000   \n",
       "25%        1.000000      2.000000      1.000000      3.000000      0.000000   \n",
       "50%        3.000000     10.000000      2.500000      9.000000      0.000000   \n",
       "75%        7.000000     35.000000      5.875000     24.000000      0.000000   \n",
       "max      121.000000   1095.000000    608.000000    363.000000      4.000000   \n",
       "\n",
       "         DiedBdDys      Hsptlsns         April        August      December  \\\n",
       "count  54038.00000  54038.000000  54038.000000  54038.000000  54038.000000   \n",
       "mean       0.18313      6.751545      0.084385      0.081258      0.084570   \n",
       "std        1.52133     10.742018      0.277967      0.273233      0.278243   \n",
       "min        0.00000      0.000000      0.000000      0.000000      0.000000   \n",
       "25%        0.00000      1.000000      0.000000      0.000000      0.000000   \n",
       "50%        0.00000      3.000000      0.000000      0.000000      0.000000   \n",
       "75%        0.00000      7.000000      0.000000      0.000000      0.000000   \n",
       "max       56.00000    121.000000      1.000000      1.000000      1.000000   \n",
       "\n",
       "       ...         Y2013         Y2014         Y2015         Y2016  \\\n",
       "count  ...  54038.000000  54038.000000  54038.000000  54038.000000   \n",
       "mean   ...      0.089530      0.090362      0.090418      0.091713   \n",
       "std    ...      0.285509      0.286703      0.286782      0.288623   \n",
       "min    ...      0.000000      0.000000      0.000000      0.000000   \n",
       "25%    ...      0.000000      0.000000      0.000000      0.000000   \n",
       "50%    ...      0.000000      0.000000      0.000000      0.000000   \n",
       "75%    ...      0.000000      0.000000      0.000000      0.000000   \n",
       "max    ...      1.000000      1.000000      1.000000      1.000000   \n",
       "\n",
       "              Y2017         Y2018         Y2019         Y2020         Y2021  \\\n",
       "count  54038.000000  54038.000000  54038.000000  54038.000000  54038.000000   \n",
       "mean       0.092879      0.092805      0.093508      0.090658      0.092824   \n",
       "std        0.290266      0.290162      0.291146      0.287125      0.290188   \n",
       "min        0.000000      0.000000      0.000000      0.000000      0.000000   \n",
       "25%        0.000000      0.000000      0.000000      0.000000      0.000000   \n",
       "50%        0.000000      0.000000      0.000000      0.000000      0.000000   \n",
       "75%        0.000000      0.000000      0.000000      0.000000      0.000000   \n",
       "max        1.000000      1.000000      1.000000      1.000000      1.000000   \n",
       "\n",
       "           CovidPrd  \n",
       "count  54038.000000  \n",
       "mean       0.106240  \n",
       "std        0.308147  \n",
       "min        0.000000  \n",
       "25%        0.000000  \n",
       "50%        0.000000  \n",
       "75%        0.000000  \n",
       "max        1.000000  \n",
       "\n",
       "[8 rows x 58 columns]"
      ]
     },
     "execution_count": 2,
     "metadata": {},
     "output_type": "execute_result"
    }
   ],
   "source": [
    "data = pd.read_csv('final_with_covid_AS.csv')\n",
    "data.describe()"
   ]
  },
  {
   "cell_type": "code",
   "execution_count": 3,
   "id": "f2143475",
   "metadata": {},
   "outputs": [],
   "source": [
    "filtered_data = data[data['CarDriver'] == 1]\n"
   ]
  },
  {
   "cell_type": "code",
   "execution_count": 4,
   "id": "2a6e2920",
   "metadata": {},
   "outputs": [],
   "source": [
    "target = filtered_data['Hsptlsns'].shift(-1)"
   ]
  },
  {
   "cell_type": "code",
   "execution_count": 5,
   "id": "efed0124",
   "metadata": {},
   "outputs": [
    {
     "name": "stdout",
     "output_type": "stream",
     "text": [
      "Mean Squared Error (MSE): 111.34423841059602\n",
      "Mean Absolute Error (MAE): 5.339072847682119\n",
      "R-squared (R2): 0.4811213094996676\n"
     ]
    }
   ],
   "source": [
    "import statsmodels.api as sm\n",
    "from sklearn.model_selection import train_test_split\n",
    "from sklearn.metrics import mean_squared_error, mean_absolute_error\n",
    "import numpy as np\n",
    "import pandas as pd\n",
    "import numpy as np\n",
    "from sklearn.tree import DecisionTreeRegressor\n",
    "from sklearn import tree\n",
    "\n",
    "\n",
    "\n",
    "X = filtered_data[['Age1725','Age2639','Age4064','Age6574','Age75plus',\n",
    "                   'Male',\n",
    "                   'Regional',\n",
    "\n",
    "                   'April','December','February','January','July',\n",
    "                   'June','March','May','November','October','September',\n",
    "\n",
    "                   'Cntrprt23WldMV','CntrprtFxdStnry','CntrprtHvyVhcl',\n",
    "                   'CntrprtNClsn','CntrprtOther','CntrprtNMV','CntrprtCrTrkVn',\n",
    "                   'CntrprtPdlC','CntrprtPdstAnml','CntrprtTrn',\n",
    "\n",
    "                   'Y2014','Y2015','Y2016','Y2017','Y2018','Y2019','Y2020','Y2021',\n",
    "                   'Y2013','Y2012',\n",
    "                   'CovidPrd']].iloc[:-1,:]\n",
    "\n",
    "\n",
    "y = target.iloc[:-1]\n",
    "\n",
    "x_train, x_test, y_train, y_test = train_test_split(X, y, test_size=0.3,random_state=42)\n",
    "\n",
    "regressor = DecisionTreeRegressor(criterion='poisson')\n",
    "regressor.fit(x_train, y_train)\n",
    "\n",
    "predictions = regressor.predict(x_test)\n",
    "\n",
    "mse = mean_squared_error(y_test, predictions)\n",
    "mae = mean_absolute_error(y_test, predictions)\n",
    "r2 = r2_score(y_test, predictions)\n",
    "\n",
    "print(\"Mean Squared Error (MSE):\", mse)\n",
    "print(\"Mean Absolute Error (MAE):\", mae)\n",
    "print(\"R-squared (R2):\", r2)"
   ]
  },
  {
   "cell_type": "code",
   "execution_count": 6,
   "id": "e64ee5c5",
   "metadata": {},
   "outputs": [
    {
     "data": {
      "image/png": "[encoded data removed]",
      "text/plain": [
       "<Figure size 500x500 with 1 Axes>"
      ]
     },
     "metadata": {},
     "output_type": "display_data"
    }
   ],
   "source": [
    "fig, ax = plt.subplots(figsize=(5, 5))\n",
    "\n",
    "_ = ax.scatter(y_test, predictions)"
   ]
  },
  {
   "cell_type": "code",
   "execution_count": 8,
   "id": "08859fd5",
   "metadata": {},
   "outputs": [
    {
     "name": "stdout",
     "output_type": "stream",
     "text": [
      "RMSE: 6.247586353742588\n",
      "MAE: 3.8688815969373804\n",
      "R^2: 0.5670215405586051\n"
     ]
    }
   ],
   "source": [
    "mean_y = np.mean(y)\n",
    "std_y = np.std(y)\n",
    "outlier_threshold_high = mean_y + 3 * std_y\n",
    "outlier_threshold_low = mean_y - 3 * std_y\n",
    "\n",
    "mask = (y > outlier_threshold_low) & (y < outlier_threshold_high)\n",
    "\n",
    "X_filtered = X[mask]\n",
    "y_filtered = y[mask]\n",
    "\n",
    "x_train, x_test, y_train, y_test = train_test_split(X_filtered, y_filtered, test_size=0.3,random_state=42)\n",
    "\n",
    "x_train = sm.add_constant(x_train)\n",
    "x_test = sm.add_constant(x_test)\n",
    "\n",
    "\n",
    "regressor = DecisionTreeRegressor(criterion='poisson')\n",
    "regressor.fit(x_train, y_train)\n",
    "\n",
    "predicted_counts = regressor.predict(x_test)\n",
    "\n",
    "\n",
    "rmse = np.sqrt(mean_squared_error(y_test, predicted_counts))\n",
    "mae = mean_absolute_error(y_test, predicted_counts)\n",
    "\n",
    "rss = np.sum((y_test - predicted_counts) ** 2)\n",
    "tss = np.sum((y_test - np.mean(y_test)) ** 2)\n",
    "r_squared = 1 - (rss / tss)\n",
    "\n",
    "print(\"RMSE:\", rmse)\n",
    "print(\"MAE:\", mae)\n",
    "print(\"R^2:\", r_squared)"
   ]
  },
  {
   "cell_type": "markdown",
   "id": "cce7e376",
   "metadata": {},
   "source": [
    "# CarPngr"
   ]
  },
  {
   "cell_type": "code",
   "execution_count": 11,
   "id": "a34ed26d",
   "metadata": {},
   "outputs": [],
   "source": [
    "filtered_data2 = data[data['CarPngr'] == 1]\n",
    "target = filtered_data2['Hsptlsns'].shift(-1)\n"
   ]
  },
  {
   "cell_type": "code",
   "execution_count": 12,
   "id": "7bd9b5ab",
   "metadata": {},
   "outputs": [
    {
     "name": "stdout",
     "output_type": "stream",
     "text": [
      "Mean Squared Error (MSE): 16.15735243300977\n",
      "Mean Absolute Error (MAE): 2.5458486476298186\n",
      "R-squared (R2): 0.3128794776222956\n"
     ]
    }
   ],
   "source": [
    "import statsmodels.api as sm\n",
    "from sklearn.model_selection import train_test_split\n",
    "from sklearn.metrics import mean_squared_error, mean_absolute_error\n",
    "import numpy as np\n",
    "import pandas as pd\n",
    "import numpy as np\n",
    "from sklearn.tree import DecisionTreeRegressor\n",
    "from sklearn import tree\n",
    "\n",
    "\n",
    "X = filtered_data2[['Age1725','Age2639','Age4064','Age6574','Age75plus',\n",
    "                   'Male',\n",
    "                   'Regional',\n",
    "\n",
    "                   'April','December','February','January','July',\n",
    "                   'June','March','May','November','October','September',\n",
    "\n",
    "                   'Cntrprt23WldMV','CntrprtFxdStnry','CntrprtHvyVhcl',\n",
    "                   'CntrprtNClsn','CntrprtOther','CntrprtNMV','CntrprtCrTrkVn',\n",
    "                   'CntrprtPdlC','CntrprtPdstAnml','CntrprtTrn',\n",
    "\n",
    "                   'Y2014','Y2015','Y2016','Y2017','Y2018','Y2019','Y2020','Y2021',\n",
    "                   'Y2013','Y2012',\n",
    "                   'CovidPrd']].iloc[:-1,:]\n",
    "\n",
    "\n",
    "y = target.iloc[:-1]\n",
    "\n",
    "x_train, x_test, y_train, y_test = train_test_split(X, y, test_size=0.3,random_state=42)\n",
    "\n",
    "regressor = DecisionTreeRegressor(criterion='poisson')\n",
    "regressor.fit(x_train, y_train)\n",
    "\n",
    "predictions = regressor.predict(x_test)\n",
    "\n",
    "mse = mean_squared_error(y_test, predictions)\n",
    "mae = mean_absolute_error(y_test, predictions)\n",
    "r2 = r2_score(y_test, predictions)\n",
    "\n",
    "print(\"Mean Squared Error (MSE):\", mse)\n",
    "print(\"Mean Absolute Error (MAE):\", mae)\n",
    "print(\"R-squared (R2):\", r2)"
   ]
  },
  {
   "cell_type": "code",
   "execution_count": 13,
   "id": "d4ac2a04",
   "metadata": {},
   "outputs": [
    {
     "data": {
      "image/png": "[encoded data removed]",
      "text/plain": [
       "<Figure size 500x500 with 1 Axes>"
      ]
     },
     "metadata": {},
     "output_type": "display_data"
    }
   ],
   "source": [
    "fig, ax = plt.subplots(figsize=(5, 5))\n",
    "\n",
    "_ = ax.scatter(y_test, predictions)"
   ]
  },
  {
   "cell_type": "code",
   "execution_count": 14,
   "id": "dc9db4ff",
   "metadata": {},
   "outputs": [
    {
     "name": "stdout",
     "output_type": "stream",
     "text": [
      "RMSE: 3.285912202642707\n",
      "MAE: 2.2372537659327927\n",
      "R^2: 0.0850702757469386\n"
     ]
    }
   ],
   "source": [
    "mean_y = np.mean(y)\n",
    "std_y = np.std(y)\n",
    "outlier_threshold_high = mean_y + 3 * std_y\n",
    "outlier_threshold_low = mean_y - 3 * std_y\n",
    "\n",
    "mask = (y > outlier_threshold_low) & (y < outlier_threshold_high)\n",
    "\n",
    "X_filtered = X[mask]\n",
    "y_filtered = y[mask]\n",
    "\n",
    "x_train, x_test, y_train, y_test = train_test_split(X_filtered, y_filtered, test_size=0.3,random_state=42)\n",
    "\n",
    "x_train = sm.add_constant(x_train)\n",
    "x_test = sm.add_constant(x_test)\n",
    "\n",
    "\n",
    "regressor = DecisionTreeRegressor(criterion='poisson')\n",
    "regressor.fit(x_train, y_train)\n",
    "\n",
    "predicted_counts = regressor.predict(x_test)\n",
    "\n",
    "\n",
    "rmse = np.sqrt(mean_squared_error(y_test, predicted_counts))\n",
    "mae = mean_absolute_error(y_test, predicted_counts)\n",
    "\n",
    "rss = np.sum((y_test - predicted_counts) ** 2)\n",
    "tss = np.sum((y_test - np.mean(y_test)) ** 2)\n",
    "r_squared = 1 - (rss / tss)\n",
    "\n",
    "print(\"RMSE:\", rmse)\n",
    "print(\"MAE:\", mae)\n",
    "print(\"R^2:\", r_squared)"
   ]
  },
  {
   "cell_type": "code",
   "execution_count": 15,
   "id": "f23bc608",
   "metadata": {},
   "outputs": [
    {
     "data": {
      "image/png": "[encoded data removed]",
      "text/plain": [
       "<Figure size 500x500 with 1 Axes>"
      ]
     },
     "metadata": {},
     "output_type": "display_data"
    }
   ],
   "source": [
    "fig, ax = plt.subplots(figsize=(5, 5))\n",
    "\n",
    "_ = ax.scatter(y_test, predicted_counts)"
   ]
  },
  {
   "cell_type": "markdown",
   "id": "09803e07",
   "metadata": {},
   "source": [
    "# Mtrcyclist"
   ]
  },
  {
   "cell_type": "code",
   "execution_count": 16,
   "id": "55f5c475",
   "metadata": {},
   "outputs": [],
   "source": [
    "filtered_data3 = data[data['Mtrcyclist'] == 1]\n",
    "target = filtered_data3['Hsptlsns'].shift(-1)\n"
   ]
  },
  {
   "cell_type": "code",
   "execution_count": 17,
   "id": "cf752d6f",
   "metadata": {},
   "outputs": [
    {
     "name": "stdout",
     "output_type": "stream",
     "text": [
      "Mean Squared Error (MSE): 77.93492134164441\n",
      "Mean Absolute Error (MAE): 4.7727812407242505\n",
      "R-squared (R2): 0.502947380429347\n"
     ]
    }
   ],
   "source": [
    "import statsmodels.api as sm\n",
    "from sklearn.model_selection import train_test_split\n",
    "from sklearn.metrics import mean_squared_error, mean_absolute_error\n",
    "import numpy as np\n",
    "import pandas as pd\n",
    "import numpy as np\n",
    "from sklearn.tree import DecisionTreeRegressor\n",
    "from sklearn import tree\n",
    "\n",
    "\n",
    "X = filtered_data3[['Age1725','Age2639','Age4064','Age6574','Age75plus',\n",
    "                   'Male',\n",
    "                   'Regional',\n",
    "               \n",
    "                   'April','December','February','January','July',\n",
    "                   'June','March','May','November','October','September',\n",
    "                   \n",
    "                   'Cntrprt23WldMV','CntrprtFxdStnry','CntrprtHvyVhcl',\n",
    "                   'CntrprtNClsn','CntrprtOther','CntrprtNMV','CntrprtCrTrkVn',\n",
    "                   'CntrprtPdlC','CntrprtPdstAnml','CntrprtTrn',\n",
    "                   \n",
    "                   'Y2014','Y2015','Y2016','Y2017','Y2018','Y2019','Y2020','Y2021',\n",
    "                   'Y2013','Y2012',\n",
    "                   'CovidPrd']]\n",
    "\n",
    "\n",
    "\n",
    "\n",
    "y = filtered_data3['Hsptlsns']\n",
    "x_train, x_test, y_train, y_test = train_test_split(X, y, test_size=0.3,random_state=42)\n",
    "\n",
    "regressor = DecisionTreeRegressor(criterion='poisson')\n",
    "regressor.fit(x_train, y_train)\n",
    "\n",
    "predictions = regressor.predict(x_test)\n",
    "\n",
    "mse = mean_squared_error(y_test, predictions)\n",
    "mae = mean_absolute_error(y_test, predictions)\n",
    "r2 = r2_score(y_test, predictions)\n",
    "\n",
    "print(\"Mean Squared Error (MSE):\", mse)\n",
    "print(\"Mean Absolute Error (MAE):\", mae)\n",
    "print(\"R-squared (R2):\", r2)"
   ]
  },
  {
   "cell_type": "code",
   "execution_count": 18,
   "id": "ae9d4161",
   "metadata": {},
   "outputs": [
    {
     "data": {
      "image/png": "[encoded data removed]",
      "text/plain": [
       "<Figure size 500x500 with 1 Axes>"
      ]
     },
     "metadata": {},
     "output_type": "display_data"
    }
   ],
   "source": [
    "fig, ax = plt.subplots(figsize=(5, 5))\n",
    "\n",
    "_ = ax.scatter(y_test, predictions)"
   ]
  },
  {
   "cell_type": "code",
   "execution_count": 19,
   "id": "fae4d9f3",
   "metadata": {},
   "outputs": [
    {
     "name": "stdout",
     "output_type": "stream",
     "text": [
      "RMSE: 6.541625799307043\n",
      "MAE: 3.8872699386503067\n",
      "R^2: 0.4475289347733642\n"
     ]
    }
   ],
   "source": [
    "mean_y = np.mean(y)\n",
    "std_y = np.std(y)\n",
    "outlier_threshold_high = mean_y + 3 * std_y\n",
    "outlier_threshold_low = mean_y - 3 * std_y\n",
    "\n",
    "mask = (y > outlier_threshold_low) & (y < outlier_threshold_high)\n",
    "\n",
    "X_filtered = X[mask]\n",
    "y_filtered = y[mask]\n",
    "\n",
    "x_train, x_test, y_train, y_test = train_test_split(X_filtered, y_filtered, test_size=0.3,random_state=42)\n",
    "\n",
    "x_train = sm.add_constant(x_train)\n",
    "x_test = sm.add_constant(x_test)\n",
    "\n",
    "\n",
    "regressor = DecisionTreeRegressor(criterion='poisson')\n",
    "regressor.fit(x_train, y_train)\n",
    "\n",
    "predicted_counts = regressor.predict(x_test)\n",
    "\n",
    "\n",
    "rmse = np.sqrt(mean_squared_error(y_test, predicted_counts))\n",
    "mae = mean_absolute_error(y_test, predicted_counts)\n",
    "\n",
    "rss = np.sum((y_test - predicted_counts) ** 2)\n",
    "tss = np.sum((y_test - np.mean(y_test)) ** 2)\n",
    "r_squared = 1 - (rss / tss)\n",
    "\n",
    "print(\"RMSE:\", rmse)\n",
    "print(\"MAE:\", mae)\n",
    "print(\"R^2:\", r_squared)"
   ]
  },
  {
   "cell_type": "markdown",
   "id": "26d7ba12",
   "metadata": {},
   "source": [
    "# PdlCyclist"
   ]
  },
  {
   "cell_type": "code",
   "execution_count": 20,
   "id": "f9551b11",
   "metadata": {},
   "outputs": [],
   "source": [
    "filtered_data4 = data[data['PdlCyclist'] == 1]\n",
    "target = filtered_data4['Hsptlsns'].shift(-1)\n"
   ]
  },
  {
   "cell_type": "code",
   "execution_count": 21,
   "id": "fdad434e",
   "metadata": {},
   "outputs": [
    {
     "name": "stdout",
     "output_type": "stream",
     "text": [
      "Mean Squared Error (MSE): 86.04289182627461\n",
      "Mean Absolute Error (MAE): 5.243862961963853\n",
      "R-squared (R2): -0.08130367625832946\n"
     ]
    }
   ],
   "source": [
    "import statsmodels.api as sm\n",
    "from sklearn.model_selection import train_test_split\n",
    "from sklearn.metrics import mean_squared_error, mean_absolute_error\n",
    "import numpy as np\n",
    "import pandas as pd\n",
    "import numpy as np\n",
    "from sklearn.tree import DecisionTreeRegressor\n",
    "from sklearn import tree\n",
    "\n",
    "\n",
    "X = filtered_data4[['Age1725','Age2639','Age4064','Age6574','Age75plus',\n",
    "                   'Male',\n",
    "                   'Regional',\n",
    "               \n",
    "                   'April','December','February','January','July',\n",
    "                   'June','March','May','November','October','September',\n",
    "                   \n",
    "                   'Cntrprt23WldMV','CntrprtFxdStnry','CntrprtHvyVhcl',\n",
    "                   'CntrprtNClsn','CntrprtOther','CntrprtNMV','CntrprtCrTrkVn',\n",
    "                   'CntrprtPdlC','CntrprtPdstAnml','CntrprtTrn',\n",
    "                   \n",
    "                   'Y2014','Y2015','Y2016','Y2017','Y2018','Y2019','Y2020','Y2021',\n",
    "                   'Y2013','Y2012',\n",
    "                   'CovidPrd']]\n",
    "\n",
    "\n",
    "\n",
    "\n",
    "y = filtered_data4['Hsptlsns']\n",
    "x_train, x_test, y_train, y_test = train_test_split(X, y, test_size=0.3,random_state=42)\n",
    "\n",
    "regressor = DecisionTreeRegressor(criterion='poisson')\n",
    "regressor.fit(x_train, y_train)\n",
    "\n",
    "predictions = regressor.predict(x_test)\n",
    "\n",
    "mse = mean_squared_error(y_test, predictions)\n",
    "mae = mean_absolute_error(y_test, predictions)\n",
    "r2 = r2_score(y_test, predictions)\n",
    "\n",
    "print(\"Mean Squared Error (MSE):\", mse)\n",
    "print(\"Mean Absolute Error (MAE):\", mae)\n",
    "print(\"R-squared (R2):\", r2)"
   ]
  },
  {
   "cell_type": "code",
   "execution_count": 22,
   "id": "1cc4f05e",
   "metadata": {},
   "outputs": [
    {
     "data": {
      "image/png": "[encoded data removed]",
      "text/plain": [
       "<Figure size 500x500 with 1 Axes>"
      ]
     },
     "metadata": {},
     "output_type": "display_data"
    }
   ],
   "source": [
    "fig, ax = plt.subplots(figsize=(5, 5))\n",
    "\n",
    "_ = ax.scatter(y_test, predictions)"
   ]
  },
  {
   "cell_type": "code",
   "execution_count": 23,
   "id": "c2e3cbe9",
   "metadata": {},
   "outputs": [
    {
     "name": "stdout",
     "output_type": "stream",
     "text": [
      "RMSE: 6.378675411086537\n",
      "MAE: 4.152408637873754\n",
      "R^2: -0.2662469476968232\n"
     ]
    }
   ],
   "source": [
    "mean_y = np.mean(y)\n",
    "std_y = np.std(y)\n",
    "outlier_threshold_high = mean_y + 3 * std_y\n",
    "outlier_threshold_low = mean_y - 3 * std_y\n",
    "\n",
    "mask = (y > outlier_threshold_low) & (y < outlier_threshold_high)\n",
    "\n",
    "X_filtered = X[mask]\n",
    "y_filtered = y[mask]\n",
    "\n",
    "x_train, x_test, y_train, y_test = train_test_split(X_filtered, y_filtered, test_size=0.3,random_state=42)\n",
    "\n",
    "x_train = sm.add_constant(x_train)\n",
    "x_test = sm.add_constant(x_test)\n",
    "\n",
    "\n",
    "regressor = DecisionTreeRegressor(criterion='poisson')\n",
    "regressor.fit(x_train, y_train)\n",
    "\n",
    "predicted_counts = regressor.predict(x_test)\n",
    "\n",
    "\n",
    "rmse = np.sqrt(mean_squared_error(y_test, predicted_counts))\n",
    "mae = mean_absolute_error(y_test, predicted_counts)\n",
    "\n",
    "rss = np.sum((y_test - predicted_counts) ** 2)\n",
    "tss = np.sum((y_test - np.mean(y_test)) ** 2)\n",
    "r_squared = 1 - (rss / tss)\n",
    "\n",
    "print(\"RMSE:\", rmse)\n",
    "print(\"MAE:\", mae)\n",
    "print(\"R^2:\", r_squared)"
   ]
  },
  {
   "cell_type": "markdown",
   "id": "ea5bedef",
   "metadata": {},
   "source": [
    "# Pedestrian"
   ]
  },
  {
   "cell_type": "code",
   "execution_count": 24,
   "id": "0a1cfbb2",
   "metadata": {},
   "outputs": [],
   "source": [
    "filtered_data5 = data[data['Pedestrian'] == 1]\n",
    "target = filtered_data5['Hsptlsns'].shift(-1)\n"
   ]
  },
  {
   "cell_type": "code",
   "execution_count": 25,
   "id": "817b6d88",
   "metadata": {},
   "outputs": [
    {
     "name": "stdout",
     "output_type": "stream",
     "text": [
      "Mean Squared Error (MSE): 27.819003285870757\n",
      "Mean Absolute Error (MAE): 3.2360350492880614\n",
      "R-squared (R2): 0.05532002042978823\n"
     ]
    }
   ],
   "source": [
    "import statsmodels.api as sm\n",
    "from sklearn.model_selection import train_test_split\n",
    "from sklearn.metrics import mean_squared_error, mean_absolute_error\n",
    "import numpy as np\n",
    "import pandas as pd\n",
    "import numpy as np\n",
    "from sklearn.tree import DecisionTreeRegressor\n",
    "from sklearn import tree\n",
    "\n",
    "\n",
    "X = filtered_data5[['Age1725','Age2639','Age4064','Age6574','Age75plus',\n",
    "                   'Male',\n",
    "                   'Regional',\n",
    "               \n",
    "                   'April','December','February','January','July',\n",
    "                   'June','March','May','November','October','September',\n",
    "                   \n",
    "                   'Cntrprt23WldMV','CntrprtFxdStnry','CntrprtHvyVhcl',\n",
    "                   'CntrprtNClsn','CntrprtOther','CntrprtNMV','CntrprtCrTrkVn',\n",
    "                   'CntrprtPdlC','CntrprtPdstAnml','CntrprtTrn',\n",
    "                   \n",
    "                   'Y2014','Y2015','Y2016','Y2017','Y2018','Y2019','Y2020','Y2021',\n",
    "                   'Y2013','Y2012',\n",
    "                   'CovidPrd']]\n",
    "\n",
    "\n",
    "\n",
    "\n",
    "y = filtered_data5['Hsptlsns']\n",
    "x_train, x_test, y_train, y_test = train_test_split(X, y, test_size=0.3,random_state=42)\n",
    "\n",
    "regressor = DecisionTreeRegressor(criterion='poisson')\n",
    "regressor.fit(x_train, y_train)\n",
    "\n",
    "predictions = regressor.predict(x_test)\n",
    "\n",
    "mse = mean_squared_error(y_test, predictions)\n",
    "mae = mean_absolute_error(y_test, predictions)\n",
    "r2 = r2_score(y_test, predictions)\n",
    "\n",
    "print(\"Mean Squared Error (MSE):\", mse)\n",
    "print(\"Mean Absolute Error (MAE):\", mae)\n",
    "print(\"R-squared (R2):\", r2)"
   ]
  },
  {
   "cell_type": "code",
   "execution_count": 26,
   "id": "872f6b35",
   "metadata": {},
   "outputs": [
    {
     "name": "stdout",
     "output_type": "stream",
     "text": [
      "Mean Squared Error (MSE): 14.179722377232142\n",
      "Mean Absolute Error (MAE): 2.2866908482142856\n",
      "R-squared (R2): 0.3408692847992083\n"
     ]
    }
   ],
   "source": [
    "mean_y = np.mean(y)\n",
    "std_y = np.std(y)\n",
    "outlier_threshold_high = mean_y + 3 * std_y\n",
    "outlier_threshold_low = mean_y - 3 * std_y\n",
    "\n",
    "mask = (y > outlier_threshold_low) & (y < outlier_threshold_high)\n",
    "\n",
    "X_filtered = X[mask]\n",
    "y_filtered = y[mask]\n",
    "\n",
    "x_train, x_test, y_train, y_test = train_test_split(X_filtered, y_filtered, test_size=0.3,random_state=42)\n",
    "\n",
    "xregressor = DecisionTreeRegressor(criterion='poisson')\n",
    "regressor.fit(x_train, y_train)\n",
    "\n",
    "predictions = regressor.predict(x_test)\n",
    "\n",
    "mse = mean_squared_error(y_test, predictions)\n",
    "mae = mean_absolute_error(y_test, predictions)\n",
    "r2 = r2_score(y_test, predictions)\n",
    "\n",
    "print(\"Mean Squared Error (MSE):\", mse)\n",
    "print(\"Mean Absolute Error (MAE):\", mae)\n",
    "print(\"R-squared (R2):\", r2)"
   ]
  },
  {
   "cell_type": "code",
   "execution_count": 27,
   "id": "ec2a2ee0",
   "metadata": {},
   "outputs": [
    {
     "data": {
      "image/png": "[encoded data removed]",
      "text/plain": [
       "<Figure size 500x500 with 1 Axes>"
      ]
     },
     "metadata": {},
     "output_type": "display_data"
    }
   ],
   "source": [
    "fig, ax = plt.subplots(figsize=(5, 5))\n",
    "\n",
    "_ = ax.scatter(y_test, predictions)"
   ]
  },
  {
   "cell_type": "code",
   "execution_count": null,
   "id": "fb5d6512",
   "metadata": {},
   "outputs": [],
   "source": []
  }
 ],
 "metadata": {
  "kernelspec": {
   "display_name": "Python 3 (ipykernel)",
   "language": "python",
   "name": "python3"
  },
  "language_info": {
   "codemirror_mode": {
    "name": "ipython",
    "version": 3
   },
   "file_extension": ".py",
   "mimetype": "text/x-python",
   "name": "python",
   "nbconvert_exporter": "python",
   "pygments_lexer": "ipython3",
   "version": "3.9.13"
  }
 },
 "nbformat": 4,
 "nbformat_minor": 5
}
