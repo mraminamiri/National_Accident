{
 "cells": [
  {
   "cell_type": "code",
   "execution_count": 1,
   "id": "854c1d0a",
   "metadata": {},
   "outputs": [],
   "source": [
    "import pandas as pd\n",
    "import numpy as np \n",
    "import matplotlib.pyplot as plt\n",
    "import seaborn as sns\n",
    "import seaborn as sns\n",
    "import matplotlib.pyplot as plt\n",
    "from sklearn.cluster import KMeans\n",
    "from sklearn.preprocessing import StandardScaler, LabelEncoder\n",
    "from sklearn.cluster import KMeans\n",
    "from sklearn.model_selection import train_test_split\n",
    "from sklearn.ensemble import RandomForestClassifier\n",
    "from sklearn.metrics import accuracy_score, classification_report\n",
    "from sklearn.metrics import confusion_matrix\n",
    "from sklearn.linear_model import LogisticRegression\n",
    "from sklearn.model_selection import train_test_split\n",
    "from sklearn.tree import DecisionTreeClassifier\n",
    "from sklearn.metrics import accuracy_score, classification_report, confusion_matrix\n",
    "import matplotlib.pyplot as plt\n",
    "import seaborn as sns\n",
    "from sklearn.linear_model import LinearRegression\n",
    "from sklearn.model_selection import train_test_split\n",
    "from sklearn.metrics import mean_squared_error, r2_score\n",
    "import numpy as np"
   ]
  },
  {
   "cell_type": "code",
   "execution_count": 2,
   "id": "940bb610",
   "metadata": {},
   "outputs": [],
   "source": [
    "data = pd.read_csv('final_with_covid_AS.csv')\n"
   ]
  },
  {
   "cell_type": "code",
   "execution_count": 3,
   "id": "0e4550e2",
   "metadata": {},
   "outputs": [
    {
     "name": "stdout",
     "output_type": "stream",
     "text": [
      "<class 'pandas.core.frame.DataFrame'>\n",
      "Int64Index: 12582 entries, 11 to 54025\n",
      "Data columns (total 58 columns):\n",
      " #   Column           Non-Null Count  Dtype  \n",
      "---  ------           --------------  -----  \n",
      " 0   CountCases       12582 non-null  int64  \n",
      " 1   BedDys           12582 non-null  int64  \n",
      " 2   BeddystoCC       12582 non-null  float64\n",
      " 3   Severity         12582 non-null  int64  \n",
      " 4   DiedCases        12582 non-null  int64  \n",
      " 5   DiedBdDys        12582 non-null  int64  \n",
      " 6   Hsptlsns         12582 non-null  int64  \n",
      " 7   April            12582 non-null  int64  \n",
      " 8   August           12582 non-null  int64  \n",
      " 9   December         12582 non-null  int64  \n",
      " 10  February         12582 non-null  int64  \n",
      " 11  January          12582 non-null  int64  \n",
      " 12  July             12582 non-null  int64  \n",
      " 13  June             12582 non-null  int64  \n",
      " 14  March            12582 non-null  int64  \n",
      " 15  May              12582 non-null  int64  \n",
      " 16  November         12582 non-null  int64  \n",
      " 17  October          12582 non-null  int64  \n",
      " 18  September        12582 non-null  int64  \n",
      " 19  MajorCities      12582 non-null  int64  \n",
      " 20  Regional         12582 non-null  int64  \n",
      " 21  Female           12582 non-null  int64  \n",
      " 22  Male             12582 non-null  int64  \n",
      " 23  Age07            12582 non-null  int64  \n",
      " 24  Age816           12582 non-null  int64  \n",
      " 25  Age1725          12582 non-null  int64  \n",
      " 26  Age2639          12582 non-null  int64  \n",
      " 27  Age4064          12582 non-null  int64  \n",
      " 28  Age6574          12582 non-null  int64  \n",
      " 29  Age75plus        12582 non-null  int64  \n",
      " 30  CarDriver        12582 non-null  int64  \n",
      " 31  CarPngr          12582 non-null  int64  \n",
      " 32  Mtrcyclist       12582 non-null  int64  \n",
      " 33  PdlCyclist       12582 non-null  int64  \n",
      " 34  Pedestrian       12582 non-null  int64  \n",
      " 35  Cntrprt23WldMV   12582 non-null  int64  \n",
      " 36  CntrprtCrTrkVn   12582 non-null  int64  \n",
      " 37  CntrprtFxdStnry  12582 non-null  int64  \n",
      " 38  CntrprtHvyVhcl   12582 non-null  int64  \n",
      " 39  CntrprtNClsn     12582 non-null  int64  \n",
      " 40  CntrprtNA        12582 non-null  int64  \n",
      " 41  CntrprtOther     12582 non-null  int64  \n",
      " 42  CntrprtNMV       12582 non-null  int64  \n",
      " 43  CntrprtPdlC      12582 non-null  int64  \n",
      " 44  CntrprtPdstAnml  12582 non-null  int64  \n",
      " 45  CntrprtTrn       12582 non-null  int64  \n",
      " 46  Y2011            12582 non-null  int64  \n",
      " 47  Y2012            12582 non-null  int64  \n",
      " 48  Y2013            12582 non-null  int64  \n",
      " 49  Y2014            12582 non-null  int64  \n",
      " 50  Y2015            12582 non-null  int64  \n",
      " 51  Y2016            12582 non-null  int64  \n",
      " 52  Y2017            12582 non-null  int64  \n",
      " 53  Y2018            12582 non-null  int64  \n",
      " 54  Y2019            12582 non-null  int64  \n",
      " 55  Y2020            12582 non-null  int64  \n",
      " 56  Y2021            12582 non-null  int64  \n",
      " 57  CovidPrd         12582 non-null  int64  \n",
      "dtypes: float64(1), int64(57)\n",
      "memory usage: 5.7 MB\n"
     ]
    }
   ],
   "source": [
    "filtered_data = data[data['CarDriver'] == 1]\n",
    "filtered_data.info()\n"
   ]
  },
  {
   "cell_type": "markdown",
   "id": "7dbbb90b",
   "metadata": {},
   "source": [
    "# SEX"
   ]
  },
  {
   "cell_type": "code",
   "execution_count": 4,
   "id": "fcce7bfb",
   "metadata": {},
   "outputs": [
    {
     "data": {
      "image/png": "[encoded data removed]",
      "text/plain": [
       "<Figure size 700x700 with 1 Axes>"
      ]
     },
     "metadata": {},
     "output_type": "display_data"
    }
   ],
   "source": [
    "import pandas as pd\n",
    "import matplotlib.pyplot as plt\n",
    "\n",
    "\n",
    "num_female = filtered_data['Female'].sum()\n",
    "num_male = filtered_data['Male'].sum()\n",
    "\n",
    "labels = ['Female', 'Male']\n",
    "\n",
    "sizes = [num_female, num_male]\n",
    "\n",
    "colors = ['#ff9999','#66b3ff']\n",
    "\n",
    "plt.figure(figsize=(7,7))\n",
    "plt.pie(sizes, colors = colors, labels=labels, autopct='%1.1f%%', startangle=90)\n",
    "\n",
    "plt.title('Gender Distribution')\n",
    "\n",
    "plt.show()\n"
   ]
  },
  {
   "cell_type": "markdown",
   "id": "3a5779ba",
   "metadata": {},
   "source": [
    "# location"
   ]
  },
  {
   "cell_type": "code",
   "execution_count": 6,
   "id": "5a7578fa",
   "metadata": {},
   "outputs": [
    {
     "data": {
      "image/png": "[encoded data removed]",
      "text/plain": [
       "<Figure size 700x700 with 1 Axes>"
      ]
     },
     "metadata": {},
     "output_type": "display_data"
    }
   ],
   "source": [
    "num_major_cities = filtered_data['MajorCities'].sum()\n",
    "num_regional = filtered_data['Regional'].sum()\n",
    "\n",
    "labels = ['MajorCities', 'Regional']\n",
    "\n",
    "sizes = [num_major_cities, num_regional]\n",
    "\n",
    "colors = ['#ff9999','#66b3ff']\n",
    "\n",
    "plt.figure(figsize=(7,7))\n",
    "plt.pie(sizes, colors=colors, labels=labels, autopct='%1.2f%%', startangle=90)\n",
    "\n",
    "plt.title('Distribution of Major Cities and Regional')\n",
    "\n",
    "plt.show()\n"
   ]
  },
  {
   "cell_type": "markdown",
   "id": "7333f4d7",
   "metadata": {},
   "source": [
    "# counterparty"
   ]
  },
  {
   "cell_type": "code",
   "execution_count": 7,
   "id": "fa62a50f",
   "metadata": {},
   "outputs": [
    {
     "name": "stdout",
     "output_type": "stream",
     "text": [
      "CntrprtCrTrkVn     2807\n",
      "CntrprtFxdStnry    2792\n",
      "CntrprtNClsn       2572\n",
      "CntrprtHvyVhcl     2066\n",
      "CntrprtOther       1094\n",
      "dtype: int64\n"
     ]
    }
   ],
   "source": [
    "import pandas as pd\n",
    "\n",
    "\n",
    "columns_of_interest = filtered_data.iloc[:, 35:46]\n",
    "\n",
    "column_sums = columns_of_interest.sum()\n",
    "\n",
    "sorted_columns = column_sums.sort_values(ascending=False)\n",
    "\n",
    "top_5_columns = sorted_columns.head(5)\n",
    "\n",
    "print(top_5_columns)\n"
   ]
  },
  {
   "cell_type": "markdown",
   "id": "013cd75f",
   "metadata": {},
   "source": [
    "# count cases"
   ]
  },
  {
   "cell_type": "code",
   "execution_count": 8,
   "id": "2d042052",
   "metadata": {},
   "outputs": [
    {
     "name": "stdout",
     "output_type": "stream",
     "text": [
      "Total number of cases: 129903\n"
     ]
    }
   ],
   "source": [
    "total_cases = filtered_data['CountCases'].sum()\n",
    "\n",
    "print(\"Total number of cases:\", total_cases)"
   ]
  },
  {
   "cell_type": "markdown",
   "id": "ec0027c5",
   "metadata": {},
   "source": [
    "# hospitalis"
   ]
  },
  {
   "cell_type": "code",
   "execution_count": 9,
   "id": "722458cf",
   "metadata": {},
   "outputs": [
    {
     "name": "stdout",
     "output_type": "stream",
     "text": [
      "Total number of Hsptlsns: 129270\n"
     ]
    }
   ],
   "source": [
    "total_cases = filtered_data['Hsptlsns'].sum()\n",
    "\n",
    "print(\"Total number of Hsptlsns:\", total_cases)"
   ]
  },
  {
   "cell_type": "markdown",
   "id": "7645ea0f",
   "metadata": {},
   "source": [
    "# Died cases"
   ]
  },
  {
   "cell_type": "code",
   "execution_count": 10,
   "id": "bac12360",
   "metadata": {},
   "outputs": [
    {
     "name": "stdout",
     "output_type": "stream",
     "text": [
      "Total number of DiedCases: 633\n"
     ]
    }
   ],
   "source": [
    "total_cases = filtered_data['DiedCases'].sum()\n",
    "\n",
    "print(\"Total number of DiedCases:\", total_cases)"
   ]
  },
  {
   "cell_type": "markdown",
   "id": "c0efdf5b",
   "metadata": {},
   "source": [
    "# Age group"
   ]
  },
  {
   "cell_type": "code",
   "execution_count": 12,
   "id": "c675b919",
   "metadata": {},
   "outputs": [
    {
     "name": "stdout",
     "output_type": "stream",
     "text": [
      "Age4064      2815\n",
      "Age2639      2636\n",
      "Age1725      2547\n",
      "Age75plus    2054\n",
      "Age6574      2025\n",
      "dtype: int64\n"
     ]
    }
   ],
   "source": [
    "import pandas as pd\n",
    "\n",
    "\n",
    "columns_of_interest = filtered_data.iloc[:, 23:30]\n",
    "\n",
    "column_sums = columns_of_interest.sum()\n",
    "\n",
    "sorted_columns = column_sums.sort_values(ascending=False)\n",
    "\n",
    "top_5_columns = sorted_columns.head(5)\n",
    "\n",
    "print(top_5_columns)\n"
   ]
  },
  {
   "cell_type": "markdown",
   "id": "fea72fe4",
   "metadata": {},
   "source": [
    "\n",
    "# NEXT ROAD USER"
   ]
  },
  {
   "cell_type": "markdown",
   "id": "433db53b",
   "metadata": {},
   "source": [
    "# Car Passanger"
   ]
  },
  {
   "cell_type": "code",
   "execution_count": 13,
   "id": "beaf39c1",
   "metadata": {},
   "outputs": [
    {
     "name": "stdout",
     "output_type": "stream",
     "text": [
      "<class 'pandas.core.frame.DataFrame'>\n",
      "Int64Index: 11789 entries, 33 to 54030\n",
      "Data columns (total 58 columns):\n",
      " #   Column           Non-Null Count  Dtype  \n",
      "---  ------           --------------  -----  \n",
      " 0   CountCases       11789 non-null  int64  \n",
      " 1   BedDys           11789 non-null  int64  \n",
      " 2   BeddystoCC       11789 non-null  float64\n",
      " 3   Severity         11789 non-null  int64  \n",
      " 4   DiedCases        11789 non-null  int64  \n",
      " 5   DiedBdDys        11789 non-null  int64  \n",
      " 6   Hsptlsns         11789 non-null  int64  \n",
      " 7   April            11789 non-null  int64  \n",
      " 8   August           11789 non-null  int64  \n",
      " 9   December         11789 non-null  int64  \n",
      " 10  February         11789 non-null  int64  \n",
      " 11  January          11789 non-null  int64  \n",
      " 12  July             11789 non-null  int64  \n",
      " 13  June             11789 non-null  int64  \n",
      " 14  March            11789 non-null  int64  \n",
      " 15  May              11789 non-null  int64  \n",
      " 16  November         11789 non-null  int64  \n",
      " 17  October          11789 non-null  int64  \n",
      " 18  September        11789 non-null  int64  \n",
      " 19  MajorCities      11789 non-null  int64  \n",
      " 20  Regional         11789 non-null  int64  \n",
      " 21  Female           11789 non-null  int64  \n",
      " 22  Male             11789 non-null  int64  \n",
      " 23  Age07            11789 non-null  int64  \n",
      " 24  Age816           11789 non-null  int64  \n",
      " 25  Age1725          11789 non-null  int64  \n",
      " 26  Age2639          11789 non-null  int64  \n",
      " 27  Age4064          11789 non-null  int64  \n",
      " 28  Age6574          11789 non-null  int64  \n",
      " 29  Age75plus        11789 non-null  int64  \n",
      " 30  CarDriver        11789 non-null  int64  \n",
      " 31  CarPngr          11789 non-null  int64  \n",
      " 32  Mtrcyclist       11789 non-null  int64  \n",
      " 33  PdlCyclist       11789 non-null  int64  \n",
      " 34  Pedestrian       11789 non-null  int64  \n",
      " 35  Cntrprt23WldMV   11789 non-null  int64  \n",
      " 36  CntrprtCrTrkVn   11789 non-null  int64  \n",
      " 37  CntrprtFxdStnry  11789 non-null  int64  \n",
      " 38  CntrprtHvyVhcl   11789 non-null  int64  \n",
      " 39  CntrprtNClsn     11789 non-null  int64  \n",
      " 40  CntrprtNA        11789 non-null  int64  \n",
      " 41  CntrprtOther     11789 non-null  int64  \n",
      " 42  CntrprtNMV       11789 non-null  int64  \n",
      " 43  CntrprtPdlC      11789 non-null  int64  \n",
      " 44  CntrprtPdstAnml  11789 non-null  int64  \n",
      " 45  CntrprtTrn       11789 non-null  int64  \n",
      " 46  Y2011            11789 non-null  int64  \n",
      " 47  Y2012            11789 non-null  int64  \n",
      " 48  Y2013            11789 non-null  int64  \n",
      " 49  Y2014            11789 non-null  int64  \n",
      " 50  Y2015            11789 non-null  int64  \n",
      " 51  Y2016            11789 non-null  int64  \n",
      " 52  Y2017            11789 non-null  int64  \n",
      " 53  Y2018            11789 non-null  int64  \n",
      " 54  Y2019            11789 non-null  int64  \n",
      " 55  Y2020            11789 non-null  int64  \n",
      " 56  Y2021            11789 non-null  int64  \n",
      " 57  CovidPrd         11789 non-null  int64  \n",
      "dtypes: float64(1), int64(57)\n",
      "memory usage: 5.3 MB\n"
     ]
    }
   ],
   "source": [
    "filtered_data= data[data['CarPngr'] == 1]\n",
    "filtered_data.info()\n"
   ]
  },
  {
   "cell_type": "markdown",
   "id": "cff1a345",
   "metadata": {},
   "source": [
    "# SEX"
   ]
  },
  {
   "cell_type": "code",
   "execution_count": 14,
   "id": "0bb8c2cf",
   "metadata": {},
   "outputs": [
    {
     "data": {
      "image/png": "[encoded data removed]",
      "text/plain": [
       "<Figure size 700x700 with 1 Axes>"
      ]
     },
     "metadata": {},
     "output_type": "display_data"
    }
   ],
   "source": [
    "import pandas as pd\n",
    "import matplotlib.pyplot as plt\n",
    "\n",
    "\n",
    "num_female = filtered_data['Female'].sum()\n",
    "num_male = filtered_data['Male'].sum()\n",
    "\n",
    "labels = ['Female', 'Male']\n",
    "\n",
    "sizes = [num_female, num_male]\n",
    "\n",
    "colors = ['#ff9999','#66b3ff']\n",
    "\n",
    "plt.figure(figsize=(7,7))\n",
    "plt.pie(sizes, colors = colors, labels=labels, autopct='%1.1f%%', startangle=90)\n",
    "\n",
    "plt.title('Gender Distribution')\n",
    "\n",
    "plt.show()\n"
   ]
  },
  {
   "cell_type": "code",
   "execution_count": null,
   "id": "f9f4333b",
   "metadata": {},
   "outputs": [],
   "source": []
  }
 ],
 "metadata": {
  "kernelspec": {
   "display_name": "Python 3 (ipykernel)",
   "language": "python",
   "name": "python3"
  },
  "language_info": {
   "codemirror_mode": {
    "name": "ipython",
    "version": 3
   },
   "file_extension": ".py",
   "mimetype": "text/x-python",
   "name": "python",
   "nbconvert_exporter": "python",
   "pygments_lexer": "ipython3",
   "version": "3.9.13"
  }
 },
 "nbformat": 4,
 "nbformat_minor": 5
}
