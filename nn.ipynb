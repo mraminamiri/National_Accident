{
  "cells": [
    {
      "cell_type": "code",
      "execution_count": null,
      "metadata": {
        "id": "WpX8QwH6gJ3F"
      },
      "outputs": [],
      "source": [
        "import pandas as pd\n",
        "import numpy as np\n",
        "import matplotlib.pyplot as plt\n",
        "import seaborn as sns\n",
        "import seaborn as sns\n",
        "import matplotlib.pyplot as plt\n",
        "from sklearn.cluster import KMeans\n",
        "from sklearn.preprocessing import StandardScaler, LabelEncoder\n",
        "from sklearn.cluster import KMeans\n",
        "from sklearn.model_selection import train_test_split\n",
        "from sklearn.ensemble import RandomForestClassifier\n",
        "from sklearn.metrics import accuracy_score, classification_report\n",
        "from sklearn.metrics import confusion_matrix\n",
        "from sklearn.linear_model import LogisticRegression\n",
        "from sklearn.model_selection import train_test_split\n",
        "from sklearn.tree import DecisionTreeClassifier\n",
        "from sklearn.metrics import accuracy_score, classification_report, confusion_matrix\n",
        "import matplotlib.pyplot as plt\n",
        "import seaborn as sns\n",
        "from sklearn.linear_model import LinearRegression\n",
        "from sklearn.model_selection import train_test_split\n",
        "from sklearn.metrics import mean_squared_error, r2_score\n",
        "import numpy as np\n",
        "import pandas as pd\n",
        "import numpy as np\n",
        "import seaborn as sns\n",
        "from sklearn.preprocessing import StandardScaler\n",
        "from sklearn.model_selection import train_test_split\n",
        "from sklearn.metrics import accuracy_score\n",
        "from sklearn.tree import DecisionTreeClassifier\n",
        "from sklearn.linear_model import LogisticRegression\n",
        "from sklearn.metrics import precision_score,recall_score,f1_score\n",
        "from sklearn.metrics import confusion_matrix\n",
        "import tensorflow as tf\n",
        "import tensorflow\n",
        "from tensorflow import keras\n",
        "from keras.layers import Dense"
      ]
    },
    {
      "cell_type": "code",
      "execution_count": null,
      "metadata": {
        "colab": {
          "background_save": true
        },
        "id": "HESht28lgUU7"
      },
      "outputs": [],
      "source": [
        "data = pd.read_excel(\"National_Accidents_Australia.xlsx\")"
      ]
    },
    {
      "cell_type": "code",
      "execution_count": null,
      "metadata": {
        "colab": {
          "background_save": true
        },
        "id": "DUxikAGegcwg"
      },
      "outputs": [],
      "source": [
        "label_encoder = LabelEncoder()\n",
        "data['Month'] = label_encoder.fit_transform(data['Month'])\n",
        "data['ABS remoteness area'] = label_encoder.fit_transform(data['ABS remoteness area'])\n",
        "data['Cause of injury'] = label_encoder.fit_transform(data['Cause of injury'])\n",
        "data['Age group'] = label_encoder.fit_transform(data['Age group'])\n",
        "data['Sex'] = label_encoder.fit_transform(data['Sex'])\n",
        "data['Road user'] = label_encoder.fit_transform(data['Road user'])\n",
        "data['Counterparty'] = label_encoder.fit_transform(data['Counterparty'])\n"
      ]
    },
    {
      "cell_type": "code",
      "execution_count": null,
      "metadata": {
        "colab": {
          "background_save": true,
          "base_uri": "https://localhost:8080/",
          "height": 221
        },
        "id": "iuEtDOsKggsl",
        "outputId": "704e6314-7433-4739-91cb-337aa7361994"
      },
      "outputs": [
        {
          "data": {
            "text/html": [
              "\n",
              "  <div id=\"df-75d1390e-7316-4083-bb14-ce16b4189115\" class=\"colab-df-container\">\n",
              "    <div>\n",
              "<style scoped>\n",
              "    .dataframe tbody tr th:only-of-type {\n",
              "        vertical-align: middle;\n",
              "    }\n",
              "\n",
              "    .dataframe tbody tr th {\n",
              "        vertical-align: top;\n",
              "    }\n",
              "\n",
              "    .dataframe thead th {\n",
              "        text-align: right;\n",
              "    }\n",
              "</style>\n",
              "<table border=\"1\" class=\"dataframe\">\n",
              "  <thead>\n",
              "    <tr style=\"text-align: right;\">\n",
              "      <th></th>\n",
              "      <th>Calendar year</th>\n",
              "      <th>Month</th>\n",
              "      <th>ABS remoteness area</th>\n",
              "      <th>Cause of injury</th>\n",
              "      <th>Age group</th>\n",
              "      <th>Sex</th>\n",
              "      <th>Road user</th>\n",
              "      <th>Counterparty</th>\n",
              "      <th>Count of cases</th>\n",
              "      <th>Bed days</th>\n",
              "      <th>Died_cases</th>\n",
              "      <th>Died_bed_days</th>\n",
              "      <th>Hospitalisations</th>\n",
              "    </tr>\n",
              "  </thead>\n",
              "  <tbody>\n",
              "    <tr>\n",
              "      <th>0</th>\n",
              "      <td>2011</td>\n",
              "      <td>0</td>\n",
              "      <td>0</td>\n",
              "      <td>0</td>\n",
              "      <td>0</td>\n",
              "      <td>0</td>\n",
              "      <td>8</td>\n",
              "      <td>5</td>\n",
              "      <td>765.0</td>\n",
              "      <td>1007</td>\n",
              "      <td>0.0</td>\n",
              "      <td>0.0</td>\n",
              "      <td>765</td>\n",
              "    </tr>\n",
              "    <tr>\n",
              "      <th>1</th>\n",
              "      <td>2011</td>\n",
              "      <td>0</td>\n",
              "      <td>0</td>\n",
              "      <td>0</td>\n",
              "      <td>0</td>\n",
              "      <td>1</td>\n",
              "      <td>8</td>\n",
              "      <td>5</td>\n",
              "      <td>1010.0</td>\n",
              "      <td>1694</td>\n",
              "      <td>0.0</td>\n",
              "      <td>0.0</td>\n",
              "      <td>1010</td>\n",
              "    </tr>\n",
              "    <tr>\n",
              "      <th>2</th>\n",
              "      <td>2011</td>\n",
              "      <td>0</td>\n",
              "      <td>0</td>\n",
              "      <td>0</td>\n",
              "      <td>1</td>\n",
              "      <td>0</td>\n",
              "      <td>8</td>\n",
              "      <td>5</td>\n",
              "      <td>859.0</td>\n",
              "      <td>1597</td>\n",
              "      <td>0.0</td>\n",
              "      <td>0.0</td>\n",
              "      <td>859</td>\n",
              "    </tr>\n",
              "    <tr>\n",
              "      <th>3</th>\n",
              "      <td>2011</td>\n",
              "      <td>0</td>\n",
              "      <td>0</td>\n",
              "      <td>0</td>\n",
              "      <td>1</td>\n",
              "      <td>1</td>\n",
              "      <td>8</td>\n",
              "      <td>5</td>\n",
              "      <td>2231.0</td>\n",
              "      <td>3878</td>\n",
              "      <td>2.0</td>\n",
              "      <td>3.0</td>\n",
              "      <td>2229</td>\n",
              "    </tr>\n",
              "    <tr>\n",
              "      <th>4</th>\n",
              "      <td>2011</td>\n",
              "      <td>0</td>\n",
              "      <td>0</td>\n",
              "      <td>0</td>\n",
              "      <td>2</td>\n",
              "      <td>0</td>\n",
              "      <td>8</td>\n",
              "      <td>5</td>\n",
              "      <td>1098.0</td>\n",
              "      <td>2347</td>\n",
              "      <td>1.0</td>\n",
              "      <td>14.0</td>\n",
              "      <td>1097</td>\n",
              "    </tr>\n",
              "  </tbody>\n",
              "</table>\n",
              "</div>\n",
              "    <div class=\"colab-df-buttons\">\n",
              "\n",
              "  <div class=\"colab-df-container\">\n",
              "    <button class=\"colab-df-convert\" onclick=\"convertToInteractive('df-75d1390e-7316-4083-bb14-ce16b4189115')\"\n",
              "            title=\"Convert this dataframe to an interactive table.\"\n",
              "            style=\"display:none;\">\n",
              "\n",
              "  <svg xmlns=\"http://www.w3.org/2000/svg\" height=\"24px\" viewBox=\"0 -960 960 960\">\n",
              "    <path d=\"M120-120v-720h720v720H120Zm60-500h600v-160H180v160Zm220 220h160v-160H400v160Zm0 220h160v-160H400v160ZM180-400h160v-160H180v160Zm440 0h160v-160H620v160ZM180-180h160v-160H180v160Zm440 0h160v-160H620v160Z\"/>\n",
              "  </svg>\n",
              "    </button>\n",
              "\n",
              "  <style>\n",
              "    .colab-df-container {\n",
              "      display:flex;\n",
              "      gap: 12px;\n",
              "    }\n",
              "\n",
              "    .colab-df-convert {\n",
              "      background-color: #E8F0FE;\n",
              "      border: none;\n",
              "      border-radius: 50%;\n",
              "      cursor: pointer;\n",
              "      display: none;\n",
              "      fill: #1967D2;\n",
              "      height: 32px;\n",
              "      padding: 0 0 0 0;\n",
              "      width: 32px;\n",
              "    }\n",
              "\n",
              "    .colab-df-convert:hover {\n",
              "      background-color: #E2EBFA;\n",
              "      box-shadow: 0px 1px 2px rgba(60, 64, 67, 0.3), 0px 1px 3px 1px rgba(60, 64, 67, 0.15);\n",
              "      fill: #174EA6;\n",
              "    }\n",
              "\n",
              "    .colab-df-buttons div {\n",
              "      margin-bottom: 4px;\n",
              "    }\n",
              "\n",
              "    [theme=dark] .colab-df-convert {\n",
              "      background-color: #3B4455;\n",
              "      fill: #D2E3FC;\n",
              "    }\n",
              "\n",
              "    [theme=dark] .colab-df-convert:hover {\n",
              "      background-color: #434B5C;\n",
              "      box-shadow: 0px 1px 3px 1px rgba(0, 0, 0, 0.15);\n",
              "      filter: drop-shadow(0px 1px 2px rgba(0, 0, 0, 0.3));\n",
              "      fill: #FFFFFF;\n",
              "    }\n",
              "  </style>\n",
              "\n",
              "    <script>\n",
              "      const buttonEl =\n",
              "        document.querySelector('#df-75d1390e-7316-4083-bb14-ce16b4189115 button.colab-df-convert');\n",
              "      buttonEl.style.display =\n",
              "        google.colab.kernel.accessAllowed ? 'block' : 'none';\n",
              "\n",
              "      async function convertToInteractive(key) {\n",
              "        const element = document.querySelector('#df-75d1390e-7316-4083-bb14-ce16b4189115');\n",
              "        const dataTable =\n",
              "          await google.colab.kernel.invokeFunction('convertToInteractive',\n",
              "                                                    [key], {});\n",
              "        if (!dataTable) return;\n",
              "\n",
              "        const docLinkHtml = 'Like what you see? Visit the ' +\n",
              "          '<a target=\"_blank\" href=https://colab.research.google.com/notebooks/data_table.ipynb>data table notebook</a>'\n",
              "          + ' to learn more about interactive tables.';\n",
              "        element.innerHTML = '';\n",
              "        dataTable['output_type'] = 'display_data';\n",
              "        await google.colab.output.renderOutput(dataTable, element);\n",
              "        const docLink = document.createElement('div');\n",
              "        docLink.innerHTML = docLinkHtml;\n",
              "        element.appendChild(docLink);\n",
              "      }\n",
              "    </script>\n",
              "  </div>\n",
              "\n",
              "\n",
              "<div id=\"df-1d5f9ea2-fd6e-4e5c-8973-dd641262711b\">\n",
              "  <button class=\"colab-df-quickchart\" onclick=\"quickchart('df-1d5f9ea2-fd6e-4e5c-8973-dd641262711b')\"\n",
              "            title=\"Suggest charts\"\n",
              "            style=\"display:none;\">\n",
              "\n",
              "<svg xmlns=\"http://www.w3.org/2000/svg\" height=\"24px\"viewBox=\"0 0 24 24\"\n",
              "     width=\"24px\">\n",
              "    <g>\n",
              "        <path d=\"M19 3H5c-1.1 0-2 .9-2 2v14c0 1.1.9 2 2 2h14c1.1 0 2-.9 2-2V5c0-1.1-.9-2-2-2zM9 17H7v-7h2v7zm4 0h-2V7h2v10zm4 0h-2v-4h2v4z\"/>\n",
              "    </g>\n",
              "</svg>\n",
              "  </button>\n",
              "\n",
              "<style>\n",
              "  .colab-df-quickchart {\n",
              "      --bg-color: #E8F0FE;\n",
              "      --fill-color: #1967D2;\n",
              "      --hover-bg-color: #E2EBFA;\n",
              "      --hover-fill-color: #174EA6;\n",
              "      --disabled-fill-color: #AAA;\n",
              "      --disabled-bg-color: #DDD;\n",
              "  }\n",
              "\n",
              "  [theme=dark] .colab-df-quickchart {\n",
              "      --bg-color: #3B4455;\n",
              "      --fill-color: #D2E3FC;\n",
              "      --hover-bg-color: #434B5C;\n",
              "      --hover-fill-color: #FFFFFF;\n",
              "      --disabled-bg-color: #3B4455;\n",
              "      --disabled-fill-color: #666;\n",
              "  }\n",
              "\n",
              "  .colab-df-quickchart {\n",
              "    background-color: var(--bg-color);\n",
              "    border: none;\n",
              "    border-radius: 50%;\n",
              "    cursor: pointer;\n",
              "    display: none;\n",
              "    fill: var(--fill-color);\n",
              "    height: 32px;\n",
              "    padding: 0;\n",
              "    width: 32px;\n",
              "  }\n",
              "\n",
              "  .colab-df-quickchart:hover {\n",
              "    background-color: var(--hover-bg-color);\n",
              "    box-shadow: 0 1px 2px rgba(60, 64, 67, 0.3), 0 1px 3px 1px rgba(60, 64, 67, 0.15);\n",
              "    fill: var(--button-hover-fill-color);\n",
              "  }\n",
              "\n",
              "  .colab-df-quickchart-complete:disabled,\n",
              "  .colab-df-quickchart-complete:disabled:hover {\n",
              "    background-color: var(--disabled-bg-color);\n",
              "    fill: var(--disabled-fill-color);\n",
              "    box-shadow: none;\n",
              "  }\n",
              "\n",
              "  .colab-df-spinner {\n",
              "    border: 2px solid var(--fill-color);\n",
              "    border-color: transparent;\n",
              "    border-bottom-color: var(--fill-color);\n",
              "    animation:\n",
              "      spin 1s steps(1) infinite;\n",
              "  }\n",
              "\n",
              "  @keyframes spin {\n",
              "    0% {\n",
              "      border-color: transparent;\n",
              "      border-bottom-color: var(--fill-color);\n",
              "      border-left-color: var(--fill-color);\n",
              "    }\n",
              "    20% {\n",
              "      border-color: transparent;\n",
              "      border-left-color: var(--fill-color);\n",
              "      border-top-color: var(--fill-color);\n",
              "    }\n",
              "    30% {\n",
              "      border-color: transparent;\n",
              "      border-left-color: var(--fill-color);\n",
              "      border-top-color: var(--fill-color);\n",
              "      border-right-color: var(--fill-color);\n",
              "    }\n",
              "    40% {\n",
              "      border-color: transparent;\n",
              "      border-right-color: var(--fill-color);\n",
              "      border-top-color: var(--fill-color);\n",
              "    }\n",
              "    60% {\n",
              "      border-color: transparent;\n",
              "      border-right-color: var(--fill-color);\n",
              "    }\n",
              "    80% {\n",
              "      border-color: transparent;\n",
              "      border-right-color: var(--fill-color);\n",
              "      border-bottom-color: var(--fill-color);\n",
              "    }\n",
              "    90% {\n",
              "      border-color: transparent;\n",
              "      border-bottom-color: var(--fill-color);\n",
              "    }\n",
              "  }\n",
              "</style>\n",
              "\n",
              "  <script>\n",
              "    async function quickchart(key) {\n",
              "      const quickchartButtonEl =\n",
              "        document.querySelector('#' + key + ' button');\n",
              "      quickchartButtonEl.disabled = true;  // To prevent multiple clicks.\n",
              "      quickchartButtonEl.classList.add('colab-df-spinner');\n",
              "      try {\n",
              "        const charts = await google.colab.kernel.invokeFunction(\n",
              "            'suggestCharts', [key], {});\n",
              "      } catch (error) {\n",
              "        console.error('Error during call to suggestCharts:', error);\n",
              "      }\n",
              "      quickchartButtonEl.classList.remove('colab-df-spinner');\n",
              "      quickchartButtonEl.classList.add('colab-df-quickchart-complete');\n",
              "    }\n",
              "    (() => {\n",
              "      let quickchartButtonEl =\n",
              "        document.querySelector('#df-1d5f9ea2-fd6e-4e5c-8973-dd641262711b button');\n",
              "      quickchartButtonEl.style.display =\n",
              "        google.colab.kernel.accessAllowed ? 'block' : 'none';\n",
              "    })();\n",
              "  </script>\n",
              "</div>\n",
              "    </div>\n",
              "  </div>\n"
            ],
            "text/plain": [
              "   Calendar year  Month  ABS remoteness area  Cause of injury  Age group  Sex  \\\n",
              "0           2011      0                    0                0          0    0   \n",
              "1           2011      0                    0                0          0    1   \n",
              "2           2011      0                    0                0          1    0   \n",
              "3           2011      0                    0                0          1    1   \n",
              "4           2011      0                    0                0          2    0   \n",
              "\n",
              "   Road user  Counterparty  Count of cases  Bed days  Died_cases  \\\n",
              "0          8             5           765.0      1007         0.0   \n",
              "1          8             5          1010.0      1694         0.0   \n",
              "2          8             5           859.0      1597         0.0   \n",
              "3          8             5          2231.0      3878         2.0   \n",
              "4          8             5          1098.0      2347         1.0   \n",
              "\n",
              "   Died_bed_days  Hospitalisations  \n",
              "0            0.0               765  \n",
              "1            0.0              1010  \n",
              "2            0.0               859  \n",
              "3            3.0              2229  \n",
              "4           14.0              1097  "
            ]
          },
          "execution_count": 4,
          "metadata": {},
          "output_type": "execute_result"
        }
      ],
      "source": [
        "data['Died_cases'].fillna(0, inplace=True)\n",
        "\n",
        "data['Died_bed_days'].fillna(0, inplace=True)\n",
        "\n",
        "data.dropna(subset=['Count of cases'], inplace=True)\n",
        "\n",
        "\n",
        "data.head()"
      ]
    },
    {
      "cell_type": "code",
      "execution_count": null,
      "metadata": {
        "colab": {
          "background_save": true,
          "base_uri": "https://localhost:8080/"
        },
        "id": "KvMAN2Pigmwo",
        "outputId": "24fd4235-02ea-4101-aa23-e1de22af835d"
      },
      "outputs": [
        {
          "data": {
            "text/plain": [
              "0    74918\n",
              "1    38064\n",
              "Name: Bed_days_category, dtype: int64"
            ]
          },
          "execution_count": 5,
          "metadata": {},
          "output_type": "execute_result"
        }
      ],
      "source": [
        "data['Bed_days_category'] = np.where(data['Bed days'] >= 30, 1, 0)\n",
        "data['Bed_days_category'].value_counts()"
      ]
    },
    {
      "cell_type": "markdown",
      "metadata": {
        "id": "hSkGldMTn4oe"
      },
      "source": [
        "**Learn With Perceptron CLASSIFICATION Normaly  :**"
      ]
    },
    {
      "cell_type": "code",
      "execution_count": null,
      "metadata": {
        "colab": {
          "background_save": true
        },
        "id": "Sfb5PeUkgrt1"
      },
      "outputs": [],
      "source": [
        "X = data[['ABS remoteness area','Age group','Sex','Road user','Cause of injury']]\n",
        "y = data['Bed_days_category']\n",
        "X_train, X_test, y_train, y_test = train_test_split(X, y, test_size=0.3, random_state=42)\n",
        "\n"
      ]
    },
    {
      "cell_type": "code",
      "execution_count": null,
      "metadata": {
        "id": "557TXUBVkxr0"
      },
      "outputs": [],
      "source": [
        "from tensorflow.keras.models import Sequential\n",
        "from tensorflow.keras.layers import Dense\n",
        "\n",
        "\n",
        "model = Sequential()\n",
        "model.add(Dense(units=64, activation='relu', input_dim=5))\n",
        "model.add(Dense(units=1, activation='sigmoid'))\n"
      ]
    },
    {
      "cell_type": "code",
      "execution_count": null,
      "metadata": {
        "colab": {
          "background_save": true,
          "base_uri": "https://localhost:8080/"
        },
        "id": "1psKRR250KTi",
        "outputId": "175d220f-58ff-4229-fa99-6f053b15aa6f"
      },
      "outputs": [
        {
          "name": "stdout",
          "output_type": "stream",
          "text": [
            "Epoch 1/20\n",
            "2472/2472 [==============================] - 14s 5ms/step - loss: 0.5063 - accuracy: 0.7804 - val_loss: 0.4808 - val_accuracy: 0.7821\n",
            "Epoch 2/20\n",
            "2472/2472 [==============================] - 14s 6ms/step - loss: 0.4695 - accuracy: 0.7846 - val_loss: 0.4635 - val_accuracy: 0.7839\n",
            "Epoch 3/20\n",
            "2472/2472 [==============================] - 6s 2ms/step - loss: 0.4536 - accuracy: 0.7904 - val_loss: 0.4493 - val_accuracy: 0.7972\n",
            "Epoch 4/20\n",
            "2472/2472 [==============================] - 6s 2ms/step - loss: 0.4435 - accuracy: 0.7956 - val_loss: 0.4429 - val_accuracy: 0.8001\n",
            "Epoch 5/20\n",
            "2472/2472 [==============================] - 5s 2ms/step - loss: 0.4352 - accuracy: 0.7998 - val_loss: 0.4604 - val_accuracy: 0.7842\n",
            "Epoch 6/20\n",
            "2472/2472 [==============================] - 5s 2ms/step - loss: 0.4291 - accuracy: 0.8030 - val_loss: 0.4421 - val_accuracy: 0.7956\n",
            "Epoch 7/20\n",
            "2472/2472 [==============================] - 6s 2ms/step - loss: 0.4242 - accuracy: 0.8052 - val_loss: 0.4231 - val_accuracy: 0.8090\n",
            "Epoch 8/20\n",
            "2472/2472 [==============================] - 5s 2ms/step - loss: 0.4195 - accuracy: 0.8071 - val_loss: 0.4171 - val_accuracy: 0.8088\n",
            "Epoch 9/20\n",
            "2472/2472 [==============================] - 6s 2ms/step - loss: 0.4143 - accuracy: 0.8093 - val_loss: 0.4235 - val_accuracy: 0.8022\n",
            "Epoch 10/20\n",
            "2472/2472 [==============================] - 5s 2ms/step - loss: 0.4106 - accuracy: 0.8125 - val_loss: 0.4131 - val_accuracy: 0.8132\n",
            "Epoch 11/20\n",
            "2472/2472 [==============================] - 6s 3ms/step - loss: 0.4067 - accuracy: 0.8150 - val_loss: 0.4205 - val_accuracy: 0.8083\n",
            "Epoch 12/20\n",
            "2472/2472 [==============================] - 5s 2ms/step - loss: 0.4043 - accuracy: 0.8162 - val_loss: 0.4088 - val_accuracy: 0.8125\n",
            "Epoch 13/20\n",
            "2472/2472 [==============================] - 5s 2ms/step - loss: 0.4012 - accuracy: 0.8187 - val_loss: 0.4044 - val_accuracy: 0.8187\n",
            "Epoch 14/20\n",
            "2472/2472 [==============================] - 6s 2ms/step - loss: 0.3988 - accuracy: 0.8208 - val_loss: 0.4043 - val_accuracy: 0.8177\n",
            "Epoch 15/20\n",
            "2472/2472 [==============================] - 5s 2ms/step - loss: 0.3971 - accuracy: 0.8202 - val_loss: 0.3956 - val_accuracy: 0.8230\n",
            "Epoch 16/20\n",
            "2472/2472 [==============================] - 7s 3ms/step - loss: 0.3955 - accuracy: 0.8213 - val_loss: 0.3952 - val_accuracy: 0.8238\n",
            "Epoch 17/20\n",
            "2472/2472 [==============================] - 5s 2ms/step - loss: 0.3936 - accuracy: 0.8228 - val_loss: 0.3947 - val_accuracy: 0.8248\n",
            "Epoch 18/20\n",
            "2472/2472 [==============================] - 6s 3ms/step - loss: 0.3928 - accuracy: 0.8243 - val_loss: 0.4147 - val_accuracy: 0.8055\n",
            "Epoch 19/20\n",
            "2472/2472 [==============================] - 5s 2ms/step - loss: 0.3906 - accuracy: 0.8244 - val_loss: 0.3921 - val_accuracy: 0.8228\n",
            "Epoch 20/20\n",
            "2472/2472 [==============================] - 5s 2ms/step - loss: 0.3904 - accuracy: 0.8246 - val_loss: 0.4065 - val_accuracy: 0.8205\n"
          ]
        },
        {
          "data": {
            "text/plain": [
              "<keras.src.callbacks.History at 0x79aeb08538b0>"
            ]
          },
          "execution_count": 8,
          "metadata": {},
          "output_type": "execute_result"
        }
      ],
      "source": [
        "model.compile(optimizer='adam', loss='binary_crossentropy', metrics=['accuracy'])\n",
        "model.fit(X_train, y_train, epochs=20, batch_size=32, validation_data=(X_test, y_test))\n"
      ]
    },
    {
      "cell_type": "code",
      "execution_count": null,
      "metadata": {
        "colab": {
          "background_save": true,
          "base_uri": "https://localhost:8080/"
        },
        "id": "2pxlCpHO1gIP",
        "outputId": "8c6e232a-4cb1-442c-c585-bc4563f137d6"
      },
      "outputs": [
        {
          "name": "stdout",
          "output_type": "stream",
          "text": [
            "1060/1060 [==============================] - 1s 1ms/step\n",
            "Precision: 0.7626721359507764\n",
            "Recall: 0.6812352787228474\n",
            "F1 Score: 0.7196571744539675\n",
            "0.8205044991886709\n"
          ]
        }
      ],
      "source": [
        "predictions = model.predict(X_test)\n",
        "\n",
        "binary_predictions = (predictions > 0.5).astype(int)\n",
        "\n",
        "precision = precision_score(y_test, binary_predictions)\n",
        "recall = recall_score(y_test, binary_predictions)\n",
        "f1 = f1_score(y_test, binary_predictions)\n",
        "acc = accuracy_score(y_test, binary_predictions)\n",
        "\n",
        "\n",
        "print(f'Precision: {precision}')\n",
        "print(f'Recall: {recall}')\n",
        "print(f'F1 Score: {f1}')\n",
        "print(acc)"
      ]
    },
    {
      "cell_type": "markdown",
      "metadata": {
        "id": "brfMigxLoOGu"
      },
      "source": [
        "**Learn with CNN** CLASSIFICATION Normaly **bold text**"
      ]
    },
    {
      "cell_type": "code",
      "execution_count": null,
      "metadata": {
        "colab": {
          "background_save": true
        },
        "id": "J_kX_AMoroJi"
      },
      "outputs": [],
      "source": [
        "import torch\n",
        "\n",
        "from torch import nn\n",
        "from torch.utils.data import Dataset, DataLoader"
      ]
    },
    {
      "cell_type": "code",
      "execution_count": null,
      "metadata": {
        "colab": {
          "background_save": true,
          "base_uri": "https://localhost:8080/"
        },
        "id": "g9aopxgXsZTE",
        "outputId": "e330d663-303d-40c0-dbf6-54c2316553cf"
      },
      "outputs": [
        {
          "data": {
            "text/plain": [
              "device(type='cpu')"
            ]
          },
          "execution_count": 11,
          "metadata": {},
          "output_type": "execute_result"
        }
      ],
      "source": [
        "def get_device():\n",
        "    return torch.device(\"cuda\") if torch.cuda.is_available() else torch.device(\"cpu\")\n",
        "\n",
        "device = get_device()\n",
        "device"
      ]
    },
    {
      "cell_type": "code",
      "execution_count": null,
      "metadata": {
        "colab": {
          "background_save": true
        },
        "id": "W8kPIZ2CslmQ"
      },
      "outputs": [],
      "source": [
        "class CNNModel(nn.Module):\n",
        "    def __init__(self, n_features, num_classes):\n",
        "        super(CNNModel, self).__init__()\n",
        "\n",
        "        self.conv1 = nn.Conv1d(in_channels=1, out_channels=64, kernel_size=3)\n",
        "        self.relu = nn.ReLU()\n",
        "        self.fc1 = nn.Linear(64 * (n_features - 3 + 1), 64)\n",
        "        self.fc2 = nn.Linear(64, num_classes)\n",
        "\n",
        "    def forward(self, x):\n",
        "        x = x.unsqueeze(1)\n",
        "        x = self.conv1(x)\n",
        "        x = self.relu(x)\n",
        "        x = x.view(x.size(0), -1)\n",
        "        x = self.fc1(x)\n",
        "        x = self.relu(x)\n",
        "        x = self.fc2(x)\n",
        "        return x"
      ]
    },
    {
      "cell_type": "code",
      "execution_count": null,
      "metadata": {
        "colab": {
          "background_save": true
        },
        "id": "0jtTrhPbxPpL"
      },
      "outputs": [],
      "source": [
        "class SimpleData(Dataset):\n",
        "    def __init__(self, x, y, transform=None, target_transform=None) -> None:\n",
        "        self.x = x\n",
        "        self.y=y\n",
        "        self.transform=transform\n",
        "        self.target_transform = target_transform\n",
        "\n",
        "\n",
        "    def __len__(self):\n",
        "        return len(self.x)\n",
        "\n",
        "    def __getitem__(self, index):\n",
        "        if self.transform:\n",
        "            self.x = self.transform(self.x)\n",
        "        if self.target_transform:\n",
        "            self.y = self.target_transform(self.y)\n",
        "\n",
        "        return self.x[index], self.y[index]"
      ]
    },
    {
      "cell_type": "code",
      "execution_count": null,
      "metadata": {
        "colab": {
          "background_save": true
        },
        "id": "8eLib5BXuXTW"
      },
      "outputs": [],
      "source": [
        "x = data[['ABS remoteness area','Age group','Sex','Road user','Cause of injury']].values\n",
        "y = data['Bed_days_category'].values\n",
        "x_train, x_test, y_train, y_test = train_test_split(x, y, test_size=0.3, random_state=42)\n"
      ]
    },
    {
      "cell_type": "code",
      "execution_count": null,
      "metadata": {
        "id": "A4pXEb_vu10-"
      },
      "outputs": [],
      "source": [
        "x_train = torch.Tensor(x_train)\n",
        "y_train = torch.Tensor(y_train)\n",
        "\n",
        "x_test = torch.Tensor(x_test)\n",
        "y_test = torch.Tensor(y_test)\n",
        "\n",
        "train_data = SimpleData(x_train, y_train)\n",
        "test_data = SimpleData(x_test, y_test)\n",
        "\n",
        "train_dl = DataLoader(train_data, batch_size=32, shuffle=True)\n",
        "test_dl = DataLoader(test_data, batch_size=32, shuffle=True)"
      ]
    },
    {
      "cell_type": "code",
      "execution_count": null,
      "metadata": {
        "colab": {
          "base_uri": "https://localhost:8080/"
        },
        "id": "zRDpuPk9vXhh",
        "outputId": "3f34d1b1-1f0f-4675-ba63-7457b6184792"
      },
      "outputs": [
        {
          "data": {
            "text/plain": [
              "CNNModel(\n",
              "  (conv1): Conv1d(1, 64, kernel_size=(3,), stride=(1,))\n",
              "  (relu): ReLU()\n",
              "  (fc1): Linear(in_features=192, out_features=64, bias=True)\n",
              "  (fc2): Linear(in_features=64, out_features=2, bias=True)\n",
              ")"
            ]
          },
          "execution_count": 16,
          "metadata": {},
          "output_type": "execute_result"
        }
      ],
      "source": [
        "n_features = x_train.shape[1]\n",
        "num_classes = 2\n",
        "\n",
        "model = CNNModel(n_features, num_classes)\n",
        "model"
      ]
    },
    {
      "cell_type": "code",
      "execution_count": null,
      "metadata": {
        "id": "0jxYFVQUzKxo"
      },
      "outputs": [],
      "source": [
        "optimizer = torch.optim.Adam(model.parameters(),lr=0.001)\n",
        "criterion = torch.nn.CrossEntropyLoss()"
      ]
    },
    {
      "cell_type": "code",
      "execution_count": null,
      "metadata": {
        "colab": {
          "base_uri": "https://localhost:8080/"
        },
        "id": "fm2PfUmd0ckX",
        "outputId": "dedc7a54-c96b-455b-f3e9-073fe4c79681"
      },
      "outputs": [
        {
          "name": "stdout",
          "output_type": "stream",
          "text": [
            "Epoch 1 | Loss 0.4627\n",
            "Epoch 2 | Loss 0.4107\n",
            "Epoch 3 | Loss 0.3876\n",
            "Epoch 4 | Loss 0.3776\n",
            "Epoch 5 | Loss 0.3742\n",
            "Epoch 6 | Loss 0.3699\n",
            "Epoch 7 | Loss 0.3675\n",
            "Epoch 8 | Loss 0.3647\n",
            "Epoch 9 | Loss 0.3639\n",
            "Epoch 10 | Loss 0.3611\n"
          ]
        }
      ],
      "source": [
        "epochs = 10\n",
        "\n",
        "model.train()\n",
        "for epoch in range(epochs):\n",
        "    losses = list()\n",
        "    for input_data, labels in train_dl:\n",
        "        optimizer.zero_grad()\n",
        "\n",
        "        input_data = input_data.to(device).float()\n",
        "        labels = labels.to(device)\n",
        "\n",
        "        output = model(input_data)\n",
        "        labels = labels.type(torch.LongTensor)\n",
        "        loss = criterion(output, labels)\n",
        "        loss.backward()\n",
        "        losses.append(loss.item())\n",
        "        optimizer.step()\n",
        "\n",
        "    print(f'Epoch {epoch + 1} | Loss {round(sum(losses) / len(losses), 4)}')"
      ]
    },
    {
      "cell_type": "code",
      "execution_count": null,
      "metadata": {
        "colab": {
          "base_uri": "https://localhost:8080/"
        },
        "id": "K0wiju1P1CiY",
        "outputId": "f58603b5-fc10-4284-b718-c5b1853faf0c"
      },
      "outputs": [
        {
          "name": "stdout",
          "output_type": "stream",
          "text": [
            "Test Accuracy: 82.85%\n",
            "Precision: 0.8834\n",
            "Recall: 0.5677\n",
            "F1-score: 0.6912\n"
          ]
        }
      ],
      "source": [
        "from sklearn.metrics import precision_score, recall_score, f1_score\n",
        "\n",
        "model.eval()\n",
        "total_correct = 0\n",
        "total_samples = 0\n",
        "all_predicted = []\n",
        "all_labels = []\n",
        "\n",
        "with torch.no_grad():\n",
        "    for test_data, test_labels in test_dl:\n",
        "        test_outputs = model(test_data)\n",
        "        _, predicted = torch.max(test_outputs, 1)\n",
        "        total_correct += (predicted == test_labels).sum().item()\n",
        "        total_samples += test_labels.size(0)\n",
        "        all_predicted.extend(predicted.cpu().numpy())\n",
        "        all_labels.extend(test_labels.cpu().numpy())\n",
        "\n",
        "accuracy = total_correct / total_samples\n",
        "print(f'Test Accuracy: {accuracy * 100:.2f}%')\n",
        "\n",
        "precision = precision_score(all_labels, all_predicted, average='binary')\n",
        "recall = recall_score(all_labels, all_predicted, average='binary')\n",
        "f1 = f1_score(all_labels, all_predicted, average='binary')\n",
        "\n",
        "print(f'Precision: {precision:.4f}')\n",
        "print(f'Recall: {recall:.4f}')\n",
        "print(f'F1-score: {f1:.4f}')\n"
      ]
    },
    {
      "cell_type": "markdown",
      "metadata": {
        "id": "2U1iQ_8zrysC"
      },
      "source": [
        "CLASSIFICATION WITH ROAD USERS 8.  perceptron\n",
        "---> Not applicable\n",
        "\n"
      ]
    },
    {
      "cell_type": "code",
      "execution_count": null,
      "metadata": {
        "colab": {
          "base_uri": "https://localhost:8080/"
        },
        "id": "5hKVmU-t7ucv",
        "outputId": "86bfb13d-ceb2-4f15-c370-fad463b89784"
      },
      "outputs": [
        {
          "name": "stdout",
          "output_type": "stream",
          "text": [
            "Epoch 1/20\n",
            "688/688 [==============================] - 3s 3ms/step - loss: 28.3134 - accuracy: 0.8469 - val_loss: 0.2101 - val_accuracy: 0.9148\n",
            "Epoch 2/20\n",
            "688/688 [==============================] - 2s 3ms/step - loss: 0.1955 - accuracy: 0.9151 - val_loss: 0.1902 - val_accuracy: 0.9161\n",
            "Epoch 3/20\n",
            "688/688 [==============================] - 3s 4ms/step - loss: 0.1897 - accuracy: 0.9168 - val_loss: 0.1891 - val_accuracy: 0.9163\n",
            "Epoch 4/20\n",
            "688/688 [==============================] - 2s 3ms/step - loss: 0.1890 - accuracy: 0.9165 - val_loss: 0.1888 - val_accuracy: 0.9163\n",
            "Epoch 5/20\n",
            "688/688 [==============================] - 2s 3ms/step - loss: 0.1886 - accuracy: 0.9168 - val_loss: 0.1886 - val_accuracy: 0.9163\n",
            "Epoch 6/20\n",
            "688/688 [==============================] - 3s 4ms/step - loss: 0.1883 - accuracy: 0.9173 - val_loss: 0.1888 - val_accuracy: 0.9163\n",
            "Epoch 7/20\n",
            "688/688 [==============================] - 2s 3ms/step - loss: 0.1881 - accuracy: 0.9172 - val_loss: 0.1885 - val_accuracy: 0.9162\n",
            "Epoch 8/20\n",
            "688/688 [==============================] - 2s 3ms/step - loss: 0.1879 - accuracy: 0.9168 - val_loss: 0.1883 - val_accuracy: 0.9159\n",
            "Epoch 9/20\n",
            "688/688 [==============================] - 3s 4ms/step - loss: 0.1878 - accuracy: 0.9165 - val_loss: 0.1879 - val_accuracy: 0.9163\n",
            "Epoch 10/20\n",
            "688/688 [==============================] - 2s 3ms/step - loss: 0.1879 - accuracy: 0.9166 - val_loss: 0.1880 - val_accuracy: 0.9158\n",
            "Epoch 11/20\n",
            "688/688 [==============================] - 2s 3ms/step - loss: 0.1876 - accuracy: 0.9167 - val_loss: 0.1883 - val_accuracy: 0.9162\n",
            "Epoch 12/20\n",
            "688/688 [==============================] - 2s 3ms/step - loss: 0.1879 - accuracy: 0.9160 - val_loss: 0.1880 - val_accuracy: 0.9162\n",
            "Epoch 13/20\n",
            "688/688 [==============================] - 2s 3ms/step - loss: 0.1875 - accuracy: 0.9159 - val_loss: 0.1885 - val_accuracy: 0.9159\n",
            "Epoch 14/20\n",
            "688/688 [==============================] - 2s 3ms/step - loss: 0.1878 - accuracy: 0.9163 - val_loss: 0.1880 - val_accuracy: 0.9162\n",
            "Epoch 15/20\n",
            "688/688 [==============================] - 2s 3ms/step - loss: 0.1878 - accuracy: 0.9168 - val_loss: 0.1882 - val_accuracy: 0.9162\n",
            "Epoch 16/20\n",
            "688/688 [==============================] - 3s 4ms/step - loss: 0.1879 - accuracy: 0.9177 - val_loss: 0.1885 - val_accuracy: 0.9158\n",
            "Epoch 17/20\n",
            "688/688 [==============================] - 2s 3ms/step - loss: 0.1879 - accuracy: 0.9168 - val_loss: 0.1884 - val_accuracy: 0.9161\n",
            "Epoch 18/20\n",
            "688/688 [==============================] - 2s 2ms/step - loss: 0.1883 - accuracy: 0.9169 - val_loss: 0.1881 - val_accuracy: 0.9162\n",
            "Epoch 19/20\n",
            "688/688 [==============================] - 2s 2ms/step - loss: 0.1881 - accuracy: 0.9166 - val_loss: 0.1879 - val_accuracy: 0.9162\n",
            "Epoch 20/20\n",
            "688/688 [==============================] - 2s 3ms/step - loss: 0.1884 - accuracy: 0.9152 - val_loss: 0.1885 - val_accuracy: 0.9158\n"
          ]
        },
        {
          "data": {
            "text/plain": [
              "<keras.src.callbacks.History at 0x7ff437dfafb0>"
            ]
          },
          "execution_count": 20,
          "metadata": {},
          "output_type": "execute_result"
        }
      ],
      "source": [
        "filtered_data = data[data['Road user'] == 8]\n",
        "X = filtered_data[['Count of cases', 'Died_cases', 'Hospitalisations']]\n",
        "y = (filtered_data['Bed days'] > 30).astype(int)\n",
        "X_train, X_test, y_train, y_test = train_test_split(X, y, test_size=0.3)\n",
        "model = Sequential()\n",
        "model.add(Dense(units=64, activation='relu', input_dim=3))\n",
        "model.add(Dense(units=1, activation='sigmoid'))\n",
        "model.compile(optimizer='adam', loss='binary_crossentropy', metrics=['accuracy'])\n",
        "model.fit(X_train, y_train, epochs=20, batch_size=32, validation_data=(X_test, y_test))\n"
      ]
    },
    {
      "cell_type": "code",
      "execution_count": null,
      "metadata": {
        "colab": {
          "base_uri": "https://localhost:8080/"
        },
        "id": "JCvCSEcws-T9",
        "outputId": "accf13fb-6029-458b-c84a-e0e5ed44862d"
      },
      "outputs": [
        {
          "name": "stdout",
          "output_type": "stream",
          "text": [
            "295/295 [==============================] - 0s 1ms/step\n",
            "Precision: 0.9523499756057896\n",
            "Recall: 0.9211892402076451\n",
            "F1 Score: 0.9365104749720135\n",
            "0.9157649055803098\n"
          ]
        }
      ],
      "source": [
        "predictions = model.predict(X_test)\n",
        "\n",
        "binary_predictions = (predictions > 0.5).astype(int)\n",
        "\n",
        "precision = precision_score(y_test, binary_predictions)\n",
        "recall = recall_score(y_test, binary_predictions)\n",
        "f1 = f1_score(y_test, binary_predictions)\n",
        "acc = accuracy_score(y_test, binary_predictions)\n",
        "\n",
        "\n",
        "print(f'Precision: {precision}')\n",
        "print(f'Recall: {recall}')\n",
        "print(f'F1 Score: {f1}')\n",
        "print(acc)"
      ]
    },
    {
      "cell_type": "markdown",
      "metadata": {
        "id": "7hx3Ecv20c0c"
      },
      "source": [
        "**bold text**\n",
        "Learn with CNN 8---> Not applicable"
      ]
    },
    {
      "cell_type": "code",
      "execution_count": null,
      "metadata": {
        "id": "TIFb-dMD0xCX"
      },
      "outputs": [],
      "source": [
        "filtered_data = data[data['Road user'] == 8]\n",
        "X = filtered_data[['Count of cases', 'Died_cases', 'Hospitalisations']].values\n",
        "y = (filtered_data['Bed days'] > 30).astype(int).values\n",
        "X_train, X_test, y_train, y_test = train_test_split(X, y, test_size=0.3)\n"
      ]
    },
    {
      "cell_type": "code",
      "execution_count": null,
      "metadata": {
        "id": "dtqiWXj808Tt"
      },
      "outputs": [],
      "source": [
        "X_train = torch.Tensor(X_train)\n",
        "y_train = torch.Tensor(y_train)\n",
        "\n",
        "X_test = torch.Tensor(X_test)\n",
        "y_test = torch.Tensor(y_test)\n",
        "\n",
        "train_data = SimpleData(X_train, y_train)\n",
        "test_data = SimpleData(X_test, y_test)\n",
        "\n",
        "train_dl = DataLoader(train_data, batch_size=32, shuffle=True)\n",
        "test_dl = DataLoader(test_data, batch_size=32, shuffle=True)"
      ]
    },
    {
      "cell_type": "code",
      "execution_count": null,
      "metadata": {
        "colab": {
          "base_uri": "https://localhost:8080/"
        },
        "id": "hnU5XOt4OfIb",
        "outputId": "372b4cd9-d04a-4a02-fbfb-02a64ee5dda9"
      },
      "outputs": [
        {
          "data": {
            "text/plain": [
              "CNNModel(\n",
              "  (conv1): Conv1d(1, 64, kernel_size=(3,), stride=(1,))\n",
              "  (relu): ReLU()\n",
              "  (fc1): Linear(in_features=64, out_features=64, bias=True)\n",
              "  (fc2): Linear(in_features=64, out_features=2, bias=True)\n",
              ")"
            ]
          },
          "execution_count": 24,
          "metadata": {},
          "output_type": "execute_result"
        }
      ],
      "source": [
        "n_features = X_train.shape[1]\n",
        "num_classes = 2\n",
        "\n",
        "model = CNNModel(n_features, num_classes)\n",
        "model"
      ]
    },
    {
      "cell_type": "code",
      "execution_count": null,
      "metadata": {
        "id": "YVek74T3OszL"
      },
      "outputs": [],
      "source": [
        "optimizer = torch.optim.Adam(model.parameters(),lr=0.001)\n",
        "criterion = torch.nn.CrossEntropyLoss()"
      ]
    },
    {
      "cell_type": "code",
      "execution_count": null,
      "metadata": {
        "colab": {
          "base_uri": "https://localhost:8080/"
        },
        "id": "lPJ7R5fKO1d8",
        "outputId": "a946d49d-0f41-415f-addf-f9b055c5d08f"
      },
      "outputs": [
        {
          "name": "stdout",
          "output_type": "stream",
          "text": [
            "Epoch 1 | Loss 1.6153\n",
            "Epoch 2 | Loss 0.1907\n",
            "Epoch 3 | Loss 0.1894\n",
            "Epoch 4 | Loss 0.1891\n",
            "Epoch 5 | Loss 0.1891\n",
            "Epoch 6 | Loss 0.1888\n",
            "Epoch 7 | Loss 0.1896\n",
            "Epoch 8 | Loss 0.1885\n",
            "Epoch 9 | Loss 0.189\n",
            "Epoch 10 | Loss 0.1882\n"
          ]
        }
      ],
      "source": [
        "epochs = 10\n",
        "\n",
        "model.train()\n",
        "for epoch in range(epochs):\n",
        "    losses = list()\n",
        "    for input_data, labels in train_dl:\n",
        "        optimizer.zero_grad()\n",
        "\n",
        "        input_data = input_data.to(device).float()\n",
        "        labels = labels.to(device)\n",
        "\n",
        "        output = model(input_data)\n",
        "        labels = labels.type(torch.LongTensor)\n",
        "        loss = criterion(output, labels)\n",
        "        loss.backward()\n",
        "        losses.append(loss.item())\n",
        "        optimizer.step()\n",
        "\n",
        "    print(f'Epoch {epoch + 1} | Loss {round(sum(losses) / len(losses), 4)}')"
      ]
    },
    {
      "cell_type": "code",
      "execution_count": null,
      "metadata": {
        "colab": {
          "base_uri": "https://localhost:8080/"
        },
        "id": "1pheQFS3TTlH",
        "outputId": "7696ae51-d593-4fc8-bfba-7e83ae33d14d"
      },
      "outputs": [
        {
          "name": "stdout",
          "output_type": "stream",
          "text": [
            "Test Accuracy: 91.53%\n",
            "Precision: 0.9506\n",
            "Recall: 0.9206\n",
            "F1-score: 0.9353\n"
          ]
        }
      ],
      "source": [
        "from sklearn.metrics import precision_score, recall_score, f1_score\n",
        "\n",
        "model.eval()\n",
        "total_correct = 0\n",
        "total_samples = 0\n",
        "all_predicted = []\n",
        "all_labels = []\n",
        "\n",
        "with torch.no_grad():\n",
        "    for test_data, test_labels in test_dl:\n",
        "        test_outputs = model(test_data)\n",
        "        _, predicted = torch.max(test_outputs, 1)\n",
        "        total_correct += (predicted == test_labels).sum().item()\n",
        "        total_samples += test_labels.size(0)\n",
        "        all_predicted.extend(predicted.cpu().numpy())\n",
        "        all_labels.extend(test_labels.cpu().numpy())\n",
        "\n",
        "accuracy = total_correct / total_samples\n",
        "print(f'Test Accuracy: {accuracy * 100:.2f}%')\n",
        "\n",
        "precision = precision_score(all_labels, all_predicted, average='binary')\n",
        "recall = recall_score(all_labels, all_predicted, average='binary')\n",
        "f1 = f1_score(all_labels, all_predicted, average='binary')\n",
        "\n",
        "print(f'Precision: {precision:.4f}')\n",
        "print(f'Recall: {recall:.4f}')\n",
        "print(f'F1-score: {f1:.4f}')\n"
      ]
    },
    {
      "cell_type": "markdown",
      "metadata": {
        "id": "pF9tLB-IWhuq"
      },
      "source": [
        "perceptron\n",
        "CLASSIFICATION WITH ROAD USERS 1---> Car driver"
      ]
    },
    {
      "cell_type": "code",
      "execution_count": null,
      "metadata": {
        "colab": {
          "base_uri": "https://localhost:8080/"
        },
        "id": "_vZZlAkIWeS4",
        "outputId": "0f14abe0-fdea-4b00-a905-9136881b6e46"
      },
      "outputs": [
        {
          "name": "stdout",
          "output_type": "stream",
          "text": [
            "Epoch 1/20\n",
            "352/352 [==============================] - 2s 4ms/step - loss: 0.4809 - accuracy: 0.7977 - val_loss: 0.3567 - val_accuracy: 0.8539\n",
            "Epoch 2/20\n",
            "352/352 [==============================] - 1s 3ms/step - loss: 0.3508 - accuracy: 0.8483 - val_loss: 0.3413 - val_accuracy: 0.8539\n",
            "Epoch 3/20\n",
            "352/352 [==============================] - 1s 3ms/step - loss: 0.3430 - accuracy: 0.8498 - val_loss: 0.3478 - val_accuracy: 0.8586\n",
            "Epoch 4/20\n",
            "352/352 [==============================] - 1s 3ms/step - loss: 0.3417 - accuracy: 0.8513 - val_loss: 0.3380 - val_accuracy: 0.8530\n",
            "Epoch 5/20\n",
            "352/352 [==============================] - 1s 3ms/step - loss: 0.3406 - accuracy: 0.8482 - val_loss: 0.3372 - val_accuracy: 0.8530\n",
            "Epoch 6/20\n",
            "352/352 [==============================] - 1s 3ms/step - loss: 0.3389 - accuracy: 0.8486 - val_loss: 0.3386 - val_accuracy: 0.8565\n",
            "Epoch 7/20\n",
            "352/352 [==============================] - 1s 3ms/step - loss: 0.3396 - accuracy: 0.8483 - val_loss: 0.3376 - val_accuracy: 0.8530\n",
            "Epoch 8/20\n",
            "352/352 [==============================] - 1s 3ms/step - loss: 0.3391 - accuracy: 0.8484 - val_loss: 0.3381 - val_accuracy: 0.8565\n",
            "Epoch 9/20\n",
            "352/352 [==============================] - 1s 2ms/step - loss: 0.3376 - accuracy: 0.8509 - val_loss: 0.3413 - val_accuracy: 0.8586\n",
            "Epoch 10/20\n",
            "352/352 [==============================] - 1s 3ms/step - loss: 0.3375 - accuracy: 0.8509 - val_loss: 0.3373 - val_accuracy: 0.8565\n",
            "Epoch 11/20\n",
            "352/352 [==============================] - 1s 3ms/step - loss: 0.3382 - accuracy: 0.8510 - val_loss: 0.3371 - val_accuracy: 0.8565\n",
            "Epoch 12/20\n",
            "352/352 [==============================] - 1s 4ms/step - loss: 0.3379 - accuracy: 0.8496 - val_loss: 0.3368 - val_accuracy: 0.8565\n",
            "Epoch 13/20\n",
            "352/352 [==============================] - 1s 4ms/step - loss: 0.3398 - accuracy: 0.8485 - val_loss: 0.3378 - val_accuracy: 0.8530\n",
            "Epoch 14/20\n",
            "352/352 [==============================] - 1s 3ms/step - loss: 0.3369 - accuracy: 0.8496 - val_loss: 0.3361 - val_accuracy: 0.8565\n",
            "Epoch 15/20\n",
            "352/352 [==============================] - 1s 3ms/step - loss: 0.3370 - accuracy: 0.8502 - val_loss: 0.3419 - val_accuracy: 0.8586\n",
            "Epoch 16/20\n",
            "352/352 [==============================] - 1s 2ms/step - loss: 0.3380 - accuracy: 0.8494 - val_loss: 0.3396 - val_accuracy: 0.8586\n",
            "Epoch 17/20\n",
            "352/352 [==============================] - 1s 2ms/step - loss: 0.3375 - accuracy: 0.8488 - val_loss: 0.3394 - val_accuracy: 0.8586\n",
            "Epoch 18/20\n",
            "352/352 [==============================] - 1s 3ms/step - loss: 0.3374 - accuracy: 0.8503 - val_loss: 0.3388 - val_accuracy: 0.8565\n",
            "Epoch 19/20\n",
            "352/352 [==============================] - 1s 2ms/step - loss: 0.3372 - accuracy: 0.8488 - val_loss: 0.3367 - val_accuracy: 0.8530\n",
            "Epoch 20/20\n",
            "352/352 [==============================] - 1s 2ms/step - loss: 0.3379 - accuracy: 0.8492 - val_loss: 0.3363 - val_accuracy: 0.8565\n"
          ]
        },
        {
          "data": {
            "text/plain": [
              "<keras.src.callbacks.History at 0x7ff432616920>"
            ]
          },
          "execution_count": 28,
          "metadata": {},
          "output_type": "execute_result"
        }
      ],
      "source": [
        "filtered_data = data[data['Road user'] == 1]\n",
        "X = filtered_data[['Count of cases', 'Died_cases', 'Hospitalisations']]\n",
        "y = (filtered_data['Bed days'] > 30).astype(int)\n",
        "X_train, X_test, y_train, y_test = train_test_split(X, y, test_size=0.3)\n",
        "model = Sequential()\n",
        "model.add(Dense(units=64, activation='relu', input_dim=3))\n",
        "model.add(Dense(units=1, activation='sigmoid'))\n",
        "model.compile(optimizer='adam', loss='binary_crossentropy', metrics=['accuracy'])\n",
        "model.fit(X_train, y_train, epochs=20, batch_size=32, validation_data=(X_test, y_test))\n"
      ]
    },
    {
      "cell_type": "code",
      "execution_count": null,
      "metadata": {
        "colab": {
          "base_uri": "https://localhost:8080/"
        },
        "id": "XUHlyIw2W35U",
        "outputId": "84a34b2c-4438-433d-a769-2ad56601db4f"
      },
      "outputs": [
        {
          "name": "stdout",
          "output_type": "stream",
          "text": [
            "151/151 [==============================] - 0s 1ms/step\n",
            "Precision: 0.8246539222148979\n",
            "Recall: 0.7464200477326969\n",
            "F1 Score: 0.7835891011587848\n",
            "0.8565497197425783\n"
          ]
        }
      ],
      "source": [
        "predictions = model.predict(X_test)\n",
        "\n",
        "binary_predictions = (predictions > 0.5).astype(int)\n",
        "\n",
        "precision = precision_score(y_test, binary_predictions)\n",
        "recall = recall_score(y_test, binary_predictions)\n",
        "f1 = f1_score(y_test, binary_predictions)\n",
        "acc = accuracy_score(y_test, binary_predictions)\n",
        "\n",
        "\n",
        "print(f'Precision: {precision}')\n",
        "print(f'Recall: {recall}')\n",
        "print(f'F1 Score: {f1}')\n",
        "print(acc)"
      ]
    },
    {
      "cell_type": "markdown",
      "metadata": {
        "id": "oaJnqbSCXHoB"
      },
      "source": [
        "CNN\n",
        "CLASSIFICATION WITH ROAD USERS 1---> Car driver"
      ]
    },
    {
      "cell_type": "code",
      "execution_count": null,
      "metadata": {
        "id": "wOtWTH-XXUJz"
      },
      "outputs": [],
      "source": [
        "filtered_data = data[data['Road user'] == 1]\n",
        "X = filtered_data[['Count of cases', 'Died_cases', 'Hospitalisations']].values\n",
        "y = (filtered_data['Bed days'] > 30).astype(int).values\n",
        "X_train, X_test, y_train, y_test = train_test_split(X, y, test_size=0.3)\n"
      ]
    },
    {
      "cell_type": "code",
      "execution_count": null,
      "metadata": {
        "id": "YXgdxAijXWcd"
      },
      "outputs": [],
      "source": [
        "X_train = torch.Tensor(X_train)\n",
        "y_train = torch.Tensor(y_train)\n",
        "\n",
        "X_test = torch.Tensor(X_test)\n",
        "y_test = torch.Tensor(y_test)\n",
        "\n",
        "train_data = SimpleData(X_train, y_train)\n",
        "test_data = SimpleData(X_test, y_test)\n",
        "\n",
        "train_dl = DataLoader(train_data, batch_size=32, shuffle=True)\n",
        "test_dl = DataLoader(test_data, batch_size=32, shuffle=True)"
      ]
    },
    {
      "cell_type": "code",
      "execution_count": null,
      "metadata": {
        "colab": {
          "base_uri": "https://localhost:8080/"
        },
        "id": "o-mAhcrbXiv-",
        "outputId": "12cd0b9e-fa76-4e50-e573-01c23a519b3f"
      },
      "outputs": [
        {
          "data": {
            "text/plain": [
              "CNNModel(\n",
              "  (conv1): Conv1d(1, 64, kernel_size=(3,), stride=(1,))\n",
              "  (relu): ReLU()\n",
              "  (fc1): Linear(in_features=64, out_features=64, bias=True)\n",
              "  (fc2): Linear(in_features=64, out_features=2, bias=True)\n",
              ")"
            ]
          },
          "execution_count": 32,
          "metadata": {},
          "output_type": "execute_result"
        }
      ],
      "source": [
        "n_features = X_train.shape[1]\n",
        "num_classes = 2\n",
        "\n",
        "model = CNNModel(n_features, num_classes)\n",
        "model"
      ]
    },
    {
      "cell_type": "code",
      "execution_count": null,
      "metadata": {
        "id": "KdkUSIkwXoGn"
      },
      "outputs": [],
      "source": [
        "optimizer = torch.optim.Adam(model.parameters(),lr=0.001)\n",
        "criterion = torch.nn.CrossEntropyLoss()"
      ]
    },
    {
      "cell_type": "code",
      "execution_count": null,
      "metadata": {
        "colab": {
          "base_uri": "https://localhost:8080/"
        },
        "id": "goTwwyPkXr4K",
        "outputId": "b1e5ffb8-3460-4482-a45e-1f252dce19dc"
      },
      "outputs": [
        {
          "name": "stdout",
          "output_type": "stream",
          "text": [
            "Epoch 1 | Loss 0.3745\n",
            "Epoch 2 | Loss 0.3373\n",
            "Epoch 3 | Loss 0.3362\n",
            "Epoch 4 | Loss 0.3367\n",
            "Epoch 5 | Loss 0.3359\n",
            "Epoch 6 | Loss 0.3346\n",
            "Epoch 7 | Loss 0.3341\n",
            "Epoch 8 | Loss 0.3334\n",
            "Epoch 9 | Loss 0.3336\n",
            "Epoch 10 | Loss 0.3354\n",
            "Epoch 11 | Loss 0.3336\n",
            "Epoch 12 | Loss 0.333\n",
            "Epoch 13 | Loss 0.3323\n",
            "Epoch 14 | Loss 0.3334\n",
            "Epoch 15 | Loss 0.3331\n",
            "Epoch 16 | Loss 0.3325\n",
            "Epoch 17 | Loss 0.3329\n",
            "Epoch 18 | Loss 0.3328\n",
            "Epoch 19 | Loss 0.3312\n",
            "Epoch 20 | Loss 0.3318\n"
          ]
        }
      ],
      "source": [
        "epochs = 20\n",
        "\n",
        "model.train()\n",
        "for epoch in range(epochs):\n",
        "    losses = list()\n",
        "    for input_data, labels in train_dl:\n",
        "        optimizer.zero_grad()\n",
        "\n",
        "        input_data = input_data.to(device).float()\n",
        "        labels = labels.to(device)\n",
        "\n",
        "        output = model(input_data)\n",
        "        labels = labels.type(torch.LongTensor)\n",
        "        loss = criterion(output, labels)\n",
        "        loss.backward()\n",
        "        losses.append(loss.item())\n",
        "        optimizer.step()\n",
        "\n",
        "    print(f'Epoch {epoch + 1} | Loss {round(sum(losses) / len(losses), 4)}')"
      ]
    },
    {
      "cell_type": "code",
      "execution_count": null,
      "metadata": {
        "colab": {
          "base_uri": "https://localhost:8080/"
        },
        "id": "T9UhRFqBYlZO",
        "outputId": "6ed4f418-ee50-4fc2-8cf9-d4717fa1ca24"
      },
      "outputs": [
        {
          "name": "stdout",
          "output_type": "stream",
          "text": [
            "Test Accuracy: 84.62%\n",
            "Precision: 0.8153\n",
            "Recall: 0.7283\n",
            "F1-score: 0.7694\n"
          ]
        }
      ],
      "source": [
        "from sklearn.metrics import precision_score, recall_score, f1_score\n",
        "\n",
        "model.eval()\n",
        "total_correct = 0\n",
        "total_samples = 0\n",
        "all_predicted = []\n",
        "all_labels = []\n",
        "\n",
        "with torch.no_grad():\n",
        "    for test_data, test_labels in test_dl:\n",
        "        test_outputs = model(test_data)\n",
        "        _, predicted = torch.max(test_outputs, 1)\n",
        "        total_correct += (predicted == test_labels).sum().item()\n",
        "        total_samples += test_labels.size(0)\n",
        "        all_predicted.extend(predicted.cpu().numpy())\n",
        "        all_labels.extend(test_labels.cpu().numpy())\n",
        "\n",
        "accuracy = total_correct / total_samples\n",
        "print(f'Test Accuracy: {accuracy * 100:.2f}%')\n",
        "\n",
        "precision = precision_score(all_labels, all_predicted, average='binary')\n",
        "recall = recall_score(all_labels, all_predicted, average='binary')\n",
        "f1 = f1_score(all_labels, all_predicted, average='binary')\n",
        "\n",
        "print(f'Precision: {precision:.4f}')\n",
        "print(f'Recall: {recall:.4f}')\n",
        "print(f'F1-score: {f1:.4f}')\n"
      ]
    },
    {
      "cell_type": "markdown",
      "metadata": {
        "id": "vJpO_TVsIXkO"
      },
      "source": [
        "perceptron CLASSIFICATION WITH ROAD USERS 2---> Car passenger"
      ]
    },
    {
      "cell_type": "code",
      "execution_count": null,
      "metadata": {
        "colab": {
          "base_uri": "https://localhost:8080/"
        },
        "id": "wcSWy5KtIT0_",
        "outputId": "5df220e4-ad57-4300-9e15-fee63535462c"
      },
      "outputs": [
        {
          "name": "stdout",
          "output_type": "stream",
          "text": [
            "Epoch 1/20\n",
            "326/326 [==============================] - 2s 3ms/step - loss: 0.4815 - accuracy: 0.8548 - val_loss: 0.3550 - val_accuracy: 0.8660\n",
            "Epoch 2/20\n",
            "326/326 [==============================] - 1s 2ms/step - loss: 0.3447 - accuracy: 0.8683 - val_loss: 0.3382 - val_accuracy: 0.8678\n",
            "Epoch 3/20\n",
            "326/326 [==============================] - 1s 2ms/step - loss: 0.3397 - accuracy: 0.8695 - val_loss: 0.3418 - val_accuracy: 0.8676\n",
            "Epoch 4/20\n",
            "326/326 [==============================] - 1s 2ms/step - loss: 0.3406 - accuracy: 0.8694 - val_loss: 0.3375 - val_accuracy: 0.8683\n",
            "Epoch 5/20\n",
            "326/326 [==============================] - 1s 3ms/step - loss: 0.3394 - accuracy: 0.8682 - val_loss: 0.3368 - val_accuracy: 0.8687\n",
            "Epoch 6/20\n",
            "326/326 [==============================] - 1s 4ms/step - loss: 0.3389 - accuracy: 0.8694 - val_loss: 0.3383 - val_accuracy: 0.8665\n",
            "Epoch 7/20\n",
            "326/326 [==============================] - 2s 5ms/step - loss: 0.3387 - accuracy: 0.8687 - val_loss: 0.3371 - val_accuracy: 0.8712\n",
            "Epoch 8/20\n",
            "326/326 [==============================] - 2s 5ms/step - loss: 0.3370 - accuracy: 0.8689 - val_loss: 0.3382 - val_accuracy: 0.8703\n",
            "Epoch 9/20\n",
            "326/326 [==============================] - 1s 3ms/step - loss: 0.3381 - accuracy: 0.8694 - val_loss: 0.3348 - val_accuracy: 0.8687\n",
            "Epoch 10/20\n",
            "326/326 [==============================] - 1s 3ms/step - loss: 0.3370 - accuracy: 0.8701 - val_loss: 0.3346 - val_accuracy: 0.8674\n",
            "Epoch 11/20\n",
            "326/326 [==============================] - 1s 3ms/step - loss: 0.3356 - accuracy: 0.8696 - val_loss: 0.3332 - val_accuracy: 0.8687\n",
            "Epoch 12/20\n",
            "326/326 [==============================] - 1s 3ms/step - loss: 0.3363 - accuracy: 0.8693 - val_loss: 0.3467 - val_accuracy: 0.8665\n",
            "Epoch 13/20\n",
            "326/326 [==============================] - 1s 3ms/step - loss: 0.3345 - accuracy: 0.8680 - val_loss: 0.3424 - val_accuracy: 0.8676\n",
            "Epoch 14/20\n",
            "326/326 [==============================] - 1s 3ms/step - loss: 0.3353 - accuracy: 0.8693 - val_loss: 0.3324 - val_accuracy: 0.8703\n",
            "Epoch 15/20\n",
            "326/326 [==============================] - 1s 3ms/step - loss: 0.3343 - accuracy: 0.8705 - val_loss: 0.3316 - val_accuracy: 0.8687\n",
            "Epoch 16/20\n",
            "326/326 [==============================] - 1s 4ms/step - loss: 0.3337 - accuracy: 0.8699 - val_loss: 0.3324 - val_accuracy: 0.8674\n",
            "Epoch 17/20\n",
            "326/326 [==============================] - 1s 3ms/step - loss: 0.3344 - accuracy: 0.8693 - val_loss: 0.3318 - val_accuracy: 0.8678\n",
            "Epoch 18/20\n",
            "326/326 [==============================] - 1s 4ms/step - loss: 0.3342 - accuracy: 0.8695 - val_loss: 0.3463 - val_accuracy: 0.8557\n",
            "Epoch 19/20\n",
            "326/326 [==============================] - 1s 4ms/step - loss: 0.3337 - accuracy: 0.8697 - val_loss: 0.3323 - val_accuracy: 0.8703\n",
            "Epoch 20/20\n",
            "326/326 [==============================] - 1s 4ms/step - loss: 0.3328 - accuracy: 0.8688 - val_loss: 0.3315 - val_accuracy: 0.8703\n"
          ]
        },
        {
          "data": {
            "text/plain": [
              "<keras.src.callbacks.History at 0x7ff432947940>"
            ]
          },
          "execution_count": 37,
          "metadata": {},
          "output_type": "execute_result"
        }
      ],
      "source": [
        "filtered_data = data[data['Road user'] == 2]\n",
        "X = filtered_data[['Count of cases', 'Died_cases', 'Hospitalisations']]\n",
        "y = (filtered_data['Bed days'] > 30).astype(int)\n",
        "X_train, X_test, y_train, y_test = train_test_split(X, y, test_size=0.3)\n",
        "model = Sequential()\n",
        "model.add(Dense(units=64, activation='relu', input_dim=3))\n",
        "model.add(Dense(units=1, activation='sigmoid'))\n",
        "model.compile(optimizer='adam', loss='binary_crossentropy', metrics=['accuracy'])\n",
        "model.fit(X_train, y_train, epochs=20, batch_size=32, validation_data=(X_test, y_test))\n"
      ]
    },
    {
      "cell_type": "code",
      "execution_count": null,
      "metadata": {
        "colab": {
          "base_uri": "https://localhost:8080/"
        },
        "id": "HAaU-1URI5V7",
        "outputId": "3423312f-8492-41f1-8213-92b3ef13ecef"
      },
      "outputs": [
        {
          "name": "stdout",
          "output_type": "stream",
          "text": [
            "140/140 [==============================] - 0s 1ms/step\n",
            "Precision: 0.6676557863501483\n",
            "Recall: 0.32514450867052025\n",
            "F1 Score: 0.43731778425655976\n",
            "0.8702666367913959\n"
          ]
        }
      ],
      "source": [
        "predictions = model.predict(X_test)\n",
        "\n",
        "binary_predictions = (predictions > 0.5).astype(int)\n",
        "\n",
        "precision = precision_score(y_test, binary_predictions)\n",
        "recall = recall_score(y_test, binary_predictions)\n",
        "f1 = f1_score(y_test, binary_predictions)\n",
        "acc = accuracy_score(y_test, binary_predictions)\n",
        "\n",
        "\n",
        "print(f'Precision: {precision}')\n",
        "print(f'Recall: {recall}')\n",
        "print(f'F1 Score: {f1}')\n",
        "print(acc)"
      ]
    },
    {
      "cell_type": "markdown",
      "metadata": {
        "id": "cx9XCTIpKET3"
      },
      "source": [
        "CNN CLASSIFICATION WITH ROAD USERS 2---> Car passenger"
      ]
    },
    {
      "cell_type": "code",
      "execution_count": null,
      "metadata": {
        "id": "GBb29nPIKN2k"
      },
      "outputs": [],
      "source": [
        "filtered_data = data[data['Road user'] == 2]\n",
        "X = filtered_data[['Count of cases', 'Died_cases', 'Hospitalisations']].values\n",
        "y = (filtered_data['Bed days'] > 30).astype(int).values\n",
        "X_train, X_test, y_train, y_test = train_test_split(X, y, test_size=0.3)"
      ]
    },
    {
      "cell_type": "code",
      "execution_count": null,
      "metadata": {
        "id": "cUppTNn6KZ4p"
      },
      "outputs": [],
      "source": [
        "X_train = torch.Tensor(X_train)\n",
        "y_train = torch.Tensor(y_train)\n",
        "\n",
        "X_test = torch.Tensor(X_test)\n",
        "y_test = torch.Tensor(y_test)\n",
        "\n",
        "train_data = SimpleData(X_train, y_train)\n",
        "test_data = SimpleData(X_test, y_test)\n",
        "\n",
        "train_dl = DataLoader(train_data, batch_size=32, shuffle=True)\n",
        "test_dl = DataLoader(test_data, batch_size=32, shuffle=True)"
      ]
    },
    {
      "cell_type": "code",
      "execution_count": null,
      "metadata": {
        "colab": {
          "base_uri": "https://localhost:8080/"
        },
        "id": "i9P7Kp5pKb9p",
        "outputId": "eb97da6c-9233-414a-a5b3-6f6995ac3744"
      },
      "outputs": [
        {
          "data": {
            "text/plain": [
              "CNNModel(\n",
              "  (conv1): Conv1d(1, 64, kernel_size=(3,), stride=(1,))\n",
              "  (relu): ReLU()\n",
              "  (fc1): Linear(in_features=64, out_features=64, bias=True)\n",
              "  (fc2): Linear(in_features=64, out_features=2, bias=True)\n",
              ")"
            ]
          },
          "execution_count": 47,
          "metadata": {},
          "output_type": "execute_result"
        }
      ],
      "source": [
        "n_features = X_train.shape[1]\n",
        "num_classes = 2\n",
        "\n",
        "model = CNNModel(n_features, num_classes)\n",
        "model"
      ]
    },
    {
      "cell_type": "code",
      "execution_count": null,
      "metadata": {
        "id": "rlfoFRI2Knxr"
      },
      "outputs": [],
      "source": [
        "optimizer = torch.optim.Adam(model.parameters(),lr=0.001)\n",
        "criterion = torch.nn.CrossEntropyLoss()"
      ]
    },
    {
      "cell_type": "code",
      "execution_count": null,
      "metadata": {
        "colab": {
          "base_uri": "https://localhost:8080/"
        },
        "id": "HKYr_xCQKsPQ",
        "outputId": "0910cd9c-c59b-41a1-a23a-487a6662a8a2"
      },
      "outputs": [
        {
          "name": "stdout",
          "output_type": "stream",
          "text": [
            "Epoch 1 | Loss 0.3699\n",
            "Epoch 2 | Loss 0.3379\n",
            "Epoch 3 | Loss 0.3355\n",
            "Epoch 4 | Loss 0.3361\n",
            "Epoch 5 | Loss 0.3368\n",
            "Epoch 6 | Loss 0.3349\n",
            "Epoch 7 | Loss 0.3351\n",
            "Epoch 8 | Loss 0.3346\n",
            "Epoch 9 | Loss 0.3351\n",
            "Epoch 10 | Loss 0.3362\n",
            "Epoch 11 | Loss 0.3345\n",
            "Epoch 12 | Loss 0.3335\n",
            "Epoch 13 | Loss 0.3345\n",
            "Epoch 14 | Loss 0.3334\n",
            "Epoch 15 | Loss 0.3333\n",
            "Epoch 16 | Loss 0.3338\n",
            "Epoch 17 | Loss 0.3336\n",
            "Epoch 18 | Loss 0.333\n",
            "Epoch 19 | Loss 0.3334\n",
            "Epoch 20 | Loss 0.3335\n"
          ]
        }
      ],
      "source": [
        "epochs = 20\n",
        "\n",
        "model.train()\n",
        "for epoch in range(epochs):\n",
        "    losses = list()\n",
        "    for input_data, labels in train_dl:\n",
        "        optimizer.zero_grad()\n",
        "\n",
        "        input_data = input_data.to(device).float()\n",
        "        labels = labels.to(device)\n",
        "\n",
        "        output = model(input_data)\n",
        "        labels = labels.type(torch.LongTensor)\n",
        "        loss = criterion(output, labels)\n",
        "        loss.backward()\n",
        "        losses.append(loss.item())\n",
        "        optimizer.step()\n",
        "\n",
        "    print(f'Epoch {epoch + 1} | Loss {round(sum(losses) / len(losses), 4)}')"
      ]
    },
    {
      "cell_type": "code",
      "execution_count": null,
      "metadata": {
        "colab": {
          "base_uri": "https://localhost:8080/"
        },
        "id": "wu2C5N52K08P",
        "outputId": "47623a81-7ab0-4f1c-8418-2f1016f6c1a1"
      },
      "outputs": [
        {
          "name": "stdout",
          "output_type": "stream",
          "text": [
            "Test Accuracy: 86.78%\n",
            "Precision: 0.7143\n",
            "Recall: 0.2875\n",
            "F1-score: 0.4100\n"
          ]
        }
      ],
      "source": [
        "from sklearn.metrics import precision_score, recall_score, f1_score\n",
        "\n",
        "model.eval()\n",
        "total_correct = 0\n",
        "total_samples = 0\n",
        "all_predicted = []\n",
        "all_labels = []\n",
        "\n",
        "with torch.no_grad():\n",
        "    for test_data, test_labels in test_dl:\n",
        "        test_outputs = model(test_data)\n",
        "        _, predicted = torch.max(test_outputs, 1)\n",
        "        total_correct += (predicted == test_labels).sum().item()\n",
        "        total_samples += test_labels.size(0)\n",
        "        all_predicted.extend(predicted.cpu().numpy())\n",
        "        all_labels.extend(test_labels.cpu().numpy())\n",
        "\n",
        "accuracy = total_correct / total_samples\n",
        "print(f'Test Accuracy: {accuracy * 100:.2f}%')\n",
        "\n",
        "precision = precision_score(all_labels, all_predicted, average='binary')\n",
        "recall = recall_score(all_labels, all_predicted, average='binary')\n",
        "f1 = f1_score(all_labels, all_predicted, average='binary')\n",
        "\n",
        "print(f'Precision: {precision:.4f}')\n",
        "print(f'Recall: {recall:.4f}')\n",
        "print(f'F1-score: {f1:.4f}')\n"
      ]
    },
    {
      "cell_type": "markdown",
      "metadata": {
        "id": "o2OKrqQcRZIr"
      },
      "source": [
        " PERCEPTRON CLASSIFICATION WITH ROAD USERS 10---> Pedal cyclist"
      ]
    },
    {
      "cell_type": "markdown",
      "metadata": {
        "id": "fD7QHLLGWBvd"
      },
      "source": []
    },
    {
      "cell_type": "code",
      "execution_count": null,
      "metadata": {
        "colab": {
          "base_uri": "https://localhost:8080/"
        },
        "id": "sRgUOXUxRX-c",
        "outputId": "c2e4ddab-5fc0-4ccf-e0af-b8147607e022"
      },
      "outputs": [
        {
          "name": "stdout",
          "output_type": "stream",
          "text": [
            "Epoch 1/20\n",
            "313/313 [==============================] - 2s 5ms/step - loss: 0.4471 - accuracy: 0.9086 - val_loss: 0.2669 - val_accuracy: 0.9206\n",
            "Epoch 2/20\n",
            "313/313 [==============================] - 1s 3ms/step - loss: 0.2334 - accuracy: 0.9203 - val_loss: 0.2298 - val_accuracy: 0.9208\n",
            "Epoch 3/20\n",
            "313/313 [==============================] - 1s 3ms/step - loss: 0.2224 - accuracy: 0.9205 - val_loss: 0.2276 - val_accuracy: 0.9213\n",
            "Epoch 4/20\n",
            "313/313 [==============================] - 1s 5ms/step - loss: 0.2213 - accuracy: 0.9216 - val_loss: 0.2367 - val_accuracy: 0.9185\n",
            "Epoch 5/20\n",
            "313/313 [==============================] - 1s 4ms/step - loss: 0.2210 - accuracy: 0.9205 - val_loss: 0.2383 - val_accuracy: 0.9171\n",
            "Epoch 6/20\n",
            "313/313 [==============================] - 1s 2ms/step - loss: 0.2212 - accuracy: 0.9213 - val_loss: 0.2278 - val_accuracy: 0.9206\n",
            "Epoch 7/20\n",
            "313/313 [==============================] - 1s 3ms/step - loss: 0.2212 - accuracy: 0.9210 - val_loss: 0.2269 - val_accuracy: 0.9215\n",
            "Epoch 8/20\n",
            "313/313 [==============================] - 1s 3ms/step - loss: 0.2205 - accuracy: 0.9213 - val_loss: 0.2283 - val_accuracy: 0.9199\n",
            "Epoch 9/20\n",
            "313/313 [==============================] - 1s 2ms/step - loss: 0.2213 - accuracy: 0.9215 - val_loss: 0.2340 - val_accuracy: 0.9187\n",
            "Epoch 10/20\n",
            "313/313 [==============================] - 1s 3ms/step - loss: 0.2192 - accuracy: 0.9210 - val_loss: 0.2267 - val_accuracy: 0.9206\n",
            "Epoch 11/20\n",
            "313/313 [==============================] - 1s 3ms/step - loss: 0.2191 - accuracy: 0.9204 - val_loss: 0.2252 - val_accuracy: 0.9215\n",
            "Epoch 12/20\n",
            "313/313 [==============================] - 1s 3ms/step - loss: 0.2195 - accuracy: 0.9207 - val_loss: 0.2247 - val_accuracy: 0.9220\n",
            "Epoch 13/20\n",
            "313/313 [==============================] - 1s 4ms/step - loss: 0.2193 - accuracy: 0.9213 - val_loss: 0.2260 - val_accuracy: 0.9215\n",
            "Epoch 14/20\n",
            "313/313 [==============================] - 1s 4ms/step - loss: 0.2188 - accuracy: 0.9211 - val_loss: 0.2253 - val_accuracy: 0.9215\n",
            "Epoch 15/20\n",
            "313/313 [==============================] - 1s 4ms/step - loss: 0.2185 - accuracy: 0.9215 - val_loss: 0.2249 - val_accuracy: 0.9213\n",
            "Epoch 16/20\n",
            "313/313 [==============================] - 1s 3ms/step - loss: 0.2191 - accuracy: 0.9224 - val_loss: 0.2245 - val_accuracy: 0.9213\n",
            "Epoch 17/20\n",
            "313/313 [==============================] - 1s 3ms/step - loss: 0.2194 - accuracy: 0.9206 - val_loss: 0.2247 - val_accuracy: 0.9215\n",
            "Epoch 18/20\n",
            "313/313 [==============================] - 1s 3ms/step - loss: 0.2186 - accuracy: 0.9198 - val_loss: 0.2248 - val_accuracy: 0.9213\n",
            "Epoch 19/20\n",
            "313/313 [==============================] - 1s 2ms/step - loss: 0.2183 - accuracy: 0.9207 - val_loss: 0.2277 - val_accuracy: 0.9189\n",
            "Epoch 20/20\n",
            "313/313 [==============================] - 1s 3ms/step - loss: 0.2194 - accuracy: 0.9209 - val_loss: 0.2244 - val_accuracy: 0.9213\n"
          ]
        },
        {
          "data": {
            "text/plain": [
              "<keras.src.callbacks.History at 0x7ff437df9510>"
            ]
          },
          "execution_count": 51,
          "metadata": {},
          "output_type": "execute_result"
        }
      ],
      "source": [
        "filtered_data = data[data['Road user'] == 10]\n",
        "X = filtered_data[['Count of cases', 'Died_cases', 'Hospitalisations']]\n",
        "y = (filtered_data['Bed days'] > 30).astype(int)\n",
        "X_train, X_test, y_train, y_test = train_test_split(X, y, test_size=0.3)\n",
        "model = Sequential()\n",
        "model.add(Dense(units=64, activation='relu', input_dim=3))\n",
        "model.add(Dense(units=1, activation='sigmoid'))\n",
        "model.compile(optimizer='adam', loss='binary_crossentropy', metrics=['accuracy'])\n",
        "model.fit(X_train, y_train, epochs=20, batch_size=32, validation_data=(X_test, y_test))\n"
      ]
    },
    {
      "cell_type": "code",
      "execution_count": null,
      "metadata": {
        "colab": {
          "base_uri": "https://localhost:8080/"
        },
        "id": "F6flngaYRyDC",
        "outputId": "2404f0b1-cdbc-4f21-9718-fb89f75811c7"
      },
      "outputs": [
        {
          "name": "stdout",
          "output_type": "stream",
          "text": [
            "135/135 [==============================] - 0s 1ms/step\n",
            "Precision: 0.842809364548495\n",
            "Recall: 0.46408839779005523\n",
            "F1 Score: 0.5985748218527315\n",
            "0.9212671791288144\n",
            "0    12505\n",
            "1     1804\n",
            "Name: Bed days, dtype: int64\n"
          ]
        }
      ],
      "source": [
        "predictions = model.predict(X_test)\n",
        "\n",
        "binary_predictions = (predictions > 0.5).astype(int)\n",
        "\n",
        "precision = precision_score(y_test, binary_predictions)\n",
        "recall = recall_score(y_test, binary_predictions)\n",
        "f1 = f1_score(y_test, binary_predictions)\n",
        "acc = accuracy_score(y_test, binary_predictions)\n",
        "\n",
        "\n",
        "print(f'Precision: {precision}')\n",
        "print(f'Recall: {recall}')\n",
        "print(f'F1 Score: {f1}')\n",
        "print(acc)\n",
        "print(y.value_counts())\n"
      ]
    },
    {
      "cell_type": "markdown",
      "metadata": {
        "id": "0fhfLr1bSxXQ"
      },
      "source": [
        "CNN CLASSIFICATION WITH ROAD USERS 10---> Pedal cyclist"
      ]
    },
    {
      "cell_type": "code",
      "execution_count": null,
      "metadata": {
        "id": "j4N8OZbdSohK"
      },
      "outputs": [],
      "source": [
        "filtered_data = data[data['Road user'] == 10]\n",
        "X = filtered_data[['Count of cases', 'Died_cases', 'Hospitalisations']].values\n",
        "y = (filtered_data['Bed days'] > 30).astype(int).values\n",
        "X_train, X_test, y_train, y_test = train_test_split(X, y, test_size=0.3)"
      ]
    },
    {
      "cell_type": "code",
      "execution_count": null,
      "metadata": {
        "id": "EmSXdWs0TBEy"
      },
      "outputs": [],
      "source": [
        "X_train = torch.Tensor(X_train)\n",
        "y_train = torch.Tensor(y_train)\n",
        "\n",
        "X_test = torch.Tensor(X_test)\n",
        "y_test = torch.Tensor(y_test)\n",
        "\n",
        "train_data = SimpleData(X_train, y_train)\n",
        "test_data = SimpleData(X_test, y_test)\n",
        "\n",
        "train_dl = DataLoader(train_data, batch_size=32, shuffle=True)\n",
        "test_dl = DataLoader(test_data, batch_size=32, shuffle=True)"
      ]
    },
    {
      "cell_type": "code",
      "execution_count": null,
      "metadata": {
        "colab": {
          "base_uri": "https://localhost:8080/"
        },
        "id": "ap-VsZf9TCte",
        "outputId": "445e2a77-5d8e-4737-d076-7d361a2d9cad"
      },
      "outputs": [
        {
          "data": {
            "text/plain": [
              "CNNModel(\n",
              "  (conv1): Conv1d(1, 64, kernel_size=(3,), stride=(1,))\n",
              "  (relu): ReLU()\n",
              "  (fc1): Linear(in_features=64, out_features=64, bias=True)\n",
              "  (fc2): Linear(in_features=64, out_features=2, bias=True)\n",
              ")"
            ]
          },
          "execution_count": 56,
          "metadata": {},
          "output_type": "execute_result"
        }
      ],
      "source": [
        "n_features = X_train.shape[1]\n",
        "num_classes = 2\n",
        "\n",
        "model = CNNModel(n_features, num_classes)\n",
        "model"
      ]
    },
    {
      "cell_type": "code",
      "execution_count": null,
      "metadata": {
        "id": "B1ZTv514TQgQ"
      },
      "outputs": [],
      "source": [
        "optimizer = torch.optim.Adam(model.parameters(),lr=0.001)\n",
        "criterion = torch.nn.CrossEntropyLoss()"
      ]
    },
    {
      "cell_type": "code",
      "execution_count": null,
      "metadata": {
        "colab": {
          "base_uri": "https://localhost:8080/"
        },
        "id": "34vN0uUpTUzj",
        "outputId": "27117a6a-7527-4904-b5eb-556bff3aba2e"
      },
      "outputs": [
        {
          "name": "stdout",
          "output_type": "stream",
          "text": [
            "Epoch 1 | Loss 0.278\n",
            "Epoch 2 | Loss 0.2277\n",
            "Epoch 3 | Loss 0.2253\n",
            "Epoch 4 | Loss 0.2254\n",
            "Epoch 5 | Loss 0.2252\n",
            "Epoch 6 | Loss 0.224\n",
            "Epoch 7 | Loss 0.2257\n",
            "Epoch 8 | Loss 0.2235\n",
            "Epoch 9 | Loss 0.2247\n",
            "Epoch 10 | Loss 0.224\n",
            "Epoch 11 | Loss 0.2228\n",
            "Epoch 12 | Loss 0.2216\n",
            "Epoch 13 | Loss 0.2212\n",
            "Epoch 14 | Loss 0.2222\n",
            "Epoch 15 | Loss 0.2213\n",
            "Epoch 16 | Loss 0.2226\n",
            "Epoch 17 | Loss 0.2222\n",
            "Epoch 18 | Loss 0.2227\n",
            "Epoch 19 | Loss 0.2214\n",
            "Epoch 20 | Loss 0.2221\n"
          ]
        }
      ],
      "source": [
        "epochs = 20\n",
        "\n",
        "model.train()\n",
        "for epoch in range(epochs):\n",
        "    losses = list()\n",
        "    for input_data, labels in train_dl:\n",
        "        optimizer.zero_grad()\n",
        "\n",
        "        input_data = input_data.to(device).float()\n",
        "        labels = labels.to(device)\n",
        "\n",
        "        output = model(input_data)\n",
        "        labels = labels.type(torch.LongTensor)\n",
        "        loss = criterion(output, labels)\n",
        "        loss.backward()\n",
        "        losses.append(loss.item())\n",
        "        optimizer.step()\n",
        "\n",
        "    print(f'Epoch {epoch + 1} | Loss {round(sum(losses) / len(losses), 4)}')"
      ]
    },
    {
      "cell_type": "code",
      "execution_count": null,
      "metadata": {
        "colab": {
          "base_uri": "https://localhost:8080/"
        },
        "id": "uoRZ3UHXTb8j",
        "outputId": "0fb970fb-721f-4713-da61-b6c3d3072764"
      },
      "outputs": [
        {
          "name": "stdout",
          "output_type": "stream",
          "text": [
            "Test Accuracy: 92.24%\n",
            "Precision: 0.7895\n",
            "Recall: 0.5085\n",
            "F1-score: 0.6186\n",
            "(14309,)\n"
          ]
        }
      ],
      "source": [
        "from sklearn.metrics import precision_score, recall_score, f1_score\n",
        "\n",
        "model.eval()\n",
        "total_correct = 0\n",
        "total_samples = 0\n",
        "all_predicted = []\n",
        "all_labels = []\n",
        "\n",
        "with torch.no_grad():\n",
        "    for test_data, test_labels in test_dl:\n",
        "        test_outputs = model(test_data)\n",
        "        _, predicted = torch.max(test_outputs, 1)\n",
        "        total_correct += (predicted == test_labels).sum().item()\n",
        "        total_samples += test_labels.size(0)\n",
        "        all_predicted.extend(predicted.cpu().numpy())\n",
        "        all_labels.extend(test_labels.cpu().numpy())\n",
        "\n",
        "accuracy = total_correct / total_samples\n",
        "print(f'Test Accuracy: {accuracy * 100:.2f}%')\n",
        "\n",
        "precision = precision_score(all_labels, all_predicted, average='binary')\n",
        "recall = recall_score(all_labels, all_predicted, average='binary')\n",
        "f1 = f1_score(all_labels, all_predicted, average='binary')\n",
        "\n",
        "print(f'Precision: {precision:.4f}')\n",
        "print(f'Recall: {recall:.4f}')\n",
        "print(f'F1-score: {f1:.4f}')\n",
        "print(y.shape)\n",
        "\n"
      ]
    },
    {
      "cell_type": "markdown",
      "metadata": {
        "id": "EnYtNdJ5YsFu"
      },
      "source": [
        "PERCEPTRON CLASSIFICATION WITH ROAD USERS 7---> Motorcyclist"
      ]
    },
    {
      "cell_type": "code",
      "execution_count": null,
      "metadata": {
        "colab": {
          "base_uri": "https://localhost:8080/"
        },
        "id": "OH7kM7SfYqxV",
        "outputId": "1b467e72-fda3-4fd2-f8ac-96e260192b69"
      },
      "outputs": [
        {
          "name": "stdout",
          "output_type": "stream",
          "text": [
            "Epoch 1/20\n",
            "306/306 [==============================] - 3s 6ms/step - loss: 0.4407 - accuracy: 0.8446 - val_loss: 0.3354 - val_accuracy: 0.8698\n",
            "Epoch 2/20\n",
            "306/306 [==============================] - 1s 2ms/step - loss: 0.3187 - accuracy: 0.8763 - val_loss: 0.3240 - val_accuracy: 0.8686\n",
            "Epoch 3/20\n",
            "306/306 [==============================] - 1s 2ms/step - loss: 0.3154 - accuracy: 0.8768 - val_loss: 0.3313 - val_accuracy: 0.8724\n",
            "Epoch 4/20\n",
            "306/306 [==============================] - 1s 3ms/step - loss: 0.3145 - accuracy: 0.8769 - val_loss: 0.3241 - val_accuracy: 0.8724\n",
            "Epoch 5/20\n",
            "306/306 [==============================] - 1s 3ms/step - loss: 0.3121 - accuracy: 0.8766 - val_loss: 0.3266 - val_accuracy: 0.8726\n",
            "Epoch 6/20\n",
            "306/306 [==============================] - 1s 3ms/step - loss: 0.3119 - accuracy: 0.8770 - val_loss: 0.3207 - val_accuracy: 0.8703\n",
            "Epoch 7/20\n",
            "306/306 [==============================] - 1s 3ms/step - loss: 0.3129 - accuracy: 0.8766 - val_loss: 0.3213 - val_accuracy: 0.8724\n",
            "Epoch 8/20\n",
            "306/306 [==============================] - 1s 3ms/step - loss: 0.3116 - accuracy: 0.8759 - val_loss: 0.3238 - val_accuracy: 0.8724\n",
            "Epoch 9/20\n",
            "306/306 [==============================] - 1s 3ms/step - loss: 0.3129 - accuracy: 0.8772 - val_loss: 0.3202 - val_accuracy: 0.8705\n",
            "Epoch 10/20\n",
            "306/306 [==============================] - 1s 4ms/step - loss: 0.3118 - accuracy: 0.8758 - val_loss: 0.3211 - val_accuracy: 0.8724\n",
            "Epoch 11/20\n",
            "306/306 [==============================] - 1s 4ms/step - loss: 0.3105 - accuracy: 0.8761 - val_loss: 0.3387 - val_accuracy: 0.8660\n",
            "Epoch 12/20\n",
            "306/306 [==============================] - 1s 4ms/step - loss: 0.3113 - accuracy: 0.8775 - val_loss: 0.3270 - val_accuracy: 0.8724\n",
            "Epoch 13/20\n",
            "306/306 [==============================] - 1s 3ms/step - loss: 0.3120 - accuracy: 0.8779 - val_loss: 0.3220 - val_accuracy: 0.8693\n",
            "Epoch 14/20\n",
            "306/306 [==============================] - 1s 2ms/step - loss: 0.3112 - accuracy: 0.8773 - val_loss: 0.3198 - val_accuracy: 0.8705\n",
            "Epoch 15/20\n",
            "306/306 [==============================] - 1s 2ms/step - loss: 0.3099 - accuracy: 0.8778 - val_loss: 0.3205 - val_accuracy: 0.8693\n",
            "Epoch 16/20\n",
            "306/306 [==============================] - 1s 2ms/step - loss: 0.3109 - accuracy: 0.8773 - val_loss: 0.3310 - val_accuracy: 0.8660\n",
            "Epoch 17/20\n",
            "306/306 [==============================] - 1s 3ms/step - loss: 0.3100 - accuracy: 0.8787 - val_loss: 0.3200 - val_accuracy: 0.8724\n",
            "Epoch 18/20\n",
            "306/306 [==============================] - 1s 3ms/step - loss: 0.3109 - accuracy: 0.8764 - val_loss: 0.3199 - val_accuracy: 0.8724\n",
            "Epoch 19/20\n",
            "306/306 [==============================] - 1s 3ms/step - loss: 0.3111 - accuracy: 0.8754 - val_loss: 0.3196 - val_accuracy: 0.8705\n",
            "Epoch 20/20\n",
            "306/306 [==============================] - 1s 3ms/step - loss: 0.3111 - accuracy: 0.8775 - val_loss: 0.3282 - val_accuracy: 0.8660\n"
          ]
        },
        {
          "data": {
            "text/plain": [
              "<keras.src.callbacks.History at 0x7ff43258c2b0>"
            ]
          },
          "execution_count": 64,
          "metadata": {},
          "output_type": "execute_result"
        }
      ],
      "source": [
        "filtered_data = data[data['Road user'] == 7]\n",
        "X = filtered_data[['Count of cases', 'Died_cases', 'Hospitalisations']]\n",
        "y = (filtered_data['Bed days'] > 30).astype(int)\n",
        "X_train, X_test, y_train, y_test = train_test_split(X, y, test_size=0.3)\n",
        "model = Sequential()\n",
        "model.add(Dense(units=64, activation='relu', input_dim=3))\n",
        "model.add(Dense(units=1, activation='sigmoid'))\n",
        "model.compile(optimizer='adam', loss='binary_crossentropy', metrics=['accuracy'])\n",
        "model.fit(X_train, y_train, epochs=20, batch_size=32, validation_data=(X_test, y_test))\n",
        "filtered_data = data[data['Road user'] == 7]\n",
        "X = filtered_data[['Count of cases', 'Died_cases', 'Hospitalisations']]\n",
        "y = (filtered_data['Bed days'] > 30).astype(int)\n",
        "X_train, X_test, y_train, y_test = train_test_split(X, y, test_size=0.3)\n",
        "model = Sequential()\n",
        "model.add(Dense(units=64, activation='relu', input_dim=3))\n",
        "model.add(Dense(units=1, activation='sigmoid'))\n",
        "model.compile(optimizer='adam', loss='binary_crossentropy', metrics=['accuracy'])\n",
        "model.fit(X_train, y_train, epochs=20, batch_size=32, validation_data=(X_test, y_test))\n"
      ]
    },
    {
      "cell_type": "markdown",
      "metadata": {
        "id": "515mrxFCsDWw"
      },
      "source": []
    },
    {
      "cell_type": "code",
      "execution_count": null,
      "metadata": {
        "colab": {
          "base_uri": "https://localhost:8080/"
        },
        "id": "vFpszq5RZA9Q",
        "outputId": "39ca42c1-ca09-4fe6-dfe6-a4b1b6e3b22b"
      },
      "outputs": [
        {
          "name": "stdout",
          "output_type": "stream",
          "text": [
            "132/132 [==============================] - 0s 1ms/step\n",
            "Precision: 0.7830374753451677\n",
            "Recall: 0.698943661971831\n",
            "F1 Score: 0.7386046511627907\n",
            "0.8659670880038158\n",
            "0    10196\n",
            "1     3779\n",
            "Name: Bed days, dtype: int64\n"
          ]
        }
      ],
      "source": [
        "predictions = model.predict(X_test)\n",
        "\n",
        "binary_predictions = (predictions > 0.5).astype(int)\n",
        "\n",
        "precision = precision_score(y_test, binary_predictions)\n",
        "recall = recall_score(y_test, binary_predictions)\n",
        "f1 = f1_score(y_test, binary_predictions)\n",
        "acc = accuracy_score(y_test, binary_predictions)\n",
        "\n",
        "\n",
        "print(f'Precision: {precision}')\n",
        "print(f'Recall: {recall}')\n",
        "print(f'F1 Score: {f1}')\n",
        "print(acc)\n",
        "print(y.value_counts())\n"
      ]
    },
    {
      "cell_type": "markdown",
      "metadata": {
        "id": "xmsZg4L-Zc7U"
      },
      "source": [
        "CNN WITH ROAD USERS 7---> Motorcyclist"
      ]
    },
    {
      "cell_type": "code",
      "execution_count": null,
      "metadata": {
        "id": "N5V0EAofZnK_"
      },
      "outputs": [],
      "source": [
        "filtered_data = data[data['Road user'] == 7]\n",
        "X = filtered_data[['Count of cases', 'Died_cases', 'Hospitalisations']].values\n",
        "y = (filtered_data['Bed days'] > 30).astype(int).values\n",
        "X_train, X_test, y_train, y_test = train_test_split(X, y, test_size=0.3)"
      ]
    },
    {
      "cell_type": "code",
      "execution_count": null,
      "metadata": {
        "id": "k_69cis-Z4ZU"
      },
      "outputs": [],
      "source": [
        "X_train = torch.Tensor(X_train)\n",
        "y_train = torch.Tensor(y_train)\n",
        "\n",
        "X_test = torch.Tensor(X_test)\n",
        "y_test = torch.Tensor(y_test)\n",
        "\n",
        "train_data = SimpleData(X_train, y_train)\n",
        "test_data = SimpleData(X_test, y_test)\n",
        "\n",
        "train_dl = DataLoader(train_data, batch_size=32, shuffle=True)\n",
        "test_dl = DataLoader(test_data, batch_size=32, shuffle=True)"
      ]
    },
    {
      "cell_type": "code",
      "execution_count": null,
      "metadata": {
        "colab": {
          "base_uri": "https://localhost:8080/"
        },
        "id": "kTL1w0M5Z-fc",
        "outputId": "72ea11af-1f64-4355-e3be-beeeff5b9e04"
      },
      "outputs": [
        {
          "data": {
            "text/plain": [
              "CNNModel(\n",
              "  (conv1): Conv1d(1, 64, kernel_size=(3,), stride=(1,))\n",
              "  (relu): ReLU()\n",
              "  (fc1): Linear(in_features=64, out_features=64, bias=True)\n",
              "  (fc2): Linear(in_features=64, out_features=2, bias=True)\n",
              ")"
            ]
          },
          "execution_count": 68,
          "metadata": {},
          "output_type": "execute_result"
        }
      ],
      "source": [
        "n_features = X_train.shape[1]\n",
        "num_classes = 2\n",
        "\n",
        "model = CNNModel(n_features, num_classes)\n",
        "model"
      ]
    },
    {
      "cell_type": "code",
      "execution_count": null,
      "metadata": {
        "id": "PYslcO4laE0V"
      },
      "outputs": [],
      "source": [
        "optimizer = torch.optim.Adam(model.parameters(),lr=0.001)\n",
        "criterion = torch.nn.CrossEntropyLoss()"
      ]
    },
    {
      "cell_type": "code",
      "execution_count": null,
      "metadata": {
        "colab": {
          "base_uri": "https://localhost:8080/"
        },
        "id": "3YL9cWxkaIuU",
        "outputId": "afed84a4-6fff-4ac3-ffb3-7dc6c5731290"
      },
      "outputs": [
        {
          "name": "stdout",
          "output_type": "stream",
          "text": [
            "Epoch 1 | Loss 0.358\n",
            "Epoch 2 | Loss 0.3199\n",
            "Epoch 3 | Loss 0.3194\n",
            "Epoch 4 | Loss 0.3197\n",
            "Epoch 5 | Loss 0.3168\n",
            "Epoch 6 | Loss 0.3169\n",
            "Epoch 7 | Loss 0.318\n",
            "Epoch 8 | Loss 0.316\n",
            "Epoch 9 | Loss 0.318\n",
            "Epoch 10 | Loss 0.3165\n",
            "Epoch 11 | Loss 0.3155\n",
            "Epoch 12 | Loss 0.3161\n",
            "Epoch 13 | Loss 0.3164\n",
            "Epoch 14 | Loss 0.3174\n",
            "Epoch 15 | Loss 0.3145\n",
            "Epoch 16 | Loss 0.3162\n",
            "Epoch 17 | Loss 0.3155\n",
            "Epoch 18 | Loss 0.316\n",
            "Epoch 19 | Loss 0.3154\n",
            "Epoch 20 | Loss 0.3159\n"
          ]
        }
      ],
      "source": [
        "epochs = 20\n",
        "\n",
        "model.train()\n",
        "for epoch in range(epochs):\n",
        "    losses = list()\n",
        "    for input_data, labels in train_dl:\n",
        "        optimizer.zero_grad()\n",
        "\n",
        "        input_data = input_data.to(device).float()\n",
        "        labels = labels.to(device)\n",
        "\n",
        "        output = model(input_data)\n",
        "        labels = labels.type(torch.LongTensor)\n",
        "        loss = criterion(output, labels)\n",
        "        loss.backward()\n",
        "        losses.append(loss.item())\n",
        "        optimizer.step()\n",
        "\n",
        "    print(f'Epoch {epoch + 1} | Loss {round(sum(losses) / len(losses), 4)}')"
      ]
    },
    {
      "cell_type": "code",
      "execution_count": null,
      "metadata": {
        "colab": {
          "base_uri": "https://localhost:8080/"
        },
        "id": "Kdl7zNcmaTBk",
        "outputId": "003e93c8-d39d-4005-eb89-3ea110d6b304"
      },
      "outputs": [
        {
          "name": "stdout",
          "output_type": "stream",
          "text": [
            "Test Accuracy: 87.84%\n",
            "Precision: 0.8767\n",
            "Recall: 0.6285\n",
            "F1-score: 0.7321\n",
            "(13975,)\n"
          ]
        }
      ],
      "source": [
        "from sklearn.metrics import precision_score, recall_score, f1_score\n",
        "\n",
        "model.eval()\n",
        "total_correct = 0\n",
        "total_samples = 0\n",
        "all_predicted = []\n",
        "all_labels = []\n",
        "\n",
        "with torch.no_grad():\n",
        "    for test_data, test_labels in test_dl:\n",
        "        test_outputs = model(test_data)\n",
        "        _, predicted = torch.max(test_outputs, 1)\n",
        "        total_correct += (predicted == test_labels).sum().item()\n",
        "        total_samples += test_labels.size(0)\n",
        "        all_predicted.extend(predicted.cpu().numpy())\n",
        "        all_labels.extend(test_labels.cpu().numpy())\n",
        "\n",
        "accuracy = total_correct / total_samples\n",
        "print(f'Test Accuracy: {accuracy * 100:.2f}%')\n",
        "\n",
        "precision = precision_score(all_labels, all_predicted, average='binary')\n",
        "recall = recall_score(all_labels, all_predicted, average='binary')\n",
        "f1 = f1_score(all_labels, all_predicted, average='binary')\n",
        "\n",
        "print(f'Precision: {precision:.4f}')\n",
        "print(f'Recall: {recall:.4f}')\n",
        "print(f'F1-score: {f1:.4f}')\n",
        "print(y.shape)\n",
        "\n"
      ]
    },
    {
      "cell_type": "markdown",
      "metadata": {
        "id": "p_BuGp1lacfi"
      },
      "source": [
        "PERCEPTRON CLASSIFICATION WITH ROAD USERS 11 ===> Pedestrian"
      ]
    },
    {
      "cell_type": "code",
      "execution_count": null,
      "metadata": {
        "colab": {
          "base_uri": "https://localhost:8080/"
        },
        "id": "tNnziTQDaj9F",
        "outputId": "257cb4ce-75fe-416c-d1e6-cd5312c0ba73"
      },
      "outputs": [
        {
          "name": "stdout",
          "output_type": "stream",
          "text": [
            "Epoch 1/20\n",
            "162/162 [==============================] - 2s 6ms/step - loss: 0.5825 - accuracy: 0.8238 - val_loss: 0.4609 - val_accuracy: 0.8546\n",
            "Epoch 2/20\n",
            "162/162 [==============================] - 1s 4ms/step - loss: 0.4086 - accuracy: 0.8524 - val_loss: 0.3809 - val_accuracy: 0.8537\n",
            "Epoch 3/20\n",
            "162/162 [==============================] - 1s 5ms/step - loss: 0.3720 - accuracy: 0.8521 - val_loss: 0.3751 - val_accuracy: 0.8519\n",
            "Epoch 4/20\n",
            "162/162 [==============================] - 0s 3ms/step - loss: 0.3678 - accuracy: 0.8550 - val_loss: 0.3738 - val_accuracy: 0.8519\n",
            "Epoch 5/20\n",
            "162/162 [==============================] - 1s 3ms/step - loss: 0.3674 - accuracy: 0.8534 - val_loss: 0.3715 - val_accuracy: 0.8532\n",
            "Epoch 6/20\n",
            "162/162 [==============================] - 1s 4ms/step - loss: 0.3668 - accuracy: 0.8538 - val_loss: 0.3750 - val_accuracy: 0.8519\n",
            "Epoch 7/20\n",
            "162/162 [==============================] - 1s 5ms/step - loss: 0.3682 - accuracy: 0.8526 - val_loss: 0.3719 - val_accuracy: 0.8555\n",
            "Epoch 8/20\n",
            "162/162 [==============================] - 1s 4ms/step - loss: 0.3654 - accuracy: 0.8553 - val_loss: 0.3705 - val_accuracy: 0.8550\n",
            "Epoch 9/20\n",
            "162/162 [==============================] - 1s 5ms/step - loss: 0.3662 - accuracy: 0.8519 - val_loss: 0.3710 - val_accuracy: 0.8532\n",
            "Epoch 10/20\n",
            "162/162 [==============================] - 1s 4ms/step - loss: 0.3675 - accuracy: 0.8544 - val_loss: 0.3746 - val_accuracy: 0.8519\n",
            "Epoch 11/20\n",
            "162/162 [==============================] - 0s 3ms/step - loss: 0.3656 - accuracy: 0.8534 - val_loss: 0.3694 - val_accuracy: 0.8532\n",
            "Epoch 12/20\n",
            "162/162 [==============================] - 0s 3ms/step - loss: 0.3660 - accuracy: 0.8515 - val_loss: 0.3715 - val_accuracy: 0.8550\n",
            "Epoch 13/20\n",
            "162/162 [==============================] - 0s 3ms/step - loss: 0.3657 - accuracy: 0.8542 - val_loss: 0.3697 - val_accuracy: 0.8546\n",
            "Epoch 14/20\n",
            "162/162 [==============================] - 0s 3ms/step - loss: 0.3649 - accuracy: 0.8534 - val_loss: 0.3732 - val_accuracy: 0.8509\n",
            "Epoch 15/20\n",
            "162/162 [==============================] - 0s 3ms/step - loss: 0.3651 - accuracy: 0.8542 - val_loss: 0.3694 - val_accuracy: 0.8546\n",
            "Epoch 16/20\n",
            "162/162 [==============================] - 0s 3ms/step - loss: 0.3639 - accuracy: 0.8550 - val_loss: 0.3694 - val_accuracy: 0.8546\n",
            "Epoch 17/20\n",
            "162/162 [==============================] - 0s 3ms/step - loss: 0.3653 - accuracy: 0.8503 - val_loss: 0.3807 - val_accuracy: 0.8541\n",
            "Epoch 18/20\n",
            "162/162 [==============================] - 0s 2ms/step - loss: 0.3660 - accuracy: 0.8515 - val_loss: 0.3708 - val_accuracy: 0.8546\n",
            "Epoch 19/20\n",
            "162/162 [==============================] - 0s 3ms/step - loss: 0.3646 - accuracy: 0.8561 - val_loss: 0.3719 - val_accuracy: 0.8546\n",
            "Epoch 20/20\n",
            "162/162 [==============================] - 0s 3ms/step - loss: 0.3644 - accuracy: 0.8540 - val_loss: 0.3748 - val_accuracy: 0.8519\n"
          ]
        },
        {
          "data": {
            "text/plain": [
              "<keras.src.callbacks.History at 0x7ff38ba938e0>"
            ]
          },
          "execution_count": 73,
          "metadata": {},
          "output_type": "execute_result"
        }
      ],
      "source": [
        "filtered_data = data[data['Road user'] == 11]\n",
        "X = filtered_data[['Count of cases', 'Died_cases', 'Hospitalisations']]\n",
        "y = (filtered_data['Bed days'] > 30).astype(int)\n",
        "X_train, X_test, y_train, y_test = train_test_split(X, y, test_size=0.3)\n",
        "model = Sequential()\n",
        "model.add(Dense(units=64, activation='relu', input_dim=3))\n",
        "model.add(Dense(units=1, activation='sigmoid'))\n",
        "model.compile(optimizer='adam', loss='binary_crossentropy', metrics=['accuracy'])\n",
        "model.fit(X_train, y_train, epochs=20, batch_size=32, validation_data=(X_test, y_test))\n"
      ]
    },
    {
      "cell_type": "code",
      "execution_count": null,
      "metadata": {
        "colab": {
          "base_uri": "https://localhost:8080/"
        },
        "id": "CFqlpwIPa0mA",
        "outputId": "6ddf4905-f3c2-495a-8bd2-36f9571e02f0"
      },
      "outputs": [
        {
          "name": "stdout",
          "output_type": "stream",
          "text": [
            "70/70 [==============================] - 0s 2ms/step\n",
            "Precision: 0.8037578288100209\n",
            "Recall: 0.6219709208400647\n",
            "F1 Score: 0.7012750455373408\n",
            "0.8518518518518519\n",
            "0    5330\n",
            "1    2048\n",
            "Name: Bed days, dtype: int64\n"
          ]
        }
      ],
      "source": [
        "predictions = model.predict(X_test)\n",
        "\n",
        "binary_predictions = (predictions > 0.5).astype(int)\n",
        "\n",
        "precision = precision_score(y_test, binary_predictions)\n",
        "recall = recall_score(y_test, binary_predictions)\n",
        "f1 = f1_score(y_test, binary_predictions)\n",
        "acc = accuracy_score(y_test, binary_predictions)\n",
        "\n",
        "\n",
        "print(f'Precision: {precision}')\n",
        "print(f'Recall: {recall}')\n",
        "print(f'F1 Score: {f1}')\n",
        "print(acc)\n",
        "print(y.value_counts())\n"
      ]
    },
    {
      "cell_type": "markdown",
      "metadata": {
        "id": "6B8b1zSObk6G"
      },
      "source": [
        "CNN CLASSIFICATION WITH ROAD USERS 11 ===> Pedestrian"
      ]
    },
    {
      "cell_type": "code",
      "execution_count": null,
      "metadata": {
        "id": "fUVeKOizbfjs"
      },
      "outputs": [],
      "source": [
        "filtered_data = data[data['Road user'] == 11]\n",
        "X = filtered_data[['Count of cases', 'Died_cases', 'Hospitalisations']].values\n",
        "y = (filtered_data['Bed days'] > 30).astype(int).values\n",
        "X_train, X_test, y_train, y_test = train_test_split(X, y, test_size=0.3)"
      ]
    },
    {
      "cell_type": "code",
      "execution_count": null,
      "metadata": {
        "id": "teZ6-waLbz6_"
      },
      "outputs": [],
      "source": [
        "X_train = torch.Tensor(X_train)\n",
        "y_train = torch.Tensor(y_train)\n",
        "\n",
        "X_test = torch.Tensor(X_test)\n",
        "y_test = torch.Tensor(y_test)\n",
        "\n",
        "train_data = SimpleData(X_train, y_train)\n",
        "test_data = SimpleData(X_test, y_test)\n",
        "\n",
        "train_dl = DataLoader(train_data, batch_size=32, shuffle=True)\n",
        "test_dl = DataLoader(test_data, batch_size=32, shuffle=True)"
      ]
    },
    {
      "cell_type": "code",
      "execution_count": null,
      "metadata": {
        "colab": {
          "base_uri": "https://localhost:8080/"
        },
        "id": "4MpyZzo_b4cj",
        "outputId": "80fd6342-3de3-4dff-efc7-6480ae50ed69"
      },
      "outputs": [
        {
          "data": {
            "text/plain": [
              "CNNModel(\n",
              "  (conv1): Conv1d(1, 64, kernel_size=(3,), stride=(1,))\n",
              "  (relu): ReLU()\n",
              "  (fc1): Linear(in_features=64, out_features=64, bias=True)\n",
              "  (fc2): Linear(in_features=64, out_features=2, bias=True)\n",
              ")"
            ]
          },
          "execution_count": 77,
          "metadata": {},
          "output_type": "execute_result"
        }
      ],
      "source": [
        "n_features = X_train.shape[1]\n",
        "num_classes = 2\n",
        "\n",
        "model = CNNModel(n_features, num_classes)\n",
        "model"
      ]
    },
    {
      "cell_type": "code",
      "execution_count": null,
      "metadata": {
        "id": "TBiX1uGrb-Mc"
      },
      "outputs": [],
      "source": [
        "optimizer = torch.optim.Adam(model.parameters(),lr=0.001)\n",
        "criterion = torch.nn.CrossEntropyLoss()"
      ]
    },
    {
      "cell_type": "code",
      "execution_count": null,
      "metadata": {
        "colab": {
          "base_uri": "https://localhost:8080/"
        },
        "id": "EvH0PSJBcCuw",
        "outputId": "0af33491-a28a-405f-81e6-d4864d775911"
      },
      "outputs": [
        {
          "name": "stdout",
          "output_type": "stream",
          "text": [
            "Epoch 1 | Loss 0.426\n",
            "Epoch 2 | Loss 0.3753\n",
            "Epoch 3 | Loss 0.374\n",
            "Epoch 4 | Loss 0.372\n",
            "Epoch 5 | Loss 0.3736\n",
            "Epoch 6 | Loss 0.3729\n",
            "Epoch 7 | Loss 0.372\n",
            "Epoch 8 | Loss 0.3711\n",
            "Epoch 9 | Loss 0.3732\n",
            "Epoch 10 | Loss 0.3732\n",
            "Epoch 11 | Loss 0.3728\n",
            "Epoch 12 | Loss 0.3706\n",
            "Epoch 13 | Loss 0.3694\n",
            "Epoch 14 | Loss 0.3703\n",
            "Epoch 15 | Loss 0.3712\n",
            "Epoch 16 | Loss 0.3711\n",
            "Epoch 17 | Loss 0.3722\n",
            "Epoch 18 | Loss 0.3724\n",
            "Epoch 19 | Loss 0.3706\n",
            "Epoch 20 | Loss 0.371\n"
          ]
        }
      ],
      "source": [
        "epochs = 20\n",
        "\n",
        "model.train()\n",
        "for epoch in range(epochs):\n",
        "    losses = list()\n",
        "    for input_data, labels in train_dl:\n",
        "        optimizer.zero_grad()\n",
        "\n",
        "        input_data = input_data.to(device).float()\n",
        "        labels = labels.to(device)\n",
        "\n",
        "        output = model(input_data)\n",
        "        labels = labels.type(torch.LongTensor)\n",
        "        loss = criterion(output, labels)\n",
        "        loss.backward()\n",
        "        losses.append(loss.item())\n",
        "        optimizer.step()\n",
        "\n",
        "    print(f'Epoch {epoch + 1} | Loss {round(sum(losses) / len(losses), 4)}')"
      ]
    },
    {
      "cell_type": "code",
      "execution_count": null,
      "metadata": {
        "colab": {
          "base_uri": "https://localhost:8080/"
        },
        "id": "pwlEtWQAcHQC",
        "outputId": "ab34bf8d-d9aa-44a5-9ab8-188be1cb65aa"
      },
      "outputs": [
        {
          "name": "stdout",
          "output_type": "stream",
          "text": [
            "Test Accuracy: 85.55%\n",
            "Precision: 0.8073\n",
            "Recall: 0.6388\n",
            "F1-score: 0.7133\n",
            "(7378,)\n"
          ]
        }
      ],
      "source": [
        "from sklearn.metrics import precision_score, recall_score, f1_score\n",
        "\n",
        "model.eval()\n",
        "total_correct = 0\n",
        "total_samples = 0\n",
        "all_predicted = []\n",
        "all_labels = []\n",
        "\n",
        "with torch.no_grad():\n",
        "    for test_data, test_labels in test_dl:\n",
        "        test_outputs = model(test_data)\n",
        "        _, predicted = torch.max(test_outputs, 1)\n",
        "        total_correct += (predicted == test_labels).sum().item()\n",
        "        total_samples += test_labels.size(0)\n",
        "        all_predicted.extend(predicted.cpu().numpy())\n",
        "        all_labels.extend(test_labels.cpu().numpy())\n",
        "\n",
        "accuracy = total_correct / total_samples\n",
        "print(f'Test Accuracy: {accuracy * 100:.2f}%')\n",
        "\n",
        "precision = precision_score(all_labels, all_predicted, average='binary')\n",
        "recall = recall_score(all_labels, all_predicted, average='binary')\n",
        "f1 = f1_score(all_labels, all_predicted, average='binary')\n",
        "\n",
        "print(f'Precision: {precision:.4f}')\n",
        "print(f'Recall: {recall:.4f}')\n",
        "print(f'F1-score: {f1:.4f}')\n",
        "print(y.shape)\n",
        "\n"
      ]
    },
    {
      "cell_type": "markdown",
      "source": [
        "**describe**"
      ],
      "metadata": {
        "id": "jodng8EVCSTJ"
      }
    },
    {
      "cell_type": "code",
      "source": [
        "import matplotlib.pyplot as plt\n",
        "import seaborn as sns\n",
        "import pandas as pd\n",
        "\n",
        "data = {\n",
        "    'Model': ['Perceptron', 'CNN', 'XGBoost'],\n",
        "    'Accuracy': [82, 82, 83],\n",
        "    'Precision': [88, 76, 76],\n",
        "    'Recall': [56, 68, 75],\n",
        "    'F1 Score': [69, 72, 75]\n",
        "}\n",
        "\n",
        "df = pd.DataFrame(data)\n",
        "\n",
        "fig, axes = plt.subplots(nrows=2, ncols=2, figsize=(12, 10))\n",
        "\n",
        "sns.barplot(x='Model', y='Accuracy', data=df, ax=axes[0, 0])\n",
        "axes[0, 0].set_title('Accuracy Comparison for without separation ')\n",
        "\n",
        "sns.barplot(x='Model', y='Precision', data=df, ax=axes[0, 1])\n",
        "axes[0, 1].set_title('Precision Comparison without separation')\n",
        "\n",
        "sns.barplot(x='Model', y='Recall', data=df, ax=axes[1, 0])\n",
        "axes[1, 0].set_title('Recall Comparison without separation' )\n",
        "\n",
        "sns.barplot(x='Model', y='F1 Score', data=df, ax=axes[1, 1])\n",
        "axes[1, 1].set_title('F1 Score Comparison without separation')\n",
        "\n",
        "plt.tight_layout()\n",
        "plt.show()\n"
      ],
      "metadata": {
        "colab": {
          "base_uri": "https://localhost:8080/",
          "height": 922
        },
        "id": "WqjUuv-rCgZa",
        "outputId": "ee02715c-d715-4d3a-eee3-5696c5c6baef"
      },
      "execution_count": 1,
      "outputs": [
        {
          "output_type": "display_data",
          "data": {
            "text/plain": [
              "<Figure size 1200x1000 with 4 Axes>"
            ],
            "image/png": "[encoded data removed]"
          },
          "metadata": {}
        }
      ]
    },
    {
      "cell_type": "code",
      "source": [
        "import seaborn as sns\n",
        "import matplotlib.pyplot as plt\n",
        "\n",
        "# مقادیر معیارها برای هر کلاسیفایر\n",
        "classifiers = [\"Perceptron\", \"CNN\", \"XGBoost\"]\n",
        "metrics = [\"Accuracy\", \"Precision\", \"Recall\", \"F1 Score\"]\n",
        "\n",
        "# ایجاد DataFrame\n",
        "data = {\n",
        "    \"Classifier\": sum([[c] * len(metrics) for c in classifiers], []),\n",
        "    \"Metric\": metrics * len(classifiers),\n",
        "    \"Value\": [82, 88, 56, 69,\n",
        "              82, 76, 68, 72,\n",
        "              83, 76, 75, 75]\n",
        "}\n",
        "\n",
        "df = pd.DataFrame(data)\n",
        "\n",
        "# ایجاد نمودار Facet\n",
        "plt.figure(figsize=(12, 8))\n",
        "sns.set_theme(style=\"whitegrid\")\n",
        "\n",
        "g = sns.catplot(\n",
        "    x=\"Metric\", y=\"Value\", hue=\"Classifier\",\n",
        "    data=df, kind=\"bar\",\n",
        "    height=6, aspect=1.5\n",
        ")\n",
        "\n",
        "# افزودن عنوان\n",
        "plt.title('Comparison of Metrics for without separation')\n",
        "\n",
        "# نمایش نمودار\n",
        "plt.show()\n"
      ],
      "metadata": {
        "colab": {
          "base_uri": "https://localhost:8080/",
          "height": 640
        },
        "id": "bX22l5rTFuZZ",
        "outputId": "0cfdf11c-f4b4-4d98-cbc7-a74e0eb37253"
      },
      "execution_count": 2,
      "outputs": [
        {
          "output_type": "display_data",
          "data": {
            "text/plain": [
              "<Figure size 1200x800 with 0 Axes>"
            ]
          },
          "metadata": {}
        },
        {
          "output_type": "display_data",
          "data": {
            "text/plain": [
              "<Figure size 1038x600 with 1 Axes>"
            ],
            "image/png": "[encoded data removed]"
          },
          "metadata": {}
        }
      ]
    },
    {
      "cell_type": "code",
      "source": [
        "import matplotlib.pyplot as plt\n",
        "import numpy as np\n",
        "\n",
        "labels = ['Accuracy', 'Precision', 'Recall', 'F1 Score']\n",
        "perceptron_values = [82, 88, 56, 69]\n",
        "cnn_values = [82, 76, 68, 72]\n",
        "xgboost_values = [83, 76, 75, 75]\n",
        "\n",
        "num_dimensions = len(labels)\n",
        "\n",
        "angles = np.linspace(0, 2 * np.pi, num_dimensions, endpoint=False).tolist()\n",
        "\n",
        "angles += angles[:1]\n",
        "\n",
        "plt.figure(figsize=(8, 8))\n",
        "\n",
        "plt.polar(angles, perceptron_values + perceptron_values[:1], label='Perceptron')\n",
        "plt.polar(angles, cnn_values + cnn_values[:1], label='CNN')\n",
        "plt.polar(angles, xgboost_values + xgboost_values[:1], label='XGBoost')\n",
        "\n",
        "plt.xticks(angles[:-1], labels)\n",
        "\n",
        "plt.title('Comparison of Metrics without separation')\n",
        "\n",
        "plt.legend()\n",
        "\n",
        "plt.show()\n"
      ],
      "metadata": {
        "colab": {
          "base_uri": "https://localhost:8080/",
          "height": 736
        },
        "id": "IYAtsuIHI3AF",
        "outputId": "217cc925-30a0-4239-cef8-8010cb7528d1"
      },
      "execution_count": 4,
      "outputs": [
        {
          "output_type": "display_data",
          "data": {
            "text/plain": [
              "<Figure size 800x800 with 1 Axes>"
            ],
            "image/png": "[encoded data removed]"
          },
          "metadata": {}
        }
      ]
    }
  ],
  "metadata": {
    "colab": {
      "provenance": []
    },
    "kernelspec": {
      "display_name": "Python 3",
      "name": "python3"
    },
    "language_info": {
      "name": "python"
    }
  },
  "nbformat": 4,
  "nbformat_minor": 0
}