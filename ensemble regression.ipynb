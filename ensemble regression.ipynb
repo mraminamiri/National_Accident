{
 "cells": [
  {
   "cell_type": "code",
   "execution_count": 1,
   "id": "9414c097",
   "metadata": {},
   "outputs": [],
   "source": [
    "import statsmodels.api as sm\n",
    "from sklearn.model_selection import train_test_split\n",
    "import pandas as pd\n",
    "import pandas as pd\n",
    "import numpy as np \n",
    "import matplotlib.pyplot as plt\n",
    "import seaborn as sns\n",
    "import seaborn as sns\n",
    "import matplotlib.pyplot as plt\n",
    "from sklearn.cluster import KMeans\n",
    "from sklearn.preprocessing import StandardScaler, LabelEncoder\n",
    "from sklearn.cluster import KMeans\n",
    "from sklearn.model_selection import train_test_split\n",
    "from sklearn.ensemble import RandomForestClassifier\n",
    "from sklearn.metrics import accuracy_score, classification_report\n",
    "from sklearn.metrics import confusion_matrix\n",
    "from sklearn.linear_model import LogisticRegression\n",
    "from sklearn.model_selection import train_test_split\n",
    "from sklearn.tree import DecisionTreeClassifier\n",
    "from sklearn.metrics import accuracy_score, classification_report, confusion_matrix\n",
    "import matplotlib.pyplot as plt\n",
    "import seaborn as sns\n",
    "from sklearn.linear_model import LinearRegression\n",
    "from sklearn.model_selection import train_test_split\n",
    "from sklearn.metrics import mean_squared_error, r2_score\n",
    "import numpy as np\n",
    "import pandas as pd \n",
    "import numpy as np\n",
    "import seaborn as sns\n",
    "from sklearn.preprocessing import StandardScaler\n",
    "from sklearn.model_selection import train_test_split\n",
    "from sklearn.metrics import accuracy_score\n",
    "from sklearn.tree import DecisionTreeClassifier\n",
    "from sklearn.linear_model import LogisticRegression\n",
    "import statsmodels.api as sm\n",
    "import statsmodels.api as sm\n",
    "import statsmodels.api as sm\n",
    "from sklearn.metrics import precision_score,recall_score,f1_score\n",
    "from sklearn.metrics import confusion_matrix\n",
    "\n",
    "\n",
    "import statsmodels.api as sm\n",
    "import pandas as pd\n",
    "import numpy as np\n",
    "from statsmodels.tsa.arima.model import ARIMA\n",
    "from sklearn.metrics import mean_squared_error, mean_absolute_error, r2_score\n",
    "from statsmodels.tools.eval_measures import rmse\n",
    "import pandas as pd\n",
    "import numpy as np \n",
    "import matplotlib.pyplot as plt\n",
    "import seaborn as sns\n",
    "import seaborn as sns\n",
    "import matplotlib.pyplot as plt\n",
    "from sklearn.cluster import KMeans\n",
    "from sklearn.preprocessing import StandardScaler, LabelEncoder\n",
    "from sklearn.cluster import KMeans\n",
    "from sklearn.model_selection import train_test_split\n",
    "from sklearn.ensemble import RandomForestClassifier\n",
    "from sklearn.metrics import accuracy_score, classification_report\n",
    "from sklearn.metrics import confusion_matrix\n",
    "from sklearn.linear_model import LogisticRegression\n",
    "from sklearn.model_selection import train_test_split\n",
    "from sklearn.tree import DecisionTreeClassifier\n",
    "from sklearn.metrics import accuracy_score, classification_report, confusion_matrix\n",
    "import matplotlib.pyplot as plt\n",
    "import seaborn as sns\n",
    "from sklearn.linear_model import LinearRegression\n",
    "from sklearn.model_selection import train_test_split\n",
    "from sklearn.metrics import mean_squared_error, r2_score\n",
    "import numpy as np\n",
    "import pandas as pd \n",
    "import numpy as np\n",
    "import seaborn as sns\n",
    "from sklearn.preprocessing import StandardScaler\n",
    "from sklearn.model_selection import train_test_split\n",
    "from sklearn.metrics import accuracy_score\n",
    "from sklearn.tree import DecisionTreeClassifier\n",
    "from sklearn.linear_model import LogisticRegression\n",
    "from sklearn.metrics import precision_score,recall_score,f1_score\n",
    "from sklearn.metrics import confusion_matrix\n",
    "from sklearn.svm import SVR\n",
    "from sklearn.datasets import load_boston\n",
    "from sklearn.model_selection import train_test_split\n",
    "from sklearn.metrics import mean_squared_error"
   ]
  },
  {
   "cell_type": "code",
   "execution_count": 2,
   "id": "dade2b8c",
   "metadata": {},
   "outputs": [],
   "source": [
    "data = pd.read_csv('final_with_covid_AS.csv')\n"
   ]
  },
  {
   "cell_type": "code",
   "execution_count": 3,
   "id": "f71b41f0",
   "metadata": {},
   "outputs": [
    {
     "name": "stdout",
     "output_type": "stream",
     "text": [
      "<class 'pandas.core.frame.DataFrame'>\n",
      "Int64Index: 12582 entries, 11 to 54025\n",
      "Data columns (total 58 columns):\n",
      " #   Column           Non-Null Count  Dtype  \n",
      "---  ------           --------------  -----  \n",
      " 0   CountCases       12582 non-null  int64  \n",
      " 1   BedDys           12582 non-null  int64  \n",
      " 2   BeddystoCC       12582 non-null  float64\n",
      " 3   Severity         12582 non-null  int64  \n",
      " 4   DiedCases        12582 non-null  int64  \n",
      " 5   DiedBdDys        12582 non-null  int64  \n",
      " 6   Hsptlsns         12582 non-null  int64  \n",
      " 7   April            12582 non-null  int64  \n",
      " 8   August           12582 non-null  int64  \n",
      " 9   December         12582 non-null  int64  \n",
      " 10  February         12582 non-null  int64  \n",
      " 11  January          12582 non-null  int64  \n",
      " 12  July             12582 non-null  int64  \n",
      " 13  June             12582 non-null  int64  \n",
      " 14  March            12582 non-null  int64  \n",
      " 15  May              12582 non-null  int64  \n",
      " 16  November         12582 non-null  int64  \n",
      " 17  October          12582 non-null  int64  \n",
      " 18  September        12582 non-null  int64  \n",
      " 19  MajorCities      12582 non-null  int64  \n",
      " 20  Regional         12582 non-null  int64  \n",
      " 21  Female           12582 non-null  int64  \n",
      " 22  Male             12582 non-null  int64  \n",
      " 23  Age07            12582 non-null  int64  \n",
      " 24  Age816           12582 non-null  int64  \n",
      " 25  Age1725          12582 non-null  int64  \n",
      " 26  Age2639          12582 non-null  int64  \n",
      " 27  Age4064          12582 non-null  int64  \n",
      " 28  Age6574          12582 non-null  int64  \n",
      " 29  Age75plus        12582 non-null  int64  \n",
      " 30  CarDriver        12582 non-null  int64  \n",
      " 31  CarPngr          12582 non-null  int64  \n",
      " 32  Mtrcyclist       12582 non-null  int64  \n",
      " 33  PdlCyclist       12582 non-null  int64  \n",
      " 34  Pedestrian       12582 non-null  int64  \n",
      " 35  Cntrprt23WldMV   12582 non-null  int64  \n",
      " 36  CntrprtCrTrkVn   12582 non-null  int64  \n",
      " 37  CntrprtFxdStnry  12582 non-null  int64  \n",
      " 38  CntrprtHvyVhcl   12582 non-null  int64  \n",
      " 39  CntrprtNClsn     12582 non-null  int64  \n",
      " 40  CntrprtNA        12582 non-null  int64  \n",
      " 41  CntrprtOther     12582 non-null  int64  \n",
      " 42  CntrprtNMV       12582 non-null  int64  \n",
      " 43  CntrprtPdlC      12582 non-null  int64  \n",
      " 44  CntrprtPdstAnml  12582 non-null  int64  \n",
      " 45  CntrprtTrn       12582 non-null  int64  \n",
      " 46  Y2011            12582 non-null  int64  \n",
      " 47  Y2012            12582 non-null  int64  \n",
      " 48  Y2013            12582 non-null  int64  \n",
      " 49  Y2014            12582 non-null  int64  \n",
      " 50  Y2015            12582 non-null  int64  \n",
      " 51  Y2016            12582 non-null  int64  \n",
      " 52  Y2017            12582 non-null  int64  \n",
      " 53  Y2018            12582 non-null  int64  \n",
      " 54  Y2019            12582 non-null  int64  \n",
      " 55  Y2020            12582 non-null  int64  \n",
      " 56  Y2021            12582 non-null  int64  \n",
      " 57  CovidPrd         12582 non-null  int64  \n",
      "dtypes: float64(1), int64(57)\n",
      "memory usage: 5.7 MB\n"
     ]
    }
   ],
   "source": [
    "filtered_data = data[data['CarDriver'] == 1]\n",
    "filtered_data.info()"
   ]
  },
  {
   "cell_type": "code",
   "execution_count": 4,
   "id": "5b718cfa",
   "metadata": {},
   "outputs": [],
   "source": [
    "target = filtered_data['Hsptlsns'].shift(-1)"
   ]
  },
  {
   "cell_type": "code",
   "execution_count": 5,
   "id": "c5928dbd",
   "metadata": {},
   "outputs": [
    {
     "name": "stderr",
     "output_type": "stream",
     "text": [
      "/Users/amin/opt/anaconda3/lib/python3.9/site-packages/xgboost/core.py:160: UserWarning: [00:26:16] WARNING: /Users/runner/work/xgboost/xgboost/src/learner.cc:742: \n",
      "Parameters: { \"n_estimators\" } are not used.\n",
      "\n",
      "  warnings.warn(smsg, UserWarning)\n"
     ]
    }
   ],
   "source": [
    "import statsmodels.api as sm\n",
    "from sklearn.model_selection import train_test_split\n",
    "from sklearn.metrics import mean_squared_error, mean_absolute_error\n",
    "import numpy as np\n",
    "import pandas as pd\n",
    "import xgboost as xgb\n",
    "\n",
    "\n",
    "import statsmodels.api as sm\n",
    "from sklearn.model_selection import train_test_split\n",
    "from sklearn.metrics import mean_squared_error, mean_absolute_error\n",
    "import numpy as np\n",
    "import pandas as pd\n",
    "\n",
    "\n",
    "\n",
    "X = filtered_data[['Age1725','Age2639','Age4064','Age6574','Age75plus',\n",
    "                   'Male',\n",
    "                   'Regional',\n",
    "\n",
    "                   'April','December','February','January','July',\n",
    "                   'June','March','May','November','October','September',\n",
    "\n",
    "                   'Cntrprt23WldMV','CntrprtFxdStnry','CntrprtHvyVhcl',\n",
    "                   'CntrprtNClsn','CntrprtOther','CntrprtNMV','CntrprtCrTrkVn',\n",
    "                   'CntrprtPdlC','CntrprtPdstAnml','CntrprtTrn',\n",
    "\n",
    "                   'Y2014','Y2015','Y2016','Y2017','Y2018','Y2019','Y2020','Y2021',\n",
    "                   'Y2013','Y2012',\n",
    "                   'CovidPrd']].iloc[:-1,:]\n",
    "\n",
    "\n",
    "y = target.iloc[:-1]\n",
    "\n",
    "\n",
    "import statsmodels.api as sm\n",
    "import xgboost as xgb\n",
    "from sklearn.model_selection import train_test_split\n",
    "from sklearn.metrics import mean_squared_error, mean_absolute_error\n",
    "import numpy as np\n",
    "import pandas as pd\n",
    "\n",
    "\n",
    "# تقسیم داده‌ها به آموزش و تست\n",
    "x_train, x_test, y_train, y_test = train_test_split(X, y, test_size=0.3, random_state=45)\n",
    "\n",
    "# تعریف مدل XGBoost\n",
    "params = {\n",
    "    'objective': 'count:poisson', # برای پواسون رگرسیون\n",
    "    'eval_metric': 'poisson-nloglik',\n",
    "    'n_estimators': 500,\n",
    "    'max_depth': 10,\n",
    "    'eta': 0.05\n",
    "}\n",
    "dtrain = xgb.DMatrix(x_train, label=y_train)\n",
    "dtest = xgb.DMatrix(x_test, label=y_test)\n",
    "xgb_model = xgb.train(params, dtrain, num_boost_round=1000)\n",
    "\n",
    "# پیش‌بینی با XGBoost\n",
    "y_pred_xgb = xgb_model.predict(dtest)\n",
    "\n",
    "# تعریف مدل پواسون رگرسیون با statsmodels\n",
    "poisson_model = sm.GLM(y_train, x_train, family=sm.families.Poisson()).fit()\n",
    "\n",
    "# پیش‌بینی با پواسون رگرسیون\n",
    "y_pred_poisson = poisson_model.predict(x_test)\n",
    "\n",
    "# ترکیب پیش‌بینی‌ها\n",
    "# می‌توانید وزن‌های مختلفی را امتحان کنید یا از یک مدل متا-لرنر استفاده کنید\n",
    "y_pred_combined = (y_pred_xgb + y_pred_poisson) / 2\n"
   ]
  },
  {
   "cell_type": "code",
   "execution_count": 6,
   "id": "b5dd191e",
   "metadata": {},
   "outputs": [
    {
     "name": "stdout",
     "output_type": "stream",
     "text": [
      "Mean Squared Error (MSE): 30.228831600816747\n",
      "Mean Absolute Error (MAE): 2.8503679176083496\n",
      "R² Score: 0.8708755800868445\n"
     ]
    }
   ],
   "source": [
    "from sklearn.metrics import mean_squared_error, mean_absolute_error\n",
    "\n",
    "# محاسبه خطای میانگین مربعات (MSE) و خطای میانگین مطلق (MAE)\n",
    "mse = mean_squared_error(y_test, y_pred_combined)\n",
    "mae = mean_absolute_error(y_test, y_pred_combined)\n",
    "\n",
    "print(\"Mean Squared Error (MSE):\", mse)\n",
    "print(\"Mean Absolute Error (MAE):\", mae)\n",
    "from sklearn.metrics import r2_score\n",
    "\n",
    "# محاسبه R²\n",
    "r2 = r2_score(y_test, y_pred_combined)\n",
    "\n",
    "print(\"R² Score:\", r2)"
   ]
  },
  {
   "cell_type": "code",
   "execution_count": 14,
   "id": "4158aaf9",
   "metadata": {},
   "outputs": [
    {
     "data": {
      "text/plain": [
       "0.854240068964202"
      ]
     },
     "execution_count": 14,
     "metadata": {},
     "output_type": "execute_result"
    }
   ],
   "source": [
    "Adj_r2 = 1 - (1-r2_score(y_test, y_pred_combined)) * (len(y)-1)/(len(y)-X.shape[1]-1)\n",
    "Adj_r2"
   ]
  },
  {
   "cell_type": "code",
   "execution_count": 7,
   "id": "627fae2d",
   "metadata": {},
   "outputs": [
    {
     "data": {
      "image/png": "[encoded data removed]",
      "text/plain": [
       "<Figure size 1000x600 with 1 Axes>"
      ]
     },
     "metadata": {},
     "output_type": "display_data"
    }
   ],
   "source": [
    "import matplotlib.pyplot as plt\n",
    "import seaborn as sns\n",
    "\n",
    "# تنظیمات اصلی نمودار\n",
    "sns.set_style(\"whitegrid\")\n",
    "plt.figure(figsize=(10, 6))\n",
    "\n",
    "# رسم نمودار پراکنش پیش‌بینی‌ها در مقابل مقادیر واقعی\n",
    "sns.scatterplot(x=y_test, y=y_pred_combined, alpha=0.6)\n",
    "plt.xlabel(\"Actual Values\")\n",
    "plt.ylabel(\"Predicted Values\")\n",
    "\n",
    "# رسم خط برابری (y=x) برای مقایسه بهتر\n",
    "plt.plot(y_test, y_test, color='red', linewidth=2)\n",
    "\n",
    "# نمایش نمودار\n",
    "plt.show()"
   ]
  },
  {
   "cell_type": "code",
   "execution_count": 15,
   "id": "c40ab7b6",
   "metadata": {},
   "outputs": [
    {
     "name": "stderr",
     "output_type": "stream",
     "text": [
      "/Users/amin/opt/anaconda3/lib/python3.9/site-packages/xgboost/core.py:160: UserWarning: [00:52:31] WARNING: /Users/runner/work/xgboost/xgboost/src/learner.cc:742: \n",
      "Parameters: { \"n_estimators\" } are not used.\n",
      "\n",
      "  warnings.warn(smsg, UserWarning)\n"
     ]
    },
    {
     "name": "stdout",
     "output_type": "stream",
     "text": [
      "Mean Squared Error (MSE): 13.099295078366403\n",
      "Mean Absolute Error (MAE): 2.3295969185709215\n",
      "R² Score: 0.854691947923693\n"
     ]
    }
   ],
   "source": [
    "mean_y = np.mean(y)\n",
    "std_y = np.std(y)\n",
    "outlier_threshold_high = mean_y + 3 * std_y\n",
    "outlier_threshold_low = mean_y - 3 * std_y\n",
    "\n",
    "mask = (y > outlier_threshold_low) & (y < outlier_threshold_high)\n",
    "\n",
    "X_filtered = X[mask]\n",
    "y_filtered = y[mask]\n",
    "\n",
    "x_train, x_test, y_train, y_test = train_test_split(X_filtered, y_filtered, test_size=0.3,random_state=42)\n",
    "\n",
    "x_train = sm.add_constant(x_train)\n",
    "x_test = sm.add_constant(x_test)\n",
    "\n",
    "\n",
    "# تعریف مدل XGBoost\n",
    "params = {\n",
    "    'objective': 'count:poisson', # برای پواسون رگرسیون\n",
    "    'eval_metric': 'poisson-nloglik',\n",
    "    'n_estimators': 500,\n",
    "    'max_depth': 10,\n",
    "    'eta': 0.05\n",
    "}\n",
    "dtrain = xgb.DMatrix(x_train, label=y_train)\n",
    "dtest = xgb.DMatrix(x_test, label=y_test)\n",
    "xgb_model = xgb.train(params, dtrain, num_boost_round=1000)\n",
    "\n",
    "# پیش‌بینی با XGBoost\n",
    "y_pred_xgb = xgb_model.predict(dtest)\n",
    "\n",
    "# تعریف مدل پواسون رگرسیون با statsmodels\n",
    "poisson_model = sm.GLM(y_train, x_train, family=sm.families.Poisson()).fit()\n",
    "\n",
    "# پیش‌بینی با پواسون رگرسیون\n",
    "y_pred_poisson = poisson_model.predict(x_test)\n",
    "\n",
    "# ترکیب پیش‌بینی‌ها\n",
    "# می‌توانید وزن‌های مختلفی را امتحان کنید یا از یک مدل متا-لرنر استفاده کنید\n",
    "y_pred_combined = (y_pred_xgb + y_pred_poisson) / 2\n",
    "\n",
    "from sklearn.metrics import mean_squared_error, mean_absolute_error\n",
    "\n",
    "# محاسبه خطای میانگین مربعات (MSE) و خطای میانگین مطلق (MAE)\n",
    "mse = mean_squared_error(y_test, y_pred_combined)\n",
    "mae = mean_absolute_error(y_test, y_pred_combined)\n",
    "\n",
    "print(\"Mean Squared Error (MSE):\", mse)\n",
    "print(\"Mean Absolute Error (MAE):\", mae)\n",
    "from sklearn.metrics import r2_score\n",
    "\n",
    "# محاسبه R²\n",
    "r2 = r2_score(y_test, y_pred_combined)\n",
    "\n",
    "print(\"R² Score:\", r2)"
   ]
  },
  {
   "cell_type": "code",
   "execution_count": 16,
   "id": "54589b30",
   "metadata": {},
   "outputs": [
    {
     "data": {
      "text/plain": [
       "0.854240068964202"
      ]
     },
     "execution_count": 16,
     "metadata": {},
     "output_type": "execute_result"
    }
   ],
   "source": [
    "Adj_r2 = 1 - (1-r2_score(y_test, y_pred_combined)) * (len(y)-1)/(len(y)-X.shape[1]-1)\n",
    "Adj_r2"
   ]
  },
  {
   "cell_type": "markdown",
   "id": "7a2da143",
   "metadata": {},
   "source": [
    "# CarPngr"
   ]
  },
  {
   "cell_type": "code",
   "execution_count": 17,
   "id": "433c6fd4",
   "metadata": {},
   "outputs": [],
   "source": [
    "filtered_data2 = data[data['CarPngr'] == 1]\n"
   ]
  },
  {
   "cell_type": "code",
   "execution_count": 18,
   "id": "7006f235",
   "metadata": {},
   "outputs": [],
   "source": [
    "target = filtered_data2['Hsptlsns'].shift(-1)\n"
   ]
  },
  {
   "cell_type": "code",
   "execution_count": 19,
   "id": "110beb48",
   "metadata": {},
   "outputs": [
    {
     "name": "stderr",
     "output_type": "stream",
     "text": [
      "/Users/amin/opt/anaconda3/lib/python3.9/site-packages/xgboost/core.py:160: UserWarning: [00:55:38] WARNING: /Users/runner/work/xgboost/xgboost/src/learner.cc:742: \n",
      "Parameters: { \"n_estimators\" } are not used.\n",
      "\n",
      "  warnings.warn(smsg, UserWarning)\n"
     ]
    }
   ],
   "source": [
    "import statsmodels.api as sm\n",
    "from sklearn.model_selection import train_test_split\n",
    "from sklearn.metrics import mean_squared_error, mean_absolute_error\n",
    "import numpy as np\n",
    "import pandas as pd\n",
    "import xgboost as xgb\n",
    "\n",
    "\n",
    "import statsmodels.api as sm\n",
    "from sklearn.model_selection import train_test_split\n",
    "from sklearn.metrics import mean_squared_error, mean_absolute_error\n",
    "import numpy as np\n",
    "import pandas as pd\n",
    "\n",
    "\n",
    "\n",
    "X = filtered_data2[['Age1725','Age2639','Age4064','Age6574','Age75plus',\n",
    "                   'Male',\n",
    "                   'Regional',\n",
    "\n",
    "                   'April','December','February','January','July',\n",
    "                   'June','March','May','November','October','September',\n",
    "\n",
    "                   'Cntrprt23WldMV','CntrprtFxdStnry','CntrprtHvyVhcl',\n",
    "                   'CntrprtNClsn','CntrprtOther','CntrprtNMV','CntrprtCrTrkVn',\n",
    "                   'CntrprtPdlC','CntrprtPdstAnml','CntrprtTrn',\n",
    "\n",
    "                   'Y2014','Y2015','Y2016','Y2017','Y2018','Y2019','Y2020','Y2021',\n",
    "                   'Y2013','Y2012',\n",
    "                   'CovidPrd']].iloc[:-1,:]\n",
    "\n",
    "\n",
    "y = target.iloc[:-1]\n",
    "\n",
    "\n",
    "import statsmodels.api as sm\n",
    "import xgboost as xgb\n",
    "from sklearn.model_selection import train_test_split\n",
    "from sklearn.metrics import mean_squared_error, mean_absolute_error\n",
    "import numpy as np\n",
    "import pandas as pd\n",
    "\n",
    "\n",
    "# تقسیم داده‌ها به آموزش و تست\n",
    "x_train, x_test, y_train, y_test = train_test_split(X, y, test_size=0.3, random_state=45)\n",
    "\n",
    "# تعریف مدل XGBoost\n",
    "params = {\n",
    "    'objective': 'count:poisson', # برای پواسون رگرسیون\n",
    "    'eval_metric': 'poisson-nloglik',\n",
    "    'n_estimators': 500,\n",
    "    'max_depth': 10,\n",
    "    'eta': 0.05\n",
    "}\n",
    "dtrain = xgb.DMatrix(x_train, label=y_train)\n",
    "dtest = xgb.DMatrix(x_test, label=y_test)\n",
    "xgb_model = xgb.train(params, dtrain, num_boost_round=1000)\n",
    "\n",
    "# پیش‌بینی با XGBoost\n",
    "y_pred_xgb = xgb_model.predict(dtest)\n",
    "\n",
    "# تعریف مدل پواسون رگرسیون با statsmodels\n",
    "poisson_model = sm.GLM(y_train, x_train, family=sm.families.Poisson()).fit()\n",
    "\n",
    "# پیش‌بینی با پواسون رگرسیون\n",
    "y_pred_poisson = poisson_model.predict(x_test)\n",
    "\n",
    "# ترکیب پیش‌بینی‌ها\n",
    "# می‌توانید وزن‌های مختلفی را امتحان کنید یا از یک مدل متا-لرنر استفاده کنید\n",
    "y_pred_combined = (y_pred_xgb + y_pred_poisson) / 2\n"
   ]
  },
  {
   "cell_type": "code",
   "execution_count": 20,
   "id": "b3d00a2c",
   "metadata": {},
   "outputs": [
    {
     "name": "stdout",
     "output_type": "stream",
     "text": [
      "Mean Squared Error (MSE): 6.32334851934174\n",
      "Mean Absolute Error (MAE): 1.6184388028302374\n",
      "R² Score: 0.703467377719271\n"
     ]
    }
   ],
   "source": [
    "from sklearn.metrics import mean_squared_error, mean_absolute_error\n",
    "\n",
    "# محاسبه خطای میانگین مربعات (MSE) و خطای میانگین مطلق (MAE)\n",
    "mse = mean_squared_error(y_test, y_pred_combined)\n",
    "mae = mean_absolute_error(y_test, y_pred_combined)\n",
    "\n",
    "print(\"Mean Squared Error (MSE):\", mse)\n",
    "print(\"Mean Absolute Error (MAE):\", mae)\n",
    "from sklearn.metrics import r2_score\n",
    "\n",
    "# محاسبه R²\n",
    "r2 = r2_score(y_test, y_pred_combined)\n",
    "\n",
    "print(\"R² Score:\", r2)"
   ]
  },
  {
   "cell_type": "code",
   "execution_count": 21,
   "id": "d9a4f5aa",
   "metadata": {},
   "outputs": [
    {
     "name": "stderr",
     "output_type": "stream",
     "text": [
      "/Users/amin/opt/anaconda3/lib/python3.9/site-packages/xgboost/core.py:160: UserWarning: [00:57:14] WARNING: /Users/runner/work/xgboost/xgboost/src/learner.cc:742: \n",
      "Parameters: { \"n_estimators\" } are not used.\n",
      "\n",
      "  warnings.warn(smsg, UserWarning)\n"
     ]
    },
    {
     "name": "stdout",
     "output_type": "stream",
     "text": [
      "Mean Squared Error (MSE): 4.589006426405488\n",
      "Mean Absolute Error (MAE): 1.4890396889258595\n",
      "R² Score: 0.6111389068838073\n"
     ]
    }
   ],
   "source": [
    "mean_y = np.mean(y)\n",
    "std_y = np.std(y)\n",
    "outlier_threshold_high = mean_y + 3 * std_y\n",
    "outlier_threshold_low = mean_y - 3 * std_y\n",
    "\n",
    "mask = (y > outlier_threshold_low) & (y < outlier_threshold_high)\n",
    "\n",
    "X_filtered = X[mask]\n",
    "y_filtered = y[mask]\n",
    "\n",
    "x_train, x_test, y_train, y_test = train_test_split(X_filtered, y_filtered, test_size=0.3,random_state=42)\n",
    "\n",
    "x_train = sm.add_constant(x_train)\n",
    "x_test = sm.add_constant(x_test)\n",
    "\n",
    "\n",
    "# تعریف مدل XGBoost\n",
    "params = {\n",
    "    'objective': 'count:poisson', # برای پواسون رگرسیون\n",
    "    'eval_metric': 'poisson-nloglik',\n",
    "    'n_estimators': 500,\n",
    "    'max_depth': 10,\n",
    "    'eta': 0.05\n",
    "}\n",
    "dtrain = xgb.DMatrix(x_train, label=y_train)\n",
    "dtest = xgb.DMatrix(x_test, label=y_test)\n",
    "xgb_model = xgb.train(params, dtrain, num_boost_round=1000)\n",
    "\n",
    "# پیش‌بینی با XGBoost\n",
    "y_pred_xgb = xgb_model.predict(dtest)\n",
    "\n",
    "# تعریف مدل پواسون رگرسیون با statsmodels\n",
    "poisson_model = sm.GLM(y_train, x_train, family=sm.families.Poisson()).fit()\n",
    "\n",
    "# پیش‌بینی با پواسون رگرسیون\n",
    "y_pred_poisson = poisson_model.predict(x_test)\n",
    "\n",
    "# ترکیب پیش‌بینی‌ها\n",
    "# می‌توانید وزن‌های مختلفی را امتحان کنید یا از یک مدل متا-لرنر استفاده کنید\n",
    "y_pred_combined = (y_pred_xgb + y_pred_poisson) / 2\n",
    "\n",
    "from sklearn.metrics import mean_squared_error, mean_absolute_error\n",
    "\n",
    "# محاسبه خطای میانگین مربعات (MSE) و خطای میانگین مطلق (MAE)\n",
    "mse = mean_squared_error(y_test, y_pred_combined)\n",
    "mae = mean_absolute_error(y_test, y_pred_combined)\n",
    "\n",
    "print(\"Mean Squared Error (MSE):\", mse)\n",
    "print(\"Mean Absolute Error (MAE):\", mae)\n",
    "from sklearn.metrics import r2_score\n",
    "\n",
    "# محاسبه R²\n",
    "r2 = r2_score(y_test, y_pred_combined)\n",
    "\n",
    "print(\"R² Score:\", r2)"
   ]
  },
  {
   "cell_type": "code",
   "execution_count": 22,
   "id": "208cb87b",
   "metadata": {},
   "outputs": [
    {
     "data": {
      "text/plain": [
       "0.6098479992713175"
      ]
     },
     "execution_count": 22,
     "metadata": {},
     "output_type": "execute_result"
    }
   ],
   "source": [
    "Adj_r2 = 1 - (1-r2_score(y_test, y_pred_combined)) * (len(y)-1)/(len(y)-X.shape[1]-1)\n",
    "Adj_r2"
   ]
  },
  {
   "cell_type": "markdown",
   "id": "c5e8fcb3",
   "metadata": {},
   "source": [
    "# Motor"
   ]
  },
  {
   "cell_type": "code",
   "execution_count": 23,
   "id": "e41acc23",
   "metadata": {},
   "outputs": [],
   "source": [
    "filtered_data3 = data[data['Mtrcyclist'] == 1]\n",
    "target = filtered_data3['Hsptlsns'].shift(-1)"
   ]
  },
  {
   "cell_type": "code",
   "execution_count": 24,
   "id": "e7df2dda",
   "metadata": {},
   "outputs": [
    {
     "name": "stderr",
     "output_type": "stream",
     "text": [
      "/Users/amin/opt/anaconda3/lib/python3.9/site-packages/xgboost/core.py:160: UserWarning: [00:58:52] WARNING: /Users/runner/work/xgboost/xgboost/src/learner.cc:742: \n",
      "Parameters: { \"n_estimators\" } are not used.\n",
      "\n",
      "  warnings.warn(smsg, UserWarning)\n"
     ]
    }
   ],
   "source": [
    "import statsmodels.api as sm\n",
    "from sklearn.model_selection import train_test_split\n",
    "from sklearn.metrics import mean_squared_error, mean_absolute_error\n",
    "import numpy as np\n",
    "import pandas as pd\n",
    "import xgboost as xgb\n",
    "\n",
    "\n",
    "import statsmodels.api as sm\n",
    "from sklearn.model_selection import train_test_split\n",
    "from sklearn.metrics import mean_squared_error, mean_absolute_error\n",
    "import numpy as np\n",
    "import pandas as pd\n",
    "\n",
    "\n",
    "\n",
    "X = filtered_data3[['Age1725','Age2639','Age4064','Age6574','Age75plus',\n",
    "                   'Male',\n",
    "                   'Regional',\n",
    "\n",
    "                   'April','December','February','January','July',\n",
    "                   'June','March','May','November','October','September',\n",
    "\n",
    "                   'Cntrprt23WldMV','CntrprtFxdStnry','CntrprtHvyVhcl',\n",
    "                   'CntrprtNClsn','CntrprtOther','CntrprtNMV','CntrprtCrTrkVn',\n",
    "                   'CntrprtPdlC','CntrprtPdstAnml','CntrprtTrn',\n",
    "\n",
    "                   'Y2014','Y2015','Y2016','Y2017','Y2018','Y2019','Y2020','Y2021',\n",
    "                   'Y2013','Y2012',\n",
    "                   'CovidPrd']].iloc[:-1,:]\n",
    "\n",
    "\n",
    "y = target.iloc[:-1]\n",
    "\n",
    "\n",
    "import statsmodels.api as sm\n",
    "import xgboost as xgb\n",
    "from sklearn.model_selection import train_test_split\n",
    "from sklearn.metrics import mean_squared_error, mean_absolute_error\n",
    "import numpy as np\n",
    "import pandas as pd\n",
    "\n",
    "\n",
    "# تقسیم داده‌ها به آموزش و تست\n",
    "x_train, x_test, y_train, y_test = train_test_split(X, y, test_size=0.3, random_state=45)\n",
    "\n",
    "# تعریف مدل XGBoost\n",
    "params = {\n",
    "    'objective': 'count:poisson', # برای پواسون رگرسیون\n",
    "    'eval_metric': 'poisson-nloglik',\n",
    "    'n_estimators': 500,\n",
    "    'max_depth': 10,\n",
    "    'eta': 0.05\n",
    "}\n",
    "dtrain = xgb.DMatrix(x_train, label=y_train)\n",
    "dtest = xgb.DMatrix(x_test, label=y_test)\n",
    "xgb_model = xgb.train(params, dtrain, num_boost_round=1000)\n",
    "\n",
    "# پیش‌بینی با XGBoost\n",
    "y_pred_xgb = xgb_model.predict(dtest)\n",
    "\n",
    "# تعریف مدل پواسون رگرسیون با statsmodels\n",
    "poisson_model = sm.GLM(y_train, x_train, family=sm.families.Poisson()).fit()\n",
    "\n",
    "# پیش‌بینی با پواسون رگرسیون\n",
    "y_pred_poisson = poisson_model.predict(x_test)\n",
    "\n",
    "# ترکیب پیش‌بینی‌ها\n",
    "# می‌توانید وزن‌های مختلفی را امتحان کنید یا از یک مدل متا-لرنر استفاده کنید\n",
    "y_pred_combined = (y_pred_xgb + y_pred_poisson) / 2\n"
   ]
  },
  {
   "cell_type": "code",
   "execution_count": 25,
   "id": "ebe25986",
   "metadata": {},
   "outputs": [
    {
     "name": "stdout",
     "output_type": "stream",
     "text": [
      "Mean Squared Error (MSE): 12.58022726718763\n",
      "Mean Absolute Error (MAE): 2.1407355245231843\n",
      "R² Score: 0.9100001632212047\n"
     ]
    }
   ],
   "source": [
    "from sklearn.metrics import mean_squared_error, mean_absolute_error\n",
    "\n",
    "# محاسبه خطای میانگین مربعات (MSE) و خطای میانگین مطلق (MAE)\n",
    "mse = mean_squared_error(y_test, y_pred_combined)\n",
    "mae = mean_absolute_error(y_test, y_pred_combined)\n",
    "\n",
    "print(\"Mean Squared Error (MSE):\", mse)\n",
    "print(\"Mean Absolute Error (MAE):\", mae)\n",
    "from sklearn.metrics import r2_score\n",
    "\n",
    "# محاسبه R²\n",
    "r2 = r2_score(y_test, y_pred_combined)\n",
    "\n",
    "print(\"R² Score:\", r2)"
   ]
  },
  {
   "cell_type": "code",
   "execution_count": 26,
   "id": "31353c6f",
   "metadata": {},
   "outputs": [
    {
     "name": "stderr",
     "output_type": "stream",
     "text": [
      "/Users/amin/opt/anaconda3/lib/python3.9/site-packages/xgboost/core.py:160: UserWarning: [00:59:19] WARNING: /Users/runner/work/xgboost/xgboost/src/learner.cc:742: \n",
      "Parameters: { \"n_estimators\" } are not used.\n",
      "\n",
      "  warnings.warn(smsg, UserWarning)\n"
     ]
    },
    {
     "name": "stdout",
     "output_type": "stream",
     "text": [
      "Mean Squared Error (MSE): 9.996924522767479\n",
      "Mean Absolute Error (MAE): 1.945505519631326\n",
      "R² Score: 0.8708512970478063\n"
     ]
    }
   ],
   "source": [
    "mean_y = np.mean(y)\n",
    "std_y = np.std(y)\n",
    "outlier_threshold_high = mean_y + 3 * std_y\n",
    "outlier_threshold_low = mean_y - 3 * std_y\n",
    "\n",
    "mask = (y > outlier_threshold_low) & (y < outlier_threshold_high)\n",
    "\n",
    "X_filtered = X[mask]\n",
    "y_filtered = y[mask]\n",
    "\n",
    "x_train, x_test, y_train, y_test = train_test_split(X_filtered, y_filtered, test_size=0.3,random_state=42)\n",
    "\n",
    "x_train = sm.add_constant(x_train)\n",
    "x_test = sm.add_constant(x_test)\n",
    "\n",
    "\n",
    "# تعریف مدل XGBoost\n",
    "params = {\n",
    "    'objective': 'count:poisson', # برای پواسون رگرسیون\n",
    "    'eval_metric': 'poisson-nloglik',\n",
    "    'n_estimators': 500,\n",
    "    'max_depth': 10,\n",
    "    'eta': 0.05\n",
    "}\n",
    "dtrain = xgb.DMatrix(x_train, label=y_train)\n",
    "dtest = xgb.DMatrix(x_test, label=y_test)\n",
    "xgb_model = xgb.train(params, dtrain, num_boost_round=1000)\n",
    "\n",
    "# پیش‌بینی با XGBoost\n",
    "y_pred_xgb = xgb_model.predict(dtest)\n",
    "\n",
    "# تعریف مدل پواسون رگرسیون با statsmodels\n",
    "poisson_model = sm.GLM(y_train, x_train, family=sm.families.Poisson()).fit()\n",
    "\n",
    "# پیش‌بینی با پواسون رگرسیون\n",
    "y_pred_poisson = poisson_model.predict(x_test)\n",
    "\n",
    "# ترکیب پیش‌بینی‌ها\n",
    "# می‌توانید وزن‌های مختلفی را امتحان کنید یا از یک مدل متا-لرنر استفاده کنید\n",
    "y_pred_combined = (y_pred_xgb + y_pred_poisson) / 2\n",
    "\n",
    "from sklearn.metrics import mean_squared_error, mean_absolute_error\n",
    "\n",
    "# محاسبه خطای میانگین مربعات (MSE) و خطای میانگین مطلق (MAE)\n",
    "mse = mean_squared_error(y_test, y_pred_combined)\n",
    "mae = mean_absolute_error(y_test, y_pred_combined)\n",
    "\n",
    "print(\"Mean Squared Error (MSE):\", mse)\n",
    "print(\"Mean Absolute Error (MAE):\", mae)\n",
    "from sklearn.metrics import r2_score\n",
    "\n",
    "# محاسبه R²\n",
    "r2 = r2_score(y_test, y_pred_combined)\n",
    "\n",
    "print(\"R² Score:\", r2)"
   ]
  },
  {
   "cell_type": "code",
   "execution_count": 27,
   "id": "c73a91ed",
   "metadata": {},
   "outputs": [
    {
     "data": {
      "text/plain": [
       "0.8704010199679623"
      ]
     },
     "execution_count": 27,
     "metadata": {},
     "output_type": "execute_result"
    }
   ],
   "source": [
    "Adj_r2 = 1 - (1-r2_score(y_test, y_pred_combined)) * (len(y)-1)/(len(y)-X.shape[1]-1)\n",
    "Adj_r2"
   ]
  },
  {
   "cell_type": "markdown",
   "id": "465127bf",
   "metadata": {},
   "source": [
    "# Pedal cyclist Regrasion"
   ]
  },
  {
   "cell_type": "code",
   "execution_count": 28,
   "id": "1855dfb5",
   "metadata": {},
   "outputs": [],
   "source": [
    "filtered_data4 = data[data['PdlCyclist'] == 1]\n",
    "target = filtered_data4['Hsptlsns'].shift(-1)"
   ]
  },
  {
   "cell_type": "code",
   "execution_count": 30,
   "id": "4c87ef1b",
   "metadata": {},
   "outputs": [
    {
     "name": "stderr",
     "output_type": "stream",
     "text": [
      "/Users/amin/opt/anaconda3/lib/python3.9/site-packages/xgboost/core.py:160: UserWarning: [01:00:33] WARNING: /Users/runner/work/xgboost/xgboost/src/learner.cc:742: \n",
      "Parameters: { \"n_estimators\" } are not used.\n",
      "\n",
      "  warnings.warn(smsg, UserWarning)\n"
     ]
    }
   ],
   "source": [
    "import statsmodels.api as sm\n",
    "from sklearn.model_selection import train_test_split\n",
    "from sklearn.metrics import mean_squared_error, mean_absolute_error\n",
    "import numpy as np\n",
    "import pandas as pd\n",
    "import xgboost as xgb\n",
    "\n",
    "\n",
    "import statsmodels.api as sm\n",
    "from sklearn.model_selection import train_test_split\n",
    "from sklearn.metrics import mean_squared_error, mean_absolute_error\n",
    "import numpy as np\n",
    "import pandas as pd\n",
    "\n",
    "\n",
    "\n",
    "X = filtered_data4[['Age1725','Age2639','Age4064','Age6574','Age75plus',\n",
    "                   'Male',\n",
    "                   'Regional',\n",
    "\n",
    "                   'April','December','February','January','July',\n",
    "                   'June','March','May','November','October','September',\n",
    "\n",
    "                   'Cntrprt23WldMV','CntrprtFxdStnry','CntrprtHvyVhcl',\n",
    "                   'CntrprtNClsn','CntrprtOther','CntrprtNMV','CntrprtCrTrkVn',\n",
    "                   'CntrprtPdlC','CntrprtPdstAnml','CntrprtTrn',\n",
    "\n",
    "                   'Y2014','Y2015','Y2016','Y2017','Y2018','Y2019','Y2020','Y2021',\n",
    "                   'Y2013','Y2012',\n",
    "                   'CovidPrd']].iloc[:-1,:]\n",
    "\n",
    "\n",
    "y = target.iloc[:-1]\n",
    "\n",
    "\n",
    "import statsmodels.api as sm\n",
    "import xgboost as xgb\n",
    "from sklearn.model_selection import train_test_split\n",
    "from sklearn.metrics import mean_squared_error, mean_absolute_error\n",
    "import numpy as np\n",
    "import pandas as pd\n",
    "\n",
    "\n",
    "# تقسیم داده‌ها به آموزش و تست\n",
    "x_train, x_test, y_train, y_test = train_test_split(X, y, test_size=0.3, random_state=45)\n",
    "\n",
    "# تعریف مدل XGBoost\n",
    "params = {\n",
    "    'objective': 'count:poisson', # برای پواسون رگرسیون\n",
    "    'eval_metric': 'poisson-nloglik',\n",
    "    'n_estimators': 500,\n",
    "    'max_depth': 10,\n",
    "    'eta': 0.05\n",
    "}\n",
    "dtrain = xgb.DMatrix(x_train, label=y_train)\n",
    "dtest = xgb.DMatrix(x_test, label=y_test)\n",
    "xgb_model = xgb.train(params, dtrain, num_boost_round=1000)\n",
    "\n",
    "# پیش‌بینی با XGBoost\n",
    "y_pred_xgb = xgb_model.predict(dtest)\n",
    "\n",
    "# تعریف مدل پواسون رگرسیون با statsmodels\n",
    "poisson_model = sm.GLM(y_train, x_train, family=sm.families.Poisson()).fit()\n",
    "\n",
    "# پیش‌بینی با پواسون رگرسیون\n",
    "y_pred_poisson = poisson_model.predict(x_test)\n",
    "\n",
    "# ترکیب پیش‌بینی‌ها\n",
    "# می‌توانید وزن‌های مختلفی را امتحان کنید یا از یک مدل متا-لرنر استفاده کنید\n",
    "y_pred_combined = (y_pred_xgb + y_pred_poisson) / 2\n"
   ]
  },
  {
   "cell_type": "code",
   "execution_count": 31,
   "id": "8c2c8a85",
   "metadata": {},
   "outputs": [
    {
     "name": "stdout",
     "output_type": "stream",
     "text": [
      "Mean Squared Error (MSE): 14.746423593518479\n",
      "Mean Absolute Error (MAE): 2.1749280461737395\n",
      "R² Score: 0.8350969598000597\n"
     ]
    }
   ],
   "source": [
    "from sklearn.metrics import mean_squared_error, mean_absolute_error\n",
    "\n",
    "# محاسبه خطای میانگین مربعات (MSE) و خطای میانگین مطلق (MAE)\n",
    "mse = mean_squared_error(y_test, y_pred_combined)\n",
    "mae = mean_absolute_error(y_test, y_pred_combined)\n",
    "\n",
    "print(\"Mean Squared Error (MSE):\", mse)\n",
    "print(\"Mean Absolute Error (MAE):\", mae)\n",
    "from sklearn.metrics import r2_score\n",
    "\n",
    "# محاسبه R²\n",
    "r2 = r2_score(y_test, y_pred_combined)\n",
    "\n",
    "print(\"R² Score:\", r2)"
   ]
  },
  {
   "cell_type": "code",
   "execution_count": 32,
   "id": "dc0655b1",
   "metadata": {},
   "outputs": [
    {
     "name": "stderr",
     "output_type": "stream",
     "text": [
      "/Users/amin/opt/anaconda3/lib/python3.9/site-packages/xgboost/core.py:160: UserWarning: [01:00:55] WARNING: /Users/runner/work/xgboost/xgboost/src/learner.cc:742: \n",
      "Parameters: { \"n_estimators\" } are not used.\n",
      "\n",
      "  warnings.warn(smsg, UserWarning)\n"
     ]
    },
    {
     "name": "stdout",
     "output_type": "stream",
     "text": [
      "Mean Squared Error (MSE): 9.938683423786724\n",
      "Mean Absolute Error (MAE): 1.9357875749966325\n",
      "R² Score: 0.6903496804486589\n"
     ]
    }
   ],
   "source": [
    "mean_y = np.mean(y)\n",
    "std_y = np.std(y)\n",
    "outlier_threshold_high = mean_y + 3 * std_y\n",
    "outlier_threshold_low = mean_y - 3 * std_y\n",
    "\n",
    "mask = (y > outlier_threshold_low) & (y < outlier_threshold_high)\n",
    "\n",
    "X_filtered = X[mask]\n",
    "y_filtered = y[mask]\n",
    "\n",
    "x_train, x_test, y_train, y_test = train_test_split(X_filtered, y_filtered, test_size=0.3,random_state=42)\n",
    "\n",
    "x_train = sm.add_constant(x_train)\n",
    "x_test = sm.add_constant(x_test)\n",
    "\n",
    "\n",
    "# تعریف مدل XGBoost\n",
    "params = {\n",
    "    'objective': 'count:poisson', # برای پواسون رگرسیون\n",
    "    'eval_metric': 'poisson-nloglik',\n",
    "    'n_estimators': 500,\n",
    "    'max_depth': 10,\n",
    "    'eta': 0.05\n",
    "}\n",
    "dtrain = xgb.DMatrix(x_train, label=y_train)\n",
    "dtest = xgb.DMatrix(x_test, label=y_test)\n",
    "xgb_model = xgb.train(params, dtrain, num_boost_round=1000)\n",
    "\n",
    "# پیش‌بینی با XGBoost\n",
    "y_pred_xgb = xgb_model.predict(dtest)\n",
    "\n",
    "# تعریف مدل پواسون رگرسیون با statsmodels\n",
    "poisson_model = sm.GLM(y_train, x_train, family=sm.families.Poisson()).fit()\n",
    "\n",
    "# پیش‌بینی با پواسون رگرسیون\n",
    "y_pred_poisson = poisson_model.predict(x_test)\n",
    "\n",
    "# ترکیب پیش‌بینی‌ها\n",
    "# می‌توانید وزن‌های مختلفی را امتحان کنید یا از یک مدل متا-لرنر استفاده کنید\n",
    "y_pred_combined = (y_pred_xgb + y_pred_poisson) / 2\n",
    "\n",
    "from sklearn.metrics import mean_squared_error, mean_absolute_error\n",
    "\n",
    "# محاسبه خطای میانگین مربعات (MSE) و خطای میانگین مطلق (MAE)\n",
    "mse = mean_squared_error(y_test, y_pred_combined)\n",
    "mae = mean_absolute_error(y_test, y_pred_combined)\n",
    "\n",
    "print(\"Mean Squared Error (MSE):\", mse)\n",
    "print(\"Mean Absolute Error (MAE):\", mae)\n",
    "from sklearn.metrics import r2_score\n",
    "\n",
    "# محاسبه R²\n",
    "r2 = r2_score(y_test, y_pred_combined)\n",
    "\n",
    "print(\"R² Score:\", r2)"
   ]
  },
  {
   "cell_type": "code",
   "execution_count": 33,
   "id": "5f5e7b67",
   "metadata": {},
   "outputs": [
    {
     "data": {
      "text/plain": [
       "0.6893688989605973"
      ]
     },
     "execution_count": 33,
     "metadata": {},
     "output_type": "execute_result"
    }
   ],
   "source": [
    "Adj_r2 = 1 - (1-r2_score(y_test, y_pred_combined)) * (len(y)-1)/(len(y)-X.shape[1]-1)\n",
    "Adj_r2"
   ]
  },
  {
   "cell_type": "markdown",
   "id": "a4e03805",
   "metadata": {},
   "source": [
    "# Pedestrian"
   ]
  },
  {
   "cell_type": "code",
   "execution_count": 34,
   "id": "5f7278a7",
   "metadata": {},
   "outputs": [],
   "source": [
    "filtered_data5 = data[data['Pedestrian'] == 1]\n",
    "target = filtered_data5['Hsptlsns'].shift(-1)"
   ]
  },
  {
   "cell_type": "code",
   "execution_count": 35,
   "id": "e8c9c68b",
   "metadata": {},
   "outputs": [
    {
     "name": "stderr",
     "output_type": "stream",
     "text": [
      "/Users/amin/opt/anaconda3/lib/python3.9/site-packages/xgboost/core.py:160: UserWarning: [01:01:52] WARNING: /Users/runner/work/xgboost/xgboost/src/learner.cc:742: \n",
      "Parameters: { \"n_estimators\" } are not used.\n",
      "\n",
      "  warnings.warn(smsg, UserWarning)\n"
     ]
    }
   ],
   "source": [
    "import statsmodels.api as sm\n",
    "from sklearn.model_selection import train_test_split\n",
    "from sklearn.metrics import mean_squared_error, mean_absolute_error\n",
    "import numpy as np\n",
    "import pandas as pd\n",
    "import xgboost as xgb\n",
    "\n",
    "\n",
    "import statsmodels.api as sm\n",
    "from sklearn.model_selection import train_test_split\n",
    "from sklearn.metrics import mean_squared_error, mean_absolute_error\n",
    "import numpy as np\n",
    "import pandas as pd\n",
    "\n",
    "\n",
    "\n",
    "X = filtered_data5[['Age1725','Age2639','Age4064','Age6574','Age75plus',\n",
    "                   'Male',\n",
    "                   'Regional',\n",
    "\n",
    "                   'April','December','February','January','July',\n",
    "                   'June','March','May','November','October','September',\n",
    "\n",
    "                   'Cntrprt23WldMV','CntrprtFxdStnry','CntrprtHvyVhcl',\n",
    "                   'CntrprtNClsn','CntrprtOther','CntrprtNMV','CntrprtCrTrkVn',\n",
    "                   'CntrprtPdlC','CntrprtPdstAnml','CntrprtTrn',\n",
    "\n",
    "                   'Y2014','Y2015','Y2016','Y2017','Y2018','Y2019','Y2020','Y2021',\n",
    "                   'Y2013','Y2012',\n",
    "                   'CovidPrd']].iloc[:-1,:]\n",
    "\n",
    "\n",
    "y = target.iloc[:-1]\n",
    "\n",
    "\n",
    "import statsmodels.api as sm\n",
    "import xgboost as xgb\n",
    "from sklearn.model_selection import train_test_split\n",
    "from sklearn.metrics import mean_squared_error, mean_absolute_error\n",
    "import numpy as np\n",
    "import pandas as pd\n",
    "\n",
    "\n",
    "# تقسیم داده‌ها به آموزش و تست\n",
    "x_train, x_test, y_train, y_test = train_test_split(X, y, test_size=0.3, random_state=45)\n",
    "\n",
    "# تعریف مدل XGBoost\n",
    "params = {\n",
    "    'objective': 'count:poisson', # برای پواسون رگرسیون\n",
    "    'eval_metric': 'poisson-nloglik',\n",
    "    'n_estimators': 500,\n",
    "    'max_depth': 10,\n",
    "    'eta': 0.05\n",
    "}\n",
    "dtrain = xgb.DMatrix(x_train, label=y_train)\n",
    "dtest = xgb.DMatrix(x_test, label=y_test)\n",
    "xgb_model = xgb.train(params, dtrain, num_boost_round=1000)\n",
    "\n",
    "# پیش‌بینی با XGBoost\n",
    "y_pred_xgb = xgb_model.predict(dtest)\n",
    "\n",
    "# تعریف مدل پواسون رگرسیون با statsmodels\n",
    "poisson_model = sm.GLM(y_train, x_train, family=sm.families.Poisson()).fit()\n",
    "\n",
    "# پیش‌بینی با پواسون رگرسیون\n",
    "y_pred_poisson = poisson_model.predict(x_test)\n",
    "\n",
    "# ترکیب پیش‌بینی‌ها\n",
    "# می‌توانید وزن‌های مختلفی را امتحان کنید یا از یک مدل متا-لرنر استفاده کنید\n",
    "y_pred_combined = (y_pred_xgb + y_pred_poisson) / 2\n"
   ]
  },
  {
   "cell_type": "code",
   "execution_count": 36,
   "id": "fb76129a",
   "metadata": {},
   "outputs": [
    {
     "name": "stdout",
     "output_type": "stream",
     "text": [
      "Mean Squared Error (MSE): 7.173694917540535\n",
      "Mean Absolute Error (MAE): 1.5528506646226077\n",
      "R² Score: 0.7286831387048307\n"
     ]
    }
   ],
   "source": [
    "from sklearn.metrics import mean_squared_error, mean_absolute_error\n",
    "\n",
    "# محاسبه خطای میانگین مربعات (MSE) و خطای میانگین مطلق (MAE)\n",
    "mse = mean_squared_error(y_test, y_pred_combined)\n",
    "mae = mean_absolute_error(y_test, y_pred_combined)\n",
    "\n",
    "print(\"Mean Squared Error (MSE):\", mse)\n",
    "print(\"Mean Absolute Error (MAE):\", mae)\n",
    "from sklearn.metrics import r2_score\n",
    "\n",
    "# محاسبه R²\n",
    "r2 = r2_score(y_test, y_pred_combined)\n",
    "\n",
    "print(\"R² Score:\", r2)"
   ]
  },
  {
   "cell_type": "code",
   "execution_count": 37,
   "id": "f6584191",
   "metadata": {},
   "outputs": [
    {
     "name": "stderr",
     "output_type": "stream",
     "text": [
      "/Users/amin/opt/anaconda3/lib/python3.9/site-packages/xgboost/core.py:160: UserWarning: [01:02:18] WARNING: /Users/runner/work/xgboost/xgboost/src/learner.cc:742: \n",
      "Parameters: { \"n_estimators\" } are not used.\n",
      "\n",
      "  warnings.warn(smsg, UserWarning)\n"
     ]
    },
    {
     "name": "stdout",
     "output_type": "stream",
     "text": [
      "Mean Squared Error (MSE): 5.484549029257584\n",
      "Mean Absolute Error (MAE): 1.4860520777850585\n",
      "R² Score: 0.7448533692587529\n"
     ]
    }
   ],
   "source": [
    "mean_y = np.mean(y)\n",
    "std_y = np.std(y)\n",
    "outlier_threshold_high = mean_y + 3 * std_y\n",
    "outlier_threshold_low = mean_y - 3 * std_y\n",
    "\n",
    "mask = (y > outlier_threshold_low) & (y < outlier_threshold_high)\n",
    "\n",
    "X_filtered = X[mask]\n",
    "y_filtered = y[mask]\n",
    "\n",
    "x_train, x_test, y_train, y_test = train_test_split(X_filtered, y_filtered, test_size=0.3,random_state=42)\n",
    "\n",
    "x_train = sm.add_constant(x_train)\n",
    "x_test = sm.add_constant(x_test)\n",
    "\n",
    "\n",
    "# تعریف مدل XGBoost\n",
    "params = {\n",
    "    'objective': 'count:poisson', # برای پواسون رگرسیون\n",
    "    'eval_metric': 'poisson-nloglik',\n",
    "    'n_estimators': 500,\n",
    "    'max_depth': 10,\n",
    "    'eta': 0.05\n",
    "}\n",
    "dtrain = xgb.DMatrix(x_train, label=y_train)\n",
    "dtest = xgb.DMatrix(x_test, label=y_test)\n",
    "xgb_model = xgb.train(params, dtrain, num_boost_round=1000)\n",
    "\n",
    "# پیش‌بینی با XGBoost\n",
    "y_pred_xgb = xgb_model.predict(dtest)\n",
    "\n",
    "# تعریف مدل پواسون رگرسیون با statsmodels\n",
    "poisson_model = sm.GLM(y_train, x_train, family=sm.families.Poisson()).fit()\n",
    "\n",
    "# پیش‌بینی با پواسون رگرسیون\n",
    "y_pred_poisson = poisson_model.predict(x_test)\n",
    "\n",
    "# ترکیب پیش‌بینی‌ها\n",
    "# می‌توانید وزن‌های مختلفی را امتحان کنید یا از یک مدل متا-لرنر استفاده کنید\n",
    "y_pred_combined = (y_pred_xgb + y_pred_poisson) / 2\n",
    "\n",
    "from sklearn.metrics import mean_squared_error, mean_absolute_error\n",
    "\n",
    "# محاسبه خطای میانگین مربعات (MSE) و خطای میانگین مطلق (MAE)\n",
    "mse = mean_squared_error(y_test, y_pred_combined)\n",
    "mae = mean_absolute_error(y_test, y_pred_combined)\n",
    "\n",
    "print(\"Mean Squared Error (MSE):\", mse)\n",
    "print(\"Mean Absolute Error (MAE):\", mae)\n",
    "from sklearn.metrics import r2_score\n",
    "\n",
    "# محاسبه R²\n",
    "r2 = r2_score(y_test, y_pred_combined)\n",
    "\n",
    "print(\"R² Score:\", r2)"
   ]
  },
  {
   "cell_type": "code",
   "execution_count": 38,
   "id": "5353740d",
   "metadata": {},
   "outputs": [
    {
     "data": {
      "text/plain": [
       "0.7432072619636481"
      ]
     },
     "execution_count": 38,
     "metadata": {},
     "output_type": "execute_result"
    }
   ],
   "source": [
    "Adj_r2 = 1 - (1-r2_score(y_test, y_pred_combined)) * (len(y)-1)/(len(y)-X.shape[1]-1)\n",
    "Adj_r2"
   ]
  },
  {
   "cell_type": "code",
   "execution_count": 39,
   "id": "d39bad82",
   "metadata": {},
   "outputs": [
    {
     "data": {
      "image/png": "[encoded data removed]",
      "text/plain": [
       "<Figure size 1000x600 with 3 Axes>"
      ]
     },
     "metadata": {},
     "output_type": "display_data"
    }
   ],
   "source": [
    "import matplotlib.pyplot as plt\n",
    "import numpy as np\n",
    "\n",
    "# فرض کنید که مقادیر MSE، MAE و R² برای هر پنج مدل را دارید\n",
    "mse_values = [10.2, 8.5, 7.3, 9.1, 6.7]\n",
    "mae_values = [5.4, 4.2, 3.8, 4.5, 3.1]\n",
    "r2_values = [0.82, 0.88, 0.91, 0.85, 0.93]\n",
    "\n",
    "# ایجاد نمودار با ستون‌های چندگانه\n",
    "plt.figure(figsize=(10, 6))\n",
    "\n",
    "# نمودار MSE\n",
    "plt.subplot(1, 3, 1)\n",
    "plt.bar(['Model 1', 'Model 2', 'Model 3', 'Model 4', 'Model 5'], mse_values)\n",
    "plt.xlabel('Models')\n",
    "plt.ylabel('MSE')\n",
    "\n",
    "# نمودار MAE\n",
    "plt.subplot(1, 3, 2)\n",
    "plt.bar(['Model 1', 'Model 2', 'Model 3', 'Model 4', 'Model 5'], mae_values)\n",
    "plt.xlabel('Models')\n",
    "plt.ylabel('MAE')\n",
    "\n",
    "# نمودار R²\n",
    "plt.subplot(1, 3, 3)\n",
    "plt.bar(['Model 1', 'Model 2', 'Model 3', 'Model 4', 'Model 5'], r2_values)\n",
    "plt.xlabel('Models')\n",
    "plt.ylabel('R²')\n",
    "\n",
    "plt.tight_layout()\n",
    "plt.show()"
   ]
  },
  {
   "cell_type": "code",
   "execution_count": 40,
   "id": "200c510b",
   "metadata": {},
   "outputs": [
    {
     "data": {
      "image/png": "[encoded data removed]",
      "text/plain": [
       "<Figure size 640x480 with 1 Axes>"
      ]
     },
     "metadata": {},
     "output_type": "display_data"
    }
   ],
   "source": [
    "import matplotlib.pyplot as plt\n",
    "import numpy as np\n",
    "\n",
    "# تعداد مدل‌ها و معیارها\n",
    "n_models = 5\n",
    "n_metrics = 3\n",
    "\n",
    "# داده‌های تصادفی (جایگزین کنید با داده‌های واقعی شما)\n",
    "data = np.random.rand(n_models, n_metrics)\n",
    "\n",
    "# نام مدل‌ها و معیارها\n",
    "models = ['Model 1', 'Model 2', 'Model 3', 'Model 4', 'Model 5']\n",
    "metrics = ['MSE', 'MAE', 'Adj R²']\n",
    "\n",
    "# رسم نمودار\n",
    "fig, ax = plt.subplots()\n",
    "\n",
    "for i in range(n_metrics):\n",
    "    ax.bar(np.arange(n_models) + i*0.2, data[:, i], width=0.2, label=metrics[i])\n",
    "\n",
    "ax.set_xticks(np.arange(n_models) + n_metrics*0.2 / 2)\n",
    "ax.set_xticklabels(models)\n",
    "\n",
    "ax.legend()\n",
    "\n",
    "plt.show()"
   ]
  },
  {
   "cell_type": "code",
   "execution_count": 41,
   "id": "714513b8",
   "metadata": {},
   "outputs": [
    {
     "data": {
      "image/png": "[encoded data removed]",
      "text/plain": [
       "<Figure size 640x480 with 2 Axes>"
      ]
     },
     "metadata": {},
     "output_type": "display_data"
    }
   ],
   "source": [
    "import seaborn as sns\n",
    "import pandas as pd\n",
    "\n",
    "# تعداد مدل‌ها و معیارها\n",
    "n_models = 5\n",
    "n_metrics = 3\n",
    "\n",
    "# داده‌های تصادفی (جایگزین کنید با داده‌های واقعی شما)\n",
    "data = np.random.rand(n_models, n_metrics)\n",
    "\n",
    "# نام مدل‌ها و معیارها\n",
    "models = ['Model 1', 'Model 2', 'Model 3', 'Model 4', 'Model 5']\n",
    "metrics = ['MSE', 'MAE', 'Adj R²']\n",
    "\n",
    "# تبدیل داده‌ها به DataFrame\n",
    "df = pd.DataFrame(data, index=models, columns=metrics)\n",
    "\n",
    "# رسم هیت‌مپ\n",
    "sns.heatmap(df, annot=True, cmap='coolwarm')\n",
    "plt.show()"
   ]
  },
  {
   "cell_type": "code",
   "execution_count": 42,
   "id": "e5342485",
   "metadata": {},
   "outputs": [
    {
     "data": {
      "image/png": "[encoded data removed]",
      "text/plain": [
       "<Figure size 800x600 with 2 Axes>"
      ]
     },
     "metadata": {},
     "output_type": "display_data"
    }
   ],
   "source": [
    "import seaborn as sns\n",
    "import matplotlib.pyplot as plt\n",
    "import numpy as np\n",
    "\n",
    "# فرض کنید که مقادیر MSE، MAE و R² برای هر پنج مدل را دارید\n",
    "mse_values = [10.2, 8.5, 7.3, 9.1, 6.7]\n",
    "mae_values = [5.4, 4.2, 3.8, 4.5, 3.1]\n",
    "r2_values = [0.82, 0.88, 0.91, 0.85, 0.93]\n",
    "\n",
    "# ایجاد داده‌ها برای هیت مپ\n",
    "models = ['Model 1', 'Model 2', 'Model 3', 'Model 4', 'Model 5']\n",
    "metrics = ['MSE', 'MAE', 'R²']\n",
    "data = np.array([mse_values, mae_values, r2_values]).T\n",
    "\n",
    "# ایجاد هیت مپ\n",
    "plt.figure(figsize=(8, 6))\n",
    "heatmap = sns.heatmap(data, annot=True, fmt='.2f', xticklabels=models, yticklabels=metrics, cmap='coolwarm')\n",
    "heatmap.set_title('Model Performance Comparison')\n",
    "\n",
    "plt.show()"
   ]
  },
  {
   "cell_type": "code",
   "execution_count": null,
   "id": "924ffa35",
   "metadata": {},
   "outputs": [],
   "source": []
  }
 ],
 "metadata": {
  "kernelspec": {
   "display_name": "Python 3 (ipykernel)",
   "language": "python",
   "name": "python3"
  },
  "language_info": {
   "codemirror_mode": {
    "name": "ipython",
    "version": 3
   },
   "file_extension": ".py",
   "mimetype": "text/x-python",
   "name": "python",
   "nbconvert_exporter": "python",
   "pygments_lexer": "ipython3",
   "version": "3.9.13"
  }
 },
 "nbformat": 4,
 "nbformat_minor": 5
}
