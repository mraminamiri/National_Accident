{
 "cells": [
  {
   "cell_type": "code",
   "execution_count": 1,
   "id": "0b524416",
   "metadata": {},
   "outputs": [],
   "source": [
    "import pandas as pd\n",
    "import numpy as np \n",
    "import matplotlib.pyplot as plt\n",
    "import seaborn as sns\n",
    "import seaborn as sns\n",
    "import matplotlib.pyplot as plt\n",
    "from sklearn.cluster import KMeans\n",
    "from sklearn.preprocessing import StandardScaler, LabelEncoder\n",
    "from sklearn.cluster import KMeans\n",
    "from sklearn.model_selection import train_test_split\n",
    "from sklearn.ensemble import RandomForestClassifier\n",
    "from sklearn.metrics import accuracy_score, classification_report\n",
    "from sklearn.metrics import confusion_matrix\n",
    "from sklearn.linear_model import LogisticRegression\n",
    "from sklearn.model_selection import train_test_split\n",
    "from sklearn.tree import DecisionTreeClassifier\n",
    "from sklearn.metrics import accuracy_score, classification_report, confusion_matrix\n",
    "import matplotlib.pyplot as plt\n",
    "import seaborn as sns\n",
    "from sklearn.linear_model import LinearRegression\n",
    "from sklearn.model_selection import train_test_split\n",
    "from sklearn.metrics import mean_squared_error, r2_score\n",
    "import numpy as np\n",
    "import pandas as pd \n",
    "import numpy as np\n",
    "import seaborn as sns\n",
    "from sklearn.preprocessing import StandardScaler\n",
    "from sklearn.model_selection import train_test_split\n",
    "from sklearn.metrics import accuracy_score\n",
    "from sklearn.tree import DecisionTreeClassifier\n",
    "from sklearn.linear_model import LogisticRegression\n",
    "from sklearn.metrics import precision_score,recall_score,f1_score\n",
    "from sklearn.metrics import confusion_matrix\n",
    "from sklearn.svm import SVC\n"
   ]
  },
  {
   "cell_type": "code",
   "execution_count": 2,
   "id": "682962a0",
   "metadata": {},
   "outputs": [
    {
     "data": {
      "text/html": [
       "<div>\n",
       "<style scoped>\n",
       "    .dataframe tbody tr th:only-of-type {\n",
       "        vertical-align: middle;\n",
       "    }\n",
       "\n",
       "    .dataframe tbody tr th {\n",
       "        vertical-align: top;\n",
       "    }\n",
       "\n",
       "    .dataframe thead th {\n",
       "        text-align: right;\n",
       "    }\n",
       "</style>\n",
       "<table border=\"1\" class=\"dataframe\">\n",
       "  <thead>\n",
       "    <tr style=\"text-align: right;\">\n",
       "      <th></th>\n",
       "      <th>CountCases</th>\n",
       "      <th>BedDys</th>\n",
       "      <th>BeddystoCC</th>\n",
       "      <th>Severity</th>\n",
       "      <th>DiedCases</th>\n",
       "      <th>DiedBdDys</th>\n",
       "      <th>Hsptlsns</th>\n",
       "      <th>April</th>\n",
       "      <th>August</th>\n",
       "      <th>December</th>\n",
       "      <th>...</th>\n",
       "      <th>Y2013</th>\n",
       "      <th>Y2014</th>\n",
       "      <th>Y2015</th>\n",
       "      <th>Y2016</th>\n",
       "      <th>Y2017</th>\n",
       "      <th>Y2018</th>\n",
       "      <th>Y2019</th>\n",
       "      <th>Y2020</th>\n",
       "      <th>Y2021</th>\n",
       "      <th>CovidPrd</th>\n",
       "    </tr>\n",
       "  </thead>\n",
       "  <tbody>\n",
       "    <tr>\n",
       "      <th>0</th>\n",
       "      <td>17</td>\n",
       "      <td>133</td>\n",
       "      <td>7.823529</td>\n",
       "      <td>75</td>\n",
       "      <td>4</td>\n",
       "      <td>9</td>\n",
       "      <td>13</td>\n",
       "      <td>0</td>\n",
       "      <td>0</td>\n",
       "      <td>0</td>\n",
       "      <td>...</td>\n",
       "      <td>1</td>\n",
       "      <td>0</td>\n",
       "      <td>0</td>\n",
       "      <td>0</td>\n",
       "      <td>0</td>\n",
       "      <td>0</td>\n",
       "      <td>0</td>\n",
       "      <td>0</td>\n",
       "      <td>0</td>\n",
       "      <td>0</td>\n",
       "    </tr>\n",
       "    <tr>\n",
       "      <th>1</th>\n",
       "      <td>13</td>\n",
       "      <td>372</td>\n",
       "      <td>28.615385</td>\n",
       "      <td>63</td>\n",
       "      <td>4</td>\n",
       "      <td>34</td>\n",
       "      <td>9</td>\n",
       "      <td>0</td>\n",
       "      <td>0</td>\n",
       "      <td>0</td>\n",
       "      <td>...</td>\n",
       "      <td>0</td>\n",
       "      <td>0</td>\n",
       "      <td>0</td>\n",
       "      <td>0</td>\n",
       "      <td>0</td>\n",
       "      <td>0</td>\n",
       "      <td>0</td>\n",
       "      <td>0</td>\n",
       "      <td>0</td>\n",
       "      <td>0</td>\n",
       "    </tr>\n",
       "    <tr>\n",
       "      <th>2</th>\n",
       "      <td>8</td>\n",
       "      <td>106</td>\n",
       "      <td>13.250000</td>\n",
       "      <td>48</td>\n",
       "      <td>4</td>\n",
       "      <td>13</td>\n",
       "      <td>4</td>\n",
       "      <td>0</td>\n",
       "      <td>0</td>\n",
       "      <td>0</td>\n",
       "      <td>...</td>\n",
       "      <td>0</td>\n",
       "      <td>0</td>\n",
       "      <td>0</td>\n",
       "      <td>0</td>\n",
       "      <td>0</td>\n",
       "      <td>1</td>\n",
       "      <td>0</td>\n",
       "      <td>0</td>\n",
       "      <td>0</td>\n",
       "      <td>0</td>\n",
       "    </tr>\n",
       "    <tr>\n",
       "      <th>3</th>\n",
       "      <td>45</td>\n",
       "      <td>218</td>\n",
       "      <td>4.844444</td>\n",
       "      <td>153</td>\n",
       "      <td>3</td>\n",
       "      <td>24</td>\n",
       "      <td>42</td>\n",
       "      <td>0</td>\n",
       "      <td>0</td>\n",
       "      <td>0</td>\n",
       "      <td>...</td>\n",
       "      <td>0</td>\n",
       "      <td>0</td>\n",
       "      <td>0</td>\n",
       "      <td>1</td>\n",
       "      <td>0</td>\n",
       "      <td>0</td>\n",
       "      <td>0</td>\n",
       "      <td>0</td>\n",
       "      <td>0</td>\n",
       "      <td>0</td>\n",
       "    </tr>\n",
       "    <tr>\n",
       "      <th>4</th>\n",
       "      <td>24</td>\n",
       "      <td>238</td>\n",
       "      <td>9.916667</td>\n",
       "      <td>90</td>\n",
       "      <td>3</td>\n",
       "      <td>8</td>\n",
       "      <td>21</td>\n",
       "      <td>0</td>\n",
       "      <td>1</td>\n",
       "      <td>0</td>\n",
       "      <td>...</td>\n",
       "      <td>1</td>\n",
       "      <td>0</td>\n",
       "      <td>0</td>\n",
       "      <td>0</td>\n",
       "      <td>0</td>\n",
       "      <td>0</td>\n",
       "      <td>0</td>\n",
       "      <td>0</td>\n",
       "      <td>0</td>\n",
       "      <td>0</td>\n",
       "    </tr>\n",
       "  </tbody>\n",
       "</table>\n",
       "<p>5 rows × 58 columns</p>\n",
       "</div>"
      ],
      "text/plain": [
       "   CountCases  BedDys  BeddystoCC  Severity  DiedCases  DiedBdDys  Hsptlsns  \\\n",
       "0          17     133    7.823529        75          4          9        13   \n",
       "1          13     372   28.615385        63          4         34         9   \n",
       "2           8     106   13.250000        48          4         13         4   \n",
       "3          45     218    4.844444       153          3         24        42   \n",
       "4          24     238    9.916667        90          3          8        21   \n",
       "\n",
       "   April  August  December  ...  Y2013  Y2014  Y2015  Y2016  Y2017  Y2018  \\\n",
       "0      0       0         0  ...      1      0      0      0      0      0   \n",
       "1      0       0         0  ...      0      0      0      0      0      0   \n",
       "2      0       0         0  ...      0      0      0      0      0      1   \n",
       "3      0       0         0  ...      0      0      0      1      0      0   \n",
       "4      0       1         0  ...      1      0      0      0      0      0   \n",
       "\n",
       "   Y2019  Y2020  Y2021  CovidPrd  \n",
       "0      0      0      0         0  \n",
       "1      0      0      0         0  \n",
       "2      0      0      0         0  \n",
       "3      0      0      0         0  \n",
       "4      0      0      0         0  \n",
       "\n",
       "[5 rows x 58 columns]"
      ]
     },
     "execution_count": 2,
     "metadata": {},
     "output_type": "execute_result"
    }
   ],
   "source": [
    "data = pd.read_csv('final_with_covid_AS.csv')\n",
    "data.head()"
   ]
  },
  {
   "cell_type": "code",
   "execution_count": 3,
   "id": "626b839d",
   "metadata": {},
   "outputs": [
    {
     "data": {
      "text/plain": [
       "count    54038.000000\n",
       "mean        20.565250\n",
       "std         32.442537\n",
       "min          3.000000\n",
       "25%          3.000000\n",
       "50%          9.000000\n",
       "75%         24.000000\n",
       "max        363.000000\n",
       "Name: Severity, dtype: float64"
      ]
     },
     "execution_count": 3,
     "metadata": {},
     "output_type": "execute_result"
    }
   ],
   "source": [
    "data['Severity'].describe()"
   ]
  },
  {
   "cell_type": "code",
   "execution_count": 4,
   "id": "bcdb89d7",
   "metadata": {},
   "outputs": [],
   "source": [
    "data['Severity'] = np.log(data['Severity'])\n"
   ]
  },
  {
   "cell_type": "code",
   "execution_count": 5,
   "id": "736df86d",
   "metadata": {},
   "outputs": [],
   "source": [
    "filtered_data = data"
   ]
  },
  {
   "cell_type": "code",
   "execution_count": 6,
   "id": "43803413",
   "metadata": {},
   "outputs": [],
   "source": [
    "num_bins = 3\n",
    "\n",
    "bed_days_min = filtered_data['Severity'].min()\n",
    "bed_days_max = filtered_data['Severity'].max()\n",
    "\n",
    "bin_width = (bed_days_max - bed_days_min) / num_bins\n",
    "bins = [bed_days_min + i * bin_width for i in range(num_bins + 1)]\n",
    "\n",
    "def bin_function(x):\n",
    "    for i in range(1, len(bins)):\n",
    "        if x <= bins[i]:\n",
    "            return i - 1\n",
    "    return i\n",
    "\n",
    "filtered_data['Bed_days_category'] = filtered_data['Severity'].apply(bin_function)"
   ]
  },
  {
   "cell_type": "code",
   "execution_count": 7,
   "id": "803ac340",
   "metadata": {},
   "outputs": [
    {
     "data": {
      "text/plain": [
       "count    54038.000000\n",
       "mean         0.429198\n",
       "std          0.596959\n",
       "min          0.000000\n",
       "25%          0.000000\n",
       "50%          0.000000\n",
       "75%          1.000000\n",
       "max          2.000000\n",
       "Name: Bed_days_category, dtype: float64"
      ]
     },
     "execution_count": 7,
     "metadata": {},
     "output_type": "execute_result"
    }
   ],
   "source": [
    "filtered_data['Bed_days_category'].describe()"
   ]
  },
  {
   "cell_type": "code",
   "execution_count": 8,
   "id": "3bd6dd88",
   "metadata": {},
   "outputs": [
    {
     "data": {
      "text/plain": [
       "count    54038.000000\n",
       "mean         2.308944\n",
       "std          1.125134\n",
       "min          1.098612\n",
       "25%          1.098612\n",
       "50%          2.197225\n",
       "75%          3.178054\n",
       "max          5.894403\n",
       "Name: Severity, dtype: float64"
      ]
     },
     "execution_count": 8,
     "metadata": {},
     "output_type": "execute_result"
    }
   ],
   "source": [
    "data['Severity'].describe()"
   ]
  },
  {
   "cell_type": "code",
   "execution_count": 15,
   "id": "f552c735",
   "metadata": {},
   "outputs": [
    {
     "data": {
      "text/plain": [
       "0    33854\n",
       "1    17175\n",
       "2     3009\n",
       "Name: Bed_days_category, dtype: int64"
      ]
     },
     "execution_count": 15,
     "metadata": {},
     "output_type": "execute_result"
    }
   ],
   "source": [
    "filtered_data['Bed_days_category'].value_counts()"
   ]
  },
  {
   "cell_type": "code",
   "execution_count": 16,
   "id": "0c197728",
   "metadata": {},
   "outputs": [
    {
     "data": {
      "text/plain": [
       "0        2\n",
       "1        1\n",
       "2        1\n",
       "3        2\n",
       "4        2\n",
       "        ..\n",
       "54033    0\n",
       "54034    0\n",
       "54035    0\n",
       "54036    0\n",
       "54037    0\n",
       "Name: Bed_days_category, Length: 54038, dtype: int64"
      ]
     },
     "execution_count": 16,
     "metadata": {},
     "output_type": "execute_result"
    }
   ],
   "source": [
    "filtered_data['Bed_days_category']"
   ]
  },
  {
   "cell_type": "code",
   "execution_count": 7,
   "id": "3183b2f0",
   "metadata": {},
   "outputs": [
    {
     "name": "stdout",
     "output_type": "stream",
     "text": [
      "کلاس 0:\n",
      "بازه: [1.0986122886681098, 2.697209137200357)\n",
      "کلاس 1:\n",
      "بازه: [2.697209137200357, 4.295805985732604)\n",
      "کلاس 2:\n",
      "بازه: [4.295805985732604, 5.8944028342648505)\n"
     ]
    }
   ],
   "source": [
    "import numpy as np\n",
    "\n",
    "print(\"کلاس 0:\")\n",
    "print(f\"بازه: [{bins[0]}, {bins[1]})\")\n",
    "\n",
    "print(\"کلاس 1:\")\n",
    "print(f\"بازه: [{bins[1]}, {bins[2]})\")\n",
    "\n",
    "print(\"کلاس 2:\")\n",
    "print(f\"بازه: [{bins[2]}, {bins[3]})\")"
   ]
  },
  {
   "cell_type": "code",
   "execution_count": 17,
   "id": "ff3e9fe5",
   "metadata": {},
   "outputs": [
    {
     "data": {
      "image/png": "[encoded data removed]",
      "text/plain": [
       "<Figure size 800x800 with 1 Axes>"
      ]
     },
     "metadata": {},
     "output_type": "display_data"
    }
   ],
   "source": [
    "import matplotlib.pyplot as plt\n",
    "\n",
    "value_counts = filtered_data['Bed_days_category'].value_counts()\n",
    "\n",
    "plt.figure(figsize=(8, 8))\n",
    "plt.pie(value_counts, labels=value_counts.index, autopct='%1.1f%%', startangle=90)\n",
    "plt.axis('equal')  \n",
    "plt.title('Pie Chart of CLASSES NUMBERS')\n",
    "plt.show()"
   ]
  },
  {
   "cell_type": "markdown",
   "id": "57b4ae2f",
   "metadata": {},
   "source": [
    "# XGBClassifier"
   ]
  },
  {
   "cell_type": "code",
   "execution_count": 11,
   "id": "dc86b14c",
   "metadata": {},
   "outputs": [
    {
     "name": "stdout",
     "output_type": "stream",
     "text": [
      "Accuracy: 0.8416604983962497\n",
      "Confusion Matrix:\n",
      " [[9007 1104   16]\n",
      " [ 886 4046  229]\n",
      " [   1  331  592]]\n",
      "Classification Report:\n",
      "               precision    recall  f1-score   support\n",
      "\n",
      "           0       0.91      0.89      0.90     10127\n",
      "           1       0.74      0.78      0.76      5161\n",
      "           2       0.71      0.64      0.67       924\n",
      "\n",
      "    accuracy                           0.84     16212\n",
      "   macro avg       0.79      0.77      0.78     16212\n",
      "weighted avg       0.84      0.84      0.84     16212\n",
      "\n",
      "Precision: 0.7852747007706148\n",
      "Recall: 0.7713512667710227\n",
      "F1-score: 0.7774946339791877\n"
     ]
    }
   ],
   "source": [
    "from xgboost import XGBClassifier\n",
    "\n",
    "X = filtered_data[['Age1725','Age2639','Age4064','Age6574','Age75plus',\n",
    "                   'Male',\n",
    "                   \n",
    "                   'Regional',\n",
    "\n",
    "                   'April','December','February','January','July',\n",
    "                   'June','March','May','November','October','September',\n",
    "\n",
    "                   'Cntrprt23WldMV','CntrprtFxdStnry','CntrprtHvyVhcl',\n",
    "                   'CntrprtNClsn','CntrprtOther','CntrprtNMV','CntrprtCrTrkVn',\n",
    "                   'CntrprtPdlC','CntrprtPdstAnml','CntrprtTrn',\n",
    "\n",
    "                   'Y2014','Y2015','Y2016','Y2017','Y2018','Y2019','Y2020','Y2021','BedDys',\n",
    "                   'Y2013','Y2012',\n",
    "                   'CovidPrd']]\n",
    "\n",
    "\n",
    "\n",
    "y = filtered_data['Bed_days_category']\n",
    "\n",
    "\n",
    "\n",
    "X_train, X_test, y_train, y_test = train_test_split(X, y, test_size=0.3, random_state=42)\n",
    "\n",
    "xgb_model = XGBClassifier(random_state=42)\n",
    "xgb_model.fit(X_train, y_train)\n",
    "\n",
    "\n",
    "# ارزیابی مدل\n",
    "y_pred_xgb = xgb_model.predict(X_test)\n",
    "acc_xgb = accuracy_score(y_test, y_pred_xgb)\n",
    "conf_matrix_xgb = confusion_matrix(y_test, y_pred_xgb)\n",
    "class_report_xgb = classification_report(y_test, y_pred_xgb)\n",
    "\n",
    "precision_xgb = precision_score(y_test, y_pred_xgb,average='macro') \n",
    "recall_xgb = recall_score(y_test, y_pred_xgb, average='macro')\n",
    "f1_xgb = f1_score(y_test, y_pred_xgb, average='macro')\n",
    "print('Accuracy:', acc_xgb)\n",
    "print('Confusion Matrix:\\n', conf_matrix_xgb)\n",
    "print('Classification Report:\\n', class_report_xgb)\n",
    "print('Precision:', precision_xgb)\n",
    "print('Recall:', recall_xgb)\n",
    "print('F1-score:', f1_xgb)"
   ]
  },
  {
   "cell_type": "markdown",
   "id": "38c9cf90",
   "metadata": {},
   "source": [
    "# LogisticRegression"
   ]
  },
  {
   "cell_type": "code",
   "execution_count": 12,
   "id": "1cead511",
   "metadata": {},
   "outputs": [
    {
     "name": "stdout",
     "output_type": "stream",
     "text": [
      "Accuracy: 0.8010115963483839\n",
      "Confusion Matrix:\n",
      " [[9382  723   22]\n",
      " [1836 3209  116]\n",
      " [   0  529  395]]\n",
      "Classification Report:\n",
      "               precision    recall  f1-score   support\n",
      "\n",
      "           0       0.84      0.93      0.88     10127\n",
      "           1       0.72      0.62      0.67      5161\n",
      "           2       0.74      0.43      0.54       924\n",
      "\n",
      "    accuracy                           0.80     16212\n",
      "   macro avg       0.77      0.66      0.70     16212\n",
      "weighted avg       0.79      0.80      0.79     16212\n",
      "\n",
      "Precision: 0.7655893602753819\n",
      "Recall: 0.6585673957094076\n",
      "F1-score: 0.6961016225825615\n"
     ]
    },
    {
     "name": "stderr",
     "output_type": "stream",
     "text": [
      "/Users/amin/opt/anaconda3/lib/python3.9/site-packages/sklearn/linear_model/_logistic.py:814: ConvergenceWarning: lbfgs failed to converge (status=1):\n",
      "STOP: TOTAL NO. of ITERATIONS REACHED LIMIT.\n",
      "\n",
      "Increase the number of iterations (max_iter) or scale the data as shown in:\n",
      "    https://scikit-learn.org/stable/modules/preprocessing.html\n",
      "Please also refer to the documentation for alternative solver options:\n",
      "    https://scikit-learn.org/stable/modules/linear_model.html#logistic-regression\n",
      "  n_iter_i = _check_optimize_result(\n"
     ]
    }
   ],
   "source": [
    "from sklearn.linear_model import LogisticRegression\n",
    "from sklearn.metrics import accuracy_score, confusion_matrix, classification_report, precision_score, recall_score, f1_score\n",
    "from sklearn.model_selection import train_test_split\n",
    "\n",
    "# Assuming filtered_data is your DataFrame containing the features and target variable\n",
    "\n",
    "X = filtered_data[['Age1725', 'Age2639', 'Age4064', 'Age6574', 'Age75plus',\n",
    "                  'Male',\n",
    "                  'Regional',\n",
    "                  'April', 'December', 'February', 'January', 'July',\n",
    "                  'June', 'March', 'May', 'November', 'October', 'September',\n",
    "                  'Cntrprt23WldMV', 'CntrprtFxdStnry', 'CntrprtHvyVhcl',\n",
    "                  'CntrprtNClsn', 'CntrprtOther', 'CntrprtNMV', 'CntrprtCrTrkVn',\n",
    "                  'CntrprtPdlC', 'CntrprtPdstAnml', 'CntrprtTrn',\n",
    "                  'Y2014', 'Y2015', 'Y2016', 'Y2017', 'Y2018', 'Y2019', 'Y2020', 'Y2021', 'BedDys',\n",
    "                  'Y2013', 'Y2012',\n",
    "                  'CovidPrd']]\n",
    "\n",
    "y = filtered_data['Bed_days_category']\n",
    "\n",
    "X_train, X_test, y_train, y_test = train_test_split(X, y, test_size=0.3, random_state=42)\n",
    "\n",
    "# Create a Logistic Regression model\n",
    "lr_model = LogisticRegression(random_state=42)\n",
    "lr_model.fit(X_train, y_train)\n",
    "\n",
    "# Evaluate the model\n",
    "y_pred_lr = lr_model.predict(X_test)\n",
    "acc_lr = accuracy_score(y_test, y_pred_lr)\n",
    "conf_matrix_lr = confusion_matrix(y_test, y_pred_lr)\n",
    "class_report_lr = classification_report(y_test, y_pred_lr)\n",
    "precision_lr = precision_score(y_test, y_pred_lr, average='macro')\n",
    "recall_lr = recall_score(y_test, y_pred_lr, average='macro')\n",
    "f1_lr = f1_score(y_test, y_pred_lr, average='macro')\n",
    "\n",
    "print('Accuracy:', acc_lr)\n",
    "print('Confusion Matrix:\\n', conf_matrix_lr)\n",
    "print('Classification Report:\\n', class_report_lr)\n",
    "print('Precision:', precision_lr)\n",
    "print('Recall:', recall_lr)\n",
    "print('F1-score:', f1_lr)"
   ]
  },
  {
   "cell_type": "markdown",
   "id": "f5f3295f",
   "metadata": {},
   "source": [
    "# MLPClassifier"
   ]
  },
  {
   "cell_type": "code",
   "execution_count": 32,
   "id": "a34e742e",
   "metadata": {},
   "outputs": [
    {
     "name": "stderr",
     "output_type": "stream",
     "text": [
      "/Users/amin/opt/anaconda3/lib/python3.9/site-packages/sklearn/neural_network/_multilayer_perceptron.py:692: ConvergenceWarning: Stochastic Optimizer: Maximum iterations (200) reached and the optimization hasn't converged yet.\n",
      "  warnings.warn(\n"
     ]
    },
    {
     "name": "stdout",
     "output_type": "stream",
     "text": [
      "Accuracy: 0.8348137182334073\n",
      "Confusion Matrix:\n",
      " [[8946 1157   24]\n",
      " [ 930 3887  344]\n",
      " [   0  223  701]]\n",
      "Classification Report:\n",
      "               precision    recall  f1-score   support\n",
      "\n",
      "           0       0.91      0.88      0.89     10127\n",
      "           1       0.74      0.75      0.75      5161\n",
      "           2       0.66      0.76      0.70       924\n",
      "\n",
      "    accuracy                           0.83     16212\n",
      "   macro avg       0.77      0.80      0.78     16212\n",
      "weighted avg       0.84      0.83      0.84     16212\n",
      "\n",
      "Precision: 0.7665255424592324\n",
      "Recall: 0.7983958945996111\n",
      "F1-score: 0.7811402837523905\n"
     ]
    },
    {
     "name": "stderr",
     "output_type": "stream",
     "text": [
      "/Users/amin/opt/anaconda3/lib/python3.9/site-packages/sklearn/neural_network/_multilayer_perceptron.py:692: ConvergenceWarning: Stochastic Optimizer: Maximum iterations (200) reached and the optimization hasn't converged yet.\n",
      "  warnings.warn(\n"
     ]
    }
   ],
   "source": [
    "from sklearn.neural_network import MLPClassifier\n",
    "from sklearn.metrics import accuracy_score, confusion_matrix, classification_report, precision_score, recall_score, f1_score\n",
    "from sklearn.model_selection import train_test_split\n",
    "\n",
    "# Assuming filtered_data is your DataFrame containing the features and target variable\n",
    "\n",
    "X = filtered_data[['Age1725', 'Age2639', 'Age4064', 'Age6574', 'Age75plus',\n",
    "                  'Male',\n",
    "                  'Regional',\n",
    "                  'April', 'December', 'February', 'January', 'July',\n",
    "                  'June', 'March', 'May', 'November', 'October', 'September',\n",
    "                  'Cntrprt23WldMV', 'CntrprtFxdStnry', 'CntrprtHvyVhcl',\n",
    "                  'CntrprtNClsn', 'CntrprtOther', 'CntrprtNMV', 'CntrprtCrTrkVn',\n",
    "                  'CntrprtPdlC', 'CntrprtPdstAnml', 'CntrprtTrn',\n",
    "                  'Y2014', 'Y2015', 'Y2016', 'Y2017', 'Y2018', 'Y2019', 'Y2020', 'Y2021', 'BedDys',\n",
    "                  'Y2013', 'Y2012',\n",
    "                  'CovidPrd']]\n",
    "\n",
    "y = filtered_data['Bed_days_category']\n",
    "\n",
    "X_train, X_test, y_train, y_test = train_test_split(X, y, test_size=0.3, random_state=42)\n",
    "\n",
    "from sklearn.neural_network import MLPClassifier\n",
    "\n",
    "# تعریف یک MLPClassifier با ساختار سفارشی\n",
    "mlp_model = MLPClassifier(hidden_layer_sizes=(64, 32), activation='relu', random_state=42)\n",
    "\n",
    "# آموزش مدل با داده‌های آموزشی\n",
    "mlp_model.fit(X_train, y_train)\n",
    "mlp_model.fit(X_train, y_train)\n",
    "\n",
    "# Evaluate the model\n",
    "y_pred_mlp = mlp_model.predict(X_test)\n",
    "acc_mlp = accuracy_score(y_test, y_pred_mlp)\n",
    "conf_matrix_mlp = confusion_matrix(y_test, y_pred_mlp)\n",
    "class_report_mlp = classification_report(y_test, y_pred_mlp)\n",
    "precision_mlp = precision_score(y_test, y_pred_mlp, average='macro')\n",
    "recall_mlp = recall_score(y_test, y_pred_mlp, average='macro')\n",
    "f1_mlp = f1_score(y_test, y_pred_mlp, average='macro')\n",
    "\n",
    "print('Accuracy:', acc_mlp)\n",
    "print('Confusion Matrix:\\n', conf_matrix_mlp)\n",
    "print('Classification Report:\\n', class_report_mlp)\n",
    "print('Precision:', precision_mlp)\n",
    "print('Recall:', recall_mlp)\n",
    "print('F1-score:', f1_mlp)"
   ]
  },
  {
   "cell_type": "markdown",
   "id": "79902bba",
   "metadata": {},
   "source": [
    "# DecisionTreeClassifier"
   ]
  },
  {
   "cell_type": "code",
   "execution_count": 14,
   "id": "5a8be817",
   "metadata": {},
   "outputs": [
    {
     "name": "stdout",
     "output_type": "stream",
     "text": [
      "Accuracy: 0.7800394769306687\n",
      "Confusion Matrix:\n",
      " [[8737 1355   35]\n",
      " [1393 3408  360]\n",
      " [  24  399  501]]\n",
      "Classification Report:\n",
      "               precision    recall  f1-score   support\n",
      "\n",
      "           0       0.86      0.86      0.86     10127\n",
      "           1       0.66      0.66      0.66      5161\n",
      "           2       0.56      0.54      0.55       924\n",
      "\n",
      "    accuracy                           0.78     16212\n",
      "   macro avg       0.69      0.69      0.69     16212\n",
      "weighted avg       0.78      0.78      0.78     16212\n",
      "\n",
      "Precision: 0.6932700303503841\n",
      "Recall: 0.6884293660055714\n",
      "F1-score: 0.6908057409596274\n"
     ]
    }
   ],
   "source": [
    "from sklearn.tree import DecisionTreeClassifier\n",
    "from sklearn.metrics import accuracy_score, confusion_matrix, classification_report, precision_score, recall_score, f1_score\n",
    "from sklearn.model_selection import train_test_split\n",
    "\n",
    "# Assuming filtered_data is your DataFrame containing the features and target variable\n",
    "\n",
    "X = filtered_data[['Age1725', 'Age2639', 'Age4064', 'Age6574', 'Age75plus',\n",
    "                  'Male',\n",
    "                  'Regional',\n",
    "                  'April', 'December', 'February', 'January', 'July',\n",
    "                  'June', 'March', 'May', 'November', 'October', 'September',\n",
    "                  'Cntrprt23WldMV', 'CntrprtFxdStnry', 'CntrprtHvyVhcl',\n",
    "                  'CntrprtNClsn', 'CntrprtOther', 'CntrprtNMV', 'CntrprtCrTrkVn',\n",
    "                  'CntrprtPdlC', 'CntrprtPdstAnml', 'CntrprtTrn',\n",
    "                  'Y2014', 'Y2015', 'Y2016', 'Y2017', 'Y2018', 'Y2019', 'Y2020', 'Y2021', 'BedDys',\n",
    "                  'Y2013', 'Y2012',\n",
    "                  'CovidPrd']]\n",
    "\n",
    "y = filtered_data['Bed_days_category']\n",
    "\n",
    "X_train, X_test, y_train, y_test = train_test_split(X, y, test_size=0.3, random_state=42)\n",
    "\n",
    "# Create a Decision Tree classifier\n",
    "dt_model = DecisionTreeClassifier(random_state=42)\n",
    "dt_model.fit(X_train, y_train)\n",
    "\n",
    "# Evaluate the model\n",
    "y_pred_dt = dt_model.predict(X_test)\n",
    "acc_dt = accuracy_score(y_test, y_pred_dt)\n",
    "conf_matrix_dt = confusion_matrix(y_test, y_pred_dt)\n",
    "class_report_dt = classification_report(y_test, y_pred_dt)\n",
    "precision_dt = precision_score(y_test, y_pred_dt, average='macro')\n",
    "recall_dt = recall_score(y_test, y_pred_dt, average='macro')\n",
    "f1_dt = f1_score(y_test, y_pred_dt, average='macro')\n",
    "\n",
    "print('Accuracy:', acc_dt)\n",
    "print('Confusion Matrix:\\n', conf_matrix_dt)\n",
    "print('Classification Report:\\n', class_report_dt)\n",
    "print('Precision:', precision_dt)\n",
    "print('Recall:', recall_dt)\n",
    "print('F1-score:', f1_dt)"
   ]
  },
  {
   "cell_type": "markdown",
   "id": "c9aaa4c9",
   "metadata": {},
   "source": [
    "# RandomForestClassifier"
   ]
  },
  {
   "cell_type": "code",
   "execution_count": 15,
   "id": "72d9439e",
   "metadata": {},
   "outputs": [
    {
     "name": "stdout",
     "output_type": "stream",
     "text": [
      "Accuracy: 0.8207500616827041\n",
      "Confusion Matrix:\n",
      " [[9046 1065   16]\n",
      " [1169 3753  239]\n",
      " [  11  406  507]]\n",
      "Classification Report:\n",
      "               precision    recall  f1-score   support\n",
      "\n",
      "           0       0.88      0.89      0.89     10127\n",
      "           1       0.72      0.73      0.72      5161\n",
      "           2       0.67      0.55      0.60       924\n",
      "\n",
      "    accuracy                           0.82     16212\n",
      "   macro avg       0.76      0.72      0.74     16212\n",
      "weighted avg       0.82      0.82      0.82     16212\n",
      "\n",
      "Precision: 0.7561257335591279\n",
      "Recall: 0.7230472020141331\n",
      "F1-score: 0.7377024812857055\n"
     ]
    }
   ],
   "source": [
    "from sklearn.ensemble import RandomForestClassifier\n",
    "from sklearn.metrics import accuracy_score, confusion_matrix, classification_report, precision_score, recall_score, f1_score\n",
    "from sklearn.model_selection import train_test_split\n",
    "\n",
    "# Assuming filtered_data is your DataFrame containing the features and target variable\n",
    "\n",
    "X = filtered_data[['Age1725', 'Age2639', 'Age4064', 'Age6574', 'Age75plus',\n",
    "                  'Male',\n",
    "                  'Regional',\n",
    "                  'April', 'December', 'February', 'January', 'July',\n",
    "                  'June', 'March', 'May', 'November', 'October', 'September',\n",
    "                  'Cntrprt23WldMV', 'CntrprtFxdStnry', 'CntrprtHvyVhcl',\n",
    "                  'CntrprtNClsn', 'CntrprtOther', 'CntrprtNMV', 'CntrprtCrTrkVn',\n",
    "                  'CntrprtPdlC', 'CntrprtPdstAnml', 'CntrprtTrn',\n",
    "                  'Y2014', 'Y2015', 'Y2016', 'Y2017', 'Y2018', 'Y2019', 'Y2020', 'Y2021', 'BedDys',\n",
    "                  'Y2013', 'Y2012',\n",
    "                  'CovidPrd']]\n",
    "\n",
    "y = filtered_data['Bed_days_category']\n",
    "\n",
    "X_train, X_test, y_train, y_test = train_test_split(X, y, test_size=0.3, random_state=42)\n",
    "\n",
    "# Create a Random Forest classifier\n",
    "rf_model = RandomForestClassifier(random_state=42)\n",
    "rf_model.fit(X_train, y_train)\n",
    "\n",
    "# Evaluate the model\n",
    "y_pred_rf = rf_model.predict(X_test)\n",
    "acc_rf = accuracy_score(y_test, y_pred_rf)\n",
    "conf_matrix_rf = confusion_matrix(y_test, y_pred_rf)\n",
    "class_report_rf = classification_report(y_test, y_pred_rf)\n",
    "precision_rf = precision_score(y_test, y_pred_rf, average='macro')\n",
    "recall_rf = recall_score(y_test, y_pred_rf, average='macro')\n",
    "f1_rf = f1_score(y_test, y_pred_rf, average='macro')\n",
    "\n",
    "print('Accuracy:', acc_rf)\n",
    "print('Confusion Matrix:\\n', conf_matrix_rf)\n",
    "print('Classification Report:\\n', class_report_rf)\n",
    "print('Precision:', precision_rf)\n",
    "print('Recall:', recall_rf)\n",
    "print('F1-score:', f1_rf)"
   ]
  },
  {
   "cell_type": "markdown",
   "id": "0051aa54",
   "metadata": {},
   "source": [
    "# svm"
   ]
  },
  {
   "cell_type": "code",
   "execution_count": 16,
   "id": "f17e4b01",
   "metadata": {},
   "outputs": [
    {
     "name": "stdout",
     "output_type": "stream",
     "text": [
      "Accuracy: 0.7786207747347643\n",
      "Confusion Matrix:\n",
      " [[8588 1515   24]\n",
      " [1212 3775  174]\n",
      " [   0  664  260]]\n",
      "Classification Report:\n",
      "               precision    recall  f1-score   support\n",
      "\n",
      "           0       0.88      0.85      0.86     10127\n",
      "           1       0.63      0.73      0.68      5161\n",
      "           2       0.57      0.28      0.38       924\n",
      "\n",
      "    accuracy                           0.78     16212\n",
      "   macro avg       0.69      0.62      0.64     16212\n",
      "weighted avg       0.78      0.78      0.78     16212\n",
      "\n",
      "Precision: 0.6926798882132631\n",
      "Recall: 0.6202875646876383\n",
      "F1-score: 0.6391582140797066\n"
     ]
    }
   ],
   "source": [
    "from sklearn.svm import SVC\n",
    "from sklearn.metrics import accuracy_score, confusion_matrix, classification_report, precision_score, recall_score, f1_score\n",
    "from sklearn.model_selection import train_test_split\n",
    "\n",
    "# Assuming filtered_data is your DataFrame containing the features and target variable\n",
    "\n",
    "X = filtered_data[['Age1725', 'Age2639', 'Age4064', 'Age6574', 'Age75plus',\n",
    "                  'Male',\n",
    "                  'Regional',\n",
    "                  'April', 'December', 'February', 'January', 'July',\n",
    "                  'June', 'March', 'May', 'November', 'October', 'September',\n",
    "                  'Cntrprt23WldMV', 'CntrprtFxdStnry', 'CntrprtHvyVhcl',\n",
    "                  'CntrprtNClsn', 'CntrprtOther', 'CntrprtNMV', 'CntrprtCrTrkVn',\n",
    "                  'CntrprtPdlC', 'CntrprtPdstAnml', 'CntrprtTrn',\n",
    "                  'Y2014', 'Y2015', 'Y2016', 'Y2017', 'Y2018', 'Y2019', 'Y2020', 'Y2021', 'BedDys',\n",
    "                  'Y2013', 'Y2012',\n",
    "                  'CovidPrd']]\n",
    "\n",
    "y = filtered_data['Bed_days_category']\n",
    "\n",
    "X_train, X_test, y_train, y_test = train_test_split(X, y, test_size=0.3, random_state=42)\n",
    "\n",
    "# Create an SVM classifier\n",
    "svm_model = SVC(random_state=42)\n",
    "svm_model.fit(X_train, y_train)\n",
    "\n",
    "# Evaluate the model\n",
    "y_pred_svm = svm_model.predict(X_test)\n",
    "acc_svm = accuracy_score(y_test, y_pred_svm)\n",
    "conf_matrix_svm = confusion_matrix(y_test, y_pred_svm)\n",
    "class_report_svm = classification_report(y_test, y_pred_svm)\n",
    "precision_svm = precision_score(y_test, y_pred_svm, average='macro')\n",
    "recall_svm = recall_score(y_test, y_pred_svm, average='macro')\n",
    "f1_svm = f1_score(y_test, y_pred_svm, average='macro')\n",
    "\n",
    "print('Accuracy:', acc_svm)\n",
    "print('Confusion Matrix:\\n', conf_matrix_svm)\n",
    "print('Classification Report:\\n', class_report_svm)\n",
    "print('Precision:', precision_svm)\n",
    "print('Recall:', recall_svm)\n",
    "print('F1-score:', f1_svm)"
   ]
  },
  {
   "cell_type": "code",
   "execution_count": 30,
   "id": "abd681ec",
   "metadata": {},
   "outputs": [
    {
     "name": "stderr",
     "output_type": "stream",
     "text": [
      "/Users/amin/opt/anaconda3/lib/python3.9/site-packages/sklearn/neural_network/_multilayer_perceptron.py:692: ConvergenceWarning: Stochastic Optimizer: Maximum iterations (200) reached and the optimization hasn't converged yet.\n",
      "  warnings.warn(\n"
     ]
    },
    {
     "name": "stdout",
     "output_type": "stream",
     "text": [
      "              precision    recall  f1-score   support\n",
      "\n",
      "           0       0.90      0.89      0.90     10127\n",
      "           1       0.74      0.77      0.75      5161\n",
      "           2       0.70      0.67      0.69       924\n",
      "\n",
      "    accuracy                           0.84     16212\n",
      "   macro avg       0.78      0.78      0.78     16212\n",
      "weighted avg       0.84      0.84      0.84     16212\n",
      "\n",
      "Accuracy: 0.8403034789045152\n",
      "Confusion Matrix:\n",
      " [[9039 1073   15]\n",
      " [ 951 3966  244]\n",
      " [   0  306  618]]\n"
     ]
    }
   ],
   "source": [
    "from sklearn.linear_model import LogisticRegression, RidgeClassifier, SGDClassifier\n",
    "from sklearn.ensemble import RandomForestClassifier, GradientBoostingClassifier, ExtraTreesClassifier, AdaBoostClassifier, HistGradientBoostingClassifier\n",
    "from sklearn.neighbors import KNeighborsClassifier\n",
    "from sklearn.svm import SVC\n",
    "from sklearn.naive_bayes import GaussianNB\n",
    "from sklearn.neural_network import MLPClassifier\n",
    "from sklearn.tree import DecisionTreeClassifier\n",
    "from xgboost import XGBClassifier\n",
    "from sklearn.ensemble import VotingClassifier\n",
    "from sklearn.ensemble import VotingClassifier, BaggingClassifier\n",
    "from sklearn.ensemble import AdaBoostClassifier\n",
    "from sklearn.linear_model import LogisticRegression, RidgeClassifier, SGDClassifier\n",
    "from sklearn.ensemble import RandomForestClassifier, GradientBoostingClassifier, ExtraTreesClassifier, AdaBoostClassifier, HistGradientBoostingClassifier\n",
    "from sklearn.neighbors import KNeighborsClassifier\n",
    "from sklearn.svm import SVC\n",
    "from sklearn.naive_bayes import GaussianNB\n",
    "from sklearn.neural_network import MLPClassifier\n",
    "from sklearn.tree import DecisionTreeClassifier\n",
    "from xgboost import XGBClassifier\n",
    "\n",
    "\n",
    "# Create the list of base models\n",
    "base_models = [\n",
    "    #('logreg', LogisticRegression(random_state=42)),\n",
    "    #('ridge', RidgeClassifier(random_state=42)),\n",
    "    #('sgd', SGDClassifier(random_state=42)),\n",
    "    ('rf', RandomForestClassifier(random_state=42)),\n",
    "    #('gb', GradientBoostingClassifier(random_state=42)),\n",
    "    ('ab', AdaBoostClassifier(random_state=42)),\n",
    "    #('hgb', HistGradientBoostingClassifier(random_state=42)),\n",
    "    #('et', ExtraTreesClassifier(random_state=42)),\n",
    "    ('xgb', XGBClassifier(random_state=42)),\n",
    "    #('lgbm', LGBMClassifier(random_state=42)),\n",
    "    #('cb', CatBoostClassifier(random_state=42, verbose=0)),  # verbose=0 to silence CatBoost output\n",
    "    #('knn', KNeighborsClassifier()),\n",
    "    #('svc', SVC(probability=True, random_state=42)),\n",
    "    #('gnb', GaussianNB()),\n",
    "    ('mlp', MLPClassifier(hidden_layer_sizes=(64, 32), activation='relu', random_state=42)),\n",
    "    #('dt', DecisionTreeClassifier(random_state=42)),\n",
    "]\n",
    "\n",
    "# Use the VotingClassifier with the base models\n",
    "voting_model = VotingClassifier(estimators=base_models, voting='soft')\n",
    "\n",
    "# Train the voting model\n",
    "voting_model.fit(X_train, y_train)\n",
    "\n",
    "# Evaluate the voting model\n",
    "y_pred = voting_model.predict(X_test)\n",
    "acc = accuracy_score(y_test, y_pred)\n",
    "conf_matrix = confusion_matrix(y_test, y_pred)\n",
    "class_report = classification_report(y_test, y_pred)\n",
    "\n",
    "print(class_report)\n",
    "print('Accuracy:', acc)\n",
    "print('Confusion Matrix:\\n', conf_matrix)"
   ]
  },
  {
   "cell_type": "code",
   "execution_count": 31,
   "id": "2d8c14a1",
   "metadata": {},
   "outputs": [
    {
     "data": {
      "text/plain": [
       "0.779975160099501"
      ]
     },
     "execution_count": 31,
     "metadata": {},
     "output_type": "execute_result"
    }
   ],
   "source": [
    "f1 = f1_score(y_test, y_pred, average='macro')\n",
    "f1"
   ]
  },
  {
   "cell_type": "code",
   "execution_count": null,
   "id": "20f6c5b8",
   "metadata": {},
   "outputs": [],
   "source": []
  }
 ],
 "metadata": {
  "kernelspec": {
   "display_name": "Python 3 (ipykernel)",
   "language": "python",
   "name": "python3"
  },
  "language_info": {
   "codemirror_mode": {
    "name": "ipython",
    "version": 3
   },
   "file_extension": ".py",
   "mimetype": "text/x-python",
   "name": "python",
   "nbconvert_exporter": "python",
   "pygments_lexer": "ipython3",
   "version": "3.9.13"
  }
 },
 "nbformat": 4,
 "nbformat_minor": 5
}
