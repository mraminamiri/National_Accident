{
 "cells": [
  {
   "cell_type": "code",
   "execution_count": 8,
   "id": "c5dd2224",
   "metadata": {},
   "outputs": [],
   "source": [
    "import pandas as pd\n",
    "import numpy as np \n",
    "import matplotlib.pyplot as plt\n",
    "import seaborn as sns\n",
    "import seaborn as sns\n",
    "import matplotlib.pyplot as plt\n",
    "from sklearn.cluster import KMeans\n",
    "from sklearn.preprocessing import StandardScaler, LabelEncoder\n",
    "from sklearn.cluster import KMeans\n",
    "from sklearn.model_selection import train_test_split\n",
    "from sklearn.ensemble import RandomForestClassifier\n",
    "from sklearn.metrics import accuracy_score, classification_report\n",
    "from sklearn.metrics import confusion_matrix\n",
    "from sklearn.linear_model import LogisticRegression\n",
    "from sklearn.model_selection import train_test_split\n",
    "from sklearn.tree import DecisionTreeClassifier\n",
    "from sklearn.metrics import accuracy_score, classification_report, confusion_matrix\n",
    "import matplotlib.pyplot as plt\n",
    "import seaborn as sns\n",
    "from sklearn.linear_model import LinearRegression\n",
    "from sklearn.model_selection import train_test_split\n",
    "from sklearn.metrics import mean_squared_error, r2_score\n",
    "import numpy as np\n",
    "import pandas as pd \n",
    "import numpy as np\n",
    "import seaborn as sns\n",
    "from sklearn.preprocessing import StandardScaler\n",
    "from sklearn.model_selection import train_test_split\n",
    "from sklearn.metrics import accuracy_score\n",
    "from sklearn.tree import DecisionTreeClassifier\n",
    "from sklearn.linear_model import LogisticRegression\n",
    "from sklearn.metrics import precision_score,recall_score,f1_score\n",
    "from sklearn.metrics import confusion_matrix\n",
    "from sklearn.svm import SVC\n"
   ]
  },
  {
   "cell_type": "code",
   "execution_count": 2,
   "id": "5ea24c9f",
   "metadata": {},
   "outputs": [],
   "source": [
    "data = pd.read_csv('final_with_covid_AS.csv')\n"
   ]
  },
  {
   "cell_type": "code",
   "execution_count": 3,
   "id": "90cf2de5",
   "metadata": {},
   "outputs": [
    {
     "name": "stdout",
     "output_type": "stream",
     "text": [
      "<class 'pandas.core.frame.DataFrame'>\n",
      "RangeIndex: 54038 entries, 0 to 54037\n",
      "Data columns (total 58 columns):\n",
      " #   Column           Non-Null Count  Dtype  \n",
      "---  ------           --------------  -----  \n",
      " 0   CountCases       54038 non-null  int64  \n",
      " 1   BedDys           54038 non-null  int64  \n",
      " 2   BeddystoCC       54038 non-null  float64\n",
      " 3   Severity         54038 non-null  int64  \n",
      " 4   DiedCases        54038 non-null  int64  \n",
      " 5   DiedBdDys        54038 non-null  int64  \n",
      " 6   Hsptlsns         54038 non-null  int64  \n",
      " 7   April            54038 non-null  int64  \n",
      " 8   August           54038 non-null  int64  \n",
      " 9   December         54038 non-null  int64  \n",
      " 10  February         54038 non-null  int64  \n",
      " 11  January          54038 non-null  int64  \n",
      " 12  July             54038 non-null  int64  \n",
      " 13  June             54038 non-null  int64  \n",
      " 14  March            54038 non-null  int64  \n",
      " 15  May              54038 non-null  int64  \n",
      " 16  November         54038 non-null  int64  \n",
      " 17  October          54038 non-null  int64  \n",
      " 18  September        54038 non-null  int64  \n",
      " 19  MajorCities      54038 non-null  int64  \n",
      " 20  Regional         54038 non-null  int64  \n",
      " 21  Female           54038 non-null  int64  \n",
      " 22  Male             54038 non-null  int64  \n",
      " 23  Age07            54038 non-null  int64  \n",
      " 24  Age816           54038 non-null  int64  \n",
      " 25  Age1725          54038 non-null  int64  \n",
      " 26  Age2639          54038 non-null  int64  \n",
      " 27  Age4064          54038 non-null  int64  \n",
      " 28  Age6574          54038 non-null  int64  \n",
      " 29  Age75plus        54038 non-null  int64  \n",
      " 30  CarDriver        54038 non-null  int64  \n",
      " 31  CarPngr          54038 non-null  int64  \n",
      " 32  Mtrcyclist       54038 non-null  int64  \n",
      " 33  PdlCyclist       54038 non-null  int64  \n",
      " 34  Pedestrian       54038 non-null  int64  \n",
      " 35  Cntrprt23WldMV   54038 non-null  int64  \n",
      " 36  CntrprtCrTrkVn   54038 non-null  int64  \n",
      " 37  CntrprtFxdStnry  54038 non-null  int64  \n",
      " 38  CntrprtHvyVhcl   54038 non-null  int64  \n",
      " 39  CntrprtNClsn     54038 non-null  int64  \n",
      " 40  CntrprtNA        54038 non-null  int64  \n",
      " 41  CntrprtOther     54038 non-null  int64  \n",
      " 42  CntrprtNMV       54038 non-null  int64  \n",
      " 43  CntrprtPdlC      54038 non-null  int64  \n",
      " 44  CntrprtPdstAnml  54038 non-null  int64  \n",
      " 45  CntrprtTrn       54038 non-null  int64  \n",
      " 46  Y2011            54038 non-null  int64  \n",
      " 47  Y2012            54038 non-null  int64  \n",
      " 48  Y2013            54038 non-null  int64  \n",
      " 49  Y2014            54038 non-null  int64  \n",
      " 50  Y2015            54038 non-null  int64  \n",
      " 51  Y2016            54038 non-null  int64  \n",
      " 52  Y2017            54038 non-null  int64  \n",
      " 53  Y2018            54038 non-null  int64  \n",
      " 54  Y2019            54038 non-null  int64  \n",
      " 55  Y2020            54038 non-null  int64  \n",
      " 56  Y2021            54038 non-null  int64  \n",
      " 57  CovidPrd         54038 non-null  int64  \n",
      "dtypes: float64(1), int64(57)\n",
      "memory usage: 23.9 MB\n"
     ]
    }
   ],
   "source": [
    "data.info()"
   ]
  },
  {
   "cell_type": "markdown",
   "id": "bee83058",
   "metadata": {},
   "source": [
    "# CarDriver"
   ]
  },
  {
   "cell_type": "code",
   "execution_count": 4,
   "id": "e109c8a7",
   "metadata": {},
   "outputs": [
    {
     "name": "stdout",
     "output_type": "stream",
     "text": [
      "<class 'pandas.core.frame.DataFrame'>\n",
      "Int64Index: 12582 entries, 11 to 54025\n",
      "Data columns (total 58 columns):\n",
      " #   Column           Non-Null Count  Dtype  \n",
      "---  ------           --------------  -----  \n",
      " 0   CountCases       12582 non-null  int64  \n",
      " 1   BedDys           12582 non-null  int64  \n",
      " 2   BeddystoCC       12582 non-null  float64\n",
      " 3   Severity         12582 non-null  int64  \n",
      " 4   DiedCases        12582 non-null  int64  \n",
      " 5   DiedBdDys        12582 non-null  int64  \n",
      " 6   Hsptlsns         12582 non-null  int64  \n",
      " 7   April            12582 non-null  int64  \n",
      " 8   August           12582 non-null  int64  \n",
      " 9   December         12582 non-null  int64  \n",
      " 10  February         12582 non-null  int64  \n",
      " 11  January          12582 non-null  int64  \n",
      " 12  July             12582 non-null  int64  \n",
      " 13  June             12582 non-null  int64  \n",
      " 14  March            12582 non-null  int64  \n",
      " 15  May              12582 non-null  int64  \n",
      " 16  November         12582 non-null  int64  \n",
      " 17  October          12582 non-null  int64  \n",
      " 18  September        12582 non-null  int64  \n",
      " 19  MajorCities      12582 non-null  int64  \n",
      " 20  Regional         12582 non-null  int64  \n",
      " 21  Female           12582 non-null  int64  \n",
      " 22  Male             12582 non-null  int64  \n",
      " 23  Age07            12582 non-null  int64  \n",
      " 24  Age816           12582 non-null  int64  \n",
      " 25  Age1725          12582 non-null  int64  \n",
      " 26  Age2639          12582 non-null  int64  \n",
      " 27  Age4064          12582 non-null  int64  \n",
      " 28  Age6574          12582 non-null  int64  \n",
      " 29  Age75plus        12582 non-null  int64  \n",
      " 30  CarDriver        12582 non-null  int64  \n",
      " 31  CarPngr          12582 non-null  int64  \n",
      " 32  Mtrcyclist       12582 non-null  int64  \n",
      " 33  PdlCyclist       12582 non-null  int64  \n",
      " 34  Pedestrian       12582 non-null  int64  \n",
      " 35  Cntrprt23WldMV   12582 non-null  int64  \n",
      " 36  CntrprtCrTrkVn   12582 non-null  int64  \n",
      " 37  CntrprtFxdStnry  12582 non-null  int64  \n",
      " 38  CntrprtHvyVhcl   12582 non-null  int64  \n",
      " 39  CntrprtNClsn     12582 non-null  int64  \n",
      " 40  CntrprtNA        12582 non-null  int64  \n",
      " 41  CntrprtOther     12582 non-null  int64  \n",
      " 42  CntrprtNMV       12582 non-null  int64  \n",
      " 43  CntrprtPdlC      12582 non-null  int64  \n",
      " 44  CntrprtPdstAnml  12582 non-null  int64  \n",
      " 45  CntrprtTrn       12582 non-null  int64  \n",
      " 46  Y2011            12582 non-null  int64  \n",
      " 47  Y2012            12582 non-null  int64  \n",
      " 48  Y2013            12582 non-null  int64  \n",
      " 49  Y2014            12582 non-null  int64  \n",
      " 50  Y2015            12582 non-null  int64  \n",
      " 51  Y2016            12582 non-null  int64  \n",
      " 52  Y2017            12582 non-null  int64  \n",
      " 53  Y2018            12582 non-null  int64  \n",
      " 54  Y2019            12582 non-null  int64  \n",
      " 55  Y2020            12582 non-null  int64  \n",
      " 56  Y2021            12582 non-null  int64  \n",
      " 57  CovidPrd         12582 non-null  int64  \n",
      "dtypes: float64(1), int64(57)\n",
      "memory usage: 5.7 MB\n"
     ]
    }
   ],
   "source": [
    "filtered_data = data[data['CarDriver'] == 1]\n",
    "filtered_data.info()"
   ]
  },
  {
   "cell_type": "code",
   "execution_count": 5,
   "id": "ba72c3e1",
   "metadata": {},
   "outputs": [
    {
     "name": "stderr",
     "output_type": "stream",
     "text": [
      "/var/folders/3l/xh28kn0j7_7d5hh7fgz188940000gn/T/ipykernel_1368/2709977351.py:1: SettingWithCopyWarning: \n",
      "A value is trying to be set on a copy of a slice from a DataFrame.\n",
      "Try using .loc[row_indexer,col_indexer] = value instead\n",
      "\n",
      "See the caveats in the documentation: https://pandas.pydata.org/pandas-docs/stable/user_guide/indexing.html#returning-a-view-versus-a-copy\n",
      "  filtered_data['Bed_days_category'] = np.where(filtered_data['BeddystoCC'] >= 7, 1, 0)\n"
     ]
    },
    {
     "data": {
      "text/plain": [
       "0    9688\n",
       "1    2894\n",
       "Name: Bed_days_category, dtype: int64"
      ]
     },
     "execution_count": 5,
     "metadata": {},
     "output_type": "execute_result"
    }
   ],
   "source": [
    "\n",
    "filtered_data['Bed_days_category'] = np.where(filtered_data['BeddystoCC'] >= 7, 1, 0)\n",
    "filtered_data['Bed_days_category'].value_counts()"
   ]
  },
  {
   "cell_type": "code",
   "execution_count": 6,
   "id": "594a04a6",
   "metadata": {},
   "outputs": [
    {
     "name": "stdout",
     "output_type": "stream",
     "text": [
      "0.815043156596794\n",
      "0.7468926553672316\n",
      "0.7794811320754716\n",
      "[[2740  150]\n",
      " [ 224  661]]\n",
      "0    9688\n",
      "1    2894\n",
      "Name: Bed_days_category, dtype: int64\n",
      "0.9009271523178808\n"
     ]
    }
   ],
   "source": [
    "from xgboost import XGBClassifier\n",
    "\n",
    "X = filtered_data[['Age07','Age1725','Age2639','Age4064','Age6574','Age75plus',\n",
    "                   'Male',\n",
    "                   'Regional',\n",
    "                   'CarPngr','Mtrcyclist','PdlCyclist','Pedestrian',\n",
    "                   'April','December','February','January','July',\n",
    "                   'June','March','May','November','October','September',\n",
    "                   'Cntrprt23WldMV','CntrprtFxdStnry','CntrprtHvyVhcl',\n",
    "                   'CntrprtNClsn','CntrprtOther','CntrprtNMV',\n",
    "                   'CntrprtPdlC','CntrprtPdstAnml','CntrprtTrn',\n",
    "                   'Y2014','Y2015','Y2016','Y2017','Y2018','Y2019','Y2020','Y2021',\n",
    "                   'BedDys',\n",
    "                   'CovidPrd' ]]\n",
    "\n",
    "\n",
    "\n",
    "y = filtered_data['Bed_days_category']\n",
    "\n",
    "X_train, X_test, y_train, y_test = train_test_split(X, y, test_size=0.3, random_state=42)\n",
    "xgb_model = XGBClassifier(random_state=42)\n",
    "xgb_model.fit(X_train, y_train)\n",
    "\n",
    "y_pred_xgb = xgb_model.predict(X_test)\n",
    "\n",
    "accuracy_xgb = accuracy_score(y_test, y_pred_xgb)\n",
    "conf_matrix_xgb = confusion_matrix(y_test, y_pred_xgb)\n",
    "class_report_xgb = classification_report(y_test, y_pred_xgb)\n",
    "precision_xgb = precision_score(y_test,y_pred_xgb)\n",
    "recall_xgb= recall_score(y_test, y_pred_xgb)\n",
    "f1_xgb= f1_score(y_test,y_pred_xgb)\n",
    "print(precision_xgb)\n",
    "print(recall_xgb)\n",
    "print(f1_xgb)\n",
    "print(confusion_matrix(y_true=y_test,y_pred=y_pred_xgb))\n",
    "print(y.value_counts())\n",
    "print(accuracy_xgb)"
   ]
  },
  {
   "cell_type": "code",
   "execution_count": 9,
   "id": "a1305b03",
   "metadata": {},
   "outputs": [
    {
     "name": "stdout",
     "output_type": "stream",
     "text": [
      "Precision: 0.5497076023391813\n",
      "Recall: 0.10621468926553672\n",
      "F1 Score: 0.17803030303030304\n",
      "Confusion Matrix: [[2813   77]\n",
      " [ 791   94]]\n",
      "Class Report:               precision    recall  f1-score   support\n",
      "\n",
      "           0       0.78      0.97      0.87      2890\n",
      "           1       0.55      0.11      0.18       885\n",
      "\n",
      "    accuracy                           0.77      3775\n",
      "   macro avg       0.67      0.54      0.52      3775\n",
      "weighted avg       0.73      0.77      0.70      3775\n",
      "\n",
      "Accuracy: 0.7700662251655629\n"
     ]
    }
   ],
   "source": [
    "\n",
    "svm_model = SVC(random_state=42)\n",
    "svm_model.fit(X_train, y_train)\n",
    "\n",
    "y_pred_svm = svm_model.predict(X_test)\n",
    "\n",
    "accuracy_svm = accuracy_score(y_test, y_pred_svm)\n",
    "conf_matrix_svm = confusion_matrix(y_test, y_pred_svm)\n",
    "class_report_svm = classification_report(y_test, y_pred_svm)\n",
    "precision_svm = precision_score(y_test, y_pred_svm)\n",
    "recall_svm = recall_score(y_test, y_pred_svm)\n",
    "f1_svm = f1_score(y_test, y_pred_svm)\n",
    "\n",
    "print(\"Precision:\", precision_svm)\n",
    "print(\"Recall:\", recall_svm)\n",
    "print(\"F1 Score:\", f1_svm)\n",
    "print(\"Confusion Matrix:\", conf_matrix_svm)\n",
    "print(\"Class Report:\", class_report_svm)\n",
    "print(\"Accuracy:\", accuracy_svm)\n"
   ]
  },
  {
   "cell_type": "code",
   "execution_count": 10,
   "id": "5fcdd188",
   "metadata": {},
   "outputs": [
    {
     "name": "stdout",
     "output_type": "stream",
     "text": [
      "Precision: 0.8160919540229885\n",
      "Recall: 0.6418079096045197\n",
      "F1 Score: 0.7185325743200506\n",
      "Confusion Matrix: [[2762  128]\n",
      " [ 317  568]]\n",
      "Class Report:               precision    recall  f1-score   support\n",
      "\n",
      "           0       0.90      0.96      0.93      2890\n",
      "           1       0.82      0.64      0.72       885\n",
      "\n",
      "    accuracy                           0.88      3775\n",
      "   macro avg       0.86      0.80      0.82      3775\n",
      "weighted avg       0.88      0.88      0.88      3775\n",
      "\n",
      "Accuracy: 0.8821192052980132\n"
     ]
    }
   ],
   "source": [
    "from sklearn.ensemble import RandomForestClassifier\n",
    "from sklearn.metrics import accuracy_score, confusion_matrix, classification_report, precision_score, recall_score, f1_score\n",
    "\n",
    "rf_model = RandomForestClassifier(random_state=42)\n",
    "rf_model.fit(X_train, y_train)\n",
    "\n",
    "y_pred_rf = rf_model.predict(X_test)\n",
    "\n",
    "accuracy_rf = accuracy_score(y_test, y_pred_rf)\n",
    "conf_matrix_rf = confusion_matrix(y_test, y_pred_rf)\n",
    "class_report_rf = classification_report(y_test, y_pred_rf)\n",
    "precision_rf = precision_score(y_test, y_pred_rf)\n",
    "recall_rf = recall_score(y_test, y_pred_rf)\n",
    "f1_rf = f1_score(y_test, y_pred_rf)\n",
    "\n",
    "print(\"Precision:\", precision_rf)\n",
    "print(\"Recall:\", recall_rf)\n",
    "print(\"F1 Score:\", f1_rf)\n",
    "print(\"Confusion Matrix:\", conf_matrix_rf)\n",
    "print(\"Class Report:\", class_report_rf)\n",
    "print(\"Accuracy:\", accuracy_rf)\n"
   ]
  },
  {
   "cell_type": "markdown",
   "id": "9f9d6e18",
   "metadata": {},
   "source": [
    "# car passanger\n"
   ]
  },
  {
   "cell_type": "code",
   "execution_count": 12,
   "id": "54a5b4b0",
   "metadata": {},
   "outputs": [],
   "source": [
    "filtered_data2 = data[data['CarPngr'] == 1]"
   ]
  },
  {
   "cell_type": "code",
   "execution_count": 15,
   "id": "ba432937",
   "metadata": {},
   "outputs": [
    {
     "name": "stderr",
     "output_type": "stream",
     "text": [
      "/var/folders/3l/xh28kn0j7_7d5hh7fgz188940000gn/T/ipykernel_1368/432675697.py:1: SettingWithCopyWarning: \n",
      "A value is trying to be set on a copy of a slice from a DataFrame.\n",
      "Try using .loc[row_indexer,col_indexer] = value instead\n",
      "\n",
      "See the caveats in the documentation: https://pandas.pydata.org/pandas-docs/stable/user_guide/indexing.html#returning-a-view-versus-a-copy\n",
      "  filtered_data2['Bed_days_category'] = np.where(filtered_data2['BeddystoCC'] >= 7, 1, 0)\n"
     ]
    },
    {
     "data": {
      "text/plain": [
       "0    9426\n",
       "1    2363\n",
       "Name: Bed_days_category, dtype: int64"
      ]
     },
     "execution_count": 15,
     "metadata": {},
     "output_type": "execute_result"
    }
   ],
   "source": [
    "\n",
    "filtered_data2['Bed_days_category'] = np.where(filtered_data2['BeddystoCC'] >= 7, 1, 0)\n",
    "filtered_data2['Bed_days_category'].value_counts()"
   ]
  },
  {
   "cell_type": "code",
   "execution_count": 16,
   "id": "f313dee4",
   "metadata": {},
   "outputs": [
    {
     "name": "stdout",
     "output_type": "stream",
     "text": [
      "0.8250883392226148\n",
      "0.6441379310344828\n",
      "0.7234701781564679\n",
      "[[2713   99]\n",
      " [ 258  467]]\n",
      "0    9426\n",
      "1    2363\n",
      "Name: Bed_days_category, dtype: int64\n",
      "0.899067005937235\n"
     ]
    }
   ],
   "source": [
    "from xgboost import XGBClassifier\n",
    "from sklearn import svm\n",
    "from sklearn.datasets import make_classification\n",
    "from sklearn.model_selection import train_test_split\n",
    "from sklearn.ensemble import RandomForestClassifier\n",
    "\n",
    "from sklearn.metrics import accuracy_score\n",
    "X = filtered_data2[['Age07','Age1725','Age2639','Age4064','Age6574','Age75plus',\n",
    "                   'Male',\n",
    "                   'Regional',\n",
    "                   'CarPngr','Mtrcyclist','PdlCyclist','Pedestrian',\n",
    "                   'April','December','February','January','July',\n",
    "                   'June','March','May','November','October','September',\n",
    "                   'Cntrprt23WldMV','CntrprtFxdStnry','CntrprtHvyVhcl',\n",
    "                   'CntrprtNClsn','CntrprtOther','CntrprtNMV',\n",
    "                   'CntrprtPdlC','CntrprtPdstAnml','CntrprtTrn',\n",
    "                   'Y2014','Y2015','Y2016','Y2017','Y2018','Y2019','Y2020','Y2021',\n",
    "                   'BedDys',\n",
    "                   'CovidPrd' ]]\n",
    "\n",
    "\n",
    "\n",
    "y = filtered_data2['Bed_days_category']\n",
    "\n",
    "X_train, X_test, y_train, y_test = train_test_split(X, y, test_size=0.3, random_state=42)\n",
    "\n",
    "rf_model = RandomForestClassifier(n_estimators=100, random_state=42)\n",
    "rf_model.fit(X_train, y_train)\n",
    "y_pred_xgb = rf_model.predict(X_test)\n",
    "\n",
    "\n",
    "accuracy_xgb = accuracy_score(y_test, y_pred_xgb)\n",
    "conf_matrix_xgb = confusion_matrix(y_test, y_pred_xgb)\n",
    "class_report_xgb = classification_report(y_test, y_pred_xgb)\n",
    "precision_xgb = precision_score(y_test,y_pred_xgb)\n",
    "recall_xgb= recall_score(y_test, y_pred_xgb)\n",
    "f1_xgb= f1_score(y_test,y_pred_xgb)\n",
    "print(precision_xgb)\n",
    "print(recall_xgb)\n",
    "print(f1_xgb)\n",
    "print(confusion_matrix(y_true=y_test,y_pred=y_pred_xgb))\n",
    "print(y.value_counts())\n",
    "print(accuracy_xgb)"
   ]
  },
  {
   "cell_type": "code",
   "execution_count": null,
   "id": "3521196c",
   "metadata": {},
   "outputs": [],
   "source": []
  }
 ],
 "metadata": {
  "kernelspec": {
   "display_name": "Python 3 (ipykernel)",
   "language": "python",
   "name": "python3"
  },
  "language_info": {
   "codemirror_mode": {
    "name": "ipython",
    "version": 3
   },
   "file_extension": ".py",
   "mimetype": "text/x-python",
   "name": "python",
   "nbconvert_exporter": "python",
   "pygments_lexer": "ipython3",
   "version": "3.9.13"
  }
 },
 "nbformat": 4,
 "nbformat_minor": 5
}
