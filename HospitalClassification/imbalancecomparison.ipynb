{
 "cells": [
  {
   "cell_type": "code",
   "execution_count": 1,
   "id": "0b524416",
   "metadata": {},
   "outputs": [],
   "source": [
    "import pandas as pd\n",
    "import numpy as np \n",
    "import matplotlib.pyplot as plt\n",
    "import seaborn as sns\n",
    "import seaborn as sns\n",
    "import matplotlib.pyplot as plt\n",
    "from sklearn.cluster import KMeans\n",
    "from sklearn.preprocessing import StandardScaler, LabelEncoder\n",
    "from sklearn.cluster import KMeans\n",
    "from sklearn.model_selection import train_test_split\n",
    "from sklearn.ensemble import RandomForestClassifier\n",
    "from sklearn.metrics import accuracy_score, classification_report\n",
    "from sklearn.metrics import confusion_matrix\n",
    "from sklearn.linear_model import LogisticRegression\n",
    "from sklearn.model_selection import train_test_split\n",
    "from sklearn.tree import DecisionTreeClassifier\n",
    "from sklearn.metrics import accuracy_score, classification_report, confusion_matrix\n",
    "import matplotlib.pyplot as plt\n",
    "import seaborn as sns\n",
    "from sklearn.linear_model import LinearRegression\n",
    "from sklearn.model_selection import train_test_split\n",
    "from sklearn.metrics import mean_squared_error, r2_score\n",
    "import numpy as np\n",
    "import pandas as pd \n",
    "import numpy as np\n",
    "import seaborn as sns\n",
    "from sklearn.preprocessing import StandardScaler\n",
    "from sklearn.model_selection import train_test_split\n",
    "from sklearn.metrics import accuracy_score\n",
    "from sklearn.tree import DecisionTreeClassifier\n",
    "from sklearn.linear_model import LogisticRegression\n",
    "from sklearn.metrics import precision_score,recall_score,f1_score\n",
    "from sklearn.metrics import confusion_matrix\n",
    "from sklearn.svm import SVC\n"
   ]
  },
  {
   "cell_type": "code",
   "execution_count": 2,
   "id": "682962a0",
   "metadata": {},
   "outputs": [
    {
     "data": {
      "text/html": [
       "<div>\n",
       "<style scoped>\n",
       "    .dataframe tbody tr th:only-of-type {\n",
       "        vertical-align: middle;\n",
       "    }\n",
       "\n",
       "    .dataframe tbody tr th {\n",
       "        vertical-align: top;\n",
       "    }\n",
       "\n",
       "    .dataframe thead th {\n",
       "        text-align: right;\n",
       "    }\n",
       "</style>\n",
       "<table border=\"1\" class=\"dataframe\">\n",
       "  <thead>\n",
       "    <tr style=\"text-align: right;\">\n",
       "      <th></th>\n",
       "      <th>CountCases</th>\n",
       "      <th>BedDys</th>\n",
       "      <th>BeddystoCC</th>\n",
       "      <th>Severity</th>\n",
       "      <th>DiedCases</th>\n",
       "      <th>DiedBdDys</th>\n",
       "      <th>Hsptlsns</th>\n",
       "      <th>April</th>\n",
       "      <th>August</th>\n",
       "      <th>December</th>\n",
       "      <th>...</th>\n",
       "      <th>Y2013</th>\n",
       "      <th>Y2014</th>\n",
       "      <th>Y2015</th>\n",
       "      <th>Y2016</th>\n",
       "      <th>Y2017</th>\n",
       "      <th>Y2018</th>\n",
       "      <th>Y2019</th>\n",
       "      <th>Y2020</th>\n",
       "      <th>Y2021</th>\n",
       "      <th>CovidPrd</th>\n",
       "    </tr>\n",
       "  </thead>\n",
       "  <tbody>\n",
       "    <tr>\n",
       "      <th>0</th>\n",
       "      <td>17</td>\n",
       "      <td>133</td>\n",
       "      <td>7.823529</td>\n",
       "      <td>75</td>\n",
       "      <td>4</td>\n",
       "      <td>9</td>\n",
       "      <td>13</td>\n",
       "      <td>0</td>\n",
       "      <td>0</td>\n",
       "      <td>0</td>\n",
       "      <td>...</td>\n",
       "      <td>1</td>\n",
       "      <td>0</td>\n",
       "      <td>0</td>\n",
       "      <td>0</td>\n",
       "      <td>0</td>\n",
       "      <td>0</td>\n",
       "      <td>0</td>\n",
       "      <td>0</td>\n",
       "      <td>0</td>\n",
       "      <td>0</td>\n",
       "    </tr>\n",
       "    <tr>\n",
       "      <th>1</th>\n",
       "      <td>13</td>\n",
       "      <td>372</td>\n",
       "      <td>28.615385</td>\n",
       "      <td>63</td>\n",
       "      <td>4</td>\n",
       "      <td>34</td>\n",
       "      <td>9</td>\n",
       "      <td>0</td>\n",
       "      <td>0</td>\n",
       "      <td>0</td>\n",
       "      <td>...</td>\n",
       "      <td>0</td>\n",
       "      <td>0</td>\n",
       "      <td>0</td>\n",
       "      <td>0</td>\n",
       "      <td>0</td>\n",
       "      <td>0</td>\n",
       "      <td>0</td>\n",
       "      <td>0</td>\n",
       "      <td>0</td>\n",
       "      <td>0</td>\n",
       "    </tr>\n",
       "    <tr>\n",
       "      <th>2</th>\n",
       "      <td>8</td>\n",
       "      <td>106</td>\n",
       "      <td>13.250000</td>\n",
       "      <td>48</td>\n",
       "      <td>4</td>\n",
       "      <td>13</td>\n",
       "      <td>4</td>\n",
       "      <td>0</td>\n",
       "      <td>0</td>\n",
       "      <td>0</td>\n",
       "      <td>...</td>\n",
       "      <td>0</td>\n",
       "      <td>0</td>\n",
       "      <td>0</td>\n",
       "      <td>0</td>\n",
       "      <td>0</td>\n",
       "      <td>1</td>\n",
       "      <td>0</td>\n",
       "      <td>0</td>\n",
       "      <td>0</td>\n",
       "      <td>0</td>\n",
       "    </tr>\n",
       "    <tr>\n",
       "      <th>3</th>\n",
       "      <td>45</td>\n",
       "      <td>218</td>\n",
       "      <td>4.844444</td>\n",
       "      <td>153</td>\n",
       "      <td>3</td>\n",
       "      <td>24</td>\n",
       "      <td>42</td>\n",
       "      <td>0</td>\n",
       "      <td>0</td>\n",
       "      <td>0</td>\n",
       "      <td>...</td>\n",
       "      <td>0</td>\n",
       "      <td>0</td>\n",
       "      <td>0</td>\n",
       "      <td>1</td>\n",
       "      <td>0</td>\n",
       "      <td>0</td>\n",
       "      <td>0</td>\n",
       "      <td>0</td>\n",
       "      <td>0</td>\n",
       "      <td>0</td>\n",
       "    </tr>\n",
       "    <tr>\n",
       "      <th>4</th>\n",
       "      <td>24</td>\n",
       "      <td>238</td>\n",
       "      <td>9.916667</td>\n",
       "      <td>90</td>\n",
       "      <td>3</td>\n",
       "      <td>8</td>\n",
       "      <td>21</td>\n",
       "      <td>0</td>\n",
       "      <td>1</td>\n",
       "      <td>0</td>\n",
       "      <td>...</td>\n",
       "      <td>1</td>\n",
       "      <td>0</td>\n",
       "      <td>0</td>\n",
       "      <td>0</td>\n",
       "      <td>0</td>\n",
       "      <td>0</td>\n",
       "      <td>0</td>\n",
       "      <td>0</td>\n",
       "      <td>0</td>\n",
       "      <td>0</td>\n",
       "    </tr>\n",
       "  </tbody>\n",
       "</table>\n",
       "<p>5 rows × 58 columns</p>\n",
       "</div>"
      ],
      "text/plain": [
       "   CountCases  BedDys  BeddystoCC  Severity  DiedCases  DiedBdDys  Hsptlsns  \\\n",
       "0          17     133    7.823529        75          4          9        13   \n",
       "1          13     372   28.615385        63          4         34         9   \n",
       "2           8     106   13.250000        48          4         13         4   \n",
       "3          45     218    4.844444       153          3         24        42   \n",
       "4          24     238    9.916667        90          3          8        21   \n",
       "\n",
       "   April  August  December  ...  Y2013  Y2014  Y2015  Y2016  Y2017  Y2018  \\\n",
       "0      0       0         0  ...      1      0      0      0      0      0   \n",
       "1      0       0         0  ...      0      0      0      0      0      0   \n",
       "2      0       0         0  ...      0      0      0      0      0      1   \n",
       "3      0       0         0  ...      0      0      0      1      0      0   \n",
       "4      0       1         0  ...      1      0      0      0      0      0   \n",
       "\n",
       "   Y2019  Y2020  Y2021  CovidPrd  \n",
       "0      0      0      0         0  \n",
       "1      0      0      0         0  \n",
       "2      0      0      0         0  \n",
       "3      0      0      0         0  \n",
       "4      0      0      0         0  \n",
       "\n",
       "[5 rows x 58 columns]"
      ]
     },
     "execution_count": 2,
     "metadata": {},
     "output_type": "execute_result"
    }
   ],
   "source": [
    "data = pd.read_csv('final_with_covid_AS.csv')\n",
    "data.head()"
   ]
  },
  {
   "cell_type": "code",
   "execution_count": 3,
   "id": "626b839d",
   "metadata": {},
   "outputs": [
    {
     "data": {
      "text/plain": [
       "count    54038.000000\n",
       "mean         6.751545\n",
       "std         10.742018\n",
       "min          0.000000\n",
       "25%          1.000000\n",
       "50%          3.000000\n",
       "75%          7.000000\n",
       "max        121.000000\n",
       "Name: Hsptlsns, dtype: float64"
      ]
     },
     "execution_count": 3,
     "metadata": {},
     "output_type": "execute_result"
    }
   ],
   "source": [
    "data['Hsptlsns'].describe()"
   ]
  },
  {
   "cell_type": "code",
   "execution_count": 4,
   "id": "bcdb89d7",
   "metadata": {},
   "outputs": [
    {
     "name": "stderr",
     "output_type": "stream",
     "text": [
      "/Users/amin/opt/anaconda3/lib/python3.9/site-packages/pandas/core/arraylike.py:397: RuntimeWarning: divide by zero encountered in log\n",
      "  result = getattr(ufunc, method)(*inputs, **kwargs)\n"
     ]
    }
   ],
   "source": [
    "data['Hsptlsns'] = np.log(data['Hsptlsns'])\n"
   ]
  },
  {
   "cell_type": "code",
   "execution_count": 5,
   "id": "8021a633",
   "metadata": {},
   "outputs": [],
   "source": [
    "filtered_data = data"
   ]
  },
  {
   "cell_type": "code",
   "execution_count": 6,
   "id": "eecb2520",
   "metadata": {},
   "outputs": [
    {
     "data": {
      "text/plain": [
       "1    28367\n",
       "0    25671\n",
       "Name: Bed_days_category, dtype: int64"
      ]
     },
     "execution_count": 6,
     "metadata": {},
     "output_type": "execute_result"
    }
   ],
   "source": [
    "\n",
    "filtered_data['Bed_days_category'] = np.where(filtered_data['Hsptlsns'] >=1, 1, 0)\n",
    "\n",
    "filtered_data['Bed_days_category'].value_counts()\n"
   ]
  },
  {
   "cell_type": "code",
   "execution_count": 7,
   "id": "803ac340",
   "metadata": {},
   "outputs": [
    {
     "data": {
      "text/plain": [
       "count    54038.000000\n",
       "mean         0.524945\n",
       "std          0.499382\n",
       "min          0.000000\n",
       "25%          0.000000\n",
       "50%          1.000000\n",
       "75%          1.000000\n",
       "max          1.000000\n",
       "Name: Bed_days_category, dtype: float64"
      ]
     },
     "execution_count": 7,
     "metadata": {},
     "output_type": "execute_result"
    }
   ],
   "source": [
    "filtered_data['Bed_days_category'].describe()"
   ]
  },
  {
   "cell_type": "code",
   "execution_count": 8,
   "id": "3bd6dd88",
   "metadata": {},
   "outputs": [
    {
     "data": {
      "text/plain": [
       "count    5.403800e+04\n",
       "mean             -inf\n",
       "std               NaN\n",
       "min              -inf\n",
       "25%      0.000000e+00\n",
       "50%      1.098612e+00\n",
       "75%      1.945910e+00\n",
       "max      4.795791e+00\n",
       "Name: Hsptlsns, dtype: float64"
      ]
     },
     "execution_count": 8,
     "metadata": {},
     "output_type": "execute_result"
    }
   ],
   "source": [
    "data['Hsptlsns'].describe()"
   ]
  },
  {
   "cell_type": "code",
   "execution_count": 9,
   "id": "f552c735",
   "metadata": {},
   "outputs": [
    {
     "data": {
      "text/plain": [
       "1    28367\n",
       "0    25671\n",
       "Name: Bed_days_category, dtype: int64"
      ]
     },
     "execution_count": 9,
     "metadata": {},
     "output_type": "execute_result"
    }
   ],
   "source": [
    "filtered_data['Bed_days_category'].value_counts()"
   ]
  },
  {
   "cell_type": "code",
   "execution_count": 10,
   "id": "0c197728",
   "metadata": {},
   "outputs": [
    {
     "data": {
      "text/plain": [
       "0        1\n",
       "1        1\n",
       "2        1\n",
       "3        1\n",
       "4        1\n",
       "        ..\n",
       "54033    0\n",
       "54034    0\n",
       "54035    0\n",
       "54036    0\n",
       "54037    0\n",
       "Name: Bed_days_category, Length: 54038, dtype: int64"
      ]
     },
     "execution_count": 10,
     "metadata": {},
     "output_type": "execute_result"
    }
   ],
   "source": [
    "filtered_data['Bed_days_category']"
   ]
  },
  {
   "cell_type": "code",
   "execution_count": 11,
   "id": "ff3e9fe5",
   "metadata": {},
   "outputs": [
    {
     "data": {
      "image/png": "[encoded data removed]",
      "text/plain": [
       "<Figure size 800x800 with 1 Axes>"
      ]
     },
     "metadata": {},
     "output_type": "display_data"
    }
   ],
   "source": [
    "import matplotlib.pyplot as plt\n",
    "\n",
    "value_counts = filtered_data['Bed_days_category'].value_counts()\n",
    "\n",
    "plt.figure(figsize=(8, 8))\n",
    "plt.pie(value_counts, labels=value_counts.index, autopct='%1.1f%%', startangle=90)\n",
    "plt.axis('equal')  \n",
    "plt.title('Pie Chart of CLASSES NUMBERS')\n",
    "plt.show()"
   ]
  },
  {
   "cell_type": "markdown",
   "id": "57b4ae2f",
   "metadata": {},
   "source": [
    "# XGBClassifier"
   ]
  },
  {
   "cell_type": "code",
   "execution_count": 12,
   "id": "dc86b14c",
   "metadata": {},
   "outputs": [
    {
     "name": "stdout",
     "output_type": "stream",
     "text": [
      "Accuracy: 0.7538860103626943\n",
      "Confusion Matrix:\n",
      " [[5477 2265]\n",
      " [1725 6745]]\n",
      "Classification Report:\n",
      "               precision    recall  f1-score   support\n",
      "\n",
      "           0       0.76      0.71      0.73      7742\n",
      "           1       0.75      0.80      0.77      8470\n",
      "\n",
      "    accuracy                           0.75     16212\n",
      "   macro avg       0.75      0.75      0.75     16212\n",
      "weighted avg       0.75      0.75      0.75     16212\n",
      "\n",
      "Precision: 0.7486126526082131\n",
      "Recall: 0.7963400236127509\n",
      "F1-score: 0.7717391304347827\n"
     ]
    }
   ],
   "source": [
    "from xgboost import XGBClassifier\n",
    "\n",
    "X = filtered_data[['Age1725','Age2639','Age4064','Age6574','Age75plus',\n",
    "                   'Male',\n",
    "                   \n",
    "                   'Regional',\n",
    "                   'April','December','February','January','July',\n",
    "                   'June','March','May','November','October','September',\n",
    "\n",
    "                   'Cntrprt23WldMV','CntrprtFxdStnry','CntrprtHvyVhcl',\n",
    "                   'CntrprtNClsn','CntrprtOther','CntrprtNMV','CntrprtCrTrkVn',\n",
    "                   'CntrprtPdlC','CntrprtPdstAnml','CntrprtTrn',\n",
    "\n",
    "                   'Y2014','Y2015','Y2016','Y2017','Y2018','Y2019','Y2020','Y2021',\n",
    "                   'Y2013','Y2012',\n",
    "                   'CovidPrd']]\n",
    "\n",
    "\n",
    "\n",
    "y = filtered_data['Bed_days_category']\n",
    "\n",
    "\n",
    "\n",
    "X_train, X_test, y_train, y_test = train_test_split(X, y, test_size=0.3, random_state=42)\n",
    "\n",
    "xgb_model = XGBClassifier(random_state=42)\n",
    "xgb_model.fit(X_train, y_train)\n",
    "\n",
    "\n",
    "# ارزیابی مدل\n",
    "y_pred_xgb = xgb_model.predict(X_test)\n",
    "acc_xgb = accuracy_score(y_test, y_pred_xgb)\n",
    "conf_matrix_xgb = confusion_matrix(y_test, y_pred_xgb)\n",
    "class_report_xgb = classification_report(y_test, y_pred_xgb)\n",
    "\n",
    "precision_xgb = precision_score(y_test, y_pred_xgb,\n",
    "                                #average='macro'\n",
    "                               )\n",
    "recall_xgb = recall_score(y_test, y_pred_xgb,# average='macro'\n",
    "                         )\n",
    "f1_xgb = f1_score(y_test, y_pred_xgb, #average='macro'\n",
    "                 )\n",
    "print('Accuracy:', acc_xgb)\n",
    "print('Confusion Matrix:\\n', conf_matrix_xgb)\n",
    "print('Classification Report:\\n', class_report_xgb)\n",
    "print('Precision:', precision_xgb)\n",
    "print('Recall:', recall_xgb)\n",
    "print('F1-score:', f1_xgb)"
   ]
  },
  {
   "cell_type": "code",
   "execution_count": 13,
   "id": "bd75f345",
   "metadata": {},
   "outputs": [
    {
     "data": {
      "image/png": "[encoded data removed]",
      "text/plain": [
       "<Figure size 800x950 with 1 Axes>"
      ]
     },
     "metadata": {},
     "output_type": "display_data"
    }
   ],
   "source": [
    "import shap\n",
    "\n",
    "explainer = shap.TreeExplainer(xgb_model)\n",
    "shap_values = explainer.shap_values(X_train)\n",
    "\n",
    "feature_names = X_train.columns\n",
    "\n",
    "shap.summary_plot(shap_values, X_train, feature_names=feature_names, plot_type='bar')\n"
   ]
  },
  {
   "cell_type": "code",
   "execution_count": 16,
   "id": "04fb9fab",
   "metadata": {},
   "outputs": [
    {
     "data": {
      "image/png": "[encoded data removed]",
      "text/plain": [
       "<Figure size 640x480 with 1 Axes>"
      ]
     },
     "metadata": {},
     "output_type": "display_data"
    }
   ],
   "source": [
    "import numpy as np\n",
    "import matplotlib.pyplot as plt\n",
    "from matplotlib.cm import ScalarMappable\n",
    "\n",
    "mean_shap_values = np.abs(shap_values).mean(axis=0)\n",
    "\n",
    "sorted_indices = np.argsort(mean_shap_values)\n",
    "\n",
    "cmap = plt.get_cmap('Purples')\n",
    "norm = plt.Normalize(mean_shap_values[sorted_indices].min(), mean_shap_values[sorted_indices].max())\n",
    "colors = [cmap(norm(value)) for value in mean_shap_values[sorted_indices]]\n",
    "\n",
    "#plt.figure(figsize=(15, 10))\n",
    "\n",
    "top_features_indices = sorted_indices[-10:]  \n",
    "plt.scatter(mean_shap_values[top_features_indices], range(len(top_features_indices)), color=colors[-10:], s=200)\n",
    "\n",
    "for i, txt in enumerate([X_train.columns[i] for i in top_features_indices]):\n",
    "    plt.text(mean_shap_values[top_features_indices][i] + 0.001, i, txt, va='center', ha='left')\n",
    "\n",
    "plt.xlabel('SHAP Value Magnitude')\n",
    "plt.title('Mean Absolute SHAP Values')\n",
    "\n",
    "plt.yticks([])\n",
    "\n",
    "plt.show()"
   ]
  },
  {
   "cell_type": "markdown",
   "id": "38c9cf90",
   "metadata": {},
   "source": [
    "# LogisticRegression"
   ]
  },
  {
   "cell_type": "code",
   "execution_count": 18,
   "id": "1cead511",
   "metadata": {},
   "outputs": [
    {
     "name": "stdout",
     "output_type": "stream",
     "text": [
      "Accuracy: 0.7342092277325438\n",
      "Confusion Matrix:\n",
      " [[5293 2449]\n",
      " [1860 6610]]\n",
      "Classification Report:\n",
      "               precision    recall  f1-score   support\n",
      "\n",
      "           0       0.74      0.68      0.71      7742\n",
      "           1       0.73      0.78      0.75      8470\n",
      "\n",
      "    accuracy                           0.73     16212\n",
      "   macro avg       0.73      0.73      0.73     16212\n",
      "weighted avg       0.73      0.73      0.73     16212\n",
      "\n",
      "Precision: 0.7296611104978474\n",
      "Recall: 0.7804014167650531\n",
      "F1-score: 0.7541787894346511\n"
     ]
    },
    {
     "name": "stderr",
     "output_type": "stream",
     "text": [
      "/Users/amin/opt/anaconda3/lib/python3.9/site-packages/sklearn/linear_model/_logistic.py:814: ConvergenceWarning: lbfgs failed to converge (status=1):\n",
      "STOP: TOTAL NO. of ITERATIONS REACHED LIMIT.\n",
      "\n",
      "Increase the number of iterations (max_iter) or scale the data as shown in:\n",
      "    https://scikit-learn.org/stable/modules/preprocessing.html\n",
      "Please also refer to the documentation for alternative solver options:\n",
      "    https://scikit-learn.org/stable/modules/linear_model.html#logistic-regression\n",
      "  n_iter_i = _check_optimize_result(\n"
     ]
    }
   ],
   "source": [
    "from sklearn.linear_model import LogisticRegression\n",
    "from sklearn.metrics import accuracy_score, confusion_matrix, classification_report, precision_score, recall_score, f1_score\n",
    "from sklearn.model_selection import train_test_split\n",
    "\n",
    "# Assuming filtered_data is your DataFrame containing the features and target variable\n",
    "\n",
    "X = filtered_data[['Age1725', 'Age2639', 'Age4064', 'Age6574', 'Age75plus',\n",
    "                  'Male',\n",
    "                  'Regional',\n",
    "                  'April', 'December', 'February', 'January', 'July',\n",
    "                  'June', 'March', 'May', 'November', 'October', 'September',\n",
    "                  'Cntrprt23WldMV', 'CntrprtFxdStnry', 'CntrprtHvyVhcl',\n",
    "                  'CntrprtNClsn', 'CntrprtOther', 'CntrprtNMV', 'CntrprtCrTrkVn',\n",
    "                  'CntrprtPdlC', 'CntrprtPdstAnml', 'CntrprtTrn',\n",
    "                  'Y2014', 'Y2015', 'Y2016', 'Y2017', 'Y2018', 'Y2019', 'Y2020', 'Y2021',\n",
    "                  'Y2013', 'Y2012',\n",
    "                  'CovidPrd']]\n",
    "\n",
    "y = filtered_data['Bed_days_category']\n",
    "\n",
    "X_train, X_test, y_train, y_test = train_test_split(X, y, test_size=0.3, random_state=42)\n",
    "\n",
    "# Create a Logistic Regression model\n",
    "lr_model = LogisticRegression(random_state=42)\n",
    "lr_model.fit(X_train, y_train)\n",
    "\n",
    "# Evaluate the model\n",
    "y_pred_lr = lr_model.predict(X_test)\n",
    "acc_lr = accuracy_score(y_test, y_pred_lr)\n",
    "conf_matrix_lr = confusion_matrix(y_test, y_pred_lr)\n",
    "class_report_lr = classification_report(y_test, y_pred_lr)\n",
    "precision_lr = precision_score(y_test, y_pred_lr)\n",
    "recall_lr = recall_score(y_test, y_pred_lr)\n",
    "f1_lr = f1_score(y_test, y_pred_lr)\n",
    "\n",
    "print('Accuracy:', acc_lr)\n",
    "print('Confusion Matrix:\\n', conf_matrix_lr)\n",
    "print('Classification Report:\\n', class_report_lr)\n",
    "print('Precision:', precision_lr)\n",
    "print('Recall:', recall_lr)\n",
    "print('F1-score:', f1_lr)"
   ]
  },
  {
   "cell_type": "code",
   "execution_count": null,
   "id": "128f1086",
   "metadata": {},
   "outputs": [
    {
     "name": "stderr",
     "output_type": "stream",
     "text": [
      "Using 37826 background data samples could cause slower run times. Consider using shap.sample(data, K) or shap.kmeans(data, K) to summarize the background as K samples.\n"
     ]
    },
    {
     "data": {
      "application/vnd.jupyter.widget-view+json": {
       "model_id": "01856b7151f5451385c7a69f78da7864",
       "version_major": 2,
       "version_minor": 0
      },
      "text/plain": [
       "  0%|          | 0/37826 [00:00<?, ?it/s]"
      ]
     },
     "metadata": {},
     "output_type": "display_data"
    }
   ],
   "source": [
    "import shap\n",
    "import numpy as np\n",
    "\n",
    "# Assuming lr_model is your logistic regression model\n",
    "# Assuming X_train is your training data\n",
    "# Assuming you have defined the model output you're interested in explaining (e.g., \"probability\")\n",
    "\n",
    "# Initialize the KernelExplainer\n",
    "explainer = shap.KernelExplainer(lr_model.predict_proba, X_train)\n",
    "\n",
    "# Compute SHAP values\n",
    "shap_values = explainer.shap_values(X_train)\n"
   ]
  },
  {
   "cell_type": "markdown",
   "id": "f5f3295f",
   "metadata": {},
   "source": [
    "# MLPClassifier"
   ]
  },
  {
   "cell_type": "code",
   "execution_count": 20,
   "id": "a34e742e",
   "metadata": {},
   "outputs": [
    {
     "name": "stderr",
     "output_type": "stream",
     "text": [
      "/Users/amin/opt/anaconda3/lib/python3.9/site-packages/sklearn/neural_network/_multilayer_perceptron.py:692: ConvergenceWarning: Stochastic Optimizer: Maximum iterations (200) reached and the optimization hasn't converged yet.\n",
      "  warnings.warn(\n"
     ]
    },
    {
     "name": "stdout",
     "output_type": "stream",
     "text": [
      "Accuracy: 0.7268689859363434\n",
      "Confusion Matrix:\n",
      " [[5532 2210]\n",
      " [2218 6252]]\n",
      "Classification Report:\n",
      "               precision    recall  f1-score   support\n",
      "\n",
      "           0       0.71      0.71      0.71      7742\n",
      "           1       0.74      0.74      0.74      8470\n",
      "\n",
      "    accuracy                           0.73     16212\n",
      "   macro avg       0.73      0.73      0.73     16212\n",
      "weighted avg       0.73      0.73      0.73     16212\n",
      "\n",
      "Precision: 0.738832427322146\n",
      "Recall: 0.7381345926800472\n",
      "F1-score: 0.738483345145287\n"
     ]
    },
    {
     "name": "stderr",
     "output_type": "stream",
     "text": [
      "/Users/amin/opt/anaconda3/lib/python3.9/site-packages/sklearn/neural_network/_multilayer_perceptron.py:692: ConvergenceWarning: Stochastic Optimizer: Maximum iterations (200) reached and the optimization hasn't converged yet.\n",
      "  warnings.warn(\n"
     ]
    }
   ],
   "source": [
    "from sklearn.neural_network import MLPClassifier\n",
    "from sklearn.metrics import accuracy_score, confusion_matrix, classification_report, precision_score, recall_score, f1_score\n",
    "from sklearn.model_selection import train_test_split\n",
    "\n",
    "# Assuming filtered_data is your DataFrame containing the features and target variable\n",
    "\n",
    "X = filtered_data[['Age1725', 'Age2639', 'Age4064', 'Age6574', 'Age75plus',\n",
    "                  'Male',\n",
    "                  'Regional',\n",
    "                  'April', 'December', 'February', 'January', 'July',\n",
    "                  'June', 'March', 'May', 'November', 'October', 'September',\n",
    "                  'Cntrprt23WldMV', 'CntrprtFxdStnry', 'CntrprtHvyVhcl',\n",
    "                  'CntrprtNClsn', 'CntrprtOther', 'CntrprtNMV', 'CntrprtCrTrkVn',\n",
    "                  'CntrprtPdlC', 'CntrprtPdstAnml', 'CntrprtTrn',\n",
    "                  'Y2014', 'Y2015', 'Y2016', 'Y2017', 'Y2018', 'Y2019', 'Y2020', 'Y2021', \n",
    "                  'Y2013', 'Y2012',\n",
    "                  'CovidPrd']]\n",
    "\n",
    "y = filtered_data['Bed_days_category']\n",
    "\n",
    "X_train, X_test, y_train, y_test = train_test_split(X, y, test_size=0.3, random_state=42)\n",
    "\n",
    "from sklearn.neural_network import MLPClassifier\n",
    "\n",
    "# تعریف یک MLPClassifier با ساختار سفارشی\n",
    "mlp_model = MLPClassifier(hidden_layer_sizes=(64, 32), activation='relu', random_state=42)\n",
    "\n",
    "# آموزش مدل با داده‌های آموزشی\n",
    "mlp_model.fit(X_train, y_train)\n",
    "mlp_model.fit(X_train, y_train)\n",
    "\n",
    "# Evaluate the model\n",
    "y_pred_mlp = mlp_model.predict(X_test)\n",
    "acc_mlp = accuracy_score(y_test, y_pred_mlp)\n",
    "conf_matrix_mlp = confusion_matrix(y_test, y_pred_mlp)\n",
    "class_report_mlp = classification_report(y_test, y_pred_mlp)\n",
    "precision_mlp = precision_score(y_test, y_pred_mlp)\n",
    "recall_mlp = recall_score(y_test, y_pred_mlp)\n",
    "f1_mlp = f1_score(y_test, y_pred_mlp)\n",
    "\n",
    "print('Accuracy:', acc_mlp)\n",
    "print('Confusion Matrix:\\n', conf_matrix_mlp)\n",
    "print('Classification Report:\\n', class_report_mlp)\n",
    "print('Precision:', precision_mlp)\n",
    "print('Recall:', recall_mlp)\n",
    "print('F1-score:', f1_mlp)"
   ]
  },
  {
   "cell_type": "markdown",
   "id": "79902bba",
   "metadata": {},
   "source": [
    "# DecisionTreeClassifier"
   ]
  },
  {
   "cell_type": "code",
   "execution_count": 21,
   "id": "5a8be817",
   "metadata": {},
   "outputs": [
    {
     "name": "stdout",
     "output_type": "stream",
     "text": [
      "Accuracy: 0.6484085862324205\n",
      "Confusion Matrix:\n",
      " [[5406 2336]\n",
      " [3364 5106]]\n",
      "Classification Report:\n",
      "               precision    recall  f1-score   support\n",
      "\n",
      "           0       0.62      0.70      0.65      7742\n",
      "           1       0.69      0.60      0.64      8470\n",
      "\n",
      "    accuracy                           0.65     16212\n",
      "   macro avg       0.65      0.65      0.65     16212\n",
      "weighted avg       0.65      0.65      0.65     16212\n",
      "\n",
      "Precision: 0.6861058855146466\n",
      "Recall: 0.6028335301062574\n",
      "F1-score: 0.6417797888386123\n"
     ]
    }
   ],
   "source": [
    "from sklearn.tree import DecisionTreeClassifier\n",
    "from sklearn.metrics import accuracy_score, confusion_matrix, classification_report, precision_score, recall_score, f1_score\n",
    "from sklearn.model_selection import train_test_split\n",
    "\n",
    "# Assuming filtered_data is your DataFrame containing the features and target variable\n",
    "\n",
    "X = filtered_data[['Age1725', 'Age2639', 'Age4064', 'Age6574', 'Age75plus',\n",
    "                  'Male',\n",
    "                  'Regional',\n",
    "                  'April', 'December', 'February', 'January', 'July',\n",
    "                  'June', 'March', 'May', 'November', 'October', 'September',\n",
    "                  'Cntrprt23WldMV', 'CntrprtFxdStnry', 'CntrprtHvyVhcl',\n",
    "                  'CntrprtNClsn', 'CntrprtOther', 'CntrprtNMV', 'CntrprtCrTrkVn',\n",
    "                  'CntrprtPdlC', 'CntrprtPdstAnml', 'CntrprtTrn',\n",
    "                  'Y2014', 'Y2015', 'Y2016', 'Y2017', 'Y2018', 'Y2019', 'Y2020', 'Y2021', \n",
    "                  'Y2013', 'Y2012',\n",
    "                  'CovidPrd']]\n",
    "\n",
    "y = filtered_data['Bed_days_category']\n",
    "\n",
    "X_train, X_test, y_train, y_test = train_test_split(X, y, test_size=0.3, random_state=42)\n",
    "\n",
    "# Create a Decision Tree classifier\n",
    "dt_model = DecisionTreeClassifier(random_state=42)\n",
    "dt_model.fit(X_train, y_train)\n",
    "\n",
    "# Evaluate the model\n",
    "y_pred_dt = dt_model.predict(X_test)\n",
    "acc_dt = accuracy_score(y_test, y_pred_dt)\n",
    "conf_matrix_dt = confusion_matrix(y_test, y_pred_dt)\n",
    "class_report_dt = classification_report(y_test, y_pred_dt)\n",
    "precision_dt = precision_score(y_test, y_pred_dt)\n",
    "recall_dt = recall_score(y_test, y_pred_dt)\n",
    "f1_dt = f1_score(y_test, y_pred_dt)\n",
    "\n",
    "print('Accuracy:', acc_dt)\n",
    "print('Confusion Matrix:\\n', conf_matrix_dt)\n",
    "print('Classification Report:\\n', class_report_dt)\n",
    "print('Precision:', precision_dt)\n",
    "print('Recall:', recall_dt)\n",
    "print('F1-score:', f1_dt)"
   ]
  },
  {
   "cell_type": "markdown",
   "id": "c9aaa4c9",
   "metadata": {},
   "source": [
    "# RandomForestClassifier"
   ]
  },
  {
   "cell_type": "code",
   "execution_count": 22,
   "id": "72d9439e",
   "metadata": {},
   "outputs": [
    {
     "name": "stdout",
     "output_type": "stream",
     "text": [
      "Accuracy: 0.6807303232173698\n",
      "Confusion Matrix:\n",
      " [[5102 2640]\n",
      " [2536 5934]]\n",
      "Classification Report:\n",
      "               precision    recall  f1-score   support\n",
      "\n",
      "           0       0.67      0.66      0.66      7742\n",
      "           1       0.69      0.70      0.70      8470\n",
      "\n",
      "    accuracy                           0.68     16212\n",
      "   macro avg       0.68      0.68      0.68     16212\n",
      "weighted avg       0.68      0.68      0.68     16212\n",
      "\n",
      "Precision: 0.6920923722883136\n",
      "Recall: 0.700590318772137\n",
      "F1-score: 0.6963154189157476\n"
     ]
    }
   ],
   "source": [
    "from sklearn.ensemble import RandomForestClassifier\n",
    "from sklearn.metrics import accuracy_score, confusion_matrix, classification_report, precision_score, recall_score, f1_score\n",
    "from sklearn.model_selection import train_test_split\n",
    "\n",
    "# Assuming filtered_data is your DataFrame containing the features and target variable\n",
    "\n",
    "X = filtered_data[['Age1725', 'Age2639', 'Age4064', 'Age6574', 'Age75plus',\n",
    "                  'Male',\n",
    "                  'Regional',\n",
    "                  'April', 'December', 'February', 'January', 'July',\n",
    "                  'June', 'March', 'May', 'November', 'October', 'September',\n",
    "                  'Cntrprt23WldMV', 'CntrprtFxdStnry', 'CntrprtHvyVhcl',\n",
    "                  'CntrprtNClsn', 'CntrprtOther', 'CntrprtNMV', 'CntrprtCrTrkVn',\n",
    "                  'CntrprtPdlC', 'CntrprtPdstAnml', 'CntrprtTrn',\n",
    "                  'Y2014', 'Y2015', 'Y2016', 'Y2017', 'Y2018', 'Y2019', 'Y2020', 'Y2021',\n",
    "                  'Y2013', 'Y2012',\n",
    "                  'CovidPrd']]\n",
    "\n",
    "y = filtered_data['Bed_days_category']\n",
    "\n",
    "X_train, X_test, y_train, y_test = train_test_split(X, y, test_size=0.3, random_state=42)\n",
    "\n",
    "# Create a Random Forest classifier\n",
    "rf_model = RandomForestClassifier(random_state=42)\n",
    "rf_model.fit(X_train, y_train)\n",
    "\n",
    "# Evaluate the model\n",
    "y_pred_rf = rf_model.predict(X_test)\n",
    "acc_rf = accuracy_score(y_test, y_pred_rf)\n",
    "conf_matrix_rf = confusion_matrix(y_test, y_pred_rf)\n",
    "class_report_rf = classification_report(y_test, y_pred_rf)\n",
    "precision_rf = precision_score(y_test, y_pred_rf)\n",
    "recall_rf = recall_score(y_test, y_pred_rf)\n",
    "f1_rf = f1_score(y_test, y_pred_rf)\n",
    "\n",
    "print('Accuracy:', acc_rf)\n",
    "print('Confusion Matrix:\\n', conf_matrix_rf)\n",
    "print('Classification Report:\\n', class_report_rf)\n",
    "print('Precision:', precision_rf)\n",
    "print('Recall:', recall_rf)\n",
    "print('F1-score:', f1_rf)"
   ]
  },
  {
   "cell_type": "markdown",
   "id": "0051aa54",
   "metadata": {},
   "source": [
    "# svm"
   ]
  },
  {
   "cell_type": "code",
   "execution_count": 23,
   "id": "f17e4b01",
   "metadata": {},
   "outputs": [
    {
     "name": "stdout",
     "output_type": "stream",
     "text": [
      "Accuracy: 0.7659141376757957\n",
      "Confusion Matrix:\n",
      " [[5635 2107]\n",
      " [1688 6782]]\n",
      "Classification Report:\n",
      "               precision    recall  f1-score   support\n",
      "\n",
      "           0       0.77      0.73      0.75      7742\n",
      "           1       0.76      0.80      0.78      8470\n",
      "\n",
      "    accuracy                           0.77     16212\n",
      "   macro avg       0.77      0.76      0.76     16212\n",
      "weighted avg       0.77      0.77      0.77     16212\n",
      "\n",
      "Precision: 0.7629654629317133\n",
      "Recall: 0.8007083825265644\n",
      "F1-score: 0.7813814159801832\n"
     ]
    }
   ],
   "source": [
    "from sklearn.svm import SVC\n",
    "from sklearn.metrics import accuracy_score, confusion_matrix, classification_report, precision_score, recall_score, f1_score\n",
    "from sklearn.model_selection import train_test_split\n",
    "\n",
    "# Assuming filtered_data is your DataFrame containing the features and target variable\n",
    "\n",
    "X = filtered_data[['Age1725', 'Age2639', 'Age4064', 'Age6574', 'Age75plus',\n",
    "                  'Male',\n",
    "                  'Regional',\n",
    "                  'April', 'December', 'February', 'January', 'July',\n",
    "                  'June', 'March', 'May', 'November', 'October', 'September',\n",
    "                  'Cntrprt23WldMV', 'CntrprtFxdStnry', 'CntrprtHvyVhcl',\n",
    "                  'CntrprtNClsn', 'CntrprtOther', 'CntrprtNMV', 'CntrprtCrTrkVn',\n",
    "                  'CntrprtPdlC', 'CntrprtPdstAnml', 'CntrprtTrn',\n",
    "                  'Y2014', 'Y2015', 'Y2016', 'Y2017', 'Y2018', 'Y2019', 'Y2020', 'Y2021', \n",
    "                  'Y2013', 'Y2012',\n",
    "                  'CovidPrd']]\n",
    "\n",
    "y = filtered_data['Bed_days_category']\n",
    "\n",
    "X_train, X_test, y_train, y_test = train_test_split(X, y, test_size=0.3, random_state=42)\n",
    "\n",
    "# Create an SVM classifier\n",
    "svm_model = SVC(random_state=42)\n",
    "svm_model.fit(X_train, y_train)\n",
    "\n",
    "# Evaluate the model\n",
    "y_pred_svm = svm_model.predict(X_test)\n",
    "acc_svm = accuracy_score(y_test, y_pred_svm)\n",
    "conf_matrix_svm = confusion_matrix(y_test, y_pred_svm)\n",
    "class_report_svm = classification_report(y_test, y_pred_svm)\n",
    "precision_svm = precision_score(y_test, y_pred_svm)\n",
    "recall_svm = recall_score(y_test, y_pred_svm)\n",
    "f1_svm = f1_score(y_test, y_pred_svm)\n",
    "\n",
    "print('Accuracy:', acc_svm)\n",
    "print('Confusion Matrix:\\n', conf_matrix_svm)\n",
    "print('Classification Report:\\n', class_report_svm)\n",
    "print('Precision:', precision_svm)\n",
    "print('Recall:', recall_svm)\n",
    "print('F1-score:', f1_svm)"
   ]
  },
  {
   "cell_type": "code",
   "execution_count": null,
   "id": "abd681ec",
   "metadata": {},
   "outputs": [],
   "source": [
    "from sklearn.linear_model import LogisticRegression, RidgeClassifier, SGDClassifier\n",
    "from sklearn.ensemble import RandomForestClassifier, GradientBoostingClassifier, ExtraTreesClassifier, AdaBoostClassifier, HistGradientBoostingClassifier\n",
    "from sklearn.neighbors import KNeighborsClassifier\n",
    "from sklearn.svm import SVC\n",
    "from sklearn.naive_bayes import GaussianNB\n",
    "from sklearn.neural_network import MLPClassifier\n",
    "from sklearn.tree import DecisionTreeClassifier\n",
    "from xgboost import XGBClassifier\n",
    "from sklearn.ensemble import VotingClassifier\n",
    "from sklearn.ensemble import VotingClassifier, BaggingClassifier\n",
    "from sklearn.ensemble import AdaBoostClassifier\n",
    "from sklearn.linear_model import LogisticRegression, RidgeClassifier, SGDClassifier\n",
    "from sklearn.ensemble import RandomForestClassifier, GradientBoostingClassifier, ExtraTreesClassifier, AdaBoostClassifier, HistGradientBoostingClassifier\n",
    "from sklearn.neighbors import KNeighborsClassifier\n",
    "from sklearn.svm import SVC\n",
    "from sklearn.naive_bayes import GaussianNB\n",
    "from sklearn.neural_network import MLPClassifier\n",
    "from sklearn.tree import DecisionTreeClassifier\n",
    "from xgboost import XGBClassifier\n",
    "\n",
    "\n",
    "# Create the list of base models\n",
    "base_models = [\n",
    "    #('logreg', LogisticRegression(random_state=42)),\n",
    "    #('ridge', RidgeClassifier(random_state=42)),\n",
    "    #('sgd', SGDClassifier(random_state=42)),\n",
    "    #('rf', RandomForestClassifier(random_state=42)),\n",
    "   #('gb', GradientBoostingClassifier(random_state=42)),\n",
    "    #('ab', AdaBoostClassifier(random_state=42)),\n",
    "   #('hgb', HistGradientBoostingClassifier(random_state=42)),\n",
    "    #('et', ExtraTreesClassifier(random_state=42)),\n",
    "    #('xgb', XGBClassifier(random_state=42)),\n",
    "    #('lgbm', LGBMClassifier(random_state=42)),\n",
    "    #('cb', CatBoostClassifier(random_state=42, verbose=0)),  # verbose=0 to silence CatBoost output\n",
    "    #('knn', KNeighborsClassifier()),\n",
    "    #('svc', SVC(probability=True, random_state=42)),\n",
    "    #('gnb', GaussianNB()),\n",
    "    #('mlp', MLPClassifier(hidden_layer_sizes=(64, 32), activation='relu', random_state=42)),\n",
    "    #('dt', DecisionTreeClassifier(random_state=42)),\n",
    "]\n",
    "\n",
    "# Use the VotingClassifier with the base models\n",
    "voting_model = VotingClassifier(estimators=base_models, voting='soft')\n",
    "\n",
    "# Train the voting model\n",
    "voting_model.fit(X_train, y_train)\n",
    "\n",
    "# Evaluate the voting model\n",
    "y_pred = voting_model.predict(X_test)\n",
    "acc = accuracy_score(y_test, y_pred)\n",
    "conf_matrix = confusion_matrix(y_test, y_pred)\n",
    "class_report = classification_report(y_test, y_pred)\n",
    "\n",
    "print(class_report)\n",
    "print('Accuracy:', acc)\n",
    "print('Confusion Matrix:\\n', conf_matrix)"
   ]
  },
  {
   "cell_type": "code",
   "execution_count": 80,
   "id": "2d8c14a1",
   "metadata": {},
   "outputs": [
    {
     "data": {
      "text/plain": [
       "0.7781801460021843"
      ]
     },
     "execution_count": 80,
     "metadata": {},
     "output_type": "execute_result"
    }
   ],
   "source": [
    "f1 = f1_score(y_test, y_pred)\n",
    "f1"
   ]
  },
  {
   "cell_type": "code",
   "execution_count": 81,
   "id": "7f0c7419",
   "metadata": {},
   "outputs": [
    {
     "name": "stdout",
     "output_type": "stream",
     "text": [
      "Accuracy: 0.7619664446089317\n",
      "Confusion Matrix:\n",
      " [[5584 2158]\n",
      " [1701 6769]]\n",
      "Classification Report:\n",
      "               precision    recall  f1-score   support\n",
      "\n",
      "           0       0.77      0.72      0.74      7742\n",
      "           1       0.76      0.80      0.78      8470\n",
      "\n",
      "    accuracy                           0.76     16212\n",
      "   macro avg       0.76      0.76      0.76     16212\n",
      "weighted avg       0.76      0.76      0.76     16212\n",
      "\n",
      "Precision: 0.7582614540159068\n",
      "Recall: 0.7991735537190082\n",
      "F1-score: 0.7781801460021843\n"
     ]
    }
   ],
   "source": [
    "# Evaluate the model\n",
    "#y_pred_svm = svm_model.predict(X_test)\n",
    "acc_svm = accuracy_score(y_test, y_pred)\n",
    "conf_matrix_svm = confusion_matrix(y_test, y_pred)\n",
    "class_report_svm = classification_report(y_test, y_pred)\n",
    "precision_svm = precision_score(y_test, y_pred)\n",
    "recall_svm = recall_score(y_test, y_pred)\n",
    "f1_svm = f1_score(y_test, y_pred)\n",
    "\n",
    "print('Accuracy:', acc_svm)\n",
    "print('Confusion Matrix:\\n', conf_matrix_svm)\n",
    "print('Classification Report:\\n', class_report_svm)\n",
    "print('Precision:', precision_svm)\n",
    "print('Recall:', recall_svm)\n",
    "print('F1-score:', f1_svm)"
   ]
  },
  {
   "cell_type": "code",
   "execution_count": 1,
   "id": "20f6c5b8",
   "metadata": {
    "scrolled": false
   },
   "outputs": [
    {
     "data": {
      "image/png": "[encoded data removed]",
      "text/plain": [
       "<Figure size 1200x800 with 1 Axes>"
      ]
     },
     "metadata": {},
     "output_type": "display_data"
    }
   ],
   "source": [
    "import numpy as np\n",
    "import matplotlib.pyplot as plt\n",
    "\n",
    "models = ['XGBoost', 'LogisticRegression', 'MLPClassifier', 'DecisionTree', 'RandomForest', 'SVM']\n",
    "metrics = ['Precision', 'Recall', 'F1-score']\n",
    "\n",
    "\n",
    "\n",
    "\n",
    "precision = [0.76,      0.73,            \n",
    "             0.74,\n",
    "             \n",
    "             \n",
    "             0.69,\n",
    "             \n",
    "\n",
    "             0.69, \n",
    "             \n",
    "     \n",
    "             0.75]\n",
    "\n",
    "\n",
    "\n",
    "\n",
    "recall_minority = [0.80,     0.78,\n",
    "                   0.74, \n",
    "                   \n",
    "                   \n",
    "                   0.60,\n",
    "   \n",
    "                   0.70, \n",
    "                   \n",
    "     0.80]\n",
    "\n",
    "\n",
    "\n",
    "\n",
    "\n",
    "f1_minority = [0.78, 0.75, \n",
    "               0.74, \n",
    "               \n",
    "               \n",
    "               0.64\n",
    "  \n",
    "               , 0.70,\n",
    "               \n",
    "    0.77]\n",
    "\n",
    "\n",
    "\n",
    "\n",
    "accuracy=[0.76,0.73, 0.73, 0.65, \n",
    "  \n",
    "          0.68,\n",
    "          \n",
    "          \n",
    "          \n",
    "          \n",
    "          \n",
    "          \n",
    "          0.75\n",
    "]\n",
    "\n",
    "\n",
    "\n",
    "\n",
    "\n",
    "\n",
    "x = np.arange(len(models))\n",
    "width = 0.2  \n",
    "\n",
    "# اندازه‌دهی نمودار\n",
    "plt.figure(figsize=(12, 8))\n",
    "\n",
    "# رسم میله‌ها\n",
    "plt.bar(x - width, precision, width, label='Precision ')\n",
    "plt.bar(x, recall_minority, width, label='Recall ')\n",
    "plt.bar(x + width, f1_minority, width, label='F1-score ')\n",
    "plt.bar(x + 2 * width, accuracy, width, label='Accuracy')\n",
    "\n",
    "plt.xlabel('Models')\n",
    "plt.ylabel('Scores')\n",
    "plt.title('Model Evaluation Metrics Bar Chart')\n",
    "plt.xticks(x, models, rotation=45)\n",
    "plt.legend()\n",
    "\n",
    "plt.tight_layout()\n",
    "plt.show()\n"
   ]
  },
  {
   "cell_type": "code",
   "execution_count": null,
   "id": "6b332283",
   "metadata": {},
   "outputs": [],
   "source": []
  }
 ],
 "metadata": {
  "kernelspec": {
   "display_name": "Python 3 (ipykernel)",
   "language": "python",
   "name": "python3"
  },
  "language_info": {
   "codemirror_mode": {
    "name": "ipython",
    "version": 3
   },
   "file_extension": ".py",
   "mimetype": "text/x-python",
   "name": "python",
   "nbconvert_exporter": "python",
   "pygments_lexer": "ipython3",
   "version": "3.9.13"
  }
 },
 "nbformat": 4,
 "nbformat_minor": 5
}
